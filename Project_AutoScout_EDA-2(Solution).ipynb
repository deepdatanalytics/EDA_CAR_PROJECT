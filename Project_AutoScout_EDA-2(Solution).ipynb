{
 "cells": [
  {
   "cell_type": "markdown",
   "metadata": {},
   "source": [
    "___\n",
    "\n",
    "<p style=\"text-align: center;\"><img src=\"https://docs.google.com/uc?id=1lY0Uj5R04yMY3-ZppPWxqCr5pvBLYPnV\" class=\"img-fluid\" alt=\"CLRSWY\"></p>\n",
    "\n",
    "___"
   ]
  },
  {
   "cell_type": "markdown",
   "metadata": {},
   "source": [
    "# Exploratory Data Analysis Project (Part - 2) - Session - 6"
   ]
  },
  {
   "cell_type": "markdown",
   "metadata": {},
   "source": [
    "<blockquote style=\"background: #f9f9f9;padding: 0.5em 10px;\" class=\"\">\n",
    "<img src=\"https://docs.google.com/uc?id=1FOcuE9AkAqc0JU6dUly-cuoUg3bOp92H\" class=\"img-fluid\" width=\"200\" height=\"85\"> <h1>EDA for Car Price Prediction Model</h1>\n",
    "</blockquote>"
   ]
  },
  {
   "cell_type": "code",
   "execution_count": 1,
   "metadata": {},
   "outputs": [],
   "source": [
    "import pandas as pd\n",
    "import numpy as np\n",
    "import matplotlib.pyplot as plt\n",
    "import seaborn as sns\n",
    "\n",
    "from scipy.stats.mstats import winsorize\n",
    "\n",
    "import warnings\n",
    "pd.set_option('display.max_columns', 500)\n",
    "pd.set_option('display.max_colwidth', 500)\n",
    "pd.set_option('display.max_info_columns', 500)\n",
    "pd.set_option('display.max_info_rows', 2000)\n",
    "pd.set_option('display.expand_frame_repr', True)\n",
    "pd.set_option('display.width', 2000)\n",
    "\n",
    "warnings.filterwarnings('ignore')\n",
    "sns.set_style(\"whitegrid\")\n",
    "#baslik_font = {'family': 'arial', 'color': 'darkred','weight': 'bold','size': 13 }\n",
    "#eksen_font  = {'family': 'arial', 'color': 'darkblue','weight': 'bold','size': 11 }\n",
    "pd.options.display.float_format = '{:.2f}'.format"
   ]
  },
  {
   "cell_type": "code",
   "execution_count": 2,
   "metadata": {},
   "outputs": [],
   "source": [
    "oto1 = pd.read_csv(\"scout_car_precleaned.csv\")"
   ]
  },
  {
   "cell_type": "code",
   "execution_count": 3,
   "metadata": {},
   "outputs": [
    {
     "data": {
      "text/plain": [
       "(15919, 121)"
      ]
     },
     "execution_count": 3,
     "metadata": {},
     "output_type": "execute_result"
    }
   ],
   "source": [
    "oto1.shape"
   ]
  },
  {
   "cell_type": "code",
   "execution_count": 4,
   "metadata": {},
   "outputs": [
    {
     "data": {
      "text/html": [
       "<div>\n",
       "<style scoped>\n",
       "    .dataframe tbody tr th:only-of-type {\n",
       "        vertical-align: middle;\n",
       "    }\n",
       "\n",
       "    .dataframe tbody tr th {\n",
       "        vertical-align: top;\n",
       "    }\n",
       "\n",
       "    .dataframe thead th {\n",
       "        text-align: right;\n",
       "    }\n",
       "</style>\n",
       "<table border=\"1\" class=\"dataframe\">\n",
       "  <thead>\n",
       "    <tr style=\"text-align: right;\">\n",
       "      <th></th>\n",
       "      <th>make_model</th>\n",
       "      <th>body_type</th>\n",
       "      <th>price</th>\n",
       "      <th>vat</th>\n",
       "      <th>km</th>\n",
       "      <th>type</th>\n",
       "      <th>upholstery</th>\n",
       "      <th>cylinders</th>\n",
       "      <th>gears</th>\n",
       "      <th>previous_owner</th>\n",
       "      <th>inspection_new_bool</th>\n",
       "      <th>next_inspection</th>\n",
       "      <th>paint_type</th>\n",
       "      <th>country</th>\n",
       "      <th>emission_label</th>\n",
       "      <th>cc_air conditioning</th>\n",
       "      <th>cc_air suspension</th>\n",
       "      <th>cc_armrest</th>\n",
       "      <th>cc_automatic climate control</th>\n",
       "      <th>cc_auxiliary heating</th>\n",
       "      <th>cc_cruise control</th>\n",
       "      <th>cc_electric starter</th>\n",
       "      <th>cc_electric tailgate</th>\n",
       "      <th>cc_electrical side mirrors</th>\n",
       "      <th>cc_electrically adjustable seats</th>\n",
       "      <th>cc_electrically heated windshield</th>\n",
       "      <th>cc_heads-up display</th>\n",
       "      <th>cc_heated steering wheel</th>\n",
       "      <th>cc_hill holder</th>\n",
       "      <th>cc_keyless central door lock</th>\n",
       "      <th>cc_leather seats</th>\n",
       "      <th>cc_leather steering wheel</th>\n",
       "      <th>cc_light sensor</th>\n",
       "      <th>cc_lumbar support</th>\n",
       "      <th>cc_massage seats</th>\n",
       "      <th>cc_multi-function steering wheel</th>\n",
       "      <th>cc_navigation system</th>\n",
       "      <th>cc_panorama roof</th>\n",
       "      <th>cc_park distance control</th>\n",
       "      <th>cc_parking assist system camera</th>\n",
       "      <th>cc_parking assist system self-steering</th>\n",
       "      <th>cc_parking assist system sensors front</th>\n",
       "      <th>cc_parking assist system sensors rear</th>\n",
       "      <th>cc_power windows</th>\n",
       "      <th>cc_rain sensor</th>\n",
       "      <th>cc_seat heating</th>\n",
       "      <th>cc_seat ventilation</th>\n",
       "      <th>cc_split rear seats</th>\n",
       "      <th>cc_start-stop system</th>\n",
       "      <th>cc_sunroof</th>\n",
       "      <th>cc_tinted windows</th>\n",
       "      <th>cc_wind deflector</th>\n",
       "      <th>cc_windshield</th>\n",
       "      <th>em_bluetooth</th>\n",
       "      <th>em_cd player</th>\n",
       "      <th>em_digital radio</th>\n",
       "      <th>em_hands-free equipment</th>\n",
       "      <th>em_mp3</th>\n",
       "      <th>em_on-board computer</th>\n",
       "      <th>em_radio</th>\n",
       "      <th>em_sound system</th>\n",
       "      <th>em_television</th>\n",
       "      <th>em_usb</th>\n",
       "      <th>ex_alloy wheels</th>\n",
       "      <th>ex_cab or rented car</th>\n",
       "      <th>ex_catalytic converter</th>\n",
       "      <th>ex_handicapped enabled</th>\n",
       "      <th>ex_right hand drive</th>\n",
       "      <th>ex_roof rack</th>\n",
       "      <th>ex_shift paddles</th>\n",
       "      <th>ex_ski bag</th>\n",
       "      <th>ex_sliding door</th>\n",
       "      <th>ex_sport package</th>\n",
       "      <th>ex_sport seats</th>\n",
       "      <th>ex_sport suspension</th>\n",
       "      <th>ex_touch screen</th>\n",
       "      <th>ex_trailer hitch</th>\n",
       "      <th>ex_tuned car</th>\n",
       "      <th>ex_voice control</th>\n",
       "      <th>ex_winter tyres</th>\n",
       "      <th>ss_abs</th>\n",
       "      <th>ss_adaptive cruise control</th>\n",
       "      <th>ss_adaptive headlights</th>\n",
       "      <th>ss_alarm system</th>\n",
       "      <th>ss_blind spot monitor</th>\n",
       "      <th>ss_central door lock</th>\n",
       "      <th>ss_central door lock with remote control</th>\n",
       "      <th>ss_daytime running lights</th>\n",
       "      <th>ss_driver drowsiness detection</th>\n",
       "      <th>ss_driver-side airbag</th>\n",
       "      <th>ss_electronic stability control</th>\n",
       "      <th>ss_emergency brake assistant</th>\n",
       "      <th>ss_emergency system</th>\n",
       "      <th>ss_fog lights</th>\n",
       "      <th>ss_head airbag</th>\n",
       "      <th>ss_immobilizer</th>\n",
       "      <th>ss_isofix</th>\n",
       "      <th>ss_led daytime running lights</th>\n",
       "      <th>ss_led headlights</th>\n",
       "      <th>ss_lane departure warning system</th>\n",
       "      <th>ss_night view assist</th>\n",
       "      <th>ss_passenger-side airbag</th>\n",
       "      <th>ss_power steering</th>\n",
       "      <th>ss_rear airbag</th>\n",
       "      <th>ss_side airbag</th>\n",
       "      <th>ss_tire pressure monitoring system</th>\n",
       "      <th>ss_traction control</th>\n",
       "      <th>ss_traffic sign recognition</th>\n",
       "      <th>ss_xenon headlights</th>\n",
       "      <th>consumption_comb</th>\n",
       "      <th>gear_type</th>\n",
       "      <th>drive_chain</th>\n",
       "      <th>body_color</th>\n",
       "      <th>co2_emission</th>\n",
       "      <th>displacement_cc</th>\n",
       "      <th>emission_class</th>\n",
       "      <th>register_age</th>\n",
       "      <th>fuel_new</th>\n",
       "      <th>nr_doors</th>\n",
       "      <th>nr_seats</th>\n",
       "      <th>hp_kw</th>\n",
       "    </tr>\n",
       "  </thead>\n",
       "  <tbody>\n",
       "    <tr>\n",
       "      <th>0</th>\n",
       "      <td>Audi A1</td>\n",
       "      <td>Sedans</td>\n",
       "      <td>15770</td>\n",
       "      <td>VAT deductible</td>\n",
       "      <td>56013.00</td>\n",
       "      <td>Used</td>\n",
       "      <td>Cloth, Black</td>\n",
       "      <td>3.00</td>\n",
       "      <td>nan</td>\n",
       "      <td>2</td>\n",
       "      <td>1</td>\n",
       "      <td>2021-06-01</td>\n",
       "      <td>Metallic</td>\n",
       "      <td>NaN</td>\n",
       "      <td>NaN</td>\n",
       "      <td>1</td>\n",
       "      <td>0</td>\n",
       "      <td>1</td>\n",
       "      <td>1</td>\n",
       "      <td>0</td>\n",
       "      <td>1</td>\n",
       "      <td>0</td>\n",
       "      <td>0</td>\n",
       "      <td>1</td>\n",
       "      <td>0</td>\n",
       "      <td>0</td>\n",
       "      <td>0</td>\n",
       "      <td>0</td>\n",
       "      <td>1</td>\n",
       "      <td>0</td>\n",
       "      <td>0</td>\n",
       "      <td>1</td>\n",
       "      <td>1</td>\n",
       "      <td>0</td>\n",
       "      <td>0</td>\n",
       "      <td>1</td>\n",
       "      <td>1</td>\n",
       "      <td>0</td>\n",
       "      <td>1</td>\n",
       "      <td>0</td>\n",
       "      <td>0</td>\n",
       "      <td>0</td>\n",
       "      <td>1</td>\n",
       "      <td>1</td>\n",
       "      <td>1</td>\n",
       "      <td>1</td>\n",
       "      <td>0</td>\n",
       "      <td>0</td>\n",
       "      <td>1</td>\n",
       "      <td>0</td>\n",
       "      <td>0</td>\n",
       "      <td>0</td>\n",
       "      <td>0</td>\n",
       "      <td>1</td>\n",
       "      <td>0</td>\n",
       "      <td>0</td>\n",
       "      <td>1</td>\n",
       "      <td>0</td>\n",
       "      <td>1</td>\n",
       "      <td>1</td>\n",
       "      <td>0</td>\n",
       "      <td>0</td>\n",
       "      <td>0</td>\n",
       "      <td>1</td>\n",
       "      <td>0</td>\n",
       "      <td>1</td>\n",
       "      <td>0</td>\n",
       "      <td>0</td>\n",
       "      <td>0</td>\n",
       "      <td>0</td>\n",
       "      <td>0</td>\n",
       "      <td>0</td>\n",
       "      <td>0</td>\n",
       "      <td>0</td>\n",
       "      <td>0</td>\n",
       "      <td>0</td>\n",
       "      <td>0</td>\n",
       "      <td>0</td>\n",
       "      <td>1</td>\n",
       "      <td>0</td>\n",
       "      <td>1</td>\n",
       "      <td>0</td>\n",
       "      <td>0</td>\n",
       "      <td>0</td>\n",
       "      <td>0</td>\n",
       "      <td>1</td>\n",
       "      <td>0</td>\n",
       "      <td>1</td>\n",
       "      <td>0</td>\n",
       "      <td>1</td>\n",
       "      <td>1</td>\n",
       "      <td>0</td>\n",
       "      <td>0</td>\n",
       "      <td>1</td>\n",
       "      <td>0</td>\n",
       "      <td>1</td>\n",
       "      <td>1</td>\n",
       "      <td>0</td>\n",
       "      <td>0</td>\n",
       "      <td>0</td>\n",
       "      <td>0</td>\n",
       "      <td>1</td>\n",
       "      <td>1</td>\n",
       "      <td>0</td>\n",
       "      <td>1</td>\n",
       "      <td>1</td>\n",
       "      <td>1</td>\n",
       "      <td>0</td>\n",
       "      <td>1</td>\n",
       "      <td>3.80</td>\n",
       "      <td>Automatic</td>\n",
       "      <td>front</td>\n",
       "      <td>Black</td>\n",
       "      <td>99.00</td>\n",
       "      <td>1422.00</td>\n",
       "      <td>Euro 6</td>\n",
       "      <td>4.00</td>\n",
       "      <td>Diesel</td>\n",
       "      <td>5.00</td>\n",
       "      <td>5.00</td>\n",
       "      <td>66</td>\n",
       "    </tr>\n",
       "    <tr>\n",
       "      <th>1</th>\n",
       "      <td>Audi A1</td>\n",
       "      <td>Sedans</td>\n",
       "      <td>14500</td>\n",
       "      <td>Price negotiable</td>\n",
       "      <td>80000.00</td>\n",
       "      <td>Used</td>\n",
       "      <td>Cloth, Grey</td>\n",
       "      <td>4.00</td>\n",
       "      <td>7.00</td>\n",
       "      <td>1</td>\n",
       "      <td>0</td>\n",
       "      <td>NaN</td>\n",
       "      <td>NaN</td>\n",
       "      <td>NaN</td>\n",
       "      <td>4 (Green)</td>\n",
       "      <td>1</td>\n",
       "      <td>0</td>\n",
       "      <td>0</td>\n",
       "      <td>1</td>\n",
       "      <td>0</td>\n",
       "      <td>0</td>\n",
       "      <td>0</td>\n",
       "      <td>0</td>\n",
       "      <td>0</td>\n",
       "      <td>0</td>\n",
       "      <td>0</td>\n",
       "      <td>0</td>\n",
       "      <td>0</td>\n",
       "      <td>1</td>\n",
       "      <td>0</td>\n",
       "      <td>0</td>\n",
       "      <td>1</td>\n",
       "      <td>0</td>\n",
       "      <td>1</td>\n",
       "      <td>0</td>\n",
       "      <td>0</td>\n",
       "      <td>0</td>\n",
       "      <td>0</td>\n",
       "      <td>0</td>\n",
       "      <td>0</td>\n",
       "      <td>0</td>\n",
       "      <td>0</td>\n",
       "      <td>1</td>\n",
       "      <td>1</td>\n",
       "      <td>0</td>\n",
       "      <td>0</td>\n",
       "      <td>0</td>\n",
       "      <td>0</td>\n",
       "      <td>1</td>\n",
       "      <td>0</td>\n",
       "      <td>1</td>\n",
       "      <td>0</td>\n",
       "      <td>0</td>\n",
       "      <td>1</td>\n",
       "      <td>0</td>\n",
       "      <td>0</td>\n",
       "      <td>1</td>\n",
       "      <td>0</td>\n",
       "      <td>1</td>\n",
       "      <td>1</td>\n",
       "      <td>1</td>\n",
       "      <td>0</td>\n",
       "      <td>0</td>\n",
       "      <td>1</td>\n",
       "      <td>0</td>\n",
       "      <td>0</td>\n",
       "      <td>0</td>\n",
       "      <td>0</td>\n",
       "      <td>0</td>\n",
       "      <td>0</td>\n",
       "      <td>0</td>\n",
       "      <td>0</td>\n",
       "      <td>0</td>\n",
       "      <td>1</td>\n",
       "      <td>1</td>\n",
       "      <td>0</td>\n",
       "      <td>0</td>\n",
       "      <td>0</td>\n",
       "      <td>1</td>\n",
       "      <td>0</td>\n",
       "      <td>1</td>\n",
       "      <td>0</td>\n",
       "      <td>0</td>\n",
       "      <td>0</td>\n",
       "      <td>0</td>\n",
       "      <td>1</td>\n",
       "      <td>1</td>\n",
       "      <td>1</td>\n",
       "      <td>0</td>\n",
       "      <td>1</td>\n",
       "      <td>1</td>\n",
       "      <td>0</td>\n",
       "      <td>0</td>\n",
       "      <td>0</td>\n",
       "      <td>1</td>\n",
       "      <td>1</td>\n",
       "      <td>1</td>\n",
       "      <td>0</td>\n",
       "      <td>0</td>\n",
       "      <td>0</td>\n",
       "      <td>0</td>\n",
       "      <td>1</td>\n",
       "      <td>1</td>\n",
       "      <td>0</td>\n",
       "      <td>1</td>\n",
       "      <td>1</td>\n",
       "      <td>1</td>\n",
       "      <td>0</td>\n",
       "      <td>1</td>\n",
       "      <td>5.60</td>\n",
       "      <td>Automatic</td>\n",
       "      <td>front</td>\n",
       "      <td>Red</td>\n",
       "      <td>129.00</td>\n",
       "      <td>1798.00</td>\n",
       "      <td>Euro 6</td>\n",
       "      <td>3.00</td>\n",
       "      <td>Benzine</td>\n",
       "      <td>3.00</td>\n",
       "      <td>4.00</td>\n",
       "      <td>141</td>\n",
       "    </tr>\n",
       "    <tr>\n",
       "      <th>2</th>\n",
       "      <td>Audi A1</td>\n",
       "      <td>Sedans</td>\n",
       "      <td>14640</td>\n",
       "      <td>VAT deductible</td>\n",
       "      <td>83450.00</td>\n",
       "      <td>Used</td>\n",
       "      <td>Cloth, Black</td>\n",
       "      <td>nan</td>\n",
       "      <td>nan</td>\n",
       "      <td>1</td>\n",
       "      <td>0</td>\n",
       "      <td>NaN</td>\n",
       "      <td>Metallic</td>\n",
       "      <td>NaN</td>\n",
       "      <td>4 (Green)</td>\n",
       "      <td>1</td>\n",
       "      <td>0</td>\n",
       "      <td>0</td>\n",
       "      <td>0</td>\n",
       "      <td>0</td>\n",
       "      <td>1</td>\n",
       "      <td>0</td>\n",
       "      <td>0</td>\n",
       "      <td>1</td>\n",
       "      <td>0</td>\n",
       "      <td>0</td>\n",
       "      <td>0</td>\n",
       "      <td>0</td>\n",
       "      <td>1</td>\n",
       "      <td>0</td>\n",
       "      <td>0</td>\n",
       "      <td>1</td>\n",
       "      <td>0</td>\n",
       "      <td>0</td>\n",
       "      <td>0</td>\n",
       "      <td>1</td>\n",
       "      <td>1</td>\n",
       "      <td>0</td>\n",
       "      <td>1</td>\n",
       "      <td>0</td>\n",
       "      <td>0</td>\n",
       "      <td>1</td>\n",
       "      <td>1</td>\n",
       "      <td>1</td>\n",
       "      <td>0</td>\n",
       "      <td>1</td>\n",
       "      <td>0</td>\n",
       "      <td>0</td>\n",
       "      <td>1</td>\n",
       "      <td>0</td>\n",
       "      <td>0</td>\n",
       "      <td>0</td>\n",
       "      <td>0</td>\n",
       "      <td>0</td>\n",
       "      <td>0</td>\n",
       "      <td>0</td>\n",
       "      <td>0</td>\n",
       "      <td>1</td>\n",
       "      <td>1</td>\n",
       "      <td>0</td>\n",
       "      <td>0</td>\n",
       "      <td>0</td>\n",
       "      <td>0</td>\n",
       "      <td>1</td>\n",
       "      <td>0</td>\n",
       "      <td>0</td>\n",
       "      <td>0</td>\n",
       "      <td>0</td>\n",
       "      <td>0</td>\n",
       "      <td>0</td>\n",
       "      <td>0</td>\n",
       "      <td>0</td>\n",
       "      <td>0</td>\n",
       "      <td>0</td>\n",
       "      <td>0</td>\n",
       "      <td>0</td>\n",
       "      <td>0</td>\n",
       "      <td>0</td>\n",
       "      <td>1</td>\n",
       "      <td>0</td>\n",
       "      <td>1</td>\n",
       "      <td>0</td>\n",
       "      <td>0</td>\n",
       "      <td>0</td>\n",
       "      <td>0</td>\n",
       "      <td>1</td>\n",
       "      <td>0</td>\n",
       "      <td>1</td>\n",
       "      <td>0</td>\n",
       "      <td>1</td>\n",
       "      <td>1</td>\n",
       "      <td>0</td>\n",
       "      <td>0</td>\n",
       "      <td>0</td>\n",
       "      <td>0</td>\n",
       "      <td>1</td>\n",
       "      <td>1</td>\n",
       "      <td>0</td>\n",
       "      <td>0</td>\n",
       "      <td>0</td>\n",
       "      <td>0</td>\n",
       "      <td>1</td>\n",
       "      <td>1</td>\n",
       "      <td>0</td>\n",
       "      <td>1</td>\n",
       "      <td>1</td>\n",
       "      <td>1</td>\n",
       "      <td>0</td>\n",
       "      <td>0</td>\n",
       "      <td>3.80</td>\n",
       "      <td>Automatic</td>\n",
       "      <td>front</td>\n",
       "      <td>Black</td>\n",
       "      <td>99.00</td>\n",
       "      <td>1598.00</td>\n",
       "      <td>Euro 6</td>\n",
       "      <td>4.00</td>\n",
       "      <td>Diesel</td>\n",
       "      <td>4.00</td>\n",
       "      <td>4.00</td>\n",
       "      <td>85</td>\n",
       "    </tr>\n",
       "    <tr>\n",
       "      <th>3</th>\n",
       "      <td>Audi A1</td>\n",
       "      <td>Sedans</td>\n",
       "      <td>14500</td>\n",
       "      <td>NaN</td>\n",
       "      <td>73000.00</td>\n",
       "      <td>Used</td>\n",
       "      <td>NaN</td>\n",
       "      <td>3.00</td>\n",
       "      <td>6.00</td>\n",
       "      <td>1</td>\n",
       "      <td>0</td>\n",
       "      <td>NaN</td>\n",
       "      <td>Metallic</td>\n",
       "      <td>NaN</td>\n",
       "      <td>NaN</td>\n",
       "      <td>0</td>\n",
       "      <td>1</td>\n",
       "      <td>1</td>\n",
       "      <td>0</td>\n",
       "      <td>1</td>\n",
       "      <td>0</td>\n",
       "      <td>0</td>\n",
       "      <td>0</td>\n",
       "      <td>1</td>\n",
       "      <td>0</td>\n",
       "      <td>0</td>\n",
       "      <td>1</td>\n",
       "      <td>0</td>\n",
       "      <td>1</td>\n",
       "      <td>0</td>\n",
       "      <td>0</td>\n",
       "      <td>1</td>\n",
       "      <td>1</td>\n",
       "      <td>1</td>\n",
       "      <td>0</td>\n",
       "      <td>1</td>\n",
       "      <td>1</td>\n",
       "      <td>0</td>\n",
       "      <td>0</td>\n",
       "      <td>0</td>\n",
       "      <td>0</td>\n",
       "      <td>0</td>\n",
       "      <td>0</td>\n",
       "      <td>1</td>\n",
       "      <td>1</td>\n",
       "      <td>1</td>\n",
       "      <td>0</td>\n",
       "      <td>1</td>\n",
       "      <td>1</td>\n",
       "      <td>0</td>\n",
       "      <td>0</td>\n",
       "      <td>0</td>\n",
       "      <td>0</td>\n",
       "      <td>1</td>\n",
       "      <td>1</td>\n",
       "      <td>0</td>\n",
       "      <td>1</td>\n",
       "      <td>1</td>\n",
       "      <td>1</td>\n",
       "      <td>1</td>\n",
       "      <td>1</td>\n",
       "      <td>0</td>\n",
       "      <td>1</td>\n",
       "      <td>1</td>\n",
       "      <td>0</td>\n",
       "      <td>0</td>\n",
       "      <td>0</td>\n",
       "      <td>0</td>\n",
       "      <td>0</td>\n",
       "      <td>0</td>\n",
       "      <td>0</td>\n",
       "      <td>0</td>\n",
       "      <td>0</td>\n",
       "      <td>1</td>\n",
       "      <td>0</td>\n",
       "      <td>0</td>\n",
       "      <td>0</td>\n",
       "      <td>0</td>\n",
       "      <td>1</td>\n",
       "      <td>0</td>\n",
       "      <td>1</td>\n",
       "      <td>0</td>\n",
       "      <td>0</td>\n",
       "      <td>1</td>\n",
       "      <td>0</td>\n",
       "      <td>0</td>\n",
       "      <td>1</td>\n",
       "      <td>0</td>\n",
       "      <td>1</td>\n",
       "      <td>1</td>\n",
       "      <td>1</td>\n",
       "      <td>0</td>\n",
       "      <td>1</td>\n",
       "      <td>0</td>\n",
       "      <td>1</td>\n",
       "      <td>1</td>\n",
       "      <td>1</td>\n",
       "      <td>0</td>\n",
       "      <td>0</td>\n",
       "      <td>0</td>\n",
       "      <td>0</td>\n",
       "      <td>1</td>\n",
       "      <td>1</td>\n",
       "      <td>0</td>\n",
       "      <td>1</td>\n",
       "      <td>1</td>\n",
       "      <td>0</td>\n",
       "      <td>0</td>\n",
       "      <td>0</td>\n",
       "      <td>3.80</td>\n",
       "      <td>Automatic</td>\n",
       "      <td>NaN</td>\n",
       "      <td>Brown</td>\n",
       "      <td>99.00</td>\n",
       "      <td>1422.00</td>\n",
       "      <td>Euro 6</td>\n",
       "      <td>4.00</td>\n",
       "      <td>Diesel</td>\n",
       "      <td>3.00</td>\n",
       "      <td>4.00</td>\n",
       "      <td>66</td>\n",
       "    </tr>\n",
       "    <tr>\n",
       "      <th>4</th>\n",
       "      <td>Audi A1</td>\n",
       "      <td>Sedans</td>\n",
       "      <td>16790</td>\n",
       "      <td>NaN</td>\n",
       "      <td>16200.00</td>\n",
       "      <td>Used</td>\n",
       "      <td>Cloth, Black</td>\n",
       "      <td>3.00</td>\n",
       "      <td>nan</td>\n",
       "      <td>1</td>\n",
       "      <td>1</td>\n",
       "      <td>NaN</td>\n",
       "      <td>Metallic</td>\n",
       "      <td>Germany</td>\n",
       "      <td>NaN</td>\n",
       "      <td>1</td>\n",
       "      <td>0</td>\n",
       "      <td>1</td>\n",
       "      <td>1</td>\n",
       "      <td>0</td>\n",
       "      <td>0</td>\n",
       "      <td>0</td>\n",
       "      <td>0</td>\n",
       "      <td>1</td>\n",
       "      <td>0</td>\n",
       "      <td>0</td>\n",
       "      <td>0</td>\n",
       "      <td>0</td>\n",
       "      <td>1</td>\n",
       "      <td>0</td>\n",
       "      <td>0</td>\n",
       "      <td>1</td>\n",
       "      <td>1</td>\n",
       "      <td>0</td>\n",
       "      <td>0</td>\n",
       "      <td>1</td>\n",
       "      <td>0</td>\n",
       "      <td>0</td>\n",
       "      <td>1</td>\n",
       "      <td>0</td>\n",
       "      <td>0</td>\n",
       "      <td>0</td>\n",
       "      <td>1</td>\n",
       "      <td>1</td>\n",
       "      <td>1</td>\n",
       "      <td>0</td>\n",
       "      <td>0</td>\n",
       "      <td>0</td>\n",
       "      <td>1</td>\n",
       "      <td>0</td>\n",
       "      <td>0</td>\n",
       "      <td>0</td>\n",
       "      <td>0</td>\n",
       "      <td>1</td>\n",
       "      <td>1</td>\n",
       "      <td>0</td>\n",
       "      <td>1</td>\n",
       "      <td>1</td>\n",
       "      <td>1</td>\n",
       "      <td>1</td>\n",
       "      <td>0</td>\n",
       "      <td>0</td>\n",
       "      <td>1</td>\n",
       "      <td>1</td>\n",
       "      <td>0</td>\n",
       "      <td>0</td>\n",
       "      <td>0</td>\n",
       "      <td>0</td>\n",
       "      <td>0</td>\n",
       "      <td>0</td>\n",
       "      <td>0</td>\n",
       "      <td>0</td>\n",
       "      <td>1</td>\n",
       "      <td>0</td>\n",
       "      <td>1</td>\n",
       "      <td>0</td>\n",
       "      <td>0</td>\n",
       "      <td>0</td>\n",
       "      <td>1</td>\n",
       "      <td>0</td>\n",
       "      <td>1</td>\n",
       "      <td>0</td>\n",
       "      <td>0</td>\n",
       "      <td>0</td>\n",
       "      <td>0</td>\n",
       "      <td>1</td>\n",
       "      <td>0</td>\n",
       "      <td>0</td>\n",
       "      <td>0</td>\n",
       "      <td>1</td>\n",
       "      <td>1</td>\n",
       "      <td>0</td>\n",
       "      <td>0</td>\n",
       "      <td>1</td>\n",
       "      <td>0</td>\n",
       "      <td>1</td>\n",
       "      <td>1</td>\n",
       "      <td>0</td>\n",
       "      <td>0</td>\n",
       "      <td>0</td>\n",
       "      <td>0</td>\n",
       "      <td>1</td>\n",
       "      <td>1</td>\n",
       "      <td>0</td>\n",
       "      <td>1</td>\n",
       "      <td>1</td>\n",
       "      <td>1</td>\n",
       "      <td>0</td>\n",
       "      <td>1</td>\n",
       "      <td>4.10</td>\n",
       "      <td>Automatic</td>\n",
       "      <td>front</td>\n",
       "      <td>Black</td>\n",
       "      <td>109.00</td>\n",
       "      <td>1422.00</td>\n",
       "      <td>Euro 6</td>\n",
       "      <td>4.00</td>\n",
       "      <td>Diesel</td>\n",
       "      <td>5.00</td>\n",
       "      <td>5.00</td>\n",
       "      <td>66</td>\n",
       "    </tr>\n",
       "  </tbody>\n",
       "</table>\n",
       "</div>"
      ],
      "text/plain": [
       "  make_model body_type  price               vat       km  type    upholstery  cylinders  gears  previous_owner  inspection_new_bool next_inspection paint_type  country emission_label  cc_air conditioning  cc_air suspension  cc_armrest  cc_automatic climate control  cc_auxiliary heating  cc_cruise control  cc_electric starter  cc_electric tailgate  cc_electrical side mirrors  cc_electrically adjustable seats  cc_electrically heated windshield  cc_heads-up display  cc_heated steering wheel  cc_hill holder  cc_keyless central door lock  cc_leather seats  cc_leather steering wheel  cc_light sensor  cc_lumbar support  cc_massage seats  cc_multi-function steering wheel  cc_navigation system  cc_panorama roof  cc_park distance control  cc_parking assist system camera  cc_parking assist system self-steering  cc_parking assist system sensors front  cc_parking assist system sensors rear  cc_power windows  cc_rain sensor  cc_seat heating  cc_seat ventilation  cc_split rear seats  cc_start-stop system  cc_sunroof  cc_tinted windows  cc_wind deflector  cc_windshield  em_bluetooth  em_cd player  em_digital radio  em_hands-free equipment  em_mp3  em_on-board computer  em_radio  em_sound system  em_television  em_usb  ex_alloy wheels  ex_cab or rented car  ex_catalytic converter  ex_handicapped enabled  ex_right hand drive  ex_roof rack  ex_shift paddles  ex_ski bag  ex_sliding door  ex_sport package  ex_sport seats  ex_sport suspension  ex_touch screen  ex_trailer hitch  ex_tuned car  ex_voice control  ex_winter tyres  ss_abs  ss_adaptive cruise control  ss_adaptive headlights  ss_alarm system  ss_blind spot monitor  ss_central door lock  ss_central door lock with remote control  ss_daytime running lights  ss_driver drowsiness detection  ss_driver-side airbag  ss_electronic stability control  ss_emergency brake assistant  ss_emergency system  ss_fog lights  ss_head airbag  ss_immobilizer  ss_isofix  ss_led daytime running lights  ss_led headlights  \\\n",
       "0    Audi A1    Sedans  15770    VAT deductible 56013.00  Used  Cloth, Black       3.00    nan               2                    1      2021-06-01   Metallic      NaN            NaN                    1                  0           1                             1                     0                  1                    0                     0                           1                                 0                                  0                    0                         0               1                             0                 0                          1                1                  0                 0                                 1                     1                 0                         1                                0                                       0                                       0                                      1                 1               1                1                    0                    0                     1           0                  0                  0              0             1             0                 0                        1       0                     1         1                0              0       0                1                     0                       1                       0                    0             0                 0           0                0                 0               0                    0                0                 0             0                 1                0       1                           0                       0                0                      0                     1                                         0                          1                               0                      1                                1                             0                    0              1               0               1          1                              0                  0   \n",
       "1    Audi A1    Sedans  14500  Price negotiable 80000.00  Used   Cloth, Grey       4.00   7.00               1                    0             NaN        NaN      NaN      4 (Green)                    1                  0           0                             1                     0                  0                    0                     0                           0                                 0                                  0                    0                         0               1                             0                 0                          1                0                  1                 0                                 0                     0                 0                         0                                0                                       0                                       0                                      1                 1               0                0                    0                    0                     1           0                  1                  0              0             1             0                 0                        1       0                     1         1                1              0       0                1                     0                       0                       0                    0             0                 0           0                0                 0               1                    1                0                 0             0                 1                0       1                           0                       0                0                      0                     1                                         1                          1                               0                      1                                1                             0                    0              0               1               1          1                              0                  0   \n",
       "2    Audi A1    Sedans  14640    VAT deductible 83450.00  Used  Cloth, Black        nan    nan               1                    0             NaN   Metallic      NaN      4 (Green)                    1                  0           0                             0                     0                  1                    0                     0                           1                                 0                                  0                    0                         0               1                             0                 0                          1                0                  0                 0                                 1                     1                 0                         1                                0                                       0                                       1                                      1                 1               0                1                    0                    0                     1           0                  0                  0              0             0             0                 0                        0       1                     1         0                0              0       0                1                     0                       0                       0                    0             0                 0           0                0                 0               0                    0                0                 0             0                 1                0       1                           0                       0                0                      0                     1                                         0                          1                               0                      1                                1                             0                    0              0               0               1          1                              0                  0   \n",
       "3    Audi A1    Sedans  14500               NaN 73000.00  Used           NaN       3.00   6.00               1                    0             NaN   Metallic      NaN            NaN                    0                  1           1                             0                     1                  0                    0                     0                           1                                 0                                  0                    1                         0               1                             0                 0                          1                1                  1                 0                                 1                     1                 0                         0                                0                                       0                                       0                                      0                 1               1                1                    0                    1                     1           0                  0                  0              0             1             1                 0                        1       1                     1         1                1              0       1                1                     0                       0                       0                    0             0                 0           0                0                 0               1                    0                0                 0             0                 1                0       1                           0                       0                1                      0                     0                                         1                          0                               1                      1                                1                             0                    1              0               1               1          1                              0                  0   \n",
       "4    Audi A1    Sedans  16790               NaN 16200.00  Used  Cloth, Black       3.00    nan               1                    1             NaN   Metallic  Germany            NaN                    1                  0           1                             1                     0                  0                    0                     0                           1                                 0                                  0                    0                         0               1                             0                 0                          1                1                  0                 0                                 1                     0                 0                         1                                0                                       0                                       0                                      1                 1               1                0                    0                    0                     1           0                  0                  0              0             1             1                 0                        1       1                     1         1                0              0       1                1                     0                       0                       0                    0             0                 0           0                0                 1               0                    1                0                 0             0                 1                0       1                           0                       0                0                      0                     1                                         0                          0                               0                      1                                1                             0                    0              1               0               1          1                              0                  0   \n",
       "\n",
       "   ss_lane departure warning system  ss_night view assist  ss_passenger-side airbag  ss_power steering  ss_rear airbag  ss_side airbag  ss_tire pressure monitoring system  ss_traction control  ss_traffic sign recognition  ss_xenon headlights  consumption_comb  gear_type drive_chain body_color  co2_emission  displacement_cc emission_class  register_age fuel_new  nr_doors  nr_seats  hp_kw  \n",
       "0                                 0                     0                         1                  1               0               1                                   1                    1                            0                    1              3.80  Automatic       front      Black         99.00          1422.00         Euro 6          4.00   Diesel      5.00      5.00     66  \n",
       "1                                 0                     0                         1                  1               0               1                                   1                    1                            0                    1              5.60  Automatic       front        Red        129.00          1798.00         Euro 6          3.00  Benzine      3.00      4.00    141  \n",
       "2                                 0                     0                         1                  1               0               1                                   1                    1                            0                    0              3.80  Automatic       front      Black         99.00          1598.00         Euro 6          4.00   Diesel      4.00      4.00     85  \n",
       "3                                 0                     0                         1                  1               0               1                                   1                    0                            0                    0              3.80  Automatic         NaN      Brown         99.00          1422.00         Euro 6          4.00   Diesel      3.00      4.00     66  \n",
       "4                                 0                     0                         1                  1               0               1                                   1                    1                            0                    1              4.10  Automatic       front      Black        109.00          1422.00         Euro 6          4.00   Diesel      5.00      5.00     66  "
      ]
     },
     "execution_count": 4,
     "metadata": {},
     "output_type": "execute_result"
    }
   ],
   "source": [
    "oto1.head()"
   ]
  },
  {
   "cell_type": "markdown",
   "metadata": {},
   "source": [
    "### Let's take a look at the columns which have any missing values."
   ]
  },
  {
   "cell_type": "code",
   "execution_count": 5,
   "metadata": {},
   "outputs": [
    {
     "data": {
      "text/plain": [
       "['vat',\n",
       " 'km',\n",
       " 'type',\n",
       " 'upholstery',\n",
       " 'cylinders',\n",
       " 'gears',\n",
       " 'next_inspection',\n",
       " 'paint_type',\n",
       " 'country',\n",
       " 'emission_label',\n",
       " 'consumption_comb',\n",
       " 'drive_chain',\n",
       " 'displacement_cc',\n",
       " 'emission_class',\n",
       " 'register_age',\n",
       " 'nr_doors',\n",
       " 'nr_seats']"
      ]
     },
     "execution_count": 5,
     "metadata": {},
     "output_type": "execute_result"
    }
   ],
   "source": [
    "miss_val = []\n",
    "\n",
    "[miss_val.append(i) for i in oto1.columns if any(oto1[i].isnull())]\n",
    "\n",
    "miss_val"
   ]
  },
  {
   "cell_type": "markdown",
   "metadata": {},
   "source": [
    "## Handling with Missing Values & Outliers"
   ]
  },
  {
   "cell_type": "markdown",
   "metadata": {},
   "source": [
    "- **In some cases, We will use again `fill_most` function that we defined previusly.**"
   ]
  },
  {
   "cell_type": "code",
   "execution_count": 6,
   "metadata": {},
   "outputs": [],
   "source": [
    "def fill_most(group_col, col_name): \n",
    "    \"\"\"\n",
    "This function fills the missing values with the most frequent values groupby column 'group_col'.\n",
    "For example : based on 'make_model' column, the function fill using .mode(), the most frequent value of variables.\n",
    "     \"\"\"\n",
    "    for group in list(oto1[group_col].unique()):\n",
    "        grp_inx=list(oto1[oto1[group_col]==group][col_name].index)\n",
    "        oto1[col_name].iloc[grp_inx]=oto1[col_name].iloc[grp_inx].fillna(oto1[oto1[group_col]==group][col_name].mode()[0])"
   ]
  },
  {
   "cell_type": "markdown",
   "metadata": {},
   "source": [
    "***"
   ]
  },
  {
   "cell_type": "markdown",
   "metadata": {},
   "source": [
    "### ``\"body_type\"``"
   ]
  },
  {
   "cell_type": "code",
   "execution_count": 7,
   "metadata": {},
   "outputs": [
    {
     "data": {
      "text/plain": [
       "Sedans           7925\n",
       "Station wagon    3563\n",
       "Compact          3155\n",
       "Van               809\n",
       "Other             290\n",
       "Transporter        88\n",
       "Off-Road           56\n",
       "Coupe              25\n",
       "Convertible         8\n",
       "Name: body_type, dtype: int64"
      ]
     },
     "execution_count": 7,
     "metadata": {},
     "output_type": "execute_result"
    }
   ],
   "source": [
    "oto1.body_type.value_counts(dropna = False)"
   ]
  },
  {
   "cell_type": "code",
   "execution_count": 8,
   "metadata": {},
   "outputs": [],
   "source": [
    "oto1.body_type[oto1.body_type == \"Other\"] = np.nan\n",
    "fill_most(\"make_model\", \"body_type\")"
   ]
  },
  {
   "cell_type": "code",
   "execution_count": 9,
   "metadata": {},
   "outputs": [
    {
     "data": {
      "text/plain": [
       "<matplotlib.axes._subplots.AxesSubplot at 0x17e3502a1f0>"
      ]
     },
     "execution_count": 9,
     "metadata": {},
     "output_type": "execute_result"
    },
    {
     "data": {
      "image/png": "[encoded data removed]",
      "text/plain": [
       "<Figure size 432x288 with 1 Axes>"
      ]
     },
     "metadata": {},
     "output_type": "display_data"
    }
   ],
   "source": [
    "oto1.body_type.value_counts(dropna = False).plot(kind = \"bar\")"
   ]
  },
  {
   "cell_type": "markdown",
   "metadata": {},
   "source": [
    "***"
   ]
  },
  {
   "cell_type": "markdown",
   "metadata": {},
   "source": [
    "### ``\"cylinders\"``"
   ]
  },
  {
   "cell_type": "markdown",
   "metadata": {},
   "source": [
    "- We have to make a conclusion if we should drop it. First we will fill missing values than make a decision."
   ]
  },
  {
   "cell_type": "code",
   "execution_count": 10,
   "metadata": {},
   "outputs": [
    {
     "data": {
      "text/plain": [
       "4.00    8105\n",
       "nan     5680\n",
       "3.00    2104\n",
       "5.00      22\n",
       "6.00       3\n",
       "2.00       2\n",
       "8.00       2\n",
       "1.00       1\n",
       "Name: cylinders, dtype: int64"
      ]
     },
     "execution_count": 10,
     "metadata": {},
     "output_type": "execute_result"
    }
   ],
   "source": [
    "oto1.cylinders.value_counts(dropna=False)"
   ]
  },
  {
   "cell_type": "code",
   "execution_count": 11,
   "metadata": {},
   "outputs": [
    {
     "data": {
      "text/plain": [
       "<matplotlib.axes._subplots.AxesSubplot at 0x17e3578e2b0>"
      ]
     },
     "execution_count": 11,
     "metadata": {},
     "output_type": "execute_result"
    },
    {
     "data": {
      "image/png": "[encoded data removed]",
      "text/plain": [
       "<Figure size 432x288 with 1 Axes>"
      ]
     },
     "metadata": {},
     "output_type": "display_data"
    }
   ],
   "source": [
    "oto1.groupby('make_model')['cylinders'].median().plot(kind = \"bar\")"
   ]
  },
  {
   "cell_type": "code",
   "execution_count": 12,
   "metadata": {},
   "outputs": [
    {
     "data": {
      "text/plain": [
       "0       3.00\n",
       "1       3.00\n",
       "2       3.00\n",
       "3       3.00\n",
       "4       3.00\n",
       "        ... \n",
       "15914   4.00\n",
       "15915   4.00\n",
       "15916   4.00\n",
       "15917   4.00\n",
       "15918   4.00\n",
       "Name: cylinders, Length: 15919, dtype: float64"
      ]
     },
     "execution_count": 12,
     "metadata": {},
     "output_type": "execute_result"
    }
   ],
   "source": [
    "# It produce the same length as it is.\n",
    "\n",
    "oto1.groupby('make_model')['cylinders'].transform('median')"
   ]
  },
  {
   "cell_type": "code",
   "execution_count": 13,
   "metadata": {},
   "outputs": [],
   "source": [
    "test1 = oto1['cylinders'].fillna(oto1.groupby('make_model')['cylinders'].transform('median'))\n",
    "test2 = oto1['cylinders'].fillna(oto1.groupby('make_model')['cylinders'].median())"
   ]
  },
  {
   "cell_type": "code",
   "execution_count": 14,
   "metadata": {},
   "outputs": [
    {
     "data": {
      "text/plain": [
       "4.00    12925\n",
       "3.00     2963\n",
       "5.00       22\n",
       "6.00        3\n",
       "2.00        2\n",
       "8.00        2\n",
       "1.00        1\n",
       "nan         1\n",
       "Name: cylinders, dtype: int64"
      ]
     },
     "execution_count": 14,
     "metadata": {},
     "output_type": "execute_result"
    }
   ],
   "source": [
    "test1.value_counts(dropna = False)"
   ]
  },
  {
   "cell_type": "code",
   "execution_count": 15,
   "metadata": {},
   "outputs": [
    {
     "data": {
      "text/plain": [
       "4.00    8105\n",
       "nan     5680\n",
       "3.00    2104\n",
       "5.00      22\n",
       "6.00       3\n",
       "2.00       2\n",
       "8.00       2\n",
       "1.00       1\n",
       "Name: cylinders, dtype: int64"
      ]
     },
     "execution_count": 15,
     "metadata": {},
     "output_type": "execute_result"
    }
   ],
   "source": [
    "test2.value_counts(dropna = False)"
   ]
  },
  {
   "cell_type": "code",
   "execution_count": 16,
   "metadata": {},
   "outputs": [],
   "source": [
    "oto1['cylinders'] = oto1['cylinders'].fillna(oto1.groupby('make_model')['cylinders'].transform('median'))"
   ]
  },
  {
   "cell_type": "code",
   "execution_count": 17,
   "metadata": {},
   "outputs": [
    {
     "data": {
      "text/plain": [
       "4.00    12925\n",
       "3.00     2963\n",
       "5.00       22\n",
       "6.00        3\n",
       "2.00        2\n",
       "8.00        2\n",
       "1.00        1\n",
       "nan         1\n",
       "Name: cylinders, dtype: int64"
      ]
     },
     "execution_count": 17,
     "metadata": {},
     "output_type": "execute_result"
    }
   ],
   "source": [
    "oto1.cylinders.value_counts(dropna=False)"
   ]
  },
  {
   "cell_type": "code",
   "execution_count": 18,
   "metadata": {},
   "outputs": [],
   "source": [
    "# Audi A-2 has no value. So this nan is belong to A-2. We can google it, in order to learn how many cylinders does it have?\n",
    "\n",
    "oto1.cylinders.fillna(3, inplace=True)"
   ]
  },
  {
   "cell_type": "code",
   "execution_count": 19,
   "metadata": {},
   "outputs": [
    {
     "data": {
      "text/plain": [
       "4.00    12925\n",
       "3.00     2964\n",
       "5.00       22\n",
       "6.00        3\n",
       "2.00        2\n",
       "8.00        2\n",
       "1.00        1\n",
       "Name: cylinders, dtype: int64"
      ]
     },
     "execution_count": 19,
     "metadata": {},
     "output_type": "execute_result"
    }
   ],
   "source": [
    "oto1.cylinders.value_counts(dropna=False)"
   ]
  },
  {
   "cell_type": "code",
   "execution_count": 20,
   "metadata": {},
   "outputs": [],
   "source": [
    "oto1.drop(\"cylinders\", axis = 1, inplace = True)"
   ]
  },
  {
   "cell_type": "markdown",
   "metadata": {},
   "source": [
    "***"
   ]
  },
  {
   "cell_type": "markdown",
   "metadata": {},
   "source": [
    "### ``\"gears\"``"
   ]
  },
  {
   "cell_type": "code",
   "execution_count": 21,
   "metadata": {},
   "outputs": [
    {
     "data": {
      "text/plain": [
       "6.00    5822\n",
       "nan     4712\n",
       "5.00    3240\n",
       "7.00    1908\n",
       "8.00     224\n",
       "9.00       6\n",
       "4.00       2\n",
       "3.00       2\n",
       "1.00       2\n",
       "2.00       1\n",
       "Name: gears, dtype: int64"
      ]
     },
     "execution_count": 21,
     "metadata": {},
     "output_type": "execute_result"
    }
   ],
   "source": [
    "oto1.gears.value_counts(dropna = False)"
   ]
  },
  {
   "cell_type": "code",
   "execution_count": 22,
   "metadata": {},
   "outputs": [],
   "source": [
    "oto1[\"gears\"] = oto1[\"gears\"].fillna(oto1.groupby(\"make_model\")[\"gears\"].transform(\"median\"))"
   ]
  },
  {
   "cell_type": "code",
   "execution_count": 23,
   "metadata": {},
   "outputs": [
    {
     "data": {
      "text/plain": [
       "6.00    9361\n",
       "5.00    4412\n",
       "7.00    1908\n",
       "8.00     224\n",
       "9.00       6\n",
       "4.00       2\n",
       "3.00       2\n",
       "1.00       2\n",
       "2.00       1\n",
       "nan        1\n",
       "Name: gears, dtype: int64"
      ]
     },
     "execution_count": 23,
     "metadata": {},
     "output_type": "execute_result"
    }
   ],
   "source": [
    "oto1.gears.value_counts(dropna = False)"
   ]
  },
  {
   "cell_type": "code",
   "execution_count": 24,
   "metadata": {},
   "outputs": [
    {
     "data": {
      "text/plain": [
       "make_model\n",
       "Audi A1          6.00\n",
       "Audi A2           nan\n",
       "Audi A3          6.00\n",
       "Opel Astra       6.00\n",
       "Opel Corsa       5.00\n",
       "Opel Insignia    6.00\n",
       "Renault Clio     5.00\n",
       "Renault Duster   6.00\n",
       "Renault Espace   6.00\n",
       "Name: gears, dtype: float64"
      ]
     },
     "execution_count": 24,
     "metadata": {},
     "output_type": "execute_result"
    }
   ],
   "source": [
    "oto1.groupby(\"make_model\")[\"gears\"].median()"
   ]
  },
  {
   "cell_type": "code",
   "execution_count": 25,
   "metadata": {},
   "outputs": [],
   "source": [
    "oto1.gears.fillna(5, inplace = True)"
   ]
  },
  {
   "cell_type": "code",
   "execution_count": 26,
   "metadata": {},
   "outputs": [
    {
     "data": {
      "text/plain": [
       "6.00    9361\n",
       "5.00    4413\n",
       "7.00    1908\n",
       "8.00     224\n",
       "9.00       6\n",
       "4.00       2\n",
       "3.00       2\n",
       "1.00       2\n",
       "2.00       1\n",
       "Name: gears, dtype: int64"
      ]
     },
     "execution_count": 26,
     "metadata": {},
     "output_type": "execute_result"
    }
   ],
   "source": [
    "oto1.gears.value_counts(dropna = False)"
   ]
  },
  {
   "cell_type": "markdown",
   "metadata": {},
   "source": [
    "### Handling with outliers"
   ]
  },
  {
   "cell_type": "markdown",
   "metadata": {},
   "source": [
    "- Althoug it is somehow a categorical variable, we should clear it in terms of outliers.\n",
    "- If we take a look at the Renault \"Espace 2018-2019 Automatic gearbox\"  (age of 1 year), \n",
    "- We can see that there is no gear number in the [AutoScout24](https://www.autoscout24.com/lst/renault/espace?sort=standard&desc=0&gear=A%2CS&ustate=N%2CU&size=20&page=1&fregfrom=2019&atype=C&) web page. But there is an [evidence](https://www.youtube.com/watch?v=4gUwDSyv9r8) that it is 7"
   ]
  },
  {
   "cell_type": "code",
   "execution_count": 27,
   "metadata": {},
   "outputs": [
    {
     "data": {
      "text/html": [
       "<div>\n",
       "<style scoped>\n",
       "    .dataframe tbody tr th:only-of-type {\n",
       "        vertical-align: middle;\n",
       "    }\n",
       "\n",
       "    .dataframe tbody tr th {\n",
       "        vertical-align: top;\n",
       "    }\n",
       "\n",
       "    .dataframe thead th {\n",
       "        text-align: right;\n",
       "    }\n",
       "</style>\n",
       "<table border=\"1\" class=\"dataframe\">\n",
       "  <thead>\n",
       "    <tr style=\"text-align: right;\">\n",
       "      <th></th>\n",
       "      <th>make_model</th>\n",
       "      <th>body_type</th>\n",
       "      <th>price</th>\n",
       "      <th>vat</th>\n",
       "      <th>km</th>\n",
       "      <th>type</th>\n",
       "      <th>upholstery</th>\n",
       "      <th>gears</th>\n",
       "      <th>previous_owner</th>\n",
       "      <th>inspection_new_bool</th>\n",
       "      <th>next_inspection</th>\n",
       "      <th>paint_type</th>\n",
       "      <th>country</th>\n",
       "      <th>emission_label</th>\n",
       "      <th>cc_air conditioning</th>\n",
       "      <th>cc_air suspension</th>\n",
       "      <th>cc_armrest</th>\n",
       "      <th>cc_automatic climate control</th>\n",
       "      <th>cc_auxiliary heating</th>\n",
       "      <th>cc_cruise control</th>\n",
       "      <th>cc_electric starter</th>\n",
       "      <th>cc_electric tailgate</th>\n",
       "      <th>cc_electrical side mirrors</th>\n",
       "      <th>cc_electrically adjustable seats</th>\n",
       "      <th>cc_electrically heated windshield</th>\n",
       "      <th>cc_heads-up display</th>\n",
       "      <th>cc_heated steering wheel</th>\n",
       "      <th>cc_hill holder</th>\n",
       "      <th>cc_keyless central door lock</th>\n",
       "      <th>cc_leather seats</th>\n",
       "      <th>cc_leather steering wheel</th>\n",
       "      <th>cc_light sensor</th>\n",
       "      <th>cc_lumbar support</th>\n",
       "      <th>cc_massage seats</th>\n",
       "      <th>cc_multi-function steering wheel</th>\n",
       "      <th>cc_navigation system</th>\n",
       "      <th>cc_panorama roof</th>\n",
       "      <th>cc_park distance control</th>\n",
       "      <th>cc_parking assist system camera</th>\n",
       "      <th>cc_parking assist system self-steering</th>\n",
       "      <th>cc_parking assist system sensors front</th>\n",
       "      <th>cc_parking assist system sensors rear</th>\n",
       "      <th>cc_power windows</th>\n",
       "      <th>cc_rain sensor</th>\n",
       "      <th>cc_seat heating</th>\n",
       "      <th>cc_seat ventilation</th>\n",
       "      <th>cc_split rear seats</th>\n",
       "      <th>cc_start-stop system</th>\n",
       "      <th>cc_sunroof</th>\n",
       "      <th>cc_tinted windows</th>\n",
       "      <th>cc_wind deflector</th>\n",
       "      <th>cc_windshield</th>\n",
       "      <th>em_bluetooth</th>\n",
       "      <th>em_cd player</th>\n",
       "      <th>em_digital radio</th>\n",
       "      <th>em_hands-free equipment</th>\n",
       "      <th>em_mp3</th>\n",
       "      <th>em_on-board computer</th>\n",
       "      <th>em_radio</th>\n",
       "      <th>em_sound system</th>\n",
       "      <th>em_television</th>\n",
       "      <th>em_usb</th>\n",
       "      <th>ex_alloy wheels</th>\n",
       "      <th>ex_cab or rented car</th>\n",
       "      <th>ex_catalytic converter</th>\n",
       "      <th>ex_handicapped enabled</th>\n",
       "      <th>ex_right hand drive</th>\n",
       "      <th>ex_roof rack</th>\n",
       "      <th>ex_shift paddles</th>\n",
       "      <th>ex_ski bag</th>\n",
       "      <th>ex_sliding door</th>\n",
       "      <th>ex_sport package</th>\n",
       "      <th>ex_sport seats</th>\n",
       "      <th>ex_sport suspension</th>\n",
       "      <th>ex_touch screen</th>\n",
       "      <th>ex_trailer hitch</th>\n",
       "      <th>ex_tuned car</th>\n",
       "      <th>ex_voice control</th>\n",
       "      <th>ex_winter tyres</th>\n",
       "      <th>ss_abs</th>\n",
       "      <th>ss_adaptive cruise control</th>\n",
       "      <th>ss_adaptive headlights</th>\n",
       "      <th>ss_alarm system</th>\n",
       "      <th>ss_blind spot monitor</th>\n",
       "      <th>ss_central door lock</th>\n",
       "      <th>ss_central door lock with remote control</th>\n",
       "      <th>ss_daytime running lights</th>\n",
       "      <th>ss_driver drowsiness detection</th>\n",
       "      <th>ss_driver-side airbag</th>\n",
       "      <th>ss_electronic stability control</th>\n",
       "      <th>ss_emergency brake assistant</th>\n",
       "      <th>ss_emergency system</th>\n",
       "      <th>ss_fog lights</th>\n",
       "      <th>ss_head airbag</th>\n",
       "      <th>ss_immobilizer</th>\n",
       "      <th>ss_isofix</th>\n",
       "      <th>ss_led daytime running lights</th>\n",
       "      <th>ss_led headlights</th>\n",
       "      <th>ss_lane departure warning system</th>\n",
       "      <th>ss_night view assist</th>\n",
       "      <th>ss_passenger-side airbag</th>\n",
       "      <th>ss_power steering</th>\n",
       "      <th>ss_rear airbag</th>\n",
       "      <th>ss_side airbag</th>\n",
       "      <th>ss_tire pressure monitoring system</th>\n",
       "      <th>ss_traction control</th>\n",
       "      <th>ss_traffic sign recognition</th>\n",
       "      <th>ss_xenon headlights</th>\n",
       "      <th>consumption_comb</th>\n",
       "      <th>gear_type</th>\n",
       "      <th>drive_chain</th>\n",
       "      <th>body_color</th>\n",
       "      <th>co2_emission</th>\n",
       "      <th>displacement_cc</th>\n",
       "      <th>emission_class</th>\n",
       "      <th>register_age</th>\n",
       "      <th>fuel_new</th>\n",
       "      <th>nr_doors</th>\n",
       "      <th>nr_seats</th>\n",
       "      <th>hp_kw</th>\n",
       "    </tr>\n",
       "  </thead>\n",
       "  <tbody>\n",
       "    <tr>\n",
       "      <th>15822</th>\n",
       "      <td>Renault Espace</td>\n",
       "      <td>Van</td>\n",
       "      <td>50950</td>\n",
       "      <td>VAT deductible</td>\n",
       "      <td>11.00</td>\n",
       "      <td>New</td>\n",
       "      <td>Cloth</td>\n",
       "      <td>4.00</td>\n",
       "      <td>1</td>\n",
       "      <td>0</td>\n",
       "      <td>NaN</td>\n",
       "      <td>Metallic</td>\n",
       "      <td>Netherlands</td>\n",
       "      <td>NaN</td>\n",
       "      <td>1</td>\n",
       "      <td>0</td>\n",
       "      <td>1</td>\n",
       "      <td>1</td>\n",
       "      <td>0</td>\n",
       "      <td>1</td>\n",
       "      <td>0</td>\n",
       "      <td>1</td>\n",
       "      <td>1</td>\n",
       "      <td>0</td>\n",
       "      <td>0</td>\n",
       "      <td>0</td>\n",
       "      <td>0</td>\n",
       "      <td>1</td>\n",
       "      <td>1</td>\n",
       "      <td>0</td>\n",
       "      <td>1</td>\n",
       "      <td>1</td>\n",
       "      <td>0</td>\n",
       "      <td>0</td>\n",
       "      <td>1</td>\n",
       "      <td>1</td>\n",
       "      <td>1</td>\n",
       "      <td>1</td>\n",
       "      <td>1</td>\n",
       "      <td>1</td>\n",
       "      <td>1</td>\n",
       "      <td>1</td>\n",
       "      <td>1</td>\n",
       "      <td>1</td>\n",
       "      <td>1</td>\n",
       "      <td>0</td>\n",
       "      <td>0</td>\n",
       "      <td>0</td>\n",
       "      <td>0</td>\n",
       "      <td>0</td>\n",
       "      <td>0</td>\n",
       "      <td>0</td>\n",
       "      <td>0</td>\n",
       "      <td>0</td>\n",
       "      <td>1</td>\n",
       "      <td>0</td>\n",
       "      <td>0</td>\n",
       "      <td>0</td>\n",
       "      <td>1</td>\n",
       "      <td>0</td>\n",
       "      <td>0</td>\n",
       "      <td>0</td>\n",
       "      <td>1</td>\n",
       "      <td>0</td>\n",
       "      <td>0</td>\n",
       "      <td>0</td>\n",
       "      <td>0</td>\n",
       "      <td>0</td>\n",
       "      <td>0</td>\n",
       "      <td>0</td>\n",
       "      <td>0</td>\n",
       "      <td>0</td>\n",
       "      <td>0</td>\n",
       "      <td>0</td>\n",
       "      <td>0</td>\n",
       "      <td>0</td>\n",
       "      <td>0</td>\n",
       "      <td>1</td>\n",
       "      <td>0</td>\n",
       "      <td>1</td>\n",
       "      <td>0</td>\n",
       "      <td>0</td>\n",
       "      <td>0</td>\n",
       "      <td>0</td>\n",
       "      <td>0</td>\n",
       "      <td>0</td>\n",
       "      <td>1</td>\n",
       "      <td>0</td>\n",
       "      <td>1</td>\n",
       "      <td>1</td>\n",
       "      <td>0</td>\n",
       "      <td>0</td>\n",
       "      <td>0</td>\n",
       "      <td>0</td>\n",
       "      <td>1</td>\n",
       "      <td>0</td>\n",
       "      <td>1</td>\n",
       "      <td>1</td>\n",
       "      <td>1</td>\n",
       "      <td>0</td>\n",
       "      <td>1</td>\n",
       "      <td>0</td>\n",
       "      <td>0</td>\n",
       "      <td>1</td>\n",
       "      <td>1</td>\n",
       "      <td>1</td>\n",
       "      <td>1</td>\n",
       "      <td>0</td>\n",
       "      <td>7.60</td>\n",
       "      <td>Automatic</td>\n",
       "      <td>NaN</td>\n",
       "      <td>Grey</td>\n",
       "      <td>116.00</td>\n",
       "      <td>1798.00</td>\n",
       "      <td>NaN</td>\n",
       "      <td>1.00</td>\n",
       "      <td>Benzine</td>\n",
       "      <td>5.00</td>\n",
       "      <td>nan</td>\n",
       "      <td>165</td>\n",
       "    </tr>\n",
       "    <tr>\n",
       "      <th>15823</th>\n",
       "      <td>Renault Espace</td>\n",
       "      <td>Van</td>\n",
       "      <td>50950</td>\n",
       "      <td>VAT deductible</td>\n",
       "      <td>11.00</td>\n",
       "      <td>New</td>\n",
       "      <td>Cloth</td>\n",
       "      <td>4.00</td>\n",
       "      <td>1</td>\n",
       "      <td>0</td>\n",
       "      <td>NaN</td>\n",
       "      <td>Metallic</td>\n",
       "      <td>Netherlands</td>\n",
       "      <td>NaN</td>\n",
       "      <td>1</td>\n",
       "      <td>0</td>\n",
       "      <td>1</td>\n",
       "      <td>1</td>\n",
       "      <td>0</td>\n",
       "      <td>1</td>\n",
       "      <td>0</td>\n",
       "      <td>1</td>\n",
       "      <td>1</td>\n",
       "      <td>0</td>\n",
       "      <td>0</td>\n",
       "      <td>0</td>\n",
       "      <td>0</td>\n",
       "      <td>1</td>\n",
       "      <td>1</td>\n",
       "      <td>0</td>\n",
       "      <td>1</td>\n",
       "      <td>1</td>\n",
       "      <td>0</td>\n",
       "      <td>0</td>\n",
       "      <td>1</td>\n",
       "      <td>1</td>\n",
       "      <td>1</td>\n",
       "      <td>1</td>\n",
       "      <td>1</td>\n",
       "      <td>1</td>\n",
       "      <td>1</td>\n",
       "      <td>1</td>\n",
       "      <td>1</td>\n",
       "      <td>1</td>\n",
       "      <td>1</td>\n",
       "      <td>0</td>\n",
       "      <td>0</td>\n",
       "      <td>0</td>\n",
       "      <td>0</td>\n",
       "      <td>0</td>\n",
       "      <td>0</td>\n",
       "      <td>0</td>\n",
       "      <td>0</td>\n",
       "      <td>0</td>\n",
       "      <td>1</td>\n",
       "      <td>0</td>\n",
       "      <td>0</td>\n",
       "      <td>0</td>\n",
       "      <td>1</td>\n",
       "      <td>0</td>\n",
       "      <td>0</td>\n",
       "      <td>0</td>\n",
       "      <td>1</td>\n",
       "      <td>0</td>\n",
       "      <td>0</td>\n",
       "      <td>0</td>\n",
       "      <td>0</td>\n",
       "      <td>0</td>\n",
       "      <td>0</td>\n",
       "      <td>0</td>\n",
       "      <td>0</td>\n",
       "      <td>0</td>\n",
       "      <td>0</td>\n",
       "      <td>0</td>\n",
       "      <td>0</td>\n",
       "      <td>0</td>\n",
       "      <td>0</td>\n",
       "      <td>1</td>\n",
       "      <td>0</td>\n",
       "      <td>1</td>\n",
       "      <td>0</td>\n",
       "      <td>0</td>\n",
       "      <td>0</td>\n",
       "      <td>0</td>\n",
       "      <td>0</td>\n",
       "      <td>0</td>\n",
       "      <td>1</td>\n",
       "      <td>0</td>\n",
       "      <td>1</td>\n",
       "      <td>1</td>\n",
       "      <td>0</td>\n",
       "      <td>0</td>\n",
       "      <td>0</td>\n",
       "      <td>0</td>\n",
       "      <td>1</td>\n",
       "      <td>0</td>\n",
       "      <td>1</td>\n",
       "      <td>1</td>\n",
       "      <td>1</td>\n",
       "      <td>0</td>\n",
       "      <td>1</td>\n",
       "      <td>0</td>\n",
       "      <td>0</td>\n",
       "      <td>1</td>\n",
       "      <td>1</td>\n",
       "      <td>1</td>\n",
       "      <td>1</td>\n",
       "      <td>0</td>\n",
       "      <td>7.60</td>\n",
       "      <td>Automatic</td>\n",
       "      <td>NaN</td>\n",
       "      <td>Grey</td>\n",
       "      <td>116.00</td>\n",
       "      <td>1798.00</td>\n",
       "      <td>NaN</td>\n",
       "      <td>1.00</td>\n",
       "      <td>Benzine</td>\n",
       "      <td>5.00</td>\n",
       "      <td>nan</td>\n",
       "      <td>165</td>\n",
       "    </tr>\n",
       "  </tbody>\n",
       "</table>\n",
       "</div>"
      ],
      "text/plain": [
       "           make_model body_type  price             vat    km type upholstery  gears  previous_owner  inspection_new_bool next_inspection paint_type      country emission_label  cc_air conditioning  cc_air suspension  cc_armrest  cc_automatic climate control  cc_auxiliary heating  cc_cruise control  cc_electric starter  cc_electric tailgate  cc_electrical side mirrors  cc_electrically adjustable seats  cc_electrically heated windshield  cc_heads-up display  cc_heated steering wheel  cc_hill holder  cc_keyless central door lock  cc_leather seats  cc_leather steering wheel  cc_light sensor  cc_lumbar support  cc_massage seats  cc_multi-function steering wheel  cc_navigation system  cc_panorama roof  cc_park distance control  cc_parking assist system camera  cc_parking assist system self-steering  cc_parking assist system sensors front  cc_parking assist system sensors rear  cc_power windows  cc_rain sensor  cc_seat heating  cc_seat ventilation  cc_split rear seats  cc_start-stop system  cc_sunroof  cc_tinted windows  cc_wind deflector  cc_windshield  em_bluetooth  em_cd player  em_digital radio  em_hands-free equipment  em_mp3  em_on-board computer  em_radio  em_sound system  em_television  em_usb  ex_alloy wheels  ex_cab or rented car  ex_catalytic converter  ex_handicapped enabled  ex_right hand drive  ex_roof rack  ex_shift paddles  ex_ski bag  ex_sliding door  ex_sport package  ex_sport seats  ex_sport suspension  ex_touch screen  ex_trailer hitch  ex_tuned car  ex_voice control  ex_winter tyres  ss_abs  ss_adaptive cruise control  ss_adaptive headlights  ss_alarm system  ss_blind spot monitor  ss_central door lock  ss_central door lock with remote control  ss_daytime running lights  ss_driver drowsiness detection  ss_driver-side airbag  ss_electronic stability control  ss_emergency brake assistant  ss_emergency system  ss_fog lights  ss_head airbag  ss_immobilizer  ss_isofix  ss_led daytime running lights  ss_led headlights  ss_lane departure warning system  \\\n",
       "15822  Renault Espace       Van  50950  VAT deductible 11.00  New      Cloth   4.00               1                    0             NaN   Metallic  Netherlands            NaN                    1                  0           1                             1                     0                  1                    0                     1                           1                                 0                                  0                    0                         0               1                             1                 0                          1                1                  0                 0                                 1                     1                 1                         1                                1                                       1                                       1                                      1                 1               1                1                    0                    0                     0           0                  0                  0              0             0             0                 1                        0       0                     0         1                0              0       0                1                     0                       0                       0                    0             0                 0           0                0                 0               0                    0                0                 0             0                 1                0       1                           0                       0                0                      0                     0                                         0                          1                               0                      1                                1                             0                    0              0               0               1          0                              1                  1                                 1   \n",
       "15823  Renault Espace       Van  50950  VAT deductible 11.00  New      Cloth   4.00               1                    0             NaN   Metallic  Netherlands            NaN                    1                  0           1                             1                     0                  1                    0                     1                           1                                 0                                  0                    0                         0               1                             1                 0                          1                1                  0                 0                                 1                     1                 1                         1                                1                                       1                                       1                                      1                 1               1                1                    0                    0                     0           0                  0                  0              0             0             0                 1                        0       0                     0         1                0              0       0                1                     0                       0                       0                    0             0                 0           0                0                 0               0                    0                0                 0             0                 1                0       1                           0                       0                0                      0                     0                                         0                          1                               0                      1                                1                             0                    0              0               0               1          0                              1                  1                                 1   \n",
       "\n",
       "       ss_night view assist  ss_passenger-side airbag  ss_power steering  ss_rear airbag  ss_side airbag  ss_tire pressure monitoring system  ss_traction control  ss_traffic sign recognition  ss_xenon headlights  consumption_comb  gear_type drive_chain body_color  co2_emission  displacement_cc emission_class  register_age fuel_new  nr_doors  nr_seats  hp_kw  \n",
       "15822                     0                         1                  0               0               1                                   1                    1                            1                    0              7.60  Automatic         NaN       Grey        116.00          1798.00            NaN          1.00  Benzine      5.00       nan    165  \n",
       "15823                     0                         1                  0               0               1                                   1                    1                            1                    0              7.60  Automatic         NaN       Grey        116.00          1798.00            NaN          1.00  Benzine      5.00       nan    165  "
      ]
     },
     "execution_count": 27,
     "metadata": {},
     "output_type": "execute_result"
    }
   ],
   "source": [
    "oto1[oto1[\"gears\"] == 4]"
   ]
  },
  {
   "cell_type": "code",
   "execution_count": 28,
   "metadata": {},
   "outputs": [],
   "source": [
    "oto1.gears.iloc[15822] = 7\n",
    "oto1.gears.iloc[15823] = 7"
   ]
  },
  {
   "cell_type": "code",
   "execution_count": 29,
   "metadata": {},
   "outputs": [
    {
     "data": {
      "text/html": [
       "<div>\n",
       "<style scoped>\n",
       "    .dataframe tbody tr th:only-of-type {\n",
       "        vertical-align: middle;\n",
       "    }\n",
       "\n",
       "    .dataframe tbody tr th {\n",
       "        vertical-align: top;\n",
       "    }\n",
       "\n",
       "    .dataframe thead th {\n",
       "        text-align: right;\n",
       "    }\n",
       "</style>\n",
       "<table border=\"1\" class=\"dataframe\">\n",
       "  <thead>\n",
       "    <tr style=\"text-align: right;\">\n",
       "      <th></th>\n",
       "      <th>make_model</th>\n",
       "      <th>body_type</th>\n",
       "      <th>price</th>\n",
       "      <th>vat</th>\n",
       "      <th>km</th>\n",
       "      <th>type</th>\n",
       "      <th>upholstery</th>\n",
       "      <th>gears</th>\n",
       "      <th>previous_owner</th>\n",
       "      <th>inspection_new_bool</th>\n",
       "      <th>next_inspection</th>\n",
       "      <th>paint_type</th>\n",
       "      <th>country</th>\n",
       "      <th>emission_label</th>\n",
       "      <th>cc_air conditioning</th>\n",
       "      <th>cc_air suspension</th>\n",
       "      <th>cc_armrest</th>\n",
       "      <th>cc_automatic climate control</th>\n",
       "      <th>cc_auxiliary heating</th>\n",
       "      <th>cc_cruise control</th>\n",
       "      <th>cc_electric starter</th>\n",
       "      <th>cc_electric tailgate</th>\n",
       "      <th>cc_electrical side mirrors</th>\n",
       "      <th>cc_electrically adjustable seats</th>\n",
       "      <th>cc_electrically heated windshield</th>\n",
       "      <th>cc_heads-up display</th>\n",
       "      <th>cc_heated steering wheel</th>\n",
       "      <th>cc_hill holder</th>\n",
       "      <th>cc_keyless central door lock</th>\n",
       "      <th>cc_leather seats</th>\n",
       "      <th>cc_leather steering wheel</th>\n",
       "      <th>cc_light sensor</th>\n",
       "      <th>cc_lumbar support</th>\n",
       "      <th>cc_massage seats</th>\n",
       "      <th>cc_multi-function steering wheel</th>\n",
       "      <th>cc_navigation system</th>\n",
       "      <th>cc_panorama roof</th>\n",
       "      <th>cc_park distance control</th>\n",
       "      <th>cc_parking assist system camera</th>\n",
       "      <th>cc_parking assist system self-steering</th>\n",
       "      <th>cc_parking assist system sensors front</th>\n",
       "      <th>cc_parking assist system sensors rear</th>\n",
       "      <th>cc_power windows</th>\n",
       "      <th>cc_rain sensor</th>\n",
       "      <th>cc_seat heating</th>\n",
       "      <th>cc_seat ventilation</th>\n",
       "      <th>cc_split rear seats</th>\n",
       "      <th>cc_start-stop system</th>\n",
       "      <th>cc_sunroof</th>\n",
       "      <th>cc_tinted windows</th>\n",
       "      <th>cc_wind deflector</th>\n",
       "      <th>cc_windshield</th>\n",
       "      <th>em_bluetooth</th>\n",
       "      <th>em_cd player</th>\n",
       "      <th>em_digital radio</th>\n",
       "      <th>em_hands-free equipment</th>\n",
       "      <th>em_mp3</th>\n",
       "      <th>em_on-board computer</th>\n",
       "      <th>em_radio</th>\n",
       "      <th>em_sound system</th>\n",
       "      <th>em_television</th>\n",
       "      <th>em_usb</th>\n",
       "      <th>ex_alloy wheels</th>\n",
       "      <th>ex_cab or rented car</th>\n",
       "      <th>ex_catalytic converter</th>\n",
       "      <th>ex_handicapped enabled</th>\n",
       "      <th>ex_right hand drive</th>\n",
       "      <th>ex_roof rack</th>\n",
       "      <th>ex_shift paddles</th>\n",
       "      <th>ex_ski bag</th>\n",
       "      <th>ex_sliding door</th>\n",
       "      <th>ex_sport package</th>\n",
       "      <th>ex_sport seats</th>\n",
       "      <th>ex_sport suspension</th>\n",
       "      <th>ex_touch screen</th>\n",
       "      <th>ex_trailer hitch</th>\n",
       "      <th>ex_tuned car</th>\n",
       "      <th>ex_voice control</th>\n",
       "      <th>ex_winter tyres</th>\n",
       "      <th>ss_abs</th>\n",
       "      <th>ss_adaptive cruise control</th>\n",
       "      <th>ss_adaptive headlights</th>\n",
       "      <th>ss_alarm system</th>\n",
       "      <th>ss_blind spot monitor</th>\n",
       "      <th>ss_central door lock</th>\n",
       "      <th>ss_central door lock with remote control</th>\n",
       "      <th>ss_daytime running lights</th>\n",
       "      <th>ss_driver drowsiness detection</th>\n",
       "      <th>ss_driver-side airbag</th>\n",
       "      <th>ss_electronic stability control</th>\n",
       "      <th>ss_emergency brake assistant</th>\n",
       "      <th>ss_emergency system</th>\n",
       "      <th>ss_fog lights</th>\n",
       "      <th>ss_head airbag</th>\n",
       "      <th>ss_immobilizer</th>\n",
       "      <th>ss_isofix</th>\n",
       "      <th>ss_led daytime running lights</th>\n",
       "      <th>ss_led headlights</th>\n",
       "      <th>ss_lane departure warning system</th>\n",
       "      <th>ss_night view assist</th>\n",
       "      <th>ss_passenger-side airbag</th>\n",
       "      <th>ss_power steering</th>\n",
       "      <th>ss_rear airbag</th>\n",
       "      <th>ss_side airbag</th>\n",
       "      <th>ss_tire pressure monitoring system</th>\n",
       "      <th>ss_traction control</th>\n",
       "      <th>ss_traffic sign recognition</th>\n",
       "      <th>ss_xenon headlights</th>\n",
       "      <th>consumption_comb</th>\n",
       "      <th>gear_type</th>\n",
       "      <th>drive_chain</th>\n",
       "      <th>body_color</th>\n",
       "      <th>co2_emission</th>\n",
       "      <th>displacement_cc</th>\n",
       "      <th>emission_class</th>\n",
       "      <th>register_age</th>\n",
       "      <th>fuel_new</th>\n",
       "      <th>nr_doors</th>\n",
       "      <th>nr_seats</th>\n",
       "      <th>hp_kw</th>\n",
       "    </tr>\n",
       "  </thead>\n",
       "  <tbody>\n",
       "    <tr>\n",
       "      <th>15817</th>\n",
       "      <td>Renault Espace</td>\n",
       "      <td>Van</td>\n",
       "      <td>54204</td>\n",
       "      <td>VAT deductible</td>\n",
       "      <td>11.00</td>\n",
       "      <td>New</td>\n",
       "      <td>Part leather</td>\n",
       "      <td>3.00</td>\n",
       "      <td>1</td>\n",
       "      <td>0</td>\n",
       "      <td>NaN</td>\n",
       "      <td>Metallic</td>\n",
       "      <td>Netherlands</td>\n",
       "      <td>NaN</td>\n",
       "      <td>1</td>\n",
       "      <td>0</td>\n",
       "      <td>1</td>\n",
       "      <td>1</td>\n",
       "      <td>0</td>\n",
       "      <td>1</td>\n",
       "      <td>0</td>\n",
       "      <td>1</td>\n",
       "      <td>1</td>\n",
       "      <td>1</td>\n",
       "      <td>1</td>\n",
       "      <td>1</td>\n",
       "      <td>1</td>\n",
       "      <td>1</td>\n",
       "      <td>1</td>\n",
       "      <td>0</td>\n",
       "      <td>1</td>\n",
       "      <td>1</td>\n",
       "      <td>0</td>\n",
       "      <td>0</td>\n",
       "      <td>1</td>\n",
       "      <td>1</td>\n",
       "      <td>0</td>\n",
       "      <td>1</td>\n",
       "      <td>1</td>\n",
       "      <td>1</td>\n",
       "      <td>1</td>\n",
       "      <td>1</td>\n",
       "      <td>1</td>\n",
       "      <td>1</td>\n",
       "      <td>1</td>\n",
       "      <td>1</td>\n",
       "      <td>0</td>\n",
       "      <td>0</td>\n",
       "      <td>0</td>\n",
       "      <td>0</td>\n",
       "      <td>0</td>\n",
       "      <td>0</td>\n",
       "      <td>0</td>\n",
       "      <td>0</td>\n",
       "      <td>1</td>\n",
       "      <td>0</td>\n",
       "      <td>0</td>\n",
       "      <td>0</td>\n",
       "      <td>1</td>\n",
       "      <td>0</td>\n",
       "      <td>0</td>\n",
       "      <td>0</td>\n",
       "      <td>1</td>\n",
       "      <td>0</td>\n",
       "      <td>0</td>\n",
       "      <td>0</td>\n",
       "      <td>0</td>\n",
       "      <td>0</td>\n",
       "      <td>0</td>\n",
       "      <td>0</td>\n",
       "      <td>0</td>\n",
       "      <td>0</td>\n",
       "      <td>0</td>\n",
       "      <td>0</td>\n",
       "      <td>0</td>\n",
       "      <td>0</td>\n",
       "      <td>0</td>\n",
       "      <td>1</td>\n",
       "      <td>0</td>\n",
       "      <td>1</td>\n",
       "      <td>0</td>\n",
       "      <td>0</td>\n",
       "      <td>0</td>\n",
       "      <td>0</td>\n",
       "      <td>0</td>\n",
       "      <td>0</td>\n",
       "      <td>1</td>\n",
       "      <td>0</td>\n",
       "      <td>1</td>\n",
       "      <td>1</td>\n",
       "      <td>0</td>\n",
       "      <td>0</td>\n",
       "      <td>0</td>\n",
       "      <td>0</td>\n",
       "      <td>1</td>\n",
       "      <td>0</td>\n",
       "      <td>1</td>\n",
       "      <td>1</td>\n",
       "      <td>1</td>\n",
       "      <td>0</td>\n",
       "      <td>1</td>\n",
       "      <td>0</td>\n",
       "      <td>0</td>\n",
       "      <td>1</td>\n",
       "      <td>1</td>\n",
       "      <td>1</td>\n",
       "      <td>1</td>\n",
       "      <td>0</td>\n",
       "      <td>5.40</td>\n",
       "      <td>Automatic</td>\n",
       "      <td>NaN</td>\n",
       "      <td>White</td>\n",
       "      <td>116.00</td>\n",
       "      <td>1997.00</td>\n",
       "      <td>NaN</td>\n",
       "      <td>1.00</td>\n",
       "      <td>Diesel</td>\n",
       "      <td>5.00</td>\n",
       "      <td>nan</td>\n",
       "      <td>146</td>\n",
       "    </tr>\n",
       "    <tr>\n",
       "      <th>15845</th>\n",
       "      <td>Renault Espace</td>\n",
       "      <td>Van</td>\n",
       "      <td>46660</td>\n",
       "      <td>VAT deductible</td>\n",
       "      <td>11.00</td>\n",
       "      <td>New</td>\n",
       "      <td>Part leather</td>\n",
       "      <td>3.00</td>\n",
       "      <td>1</td>\n",
       "      <td>0</td>\n",
       "      <td>NaN</td>\n",
       "      <td>NaN</td>\n",
       "      <td>Netherlands</td>\n",
       "      <td>NaN</td>\n",
       "      <td>1</td>\n",
       "      <td>0</td>\n",
       "      <td>1</td>\n",
       "      <td>1</td>\n",
       "      <td>0</td>\n",
       "      <td>1</td>\n",
       "      <td>0</td>\n",
       "      <td>0</td>\n",
       "      <td>1</td>\n",
       "      <td>0</td>\n",
       "      <td>0</td>\n",
       "      <td>0</td>\n",
       "      <td>0</td>\n",
       "      <td>1</td>\n",
       "      <td>1</td>\n",
       "      <td>0</td>\n",
       "      <td>1</td>\n",
       "      <td>1</td>\n",
       "      <td>0</td>\n",
       "      <td>0</td>\n",
       "      <td>1</td>\n",
       "      <td>1</td>\n",
       "      <td>0</td>\n",
       "      <td>1</td>\n",
       "      <td>0</td>\n",
       "      <td>0</td>\n",
       "      <td>1</td>\n",
       "      <td>1</td>\n",
       "      <td>1</td>\n",
       "      <td>1</td>\n",
       "      <td>0</td>\n",
       "      <td>0</td>\n",
       "      <td>0</td>\n",
       "      <td>0</td>\n",
       "      <td>0</td>\n",
       "      <td>0</td>\n",
       "      <td>0</td>\n",
       "      <td>0</td>\n",
       "      <td>0</td>\n",
       "      <td>0</td>\n",
       "      <td>1</td>\n",
       "      <td>0</td>\n",
       "      <td>0</td>\n",
       "      <td>0</td>\n",
       "      <td>1</td>\n",
       "      <td>0</td>\n",
       "      <td>0</td>\n",
       "      <td>0</td>\n",
       "      <td>1</td>\n",
       "      <td>0</td>\n",
       "      <td>0</td>\n",
       "      <td>0</td>\n",
       "      <td>0</td>\n",
       "      <td>0</td>\n",
       "      <td>0</td>\n",
       "      <td>0</td>\n",
       "      <td>0</td>\n",
       "      <td>0</td>\n",
       "      <td>0</td>\n",
       "      <td>0</td>\n",
       "      <td>0</td>\n",
       "      <td>0</td>\n",
       "      <td>0</td>\n",
       "      <td>1</td>\n",
       "      <td>0</td>\n",
       "      <td>1</td>\n",
       "      <td>0</td>\n",
       "      <td>0</td>\n",
       "      <td>0</td>\n",
       "      <td>0</td>\n",
       "      <td>0</td>\n",
       "      <td>0</td>\n",
       "      <td>1</td>\n",
       "      <td>0</td>\n",
       "      <td>1</td>\n",
       "      <td>1</td>\n",
       "      <td>0</td>\n",
       "      <td>0</td>\n",
       "      <td>0</td>\n",
       "      <td>0</td>\n",
       "      <td>1</td>\n",
       "      <td>0</td>\n",
       "      <td>1</td>\n",
       "      <td>1</td>\n",
       "      <td>1</td>\n",
       "      <td>0</td>\n",
       "      <td>1</td>\n",
       "      <td>0</td>\n",
       "      <td>0</td>\n",
       "      <td>1</td>\n",
       "      <td>1</td>\n",
       "      <td>1</td>\n",
       "      <td>1</td>\n",
       "      <td>0</td>\n",
       "      <td>5.10</td>\n",
       "      <td>Automatic</td>\n",
       "      <td>NaN</td>\n",
       "      <td>White</td>\n",
       "      <td>116.00</td>\n",
       "      <td>1997.00</td>\n",
       "      <td>NaN</td>\n",
       "      <td>1.00</td>\n",
       "      <td>Diesel</td>\n",
       "      <td>5.00</td>\n",
       "      <td>nan</td>\n",
       "      <td>118</td>\n",
       "    </tr>\n",
       "  </tbody>\n",
       "</table>\n",
       "</div>"
      ],
      "text/plain": [
       "           make_model body_type  price             vat    km type    upholstery  gears  previous_owner  inspection_new_bool next_inspection paint_type      country emission_label  cc_air conditioning  cc_air suspension  cc_armrest  cc_automatic climate control  cc_auxiliary heating  cc_cruise control  cc_electric starter  cc_electric tailgate  cc_electrical side mirrors  cc_electrically adjustable seats  cc_electrically heated windshield  cc_heads-up display  cc_heated steering wheel  cc_hill holder  cc_keyless central door lock  cc_leather seats  cc_leather steering wheel  cc_light sensor  cc_lumbar support  cc_massage seats  cc_multi-function steering wheel  cc_navigation system  cc_panorama roof  cc_park distance control  cc_parking assist system camera  cc_parking assist system self-steering  cc_parking assist system sensors front  cc_parking assist system sensors rear  cc_power windows  cc_rain sensor  cc_seat heating  cc_seat ventilation  cc_split rear seats  cc_start-stop system  cc_sunroof  cc_tinted windows  cc_wind deflector  cc_windshield  em_bluetooth  em_cd player  em_digital radio  em_hands-free equipment  em_mp3  em_on-board computer  em_radio  em_sound system  em_television  em_usb  ex_alloy wheels  ex_cab or rented car  ex_catalytic converter  ex_handicapped enabled  ex_right hand drive  ex_roof rack  ex_shift paddles  ex_ski bag  ex_sliding door  ex_sport package  ex_sport seats  ex_sport suspension  ex_touch screen  ex_trailer hitch  ex_tuned car  ex_voice control  ex_winter tyres  ss_abs  ss_adaptive cruise control  ss_adaptive headlights  ss_alarm system  ss_blind spot monitor  ss_central door lock  ss_central door lock with remote control  ss_daytime running lights  ss_driver drowsiness detection  ss_driver-side airbag  ss_electronic stability control  ss_emergency brake assistant  ss_emergency system  ss_fog lights  ss_head airbag  ss_immobilizer  ss_isofix  ss_led daytime running lights  ss_led headlights  ss_lane departure warning system  \\\n",
       "15817  Renault Espace       Van  54204  VAT deductible 11.00  New  Part leather   3.00               1                    0             NaN   Metallic  Netherlands            NaN                    1                  0           1                             1                     0                  1                    0                     1                           1                                 1                                  1                    1                         1               1                             1                 0                          1                1                  0                 0                                 1                     1                 0                         1                                1                                       1                                       1                                      1                 1               1                1                    1                    0                     0           0                  0                  0              0             0             0                 1                        0       0                     0         1                0              0       0                1                     0                       0                       0                    0             0                 0           0                0                 0               0                    0                0                 0             0                 1                0       1                           0                       0                0                      0                     0                                         0                          1                               0                      1                                1                             0                    0              0               0               1          0                              1                  1                                 1   \n",
       "15845  Renault Espace       Van  46660  VAT deductible 11.00  New  Part leather   3.00               1                    0             NaN        NaN  Netherlands            NaN                    1                  0           1                             1                     0                  1                    0                     0                           1                                 0                                  0                    0                         0               1                             1                 0                          1                1                  0                 0                                 1                     1                 0                         1                                0                                       0                                       1                                      1                 1               1                0                    0                    0                     0           0                  0                  0              0             0             0                 1                        0       0                     0         1                0              0       0                1                     0                       0                       0                    0             0                 0           0                0                 0               0                    0                0                 0             0                 1                0       1                           0                       0                0                      0                     0                                         0                          1                               0                      1                                1                             0                    0              0               0               1          0                              1                  1                                 1   \n",
       "\n",
       "       ss_night view assist  ss_passenger-side airbag  ss_power steering  ss_rear airbag  ss_side airbag  ss_tire pressure monitoring system  ss_traction control  ss_traffic sign recognition  ss_xenon headlights  consumption_comb  gear_type drive_chain body_color  co2_emission  displacement_cc emission_class  register_age fuel_new  nr_doors  nr_seats  hp_kw  \n",
       "15817                     0                         1                  0               0               1                                   1                    1                            1                    0              5.40  Automatic         NaN      White        116.00          1997.00            NaN          1.00   Diesel      5.00       nan    146  \n",
       "15845                     0                         1                  0               0               1                                   1                    1                            1                    0              5.10  Automatic         NaN      White        116.00          1997.00            NaN          1.00   Diesel      5.00       nan    118  "
      ]
     },
     "execution_count": 29,
     "metadata": {},
     "output_type": "execute_result"
    }
   ],
   "source": [
    "oto1[oto1[\"gears\"] == 3]"
   ]
  },
  {
   "cell_type": "code",
   "execution_count": 30,
   "metadata": {},
   "outputs": [],
   "source": [
    "oto1.gears.iloc[15817] = 7\n",
    "oto1.gears.iloc[15845] = 7"
   ]
  },
  {
   "cell_type": "code",
   "execution_count": 31,
   "metadata": {},
   "outputs": [
    {
     "data": {
      "text/html": [
       "<div>\n",
       "<style scoped>\n",
       "    .dataframe tbody tr th:only-of-type {\n",
       "        vertical-align: middle;\n",
       "    }\n",
       "\n",
       "    .dataframe tbody tr th {\n",
       "        vertical-align: top;\n",
       "    }\n",
       "\n",
       "    .dataframe thead th {\n",
       "        text-align: right;\n",
       "    }\n",
       "</style>\n",
       "<table border=\"1\" class=\"dataframe\">\n",
       "  <thead>\n",
       "    <tr style=\"text-align: right;\">\n",
       "      <th></th>\n",
       "      <th>make_model</th>\n",
       "      <th>body_type</th>\n",
       "      <th>price</th>\n",
       "      <th>vat</th>\n",
       "      <th>km</th>\n",
       "      <th>type</th>\n",
       "      <th>upholstery</th>\n",
       "      <th>gears</th>\n",
       "      <th>previous_owner</th>\n",
       "      <th>inspection_new_bool</th>\n",
       "      <th>next_inspection</th>\n",
       "      <th>paint_type</th>\n",
       "      <th>country</th>\n",
       "      <th>emission_label</th>\n",
       "      <th>cc_air conditioning</th>\n",
       "      <th>cc_air suspension</th>\n",
       "      <th>cc_armrest</th>\n",
       "      <th>cc_automatic climate control</th>\n",
       "      <th>cc_auxiliary heating</th>\n",
       "      <th>cc_cruise control</th>\n",
       "      <th>cc_electric starter</th>\n",
       "      <th>cc_electric tailgate</th>\n",
       "      <th>cc_electrical side mirrors</th>\n",
       "      <th>cc_electrically adjustable seats</th>\n",
       "      <th>cc_electrically heated windshield</th>\n",
       "      <th>cc_heads-up display</th>\n",
       "      <th>cc_heated steering wheel</th>\n",
       "      <th>cc_hill holder</th>\n",
       "      <th>cc_keyless central door lock</th>\n",
       "      <th>cc_leather seats</th>\n",
       "      <th>cc_leather steering wheel</th>\n",
       "      <th>cc_light sensor</th>\n",
       "      <th>cc_lumbar support</th>\n",
       "      <th>cc_massage seats</th>\n",
       "      <th>cc_multi-function steering wheel</th>\n",
       "      <th>cc_navigation system</th>\n",
       "      <th>cc_panorama roof</th>\n",
       "      <th>cc_park distance control</th>\n",
       "      <th>cc_parking assist system camera</th>\n",
       "      <th>cc_parking assist system self-steering</th>\n",
       "      <th>cc_parking assist system sensors front</th>\n",
       "      <th>cc_parking assist system sensors rear</th>\n",
       "      <th>cc_power windows</th>\n",
       "      <th>cc_rain sensor</th>\n",
       "      <th>cc_seat heating</th>\n",
       "      <th>cc_seat ventilation</th>\n",
       "      <th>cc_split rear seats</th>\n",
       "      <th>cc_start-stop system</th>\n",
       "      <th>cc_sunroof</th>\n",
       "      <th>cc_tinted windows</th>\n",
       "      <th>cc_wind deflector</th>\n",
       "      <th>cc_windshield</th>\n",
       "      <th>em_bluetooth</th>\n",
       "      <th>em_cd player</th>\n",
       "      <th>em_digital radio</th>\n",
       "      <th>em_hands-free equipment</th>\n",
       "      <th>em_mp3</th>\n",
       "      <th>em_on-board computer</th>\n",
       "      <th>em_radio</th>\n",
       "      <th>em_sound system</th>\n",
       "      <th>em_television</th>\n",
       "      <th>em_usb</th>\n",
       "      <th>ex_alloy wheels</th>\n",
       "      <th>ex_cab or rented car</th>\n",
       "      <th>ex_catalytic converter</th>\n",
       "      <th>ex_handicapped enabled</th>\n",
       "      <th>ex_right hand drive</th>\n",
       "      <th>ex_roof rack</th>\n",
       "      <th>ex_shift paddles</th>\n",
       "      <th>ex_ski bag</th>\n",
       "      <th>ex_sliding door</th>\n",
       "      <th>ex_sport package</th>\n",
       "      <th>ex_sport seats</th>\n",
       "      <th>ex_sport suspension</th>\n",
       "      <th>ex_touch screen</th>\n",
       "      <th>ex_trailer hitch</th>\n",
       "      <th>ex_tuned car</th>\n",
       "      <th>ex_voice control</th>\n",
       "      <th>ex_winter tyres</th>\n",
       "      <th>ss_abs</th>\n",
       "      <th>ss_adaptive cruise control</th>\n",
       "      <th>ss_adaptive headlights</th>\n",
       "      <th>ss_alarm system</th>\n",
       "      <th>ss_blind spot monitor</th>\n",
       "      <th>ss_central door lock</th>\n",
       "      <th>ss_central door lock with remote control</th>\n",
       "      <th>ss_daytime running lights</th>\n",
       "      <th>ss_driver drowsiness detection</th>\n",
       "      <th>ss_driver-side airbag</th>\n",
       "      <th>ss_electronic stability control</th>\n",
       "      <th>ss_emergency brake assistant</th>\n",
       "      <th>ss_emergency system</th>\n",
       "      <th>ss_fog lights</th>\n",
       "      <th>ss_head airbag</th>\n",
       "      <th>ss_immobilizer</th>\n",
       "      <th>ss_isofix</th>\n",
       "      <th>ss_led daytime running lights</th>\n",
       "      <th>ss_led headlights</th>\n",
       "      <th>ss_lane departure warning system</th>\n",
       "      <th>ss_night view assist</th>\n",
       "      <th>ss_passenger-side airbag</th>\n",
       "      <th>ss_power steering</th>\n",
       "      <th>ss_rear airbag</th>\n",
       "      <th>ss_side airbag</th>\n",
       "      <th>ss_tire pressure monitoring system</th>\n",
       "      <th>ss_traction control</th>\n",
       "      <th>ss_traffic sign recognition</th>\n",
       "      <th>ss_xenon headlights</th>\n",
       "      <th>consumption_comb</th>\n",
       "      <th>gear_type</th>\n",
       "      <th>drive_chain</th>\n",
       "      <th>body_color</th>\n",
       "      <th>co2_emission</th>\n",
       "      <th>displacement_cc</th>\n",
       "      <th>emission_class</th>\n",
       "      <th>register_age</th>\n",
       "      <th>fuel_new</th>\n",
       "      <th>nr_doors</th>\n",
       "      <th>nr_seats</th>\n",
       "      <th>hp_kw</th>\n",
       "    </tr>\n",
       "  </thead>\n",
       "  <tbody>\n",
       "    <tr>\n",
       "      <th>8921</th>\n",
       "      <td>Opel Corsa</td>\n",
       "      <td>Compact</td>\n",
       "      <td>11000</td>\n",
       "      <td>VAT deductible</td>\n",
       "      <td>24000.00</td>\n",
       "      <td>Used</td>\n",
       "      <td>Cloth, Black</td>\n",
       "      <td>1.00</td>\n",
       "      <td>1</td>\n",
       "      <td>0</td>\n",
       "      <td>NaN</td>\n",
       "      <td>Metallic</td>\n",
       "      <td>Belgium</td>\n",
       "      <td>NaN</td>\n",
       "      <td>1</td>\n",
       "      <td>0</td>\n",
       "      <td>0</td>\n",
       "      <td>0</td>\n",
       "      <td>0</td>\n",
       "      <td>0</td>\n",
       "      <td>0</td>\n",
       "      <td>0</td>\n",
       "      <td>0</td>\n",
       "      <td>0</td>\n",
       "      <td>0</td>\n",
       "      <td>0</td>\n",
       "      <td>0</td>\n",
       "      <td>0</td>\n",
       "      <td>0</td>\n",
       "      <td>0</td>\n",
       "      <td>0</td>\n",
       "      <td>1</td>\n",
       "      <td>0</td>\n",
       "      <td>0</td>\n",
       "      <td>1</td>\n",
       "      <td>1</td>\n",
       "      <td>0</td>\n",
       "      <td>0</td>\n",
       "      <td>0</td>\n",
       "      <td>0</td>\n",
       "      <td>0</td>\n",
       "      <td>0</td>\n",
       "      <td>1</td>\n",
       "      <td>1</td>\n",
       "      <td>0</td>\n",
       "      <td>0</td>\n",
       "      <td>0</td>\n",
       "      <td>0</td>\n",
       "      <td>0</td>\n",
       "      <td>0</td>\n",
       "      <td>0</td>\n",
       "      <td>0</td>\n",
       "      <td>1</td>\n",
       "      <td>0</td>\n",
       "      <td>0</td>\n",
       "      <td>0</td>\n",
       "      <td>0</td>\n",
       "      <td>1</td>\n",
       "      <td>1</td>\n",
       "      <td>0</td>\n",
       "      <td>0</td>\n",
       "      <td>1</td>\n",
       "      <td>1</td>\n",
       "      <td>0</td>\n",
       "      <td>0</td>\n",
       "      <td>0</td>\n",
       "      <td>0</td>\n",
       "      <td>0</td>\n",
       "      <td>0</td>\n",
       "      <td>0</td>\n",
       "      <td>0</td>\n",
       "      <td>0</td>\n",
       "      <td>0</td>\n",
       "      <td>0</td>\n",
       "      <td>1</td>\n",
       "      <td>0</td>\n",
       "      <td>0</td>\n",
       "      <td>0</td>\n",
       "      <td>0</td>\n",
       "      <td>1</td>\n",
       "      <td>0</td>\n",
       "      <td>0</td>\n",
       "      <td>0</td>\n",
       "      <td>0</td>\n",
       "      <td>1</td>\n",
       "      <td>1</td>\n",
       "      <td>0</td>\n",
       "      <td>0</td>\n",
       "      <td>1</td>\n",
       "      <td>0</td>\n",
       "      <td>0</td>\n",
       "      <td>0</td>\n",
       "      <td>1</td>\n",
       "      <td>0</td>\n",
       "      <td>0</td>\n",
       "      <td>0</td>\n",
       "      <td>0</td>\n",
       "      <td>0</td>\n",
       "      <td>0</td>\n",
       "      <td>0</td>\n",
       "      <td>1</td>\n",
       "      <td>1</td>\n",
       "      <td>0</td>\n",
       "      <td>0</td>\n",
       "      <td>1</td>\n",
       "      <td>0</td>\n",
       "      <td>0</td>\n",
       "      <td>0</td>\n",
       "      <td>4.80</td>\n",
       "      <td>Semi-automatic</td>\n",
       "      <td>front</td>\n",
       "      <td>Blue</td>\n",
       "      <td>112.00</td>\n",
       "      <td>1398.00</td>\n",
       "      <td>Euro 6</td>\n",
       "      <td>2.00</td>\n",
       "      <td>Benzine</td>\n",
       "      <td>5.00</td>\n",
       "      <td>5.00</td>\n",
       "      <td>66</td>\n",
       "    </tr>\n",
       "    <tr>\n",
       "      <th>14375</th>\n",
       "      <td>Renault Clio</td>\n",
       "      <td>Compact</td>\n",
       "      <td>23990</td>\n",
       "      <td>NaN</td>\n",
       "      <td>10.00</td>\n",
       "      <td>Demonstration</td>\n",
       "      <td>NaN</td>\n",
       "      <td>1.00</td>\n",
       "      <td>1</td>\n",
       "      <td>0</td>\n",
       "      <td>NaN</td>\n",
       "      <td>NaN</td>\n",
       "      <td>Austria</td>\n",
       "      <td>NaN</td>\n",
       "      <td>1</td>\n",
       "      <td>0</td>\n",
       "      <td>0</td>\n",
       "      <td>1</td>\n",
       "      <td>0</td>\n",
       "      <td>1</td>\n",
       "      <td>0</td>\n",
       "      <td>0</td>\n",
       "      <td>0</td>\n",
       "      <td>0</td>\n",
       "      <td>0</td>\n",
       "      <td>0</td>\n",
       "      <td>0</td>\n",
       "      <td>0</td>\n",
       "      <td>0</td>\n",
       "      <td>0</td>\n",
       "      <td>0</td>\n",
       "      <td>0</td>\n",
       "      <td>0</td>\n",
       "      <td>0</td>\n",
       "      <td>1</td>\n",
       "      <td>1</td>\n",
       "      <td>0</td>\n",
       "      <td>0</td>\n",
       "      <td>0</td>\n",
       "      <td>0</td>\n",
       "      <td>0</td>\n",
       "      <td>0</td>\n",
       "      <td>1</td>\n",
       "      <td>1</td>\n",
       "      <td>1</td>\n",
       "      <td>0</td>\n",
       "      <td>0</td>\n",
       "      <td>1</td>\n",
       "      <td>0</td>\n",
       "      <td>0</td>\n",
       "      <td>0</td>\n",
       "      <td>0</td>\n",
       "      <td>1</td>\n",
       "      <td>0</td>\n",
       "      <td>0</td>\n",
       "      <td>1</td>\n",
       "      <td>0</td>\n",
       "      <td>1</td>\n",
       "      <td>0</td>\n",
       "      <td>0</td>\n",
       "      <td>0</td>\n",
       "      <td>0</td>\n",
       "      <td>1</td>\n",
       "      <td>0</td>\n",
       "      <td>0</td>\n",
       "      <td>0</td>\n",
       "      <td>0</td>\n",
       "      <td>0</td>\n",
       "      <td>0</td>\n",
       "      <td>0</td>\n",
       "      <td>0</td>\n",
       "      <td>1</td>\n",
       "      <td>1</td>\n",
       "      <td>1</td>\n",
       "      <td>0</td>\n",
       "      <td>0</td>\n",
       "      <td>0</td>\n",
       "      <td>0</td>\n",
       "      <td>0</td>\n",
       "      <td>1</td>\n",
       "      <td>0</td>\n",
       "      <td>0</td>\n",
       "      <td>0</td>\n",
       "      <td>0</td>\n",
       "      <td>1</td>\n",
       "      <td>0</td>\n",
       "      <td>1</td>\n",
       "      <td>0</td>\n",
       "      <td>1</td>\n",
       "      <td>1</td>\n",
       "      <td>1</td>\n",
       "      <td>0</td>\n",
       "      <td>0</td>\n",
       "      <td>0</td>\n",
       "      <td>0</td>\n",
       "      <td>0</td>\n",
       "      <td>0</td>\n",
       "      <td>1</td>\n",
       "      <td>0</td>\n",
       "      <td>0</td>\n",
       "      <td>0</td>\n",
       "      <td>0</td>\n",
       "      <td>0</td>\n",
       "      <td>1</td>\n",
       "      <td>1</td>\n",
       "      <td>1</td>\n",
       "      <td>0</td>\n",
       "      <td>0</td>\n",
       "      <td>nan</td>\n",
       "      <td>Automatic</td>\n",
       "      <td>NaN</td>\n",
       "      <td>White</td>\n",
       "      <td>116.00</td>\n",
       "      <td>1618.00</td>\n",
       "      <td>NaN</td>\n",
       "      <td>2.00</td>\n",
       "      <td>Benzine</td>\n",
       "      <td>4.00</td>\n",
       "      <td>nan</td>\n",
       "      <td>147</td>\n",
       "    </tr>\n",
       "  </tbody>\n",
       "</table>\n",
       "</div>"
      ],
      "text/plain": [
       "         make_model body_type  price             vat       km           type    upholstery  gears  previous_owner  inspection_new_bool next_inspection paint_type  country emission_label  cc_air conditioning  cc_air suspension  cc_armrest  cc_automatic climate control  cc_auxiliary heating  cc_cruise control  cc_electric starter  cc_electric tailgate  cc_electrical side mirrors  cc_electrically adjustable seats  cc_electrically heated windshield  cc_heads-up display  cc_heated steering wheel  cc_hill holder  cc_keyless central door lock  cc_leather seats  cc_leather steering wheel  cc_light sensor  cc_lumbar support  cc_massage seats  cc_multi-function steering wheel  cc_navigation system  cc_panorama roof  cc_park distance control  cc_parking assist system camera  cc_parking assist system self-steering  cc_parking assist system sensors front  cc_parking assist system sensors rear  cc_power windows  cc_rain sensor  cc_seat heating  cc_seat ventilation  cc_split rear seats  cc_start-stop system  cc_sunroof  cc_tinted windows  cc_wind deflector  cc_windshield  em_bluetooth  em_cd player  em_digital radio  em_hands-free equipment  em_mp3  em_on-board computer  em_radio  em_sound system  em_television  em_usb  ex_alloy wheels  ex_cab or rented car  ex_catalytic converter  ex_handicapped enabled  ex_right hand drive  ex_roof rack  ex_shift paddles  ex_ski bag  ex_sliding door  ex_sport package  ex_sport seats  ex_sport suspension  ex_touch screen  ex_trailer hitch  ex_tuned car  ex_voice control  ex_winter tyres  ss_abs  ss_adaptive cruise control  ss_adaptive headlights  ss_alarm system  ss_blind spot monitor  ss_central door lock  ss_central door lock with remote control  ss_daytime running lights  ss_driver drowsiness detection  ss_driver-side airbag  ss_electronic stability control  ss_emergency brake assistant  ss_emergency system  ss_fog lights  ss_head airbag  ss_immobilizer  ss_isofix  ss_led daytime running lights  ss_led headlights  \\\n",
       "8921     Opel Corsa   Compact  11000  VAT deductible 24000.00           Used  Cloth, Black   1.00               1                    0             NaN   Metallic  Belgium            NaN                    1                  0           0                             0                     0                  0                    0                     0                           0                                 0                                  0                    0                         0               0                             0                 0                          0                1                  0                 0                                 1                     1                 0                         0                                0                                       0                                       0                                      0                 1               1                0                    0                    0                     0           0                  0                  0              0             1             0                 0                        0       0                     1         1                0              0       1                1                     0                       0                       0                    0             0                 0           0                0                 0               0                    0                1                 0             0                 0                0       1                           0                       0                0                      0                     1                                         1                          0                               0                      1                                0                             0                    0              1               0               0          0                              0                  0   \n",
       "14375  Renault Clio   Compact  23990             NaN    10.00  Demonstration           NaN   1.00               1                    0             NaN        NaN  Austria            NaN                    1                  0           0                             1                     0                  1                    0                     0                           0                                 0                                  0                    0                         0               0                             0                 0                          0                0                  0                 0                                 1                     1                 0                         0                                0                                       0                                       0                                      0                 1               1                1                    0                    0                     1           0                  0                  0              0             1             0                 0                        1       0                     1         0                0              0       0                1                     0                       0                       0                    0             0                 0           0                0                 1               1                    1                0                 0             0                 0                0       1                           0                       0                0                      0                     1                                         0                          1                               0                      1                                1                             1                    0              0               0               0          0                              0                  1   \n",
       "\n",
       "       ss_lane departure warning system  ss_night view assist  ss_passenger-side airbag  ss_power steering  ss_rear airbag  ss_side airbag  ss_tire pressure monitoring system  ss_traction control  ss_traffic sign recognition  ss_xenon headlights  consumption_comb       gear_type drive_chain body_color  co2_emission  displacement_cc emission_class  register_age fuel_new  nr_doors  nr_seats  hp_kw  \n",
       "8921                                  0                     0                         1                  1               0               0                                   1                    0                            0                    0              4.80  Semi-automatic       front       Blue        112.00          1398.00         Euro 6          2.00  Benzine      5.00      5.00     66  \n",
       "14375                                 0                     0                         0                  0               0               1                                   1                    1                            0                    0               nan       Automatic         NaN      White        116.00          1618.00            NaN          2.00  Benzine      4.00       nan    147  "
      ]
     },
     "execution_count": 31,
     "metadata": {},
     "output_type": "execute_result"
    }
   ],
   "source": [
    "oto1[oto1[\"gears\"] == 1]"
   ]
  },
  {
   "cell_type": "code",
   "execution_count": 32,
   "metadata": {},
   "outputs": [],
   "source": [
    "oto1.gears.iloc[8921] = 5\n",
    "oto1.gears.iloc[14375] = 6"
   ]
  },
  {
   "cell_type": "code",
   "execution_count": 33,
   "metadata": {},
   "outputs": [
    {
     "data": {
      "text/html": [
       "<div>\n",
       "<style scoped>\n",
       "    .dataframe tbody tr th:only-of-type {\n",
       "        vertical-align: middle;\n",
       "    }\n",
       "\n",
       "    .dataframe tbody tr th {\n",
       "        vertical-align: top;\n",
       "    }\n",
       "\n",
       "    .dataframe thead th {\n",
       "        text-align: right;\n",
       "    }\n",
       "</style>\n",
       "<table border=\"1\" class=\"dataframe\">\n",
       "  <thead>\n",
       "    <tr style=\"text-align: right;\">\n",
       "      <th></th>\n",
       "      <th>make_model</th>\n",
       "      <th>body_type</th>\n",
       "      <th>price</th>\n",
       "      <th>vat</th>\n",
       "      <th>km</th>\n",
       "      <th>type</th>\n",
       "      <th>upholstery</th>\n",
       "      <th>gears</th>\n",
       "      <th>previous_owner</th>\n",
       "      <th>inspection_new_bool</th>\n",
       "      <th>next_inspection</th>\n",
       "      <th>paint_type</th>\n",
       "      <th>country</th>\n",
       "      <th>emission_label</th>\n",
       "      <th>cc_air conditioning</th>\n",
       "      <th>cc_air suspension</th>\n",
       "      <th>cc_armrest</th>\n",
       "      <th>cc_automatic climate control</th>\n",
       "      <th>cc_auxiliary heating</th>\n",
       "      <th>cc_cruise control</th>\n",
       "      <th>cc_electric starter</th>\n",
       "      <th>cc_electric tailgate</th>\n",
       "      <th>cc_electrical side mirrors</th>\n",
       "      <th>cc_electrically adjustable seats</th>\n",
       "      <th>cc_electrically heated windshield</th>\n",
       "      <th>cc_heads-up display</th>\n",
       "      <th>cc_heated steering wheel</th>\n",
       "      <th>cc_hill holder</th>\n",
       "      <th>cc_keyless central door lock</th>\n",
       "      <th>cc_leather seats</th>\n",
       "      <th>cc_leather steering wheel</th>\n",
       "      <th>cc_light sensor</th>\n",
       "      <th>cc_lumbar support</th>\n",
       "      <th>cc_massage seats</th>\n",
       "      <th>cc_multi-function steering wheel</th>\n",
       "      <th>cc_navigation system</th>\n",
       "      <th>cc_panorama roof</th>\n",
       "      <th>cc_park distance control</th>\n",
       "      <th>cc_parking assist system camera</th>\n",
       "      <th>cc_parking assist system self-steering</th>\n",
       "      <th>cc_parking assist system sensors front</th>\n",
       "      <th>cc_parking assist system sensors rear</th>\n",
       "      <th>cc_power windows</th>\n",
       "      <th>cc_rain sensor</th>\n",
       "      <th>cc_seat heating</th>\n",
       "      <th>cc_seat ventilation</th>\n",
       "      <th>cc_split rear seats</th>\n",
       "      <th>cc_start-stop system</th>\n",
       "      <th>cc_sunroof</th>\n",
       "      <th>cc_tinted windows</th>\n",
       "      <th>cc_wind deflector</th>\n",
       "      <th>cc_windshield</th>\n",
       "      <th>em_bluetooth</th>\n",
       "      <th>em_cd player</th>\n",
       "      <th>em_digital radio</th>\n",
       "      <th>em_hands-free equipment</th>\n",
       "      <th>em_mp3</th>\n",
       "      <th>em_on-board computer</th>\n",
       "      <th>em_radio</th>\n",
       "      <th>em_sound system</th>\n",
       "      <th>em_television</th>\n",
       "      <th>em_usb</th>\n",
       "      <th>ex_alloy wheels</th>\n",
       "      <th>ex_cab or rented car</th>\n",
       "      <th>ex_catalytic converter</th>\n",
       "      <th>ex_handicapped enabled</th>\n",
       "      <th>ex_right hand drive</th>\n",
       "      <th>ex_roof rack</th>\n",
       "      <th>ex_shift paddles</th>\n",
       "      <th>ex_ski bag</th>\n",
       "      <th>ex_sliding door</th>\n",
       "      <th>ex_sport package</th>\n",
       "      <th>ex_sport seats</th>\n",
       "      <th>ex_sport suspension</th>\n",
       "      <th>ex_touch screen</th>\n",
       "      <th>ex_trailer hitch</th>\n",
       "      <th>ex_tuned car</th>\n",
       "      <th>ex_voice control</th>\n",
       "      <th>ex_winter tyres</th>\n",
       "      <th>ss_abs</th>\n",
       "      <th>ss_adaptive cruise control</th>\n",
       "      <th>ss_adaptive headlights</th>\n",
       "      <th>ss_alarm system</th>\n",
       "      <th>ss_blind spot monitor</th>\n",
       "      <th>ss_central door lock</th>\n",
       "      <th>ss_central door lock with remote control</th>\n",
       "      <th>ss_daytime running lights</th>\n",
       "      <th>ss_driver drowsiness detection</th>\n",
       "      <th>ss_driver-side airbag</th>\n",
       "      <th>ss_electronic stability control</th>\n",
       "      <th>ss_emergency brake assistant</th>\n",
       "      <th>ss_emergency system</th>\n",
       "      <th>ss_fog lights</th>\n",
       "      <th>ss_head airbag</th>\n",
       "      <th>ss_immobilizer</th>\n",
       "      <th>ss_isofix</th>\n",
       "      <th>ss_led daytime running lights</th>\n",
       "      <th>ss_led headlights</th>\n",
       "      <th>ss_lane departure warning system</th>\n",
       "      <th>ss_night view assist</th>\n",
       "      <th>ss_passenger-side airbag</th>\n",
       "      <th>ss_power steering</th>\n",
       "      <th>ss_rear airbag</th>\n",
       "      <th>ss_side airbag</th>\n",
       "      <th>ss_tire pressure monitoring system</th>\n",
       "      <th>ss_traction control</th>\n",
       "      <th>ss_traffic sign recognition</th>\n",
       "      <th>ss_xenon headlights</th>\n",
       "      <th>consumption_comb</th>\n",
       "      <th>gear_type</th>\n",
       "      <th>drive_chain</th>\n",
       "      <th>body_color</th>\n",
       "      <th>co2_emission</th>\n",
       "      <th>displacement_cc</th>\n",
       "      <th>emission_class</th>\n",
       "      <th>register_age</th>\n",
       "      <th>fuel_new</th>\n",
       "      <th>nr_doors</th>\n",
       "      <th>nr_seats</th>\n",
       "      <th>hp_kw</th>\n",
       "    </tr>\n",
       "  </thead>\n",
       "  <tbody>\n",
       "    <tr>\n",
       "      <th>9812</th>\n",
       "      <td>Opel Corsa</td>\n",
       "      <td>Sedans</td>\n",
       "      <td>9880</td>\n",
       "      <td>VAT deductible</td>\n",
       "      <td>19247.00</td>\n",
       "      <td>Used</td>\n",
       "      <td>Cloth, Black</td>\n",
       "      <td>2.00</td>\n",
       "      <td>1</td>\n",
       "      <td>0</td>\n",
       "      <td>NaN</td>\n",
       "      <td>Metallic</td>\n",
       "      <td>NaN</td>\n",
       "      <td>NaN</td>\n",
       "      <td>1</td>\n",
       "      <td>0</td>\n",
       "      <td>0</td>\n",
       "      <td>0</td>\n",
       "      <td>0</td>\n",
       "      <td>0</td>\n",
       "      <td>0</td>\n",
       "      <td>0</td>\n",
       "      <td>0</td>\n",
       "      <td>0</td>\n",
       "      <td>0</td>\n",
       "      <td>0</td>\n",
       "      <td>0</td>\n",
       "      <td>0</td>\n",
       "      <td>0</td>\n",
       "      <td>0</td>\n",
       "      <td>0</td>\n",
       "      <td>1</td>\n",
       "      <td>0</td>\n",
       "      <td>0</td>\n",
       "      <td>0</td>\n",
       "      <td>1</td>\n",
       "      <td>0</td>\n",
       "      <td>0</td>\n",
       "      <td>0</td>\n",
       "      <td>0</td>\n",
       "      <td>0</td>\n",
       "      <td>0</td>\n",
       "      <td>1</td>\n",
       "      <td>1</td>\n",
       "      <td>0</td>\n",
       "      <td>0</td>\n",
       "      <td>0</td>\n",
       "      <td>0</td>\n",
       "      <td>0</td>\n",
       "      <td>0</td>\n",
       "      <td>0</td>\n",
       "      <td>0</td>\n",
       "      <td>1</td>\n",
       "      <td>0</td>\n",
       "      <td>0</td>\n",
       "      <td>0</td>\n",
       "      <td>0</td>\n",
       "      <td>1</td>\n",
       "      <td>0</td>\n",
       "      <td>0</td>\n",
       "      <td>0</td>\n",
       "      <td>0</td>\n",
       "      <td>1</td>\n",
       "      <td>0</td>\n",
       "      <td>0</td>\n",
       "      <td>0</td>\n",
       "      <td>0</td>\n",
       "      <td>0</td>\n",
       "      <td>0</td>\n",
       "      <td>0</td>\n",
       "      <td>0</td>\n",
       "      <td>0</td>\n",
       "      <td>0</td>\n",
       "      <td>0</td>\n",
       "      <td>0</td>\n",
       "      <td>0</td>\n",
       "      <td>0</td>\n",
       "      <td>0</td>\n",
       "      <td>0</td>\n",
       "      <td>1</td>\n",
       "      <td>0</td>\n",
       "      <td>0</td>\n",
       "      <td>0</td>\n",
       "      <td>0</td>\n",
       "      <td>1</td>\n",
       "      <td>0</td>\n",
       "      <td>0</td>\n",
       "      <td>0</td>\n",
       "      <td>1</td>\n",
       "      <td>0</td>\n",
       "      <td>0</td>\n",
       "      <td>0</td>\n",
       "      <td>1</td>\n",
       "      <td>0</td>\n",
       "      <td>0</td>\n",
       "      <td>0</td>\n",
       "      <td>0</td>\n",
       "      <td>0</td>\n",
       "      <td>0</td>\n",
       "      <td>0</td>\n",
       "      <td>1</td>\n",
       "      <td>1</td>\n",
       "      <td>0</td>\n",
       "      <td>0</td>\n",
       "      <td>0</td>\n",
       "      <td>1</td>\n",
       "      <td>0</td>\n",
       "      <td>0</td>\n",
       "      <td>nan</td>\n",
       "      <td>Manual</td>\n",
       "      <td>NaN</td>\n",
       "      <td>Grey</td>\n",
       "      <td>116.00</td>\n",
       "      <td>1229.00</td>\n",
       "      <td>Euro 6</td>\n",
       "      <td>2.00</td>\n",
       "      <td>Benzine</td>\n",
       "      <td>5.00</td>\n",
       "      <td>nan</td>\n",
       "      <td>51</td>\n",
       "    </tr>\n",
       "  </tbody>\n",
       "</table>\n",
       "</div>"
      ],
      "text/plain": [
       "      make_model body_type  price             vat       km  type    upholstery  gears  previous_owner  inspection_new_bool next_inspection paint_type country emission_label  cc_air conditioning  cc_air suspension  cc_armrest  cc_automatic climate control  cc_auxiliary heating  cc_cruise control  cc_electric starter  cc_electric tailgate  cc_electrical side mirrors  cc_electrically adjustable seats  cc_electrically heated windshield  cc_heads-up display  cc_heated steering wheel  cc_hill holder  cc_keyless central door lock  cc_leather seats  cc_leather steering wheel  cc_light sensor  cc_lumbar support  cc_massage seats  cc_multi-function steering wheel  cc_navigation system  cc_panorama roof  cc_park distance control  cc_parking assist system camera  cc_parking assist system self-steering  cc_parking assist system sensors front  cc_parking assist system sensors rear  cc_power windows  cc_rain sensor  cc_seat heating  cc_seat ventilation  cc_split rear seats  cc_start-stop system  cc_sunroof  cc_tinted windows  cc_wind deflector  cc_windshield  em_bluetooth  em_cd player  em_digital radio  em_hands-free equipment  em_mp3  em_on-board computer  em_radio  em_sound system  em_television  em_usb  ex_alloy wheels  ex_cab or rented car  ex_catalytic converter  ex_handicapped enabled  ex_right hand drive  ex_roof rack  ex_shift paddles  ex_ski bag  ex_sliding door  ex_sport package  ex_sport seats  ex_sport suspension  ex_touch screen  ex_trailer hitch  ex_tuned car  ex_voice control  ex_winter tyres  ss_abs  ss_adaptive cruise control  ss_adaptive headlights  ss_alarm system  ss_blind spot monitor  ss_central door lock  ss_central door lock with remote control  ss_daytime running lights  ss_driver drowsiness detection  ss_driver-side airbag  ss_electronic stability control  ss_emergency brake assistant  ss_emergency system  ss_fog lights  ss_head airbag  ss_immobilizer  ss_isofix  ss_led daytime running lights  ss_led headlights  ss_lane departure warning system  \\\n",
       "9812  Opel Corsa    Sedans   9880  VAT deductible 19247.00  Used  Cloth, Black   2.00               1                    0             NaN   Metallic     NaN            NaN                    1                  0           0                             0                     0                  0                    0                     0                           0                                 0                                  0                    0                         0               0                             0                 0                          0                1                  0                 0                                 0                     1                 0                         0                                0                                       0                                       0                                      0                 1               1                0                    0                    0                     0           0                  0                  0              0             1             0                 0                        0       0                     1         0                0              0       0                1                     0                       0                       0                    0             0                 0           0                0                 0               0                    0                0                 0             0                 0                0       1                           0                       0                0                      0                     1                                         0                          0                               0                      1                                0                             0                    0              1               0               0          0                              0                  0                                 0   \n",
       "\n",
       "      ss_night view assist  ss_passenger-side airbag  ss_power steering  ss_rear airbag  ss_side airbag  ss_tire pressure monitoring system  ss_traction control  ss_traffic sign recognition  ss_xenon headlights  consumption_comb gear_type drive_chain body_color  co2_emission  displacement_cc emission_class  register_age fuel_new  nr_doors  nr_seats  hp_kw  \n",
       "9812                     0                         1                  1               0               0                                   0                    1                            0                    0               nan    Manual         NaN       Grey        116.00          1229.00         Euro 6          2.00  Benzine      5.00       nan     51  "
      ]
     },
     "execution_count": 33,
     "metadata": {},
     "output_type": "execute_result"
    }
   ],
   "source": [
    "oto1[oto1['gears'] == 2]"
   ]
  },
  {
   "cell_type": "code",
   "execution_count": 34,
   "metadata": {},
   "outputs": [],
   "source": [
    "oto1.gears.iloc[9812] = 5"
   ]
  },
  {
   "cell_type": "code",
   "execution_count": 35,
   "metadata": {},
   "outputs": [
    {
     "data": {
      "text/html": [
       "<div>\n",
       "<style scoped>\n",
       "    .dataframe tbody tr th:only-of-type {\n",
       "        vertical-align: middle;\n",
       "    }\n",
       "\n",
       "    .dataframe tbody tr th {\n",
       "        vertical-align: top;\n",
       "    }\n",
       "\n",
       "    .dataframe thead th {\n",
       "        text-align: right;\n",
       "    }\n",
       "</style>\n",
       "<table border=\"1\" class=\"dataframe\">\n",
       "  <thead>\n",
       "    <tr style=\"text-align: right;\">\n",
       "      <th></th>\n",
       "      <th>make_model</th>\n",
       "      <th>body_type</th>\n",
       "      <th>price</th>\n",
       "      <th>vat</th>\n",
       "      <th>km</th>\n",
       "      <th>type</th>\n",
       "      <th>upholstery</th>\n",
       "      <th>gears</th>\n",
       "      <th>previous_owner</th>\n",
       "      <th>inspection_new_bool</th>\n",
       "      <th>next_inspection</th>\n",
       "      <th>paint_type</th>\n",
       "      <th>country</th>\n",
       "      <th>emission_label</th>\n",
       "      <th>cc_air conditioning</th>\n",
       "      <th>cc_air suspension</th>\n",
       "      <th>cc_armrest</th>\n",
       "      <th>cc_automatic climate control</th>\n",
       "      <th>cc_auxiliary heating</th>\n",
       "      <th>cc_cruise control</th>\n",
       "      <th>cc_electric starter</th>\n",
       "      <th>cc_electric tailgate</th>\n",
       "      <th>cc_electrical side mirrors</th>\n",
       "      <th>cc_electrically adjustable seats</th>\n",
       "      <th>cc_electrically heated windshield</th>\n",
       "      <th>cc_heads-up display</th>\n",
       "      <th>cc_heated steering wheel</th>\n",
       "      <th>cc_hill holder</th>\n",
       "      <th>cc_keyless central door lock</th>\n",
       "      <th>cc_leather seats</th>\n",
       "      <th>cc_leather steering wheel</th>\n",
       "      <th>cc_light sensor</th>\n",
       "      <th>cc_lumbar support</th>\n",
       "      <th>cc_massage seats</th>\n",
       "      <th>cc_multi-function steering wheel</th>\n",
       "      <th>cc_navigation system</th>\n",
       "      <th>cc_panorama roof</th>\n",
       "      <th>cc_park distance control</th>\n",
       "      <th>cc_parking assist system camera</th>\n",
       "      <th>cc_parking assist system self-steering</th>\n",
       "      <th>cc_parking assist system sensors front</th>\n",
       "      <th>cc_parking assist system sensors rear</th>\n",
       "      <th>cc_power windows</th>\n",
       "      <th>cc_rain sensor</th>\n",
       "      <th>cc_seat heating</th>\n",
       "      <th>cc_seat ventilation</th>\n",
       "      <th>cc_split rear seats</th>\n",
       "      <th>cc_start-stop system</th>\n",
       "      <th>cc_sunroof</th>\n",
       "      <th>cc_tinted windows</th>\n",
       "      <th>cc_wind deflector</th>\n",
       "      <th>cc_windshield</th>\n",
       "      <th>em_bluetooth</th>\n",
       "      <th>em_cd player</th>\n",
       "      <th>em_digital radio</th>\n",
       "      <th>em_hands-free equipment</th>\n",
       "      <th>em_mp3</th>\n",
       "      <th>em_on-board computer</th>\n",
       "      <th>em_radio</th>\n",
       "      <th>em_sound system</th>\n",
       "      <th>em_television</th>\n",
       "      <th>em_usb</th>\n",
       "      <th>ex_alloy wheels</th>\n",
       "      <th>ex_cab or rented car</th>\n",
       "      <th>ex_catalytic converter</th>\n",
       "      <th>ex_handicapped enabled</th>\n",
       "      <th>ex_right hand drive</th>\n",
       "      <th>ex_roof rack</th>\n",
       "      <th>ex_shift paddles</th>\n",
       "      <th>ex_ski bag</th>\n",
       "      <th>ex_sliding door</th>\n",
       "      <th>ex_sport package</th>\n",
       "      <th>ex_sport seats</th>\n",
       "      <th>ex_sport suspension</th>\n",
       "      <th>ex_touch screen</th>\n",
       "      <th>ex_trailer hitch</th>\n",
       "      <th>ex_tuned car</th>\n",
       "      <th>ex_voice control</th>\n",
       "      <th>ex_winter tyres</th>\n",
       "      <th>ss_abs</th>\n",
       "      <th>ss_adaptive cruise control</th>\n",
       "      <th>ss_adaptive headlights</th>\n",
       "      <th>ss_alarm system</th>\n",
       "      <th>ss_blind spot monitor</th>\n",
       "      <th>ss_central door lock</th>\n",
       "      <th>ss_central door lock with remote control</th>\n",
       "      <th>ss_daytime running lights</th>\n",
       "      <th>ss_driver drowsiness detection</th>\n",
       "      <th>ss_driver-side airbag</th>\n",
       "      <th>ss_electronic stability control</th>\n",
       "      <th>ss_emergency brake assistant</th>\n",
       "      <th>ss_emergency system</th>\n",
       "      <th>ss_fog lights</th>\n",
       "      <th>ss_head airbag</th>\n",
       "      <th>ss_immobilizer</th>\n",
       "      <th>ss_isofix</th>\n",
       "      <th>ss_led daytime running lights</th>\n",
       "      <th>ss_led headlights</th>\n",
       "      <th>ss_lane departure warning system</th>\n",
       "      <th>ss_night view assist</th>\n",
       "      <th>ss_passenger-side airbag</th>\n",
       "      <th>ss_power steering</th>\n",
       "      <th>ss_rear airbag</th>\n",
       "      <th>ss_side airbag</th>\n",
       "      <th>ss_tire pressure monitoring system</th>\n",
       "      <th>ss_traction control</th>\n",
       "      <th>ss_traffic sign recognition</th>\n",
       "      <th>ss_xenon headlights</th>\n",
       "      <th>consumption_comb</th>\n",
       "      <th>gear_type</th>\n",
       "      <th>drive_chain</th>\n",
       "      <th>body_color</th>\n",
       "      <th>co2_emission</th>\n",
       "      <th>displacement_cc</th>\n",
       "      <th>emission_class</th>\n",
       "      <th>register_age</th>\n",
       "      <th>fuel_new</th>\n",
       "      <th>nr_doors</th>\n",
       "      <th>nr_seats</th>\n",
       "      <th>hp_kw</th>\n",
       "    </tr>\n",
       "  </thead>\n",
       "  <tbody>\n",
       "    <tr>\n",
       "      <th>15812</th>\n",
       "      <td>Renault Espace</td>\n",
       "      <td>Van</td>\n",
       "      <td>54982</td>\n",
       "      <td>VAT deductible</td>\n",
       "      <td>11.00</td>\n",
       "      <td>New</td>\n",
       "      <td>Part leather</td>\n",
       "      <td>9.00</td>\n",
       "      <td>1</td>\n",
       "      <td>0</td>\n",
       "      <td>NaN</td>\n",
       "      <td>Metallic</td>\n",
       "      <td>Netherlands</td>\n",
       "      <td>NaN</td>\n",
       "      <td>1</td>\n",
       "      <td>0</td>\n",
       "      <td>1</td>\n",
       "      <td>1</td>\n",
       "      <td>0</td>\n",
       "      <td>1</td>\n",
       "      <td>0</td>\n",
       "      <td>1</td>\n",
       "      <td>1</td>\n",
       "      <td>1</td>\n",
       "      <td>1</td>\n",
       "      <td>1</td>\n",
       "      <td>1</td>\n",
       "      <td>1</td>\n",
       "      <td>1</td>\n",
       "      <td>0</td>\n",
       "      <td>1</td>\n",
       "      <td>1</td>\n",
       "      <td>0</td>\n",
       "      <td>0</td>\n",
       "      <td>1</td>\n",
       "      <td>1</td>\n",
       "      <td>0</td>\n",
       "      <td>1</td>\n",
       "      <td>1</td>\n",
       "      <td>1</td>\n",
       "      <td>1</td>\n",
       "      <td>1</td>\n",
       "      <td>1</td>\n",
       "      <td>1</td>\n",
       "      <td>1</td>\n",
       "      <td>1</td>\n",
       "      <td>0</td>\n",
       "      <td>0</td>\n",
       "      <td>0</td>\n",
       "      <td>0</td>\n",
       "      <td>0</td>\n",
       "      <td>0</td>\n",
       "      <td>0</td>\n",
       "      <td>0</td>\n",
       "      <td>1</td>\n",
       "      <td>0</td>\n",
       "      <td>0</td>\n",
       "      <td>0</td>\n",
       "      <td>1</td>\n",
       "      <td>0</td>\n",
       "      <td>0</td>\n",
       "      <td>0</td>\n",
       "      <td>1</td>\n",
       "      <td>0</td>\n",
       "      <td>0</td>\n",
       "      <td>0</td>\n",
       "      <td>0</td>\n",
       "      <td>0</td>\n",
       "      <td>0</td>\n",
       "      <td>0</td>\n",
       "      <td>0</td>\n",
       "      <td>0</td>\n",
       "      <td>0</td>\n",
       "      <td>0</td>\n",
       "      <td>0</td>\n",
       "      <td>0</td>\n",
       "      <td>0</td>\n",
       "      <td>1</td>\n",
       "      <td>0</td>\n",
       "      <td>1</td>\n",
       "      <td>0</td>\n",
       "      <td>0</td>\n",
       "      <td>0</td>\n",
       "      <td>0</td>\n",
       "      <td>0</td>\n",
       "      <td>0</td>\n",
       "      <td>1</td>\n",
       "      <td>0</td>\n",
       "      <td>1</td>\n",
       "      <td>1</td>\n",
       "      <td>0</td>\n",
       "      <td>0</td>\n",
       "      <td>0</td>\n",
       "      <td>0</td>\n",
       "      <td>1</td>\n",
       "      <td>0</td>\n",
       "      <td>1</td>\n",
       "      <td>1</td>\n",
       "      <td>1</td>\n",
       "      <td>0</td>\n",
       "      <td>1</td>\n",
       "      <td>0</td>\n",
       "      <td>0</td>\n",
       "      <td>1</td>\n",
       "      <td>1</td>\n",
       "      <td>1</td>\n",
       "      <td>1</td>\n",
       "      <td>0</td>\n",
       "      <td>7.60</td>\n",
       "      <td>Automatic</td>\n",
       "      <td>NaN</td>\n",
       "      <td>White</td>\n",
       "      <td>116.00</td>\n",
       "      <td>1798.00</td>\n",
       "      <td>NaN</td>\n",
       "      <td>1.00</td>\n",
       "      <td>Benzine</td>\n",
       "      <td>5.00</td>\n",
       "      <td>nan</td>\n",
       "      <td>165</td>\n",
       "    </tr>\n",
       "    <tr>\n",
       "      <th>15814</th>\n",
       "      <td>Renault Espace</td>\n",
       "      <td>Van</td>\n",
       "      <td>54982</td>\n",
       "      <td>VAT deductible</td>\n",
       "      <td>11.00</td>\n",
       "      <td>New</td>\n",
       "      <td>Part leather</td>\n",
       "      <td>9.00</td>\n",
       "      <td>1</td>\n",
       "      <td>0</td>\n",
       "      <td>NaN</td>\n",
       "      <td>Metallic</td>\n",
       "      <td>Netherlands</td>\n",
       "      <td>NaN</td>\n",
       "      <td>1</td>\n",
       "      <td>0</td>\n",
       "      <td>1</td>\n",
       "      <td>1</td>\n",
       "      <td>0</td>\n",
       "      <td>1</td>\n",
       "      <td>0</td>\n",
       "      <td>1</td>\n",
       "      <td>1</td>\n",
       "      <td>1</td>\n",
       "      <td>1</td>\n",
       "      <td>1</td>\n",
       "      <td>1</td>\n",
       "      <td>1</td>\n",
       "      <td>1</td>\n",
       "      <td>0</td>\n",
       "      <td>1</td>\n",
       "      <td>1</td>\n",
       "      <td>0</td>\n",
       "      <td>0</td>\n",
       "      <td>1</td>\n",
       "      <td>1</td>\n",
       "      <td>0</td>\n",
       "      <td>1</td>\n",
       "      <td>1</td>\n",
       "      <td>1</td>\n",
       "      <td>1</td>\n",
       "      <td>1</td>\n",
       "      <td>1</td>\n",
       "      <td>1</td>\n",
       "      <td>1</td>\n",
       "      <td>1</td>\n",
       "      <td>0</td>\n",
       "      <td>0</td>\n",
       "      <td>0</td>\n",
       "      <td>0</td>\n",
       "      <td>0</td>\n",
       "      <td>0</td>\n",
       "      <td>0</td>\n",
       "      <td>0</td>\n",
       "      <td>1</td>\n",
       "      <td>0</td>\n",
       "      <td>0</td>\n",
       "      <td>0</td>\n",
       "      <td>1</td>\n",
       "      <td>0</td>\n",
       "      <td>0</td>\n",
       "      <td>0</td>\n",
       "      <td>1</td>\n",
       "      <td>0</td>\n",
       "      <td>0</td>\n",
       "      <td>0</td>\n",
       "      <td>0</td>\n",
       "      <td>0</td>\n",
       "      <td>0</td>\n",
       "      <td>0</td>\n",
       "      <td>0</td>\n",
       "      <td>0</td>\n",
       "      <td>0</td>\n",
       "      <td>0</td>\n",
       "      <td>0</td>\n",
       "      <td>0</td>\n",
       "      <td>0</td>\n",
       "      <td>1</td>\n",
       "      <td>0</td>\n",
       "      <td>1</td>\n",
       "      <td>0</td>\n",
       "      <td>0</td>\n",
       "      <td>0</td>\n",
       "      <td>0</td>\n",
       "      <td>0</td>\n",
       "      <td>0</td>\n",
       "      <td>1</td>\n",
       "      <td>0</td>\n",
       "      <td>1</td>\n",
       "      <td>1</td>\n",
       "      <td>0</td>\n",
       "      <td>0</td>\n",
       "      <td>0</td>\n",
       "      <td>0</td>\n",
       "      <td>1</td>\n",
       "      <td>0</td>\n",
       "      <td>1</td>\n",
       "      <td>1</td>\n",
       "      <td>1</td>\n",
       "      <td>0</td>\n",
       "      <td>1</td>\n",
       "      <td>0</td>\n",
       "      <td>0</td>\n",
       "      <td>1</td>\n",
       "      <td>1</td>\n",
       "      <td>1</td>\n",
       "      <td>1</td>\n",
       "      <td>0</td>\n",
       "      <td>7.60</td>\n",
       "      <td>Automatic</td>\n",
       "      <td>NaN</td>\n",
       "      <td>White</td>\n",
       "      <td>116.00</td>\n",
       "      <td>1798.00</td>\n",
       "      <td>NaN</td>\n",
       "      <td>1.00</td>\n",
       "      <td>Benzine</td>\n",
       "      <td>5.00</td>\n",
       "      <td>nan</td>\n",
       "      <td>165</td>\n",
       "    </tr>\n",
       "    <tr>\n",
       "      <th>15824</th>\n",
       "      <td>Renault Espace</td>\n",
       "      <td>Van</td>\n",
       "      <td>52711</td>\n",
       "      <td>VAT deductible</td>\n",
       "      <td>11.00</td>\n",
       "      <td>New</td>\n",
       "      <td>Part leather</td>\n",
       "      <td>9.00</td>\n",
       "      <td>1</td>\n",
       "      <td>0</td>\n",
       "      <td>NaN</td>\n",
       "      <td>Metallic</td>\n",
       "      <td>Netherlands</td>\n",
       "      <td>NaN</td>\n",
       "      <td>1</td>\n",
       "      <td>0</td>\n",
       "      <td>1</td>\n",
       "      <td>1</td>\n",
       "      <td>0</td>\n",
       "      <td>1</td>\n",
       "      <td>0</td>\n",
       "      <td>1</td>\n",
       "      <td>1</td>\n",
       "      <td>1</td>\n",
       "      <td>1</td>\n",
       "      <td>1</td>\n",
       "      <td>1</td>\n",
       "      <td>1</td>\n",
       "      <td>1</td>\n",
       "      <td>0</td>\n",
       "      <td>1</td>\n",
       "      <td>1</td>\n",
       "      <td>0</td>\n",
       "      <td>0</td>\n",
       "      <td>1</td>\n",
       "      <td>1</td>\n",
       "      <td>0</td>\n",
       "      <td>1</td>\n",
       "      <td>1</td>\n",
       "      <td>1</td>\n",
       "      <td>1</td>\n",
       "      <td>1</td>\n",
       "      <td>1</td>\n",
       "      <td>1</td>\n",
       "      <td>1</td>\n",
       "      <td>1</td>\n",
       "      <td>0</td>\n",
       "      <td>0</td>\n",
       "      <td>0</td>\n",
       "      <td>0</td>\n",
       "      <td>0</td>\n",
       "      <td>0</td>\n",
       "      <td>0</td>\n",
       "      <td>0</td>\n",
       "      <td>1</td>\n",
       "      <td>0</td>\n",
       "      <td>0</td>\n",
       "      <td>0</td>\n",
       "      <td>1</td>\n",
       "      <td>0</td>\n",
       "      <td>0</td>\n",
       "      <td>0</td>\n",
       "      <td>1</td>\n",
       "      <td>0</td>\n",
       "      <td>0</td>\n",
       "      <td>0</td>\n",
       "      <td>0</td>\n",
       "      <td>0</td>\n",
       "      <td>0</td>\n",
       "      <td>0</td>\n",
       "      <td>0</td>\n",
       "      <td>0</td>\n",
       "      <td>0</td>\n",
       "      <td>0</td>\n",
       "      <td>0</td>\n",
       "      <td>0</td>\n",
       "      <td>0</td>\n",
       "      <td>1</td>\n",
       "      <td>0</td>\n",
       "      <td>1</td>\n",
       "      <td>0</td>\n",
       "      <td>0</td>\n",
       "      <td>0</td>\n",
       "      <td>0</td>\n",
       "      <td>0</td>\n",
       "      <td>0</td>\n",
       "      <td>1</td>\n",
       "      <td>0</td>\n",
       "      <td>1</td>\n",
       "      <td>1</td>\n",
       "      <td>0</td>\n",
       "      <td>0</td>\n",
       "      <td>0</td>\n",
       "      <td>0</td>\n",
       "      <td>1</td>\n",
       "      <td>0</td>\n",
       "      <td>1</td>\n",
       "      <td>1</td>\n",
       "      <td>1</td>\n",
       "      <td>0</td>\n",
       "      <td>1</td>\n",
       "      <td>0</td>\n",
       "      <td>0</td>\n",
       "      <td>1</td>\n",
       "      <td>1</td>\n",
       "      <td>1</td>\n",
       "      <td>1</td>\n",
       "      <td>0</td>\n",
       "      <td>7.40</td>\n",
       "      <td>Automatic</td>\n",
       "      <td>NaN</td>\n",
       "      <td>Grey</td>\n",
       "      <td>116.00</td>\n",
       "      <td>1798.00</td>\n",
       "      <td>NaN</td>\n",
       "      <td>1.00</td>\n",
       "      <td>Benzine</td>\n",
       "      <td>5.00</td>\n",
       "      <td>nan</td>\n",
       "      <td>165</td>\n",
       "    </tr>\n",
       "    <tr>\n",
       "      <th>15827</th>\n",
       "      <td>Renault Espace</td>\n",
       "      <td>Van</td>\n",
       "      <td>52711</td>\n",
       "      <td>VAT deductible</td>\n",
       "      <td>11.00</td>\n",
       "      <td>New</td>\n",
       "      <td>Part leather</td>\n",
       "      <td>9.00</td>\n",
       "      <td>1</td>\n",
       "      <td>0</td>\n",
       "      <td>NaN</td>\n",
       "      <td>Metallic</td>\n",
       "      <td>Netherlands</td>\n",
       "      <td>NaN</td>\n",
       "      <td>1</td>\n",
       "      <td>0</td>\n",
       "      <td>1</td>\n",
       "      <td>1</td>\n",
       "      <td>0</td>\n",
       "      <td>1</td>\n",
       "      <td>0</td>\n",
       "      <td>1</td>\n",
       "      <td>1</td>\n",
       "      <td>1</td>\n",
       "      <td>1</td>\n",
       "      <td>1</td>\n",
       "      <td>1</td>\n",
       "      <td>1</td>\n",
       "      <td>1</td>\n",
       "      <td>0</td>\n",
       "      <td>1</td>\n",
       "      <td>1</td>\n",
       "      <td>0</td>\n",
       "      <td>0</td>\n",
       "      <td>1</td>\n",
       "      <td>1</td>\n",
       "      <td>0</td>\n",
       "      <td>1</td>\n",
       "      <td>1</td>\n",
       "      <td>1</td>\n",
       "      <td>1</td>\n",
       "      <td>1</td>\n",
       "      <td>1</td>\n",
       "      <td>1</td>\n",
       "      <td>1</td>\n",
       "      <td>1</td>\n",
       "      <td>0</td>\n",
       "      <td>0</td>\n",
       "      <td>0</td>\n",
       "      <td>0</td>\n",
       "      <td>0</td>\n",
       "      <td>0</td>\n",
       "      <td>0</td>\n",
       "      <td>0</td>\n",
       "      <td>1</td>\n",
       "      <td>0</td>\n",
       "      <td>0</td>\n",
       "      <td>0</td>\n",
       "      <td>1</td>\n",
       "      <td>0</td>\n",
       "      <td>0</td>\n",
       "      <td>0</td>\n",
       "      <td>1</td>\n",
       "      <td>0</td>\n",
       "      <td>0</td>\n",
       "      <td>0</td>\n",
       "      <td>0</td>\n",
       "      <td>0</td>\n",
       "      <td>0</td>\n",
       "      <td>0</td>\n",
       "      <td>0</td>\n",
       "      <td>0</td>\n",
       "      <td>0</td>\n",
       "      <td>0</td>\n",
       "      <td>0</td>\n",
       "      <td>0</td>\n",
       "      <td>0</td>\n",
       "      <td>1</td>\n",
       "      <td>0</td>\n",
       "      <td>1</td>\n",
       "      <td>0</td>\n",
       "      <td>0</td>\n",
       "      <td>0</td>\n",
       "      <td>0</td>\n",
       "      <td>0</td>\n",
       "      <td>0</td>\n",
       "      <td>1</td>\n",
       "      <td>0</td>\n",
       "      <td>1</td>\n",
       "      <td>1</td>\n",
       "      <td>0</td>\n",
       "      <td>0</td>\n",
       "      <td>0</td>\n",
       "      <td>0</td>\n",
       "      <td>1</td>\n",
       "      <td>0</td>\n",
       "      <td>1</td>\n",
       "      <td>1</td>\n",
       "      <td>1</td>\n",
       "      <td>0</td>\n",
       "      <td>1</td>\n",
       "      <td>0</td>\n",
       "      <td>0</td>\n",
       "      <td>1</td>\n",
       "      <td>1</td>\n",
       "      <td>1</td>\n",
       "      <td>1</td>\n",
       "      <td>0</td>\n",
       "      <td>7.40</td>\n",
       "      <td>Automatic</td>\n",
       "      <td>NaN</td>\n",
       "      <td>Grey</td>\n",
       "      <td>116.00</td>\n",
       "      <td>1798.00</td>\n",
       "      <td>NaN</td>\n",
       "      <td>1.00</td>\n",
       "      <td>Benzine</td>\n",
       "      <td>5.00</td>\n",
       "      <td>nan</td>\n",
       "      <td>165</td>\n",
       "    </tr>\n",
       "    <tr>\n",
       "      <th>15869</th>\n",
       "      <td>Renault Espace</td>\n",
       "      <td>Van</td>\n",
       "      <td>49100</td>\n",
       "      <td>VAT deductible</td>\n",
       "      <td>11.00</td>\n",
       "      <td>New</td>\n",
       "      <td>Part leather</td>\n",
       "      <td>9.00</td>\n",
       "      <td>1</td>\n",
       "      <td>0</td>\n",
       "      <td>NaN</td>\n",
       "      <td>NaN</td>\n",
       "      <td>Netherlands</td>\n",
       "      <td>NaN</td>\n",
       "      <td>1</td>\n",
       "      <td>0</td>\n",
       "      <td>1</td>\n",
       "      <td>1</td>\n",
       "      <td>0</td>\n",
       "      <td>1</td>\n",
       "      <td>0</td>\n",
       "      <td>0</td>\n",
       "      <td>1</td>\n",
       "      <td>0</td>\n",
       "      <td>0</td>\n",
       "      <td>0</td>\n",
       "      <td>0</td>\n",
       "      <td>1</td>\n",
       "      <td>1</td>\n",
       "      <td>0</td>\n",
       "      <td>1</td>\n",
       "      <td>1</td>\n",
       "      <td>0</td>\n",
       "      <td>0</td>\n",
       "      <td>1</td>\n",
       "      <td>1</td>\n",
       "      <td>0</td>\n",
       "      <td>1</td>\n",
       "      <td>0</td>\n",
       "      <td>0</td>\n",
       "      <td>1</td>\n",
       "      <td>1</td>\n",
       "      <td>1</td>\n",
       "      <td>1</td>\n",
       "      <td>0</td>\n",
       "      <td>0</td>\n",
       "      <td>0</td>\n",
       "      <td>0</td>\n",
       "      <td>0</td>\n",
       "      <td>0</td>\n",
       "      <td>0</td>\n",
       "      <td>0</td>\n",
       "      <td>0</td>\n",
       "      <td>0</td>\n",
       "      <td>1</td>\n",
       "      <td>0</td>\n",
       "      <td>0</td>\n",
       "      <td>0</td>\n",
       "      <td>1</td>\n",
       "      <td>0</td>\n",
       "      <td>0</td>\n",
       "      <td>0</td>\n",
       "      <td>1</td>\n",
       "      <td>0</td>\n",
       "      <td>0</td>\n",
       "      <td>0</td>\n",
       "      <td>0</td>\n",
       "      <td>0</td>\n",
       "      <td>0</td>\n",
       "      <td>0</td>\n",
       "      <td>0</td>\n",
       "      <td>0</td>\n",
       "      <td>0</td>\n",
       "      <td>0</td>\n",
       "      <td>0</td>\n",
       "      <td>0</td>\n",
       "      <td>0</td>\n",
       "      <td>1</td>\n",
       "      <td>0</td>\n",
       "      <td>1</td>\n",
       "      <td>0</td>\n",
       "      <td>0</td>\n",
       "      <td>0</td>\n",
       "      <td>0</td>\n",
       "      <td>0</td>\n",
       "      <td>0</td>\n",
       "      <td>1</td>\n",
       "      <td>0</td>\n",
       "      <td>1</td>\n",
       "      <td>1</td>\n",
       "      <td>0</td>\n",
       "      <td>0</td>\n",
       "      <td>0</td>\n",
       "      <td>0</td>\n",
       "      <td>1</td>\n",
       "      <td>0</td>\n",
       "      <td>1</td>\n",
       "      <td>1</td>\n",
       "      <td>1</td>\n",
       "      <td>0</td>\n",
       "      <td>1</td>\n",
       "      <td>0</td>\n",
       "      <td>0</td>\n",
       "      <td>1</td>\n",
       "      <td>1</td>\n",
       "      <td>1</td>\n",
       "      <td>1</td>\n",
       "      <td>0</td>\n",
       "      <td>5.30</td>\n",
       "      <td>Automatic</td>\n",
       "      <td>NaN</td>\n",
       "      <td>White</td>\n",
       "      <td>116.00</td>\n",
       "      <td>1997.00</td>\n",
       "      <td>NaN</td>\n",
       "      <td>1.00</td>\n",
       "      <td>Diesel</td>\n",
       "      <td>5.00</td>\n",
       "      <td>nan</td>\n",
       "      <td>146</td>\n",
       "    </tr>\n",
       "    <tr>\n",
       "      <th>15876</th>\n",
       "      <td>Renault Espace</td>\n",
       "      <td>Van</td>\n",
       "      <td>48765</td>\n",
       "      <td>VAT deductible</td>\n",
       "      <td>11.00</td>\n",
       "      <td>New</td>\n",
       "      <td>Part leather</td>\n",
       "      <td>9.00</td>\n",
       "      <td>1</td>\n",
       "      <td>0</td>\n",
       "      <td>NaN</td>\n",
       "      <td>NaN</td>\n",
       "      <td>Netherlands</td>\n",
       "      <td>NaN</td>\n",
       "      <td>1</td>\n",
       "      <td>0</td>\n",
       "      <td>1</td>\n",
       "      <td>1</td>\n",
       "      <td>0</td>\n",
       "      <td>1</td>\n",
       "      <td>0</td>\n",
       "      <td>0</td>\n",
       "      <td>1</td>\n",
       "      <td>0</td>\n",
       "      <td>0</td>\n",
       "      <td>0</td>\n",
       "      <td>0</td>\n",
       "      <td>1</td>\n",
       "      <td>1</td>\n",
       "      <td>0</td>\n",
       "      <td>1</td>\n",
       "      <td>1</td>\n",
       "      <td>0</td>\n",
       "      <td>0</td>\n",
       "      <td>1</td>\n",
       "      <td>1</td>\n",
       "      <td>0</td>\n",
       "      <td>1</td>\n",
       "      <td>0</td>\n",
       "      <td>0</td>\n",
       "      <td>1</td>\n",
       "      <td>1</td>\n",
       "      <td>1</td>\n",
       "      <td>1</td>\n",
       "      <td>0</td>\n",
       "      <td>0</td>\n",
       "      <td>0</td>\n",
       "      <td>0</td>\n",
       "      <td>0</td>\n",
       "      <td>0</td>\n",
       "      <td>0</td>\n",
       "      <td>0</td>\n",
       "      <td>0</td>\n",
       "      <td>0</td>\n",
       "      <td>1</td>\n",
       "      <td>0</td>\n",
       "      <td>0</td>\n",
       "      <td>0</td>\n",
       "      <td>1</td>\n",
       "      <td>0</td>\n",
       "      <td>0</td>\n",
       "      <td>0</td>\n",
       "      <td>1</td>\n",
       "      <td>0</td>\n",
       "      <td>0</td>\n",
       "      <td>0</td>\n",
       "      <td>0</td>\n",
       "      <td>0</td>\n",
       "      <td>0</td>\n",
       "      <td>0</td>\n",
       "      <td>0</td>\n",
       "      <td>0</td>\n",
       "      <td>0</td>\n",
       "      <td>0</td>\n",
       "      <td>0</td>\n",
       "      <td>0</td>\n",
       "      <td>0</td>\n",
       "      <td>1</td>\n",
       "      <td>0</td>\n",
       "      <td>1</td>\n",
       "      <td>0</td>\n",
       "      <td>0</td>\n",
       "      <td>0</td>\n",
       "      <td>0</td>\n",
       "      <td>0</td>\n",
       "      <td>0</td>\n",
       "      <td>1</td>\n",
       "      <td>0</td>\n",
       "      <td>1</td>\n",
       "      <td>1</td>\n",
       "      <td>0</td>\n",
       "      <td>0</td>\n",
       "      <td>0</td>\n",
       "      <td>0</td>\n",
       "      <td>1</td>\n",
       "      <td>0</td>\n",
       "      <td>1</td>\n",
       "      <td>1</td>\n",
       "      <td>1</td>\n",
       "      <td>0</td>\n",
       "      <td>1</td>\n",
       "      <td>0</td>\n",
       "      <td>0</td>\n",
       "      <td>1</td>\n",
       "      <td>1</td>\n",
       "      <td>1</td>\n",
       "      <td>1</td>\n",
       "      <td>0</td>\n",
       "      <td>7.40</td>\n",
       "      <td>Automatic</td>\n",
       "      <td>NaN</td>\n",
       "      <td>White</td>\n",
       "      <td>116.00</td>\n",
       "      <td>1798.00</td>\n",
       "      <td>NaN</td>\n",
       "      <td>1.00</td>\n",
       "      <td>Benzine</td>\n",
       "      <td>5.00</td>\n",
       "      <td>nan</td>\n",
       "      <td>165</td>\n",
       "    </tr>\n",
       "  </tbody>\n",
       "</table>\n",
       "</div>"
      ],
      "text/plain": [
       "           make_model body_type  price             vat    km type    upholstery  gears  previous_owner  inspection_new_bool next_inspection paint_type      country emission_label  cc_air conditioning  cc_air suspension  cc_armrest  cc_automatic climate control  cc_auxiliary heating  cc_cruise control  cc_electric starter  cc_electric tailgate  cc_electrical side mirrors  cc_electrically adjustable seats  cc_electrically heated windshield  cc_heads-up display  cc_heated steering wheel  cc_hill holder  cc_keyless central door lock  cc_leather seats  cc_leather steering wheel  cc_light sensor  cc_lumbar support  cc_massage seats  cc_multi-function steering wheel  cc_navigation system  cc_panorama roof  cc_park distance control  cc_parking assist system camera  cc_parking assist system self-steering  cc_parking assist system sensors front  cc_parking assist system sensors rear  cc_power windows  cc_rain sensor  cc_seat heating  cc_seat ventilation  cc_split rear seats  cc_start-stop system  cc_sunroof  cc_tinted windows  cc_wind deflector  cc_windshield  em_bluetooth  em_cd player  em_digital radio  em_hands-free equipment  em_mp3  em_on-board computer  em_radio  em_sound system  em_television  em_usb  ex_alloy wheels  ex_cab or rented car  ex_catalytic converter  ex_handicapped enabled  ex_right hand drive  ex_roof rack  ex_shift paddles  ex_ski bag  ex_sliding door  ex_sport package  ex_sport seats  ex_sport suspension  ex_touch screen  ex_trailer hitch  ex_tuned car  ex_voice control  ex_winter tyres  ss_abs  ss_adaptive cruise control  ss_adaptive headlights  ss_alarm system  ss_blind spot monitor  ss_central door lock  ss_central door lock with remote control  ss_daytime running lights  ss_driver drowsiness detection  ss_driver-side airbag  ss_electronic stability control  ss_emergency brake assistant  ss_emergency system  ss_fog lights  ss_head airbag  ss_immobilizer  ss_isofix  ss_led daytime running lights  ss_led headlights  ss_lane departure warning system  \\\n",
       "15812  Renault Espace       Van  54982  VAT deductible 11.00  New  Part leather   9.00               1                    0             NaN   Metallic  Netherlands            NaN                    1                  0           1                             1                     0                  1                    0                     1                           1                                 1                                  1                    1                         1               1                             1                 0                          1                1                  0                 0                                 1                     1                 0                         1                                1                                       1                                       1                                      1                 1               1                1                    1                    0                     0           0                  0                  0              0             0             0                 1                        0       0                     0         1                0              0       0                1                     0                       0                       0                    0             0                 0           0                0                 0               0                    0                0                 0             0                 1                0       1                           0                       0                0                      0                     0                                         0                          1                               0                      1                                1                             0                    0              0               0               1          0                              1                  1                                 1   \n",
       "15814  Renault Espace       Van  54982  VAT deductible 11.00  New  Part leather   9.00               1                    0             NaN   Metallic  Netherlands            NaN                    1                  0           1                             1                     0                  1                    0                     1                           1                                 1                                  1                    1                         1               1                             1                 0                          1                1                  0                 0                                 1                     1                 0                         1                                1                                       1                                       1                                      1                 1               1                1                    1                    0                     0           0                  0                  0              0             0             0                 1                        0       0                     0         1                0              0       0                1                     0                       0                       0                    0             0                 0           0                0                 0               0                    0                0                 0             0                 1                0       1                           0                       0                0                      0                     0                                         0                          1                               0                      1                                1                             0                    0              0               0               1          0                              1                  1                                 1   \n",
       "15824  Renault Espace       Van  52711  VAT deductible 11.00  New  Part leather   9.00               1                    0             NaN   Metallic  Netherlands            NaN                    1                  0           1                             1                     0                  1                    0                     1                           1                                 1                                  1                    1                         1               1                             1                 0                          1                1                  0                 0                                 1                     1                 0                         1                                1                                       1                                       1                                      1                 1               1                1                    1                    0                     0           0                  0                  0              0             0             0                 1                        0       0                     0         1                0              0       0                1                     0                       0                       0                    0             0                 0           0                0                 0               0                    0                0                 0             0                 1                0       1                           0                       0                0                      0                     0                                         0                          1                               0                      1                                1                             0                    0              0               0               1          0                              1                  1                                 1   \n",
       "15827  Renault Espace       Van  52711  VAT deductible 11.00  New  Part leather   9.00               1                    0             NaN   Metallic  Netherlands            NaN                    1                  0           1                             1                     0                  1                    0                     1                           1                                 1                                  1                    1                         1               1                             1                 0                          1                1                  0                 0                                 1                     1                 0                         1                                1                                       1                                       1                                      1                 1               1                1                    1                    0                     0           0                  0                  0              0             0             0                 1                        0       0                     0         1                0              0       0                1                     0                       0                       0                    0             0                 0           0                0                 0               0                    0                0                 0             0                 1                0       1                           0                       0                0                      0                     0                                         0                          1                               0                      1                                1                             0                    0              0               0               1          0                              1                  1                                 1   \n",
       "15869  Renault Espace       Van  49100  VAT deductible 11.00  New  Part leather   9.00               1                    0             NaN        NaN  Netherlands            NaN                    1                  0           1                             1                     0                  1                    0                     0                           1                                 0                                  0                    0                         0               1                             1                 0                          1                1                  0                 0                                 1                     1                 0                         1                                0                                       0                                       1                                      1                 1               1                0                    0                    0                     0           0                  0                  0              0             0             0                 1                        0       0                     0         1                0              0       0                1                     0                       0                       0                    0             0                 0           0                0                 0               0                    0                0                 0             0                 1                0       1                           0                       0                0                      0                     0                                         0                          1                               0                      1                                1                             0                    0              0               0               1          0                              1                  1                                 1   \n",
       "15876  Renault Espace       Van  48765  VAT deductible 11.00  New  Part leather   9.00               1                    0             NaN        NaN  Netherlands            NaN                    1                  0           1                             1                     0                  1                    0                     0                           1                                 0                                  0                    0                         0               1                             1                 0                          1                1                  0                 0                                 1                     1                 0                         1                                0                                       0                                       1                                      1                 1               1                0                    0                    0                     0           0                  0                  0              0             0             0                 1                        0       0                     0         1                0              0       0                1                     0                       0                       0                    0             0                 0           0                0                 0               0                    0                0                 0             0                 1                0       1                           0                       0                0                      0                     0                                         0                          1                               0                      1                                1                             0                    0              0               0               1          0                              1                  1                                 1   \n",
       "\n",
       "       ss_night view assist  ss_passenger-side airbag  ss_power steering  ss_rear airbag  ss_side airbag  ss_tire pressure monitoring system  ss_traction control  ss_traffic sign recognition  ss_xenon headlights  consumption_comb  gear_type drive_chain body_color  co2_emission  displacement_cc emission_class  register_age fuel_new  nr_doors  nr_seats  hp_kw  \n",
       "15812                     0                         1                  0               0               1                                   1                    1                            1                    0              7.60  Automatic         NaN      White        116.00          1798.00            NaN          1.00  Benzine      5.00       nan    165  \n",
       "15814                     0                         1                  0               0               1                                   1                    1                            1                    0              7.60  Automatic         NaN      White        116.00          1798.00            NaN          1.00  Benzine      5.00       nan    165  \n",
       "15824                     0                         1                  0               0               1                                   1                    1                            1                    0              7.40  Automatic         NaN       Grey        116.00          1798.00            NaN          1.00  Benzine      5.00       nan    165  \n",
       "15827                     0                         1                  0               0               1                                   1                    1                            1                    0              7.40  Automatic         NaN       Grey        116.00          1798.00            NaN          1.00  Benzine      5.00       nan    165  \n",
       "15869                     0                         1                  0               0               1                                   1                    1                            1                    0              5.30  Automatic         NaN      White        116.00          1997.00            NaN          1.00   Diesel      5.00       nan    146  \n",
       "15876                     0                         1                  0               0               1                                   1                    1                            1                    0              7.40  Automatic         NaN      White        116.00          1798.00            NaN          1.00  Benzine      5.00       nan    165  "
      ]
     },
     "execution_count": 35,
     "metadata": {},
     "output_type": "execute_result"
    }
   ],
   "source": [
    "oto1[oto1['gears'] == 9]"
   ]
  },
  {
   "cell_type": "code",
   "execution_count": 36,
   "metadata": {},
   "outputs": [],
   "source": [
    "indx_list = list(oto1[oto1[\"gears\"] == 9].index)"
   ]
  },
  {
   "cell_type": "code",
   "execution_count": 37,
   "metadata": {},
   "outputs": [
    {
     "data": {
      "text/plain": [
       "[15812, 15814, 15824, 15827, 15869, 15876]"
      ]
     },
     "execution_count": 37,
     "metadata": {},
     "output_type": "execute_result"
    }
   ],
   "source": [
    "indx_list"
   ]
  },
  {
   "cell_type": "code",
   "execution_count": 38,
   "metadata": {},
   "outputs": [],
   "source": [
    "for indx in indx_list:\n",
    "    oto1.gears.iloc[indx] = 7"
   ]
  },
  {
   "cell_type": "code",
   "execution_count": 39,
   "metadata": {},
   "outputs": [
    {
     "data": {
      "text/plain": [
       "<matplotlib.axes._subplots.AxesSubplot at 0x17e3581d130>"
      ]
     },
     "execution_count": 39,
     "metadata": {},
     "output_type": "execute_result"
    },
    {
     "data": {
      "image/png": "[encoded data removed]",
      "text/plain": [
       "<Figure size 432x288 with 1 Axes>"
      ]
     },
     "metadata": {},
     "output_type": "display_data"
    }
   ],
   "source": [
    "oto1.gears.value_counts(dropna = False).plot(kind = \"bar\")"
   ]
  },
  {
   "cell_type": "markdown",
   "metadata": {},
   "source": [
    "- It contains numerical values, we can either consider it as categorical or continuous. When we implement ``get_dummies()``, we'll see the result."
   ]
  },
  {
   "cell_type": "markdown",
   "metadata": {},
   "source": [
    "***"
   ]
  },
  {
   "cell_type": "markdown",
   "metadata": {},
   "source": [
    "### ``\"type\"``"
   ]
  },
  {
   "cell_type": "code",
   "execution_count": 40,
   "metadata": {},
   "outputs": [
    {
     "data": {
      "text/plain": [
       "Used              11096\n",
       "New                1650\n",
       "Pre-registered     1364\n",
       "Employee's car     1011\n",
       "Demonstration       796\n",
       "NaN                   2\n",
       "Name: type, dtype: int64"
      ]
     },
     "execution_count": 40,
     "metadata": {},
     "output_type": "execute_result"
    }
   ],
   "source": [
    "oto1.type.value_counts(dropna = False)"
   ]
  },
  {
   "cell_type": "code",
   "execution_count": 41,
   "metadata": {},
   "outputs": [
    {
     "data": {
      "text/html": [
       "<div>\n",
       "<style scoped>\n",
       "    .dataframe tbody tr th:only-of-type {\n",
       "        vertical-align: middle;\n",
       "    }\n",
       "\n",
       "    .dataframe tbody tr th {\n",
       "        vertical-align: top;\n",
       "    }\n",
       "\n",
       "    .dataframe thead th {\n",
       "        text-align: right;\n",
       "    }\n",
       "</style>\n",
       "<table border=\"1\" class=\"dataframe\">\n",
       "  <thead>\n",
       "    <tr style=\"text-align: right;\">\n",
       "      <th></th>\n",
       "      <th>make_model</th>\n",
       "      <th>body_type</th>\n",
       "      <th>price</th>\n",
       "      <th>vat</th>\n",
       "      <th>km</th>\n",
       "      <th>type</th>\n",
       "      <th>upholstery</th>\n",
       "      <th>gears</th>\n",
       "      <th>previous_owner</th>\n",
       "      <th>inspection_new_bool</th>\n",
       "      <th>next_inspection</th>\n",
       "      <th>paint_type</th>\n",
       "      <th>country</th>\n",
       "      <th>emission_label</th>\n",
       "      <th>cc_air conditioning</th>\n",
       "      <th>cc_air suspension</th>\n",
       "      <th>cc_armrest</th>\n",
       "      <th>cc_automatic climate control</th>\n",
       "      <th>cc_auxiliary heating</th>\n",
       "      <th>cc_cruise control</th>\n",
       "      <th>cc_electric starter</th>\n",
       "      <th>cc_electric tailgate</th>\n",
       "      <th>cc_electrical side mirrors</th>\n",
       "      <th>cc_electrically adjustable seats</th>\n",
       "      <th>cc_electrically heated windshield</th>\n",
       "      <th>cc_heads-up display</th>\n",
       "      <th>cc_heated steering wheel</th>\n",
       "      <th>cc_hill holder</th>\n",
       "      <th>cc_keyless central door lock</th>\n",
       "      <th>cc_leather seats</th>\n",
       "      <th>cc_leather steering wheel</th>\n",
       "      <th>cc_light sensor</th>\n",
       "      <th>cc_lumbar support</th>\n",
       "      <th>cc_massage seats</th>\n",
       "      <th>cc_multi-function steering wheel</th>\n",
       "      <th>cc_navigation system</th>\n",
       "      <th>cc_panorama roof</th>\n",
       "      <th>cc_park distance control</th>\n",
       "      <th>cc_parking assist system camera</th>\n",
       "      <th>cc_parking assist system self-steering</th>\n",
       "      <th>cc_parking assist system sensors front</th>\n",
       "      <th>cc_parking assist system sensors rear</th>\n",
       "      <th>cc_power windows</th>\n",
       "      <th>cc_rain sensor</th>\n",
       "      <th>cc_seat heating</th>\n",
       "      <th>cc_seat ventilation</th>\n",
       "      <th>cc_split rear seats</th>\n",
       "      <th>cc_start-stop system</th>\n",
       "      <th>cc_sunroof</th>\n",
       "      <th>cc_tinted windows</th>\n",
       "      <th>cc_wind deflector</th>\n",
       "      <th>cc_windshield</th>\n",
       "      <th>em_bluetooth</th>\n",
       "      <th>em_cd player</th>\n",
       "      <th>em_digital radio</th>\n",
       "      <th>em_hands-free equipment</th>\n",
       "      <th>em_mp3</th>\n",
       "      <th>em_on-board computer</th>\n",
       "      <th>em_radio</th>\n",
       "      <th>em_sound system</th>\n",
       "      <th>em_television</th>\n",
       "      <th>em_usb</th>\n",
       "      <th>ex_alloy wheels</th>\n",
       "      <th>ex_cab or rented car</th>\n",
       "      <th>ex_catalytic converter</th>\n",
       "      <th>ex_handicapped enabled</th>\n",
       "      <th>ex_right hand drive</th>\n",
       "      <th>ex_roof rack</th>\n",
       "      <th>ex_shift paddles</th>\n",
       "      <th>ex_ski bag</th>\n",
       "      <th>ex_sliding door</th>\n",
       "      <th>ex_sport package</th>\n",
       "      <th>ex_sport seats</th>\n",
       "      <th>ex_sport suspension</th>\n",
       "      <th>ex_touch screen</th>\n",
       "      <th>ex_trailer hitch</th>\n",
       "      <th>ex_tuned car</th>\n",
       "      <th>ex_voice control</th>\n",
       "      <th>ex_winter tyres</th>\n",
       "      <th>ss_abs</th>\n",
       "      <th>ss_adaptive cruise control</th>\n",
       "      <th>ss_adaptive headlights</th>\n",
       "      <th>ss_alarm system</th>\n",
       "      <th>ss_blind spot monitor</th>\n",
       "      <th>ss_central door lock</th>\n",
       "      <th>ss_central door lock with remote control</th>\n",
       "      <th>ss_daytime running lights</th>\n",
       "      <th>ss_driver drowsiness detection</th>\n",
       "      <th>ss_driver-side airbag</th>\n",
       "      <th>ss_electronic stability control</th>\n",
       "      <th>ss_emergency brake assistant</th>\n",
       "      <th>ss_emergency system</th>\n",
       "      <th>ss_fog lights</th>\n",
       "      <th>ss_head airbag</th>\n",
       "      <th>ss_immobilizer</th>\n",
       "      <th>ss_isofix</th>\n",
       "      <th>ss_led daytime running lights</th>\n",
       "      <th>ss_led headlights</th>\n",
       "      <th>ss_lane departure warning system</th>\n",
       "      <th>ss_night view assist</th>\n",
       "      <th>ss_passenger-side airbag</th>\n",
       "      <th>ss_power steering</th>\n",
       "      <th>ss_rear airbag</th>\n",
       "      <th>ss_side airbag</th>\n",
       "      <th>ss_tire pressure monitoring system</th>\n",
       "      <th>ss_traction control</th>\n",
       "      <th>ss_traffic sign recognition</th>\n",
       "      <th>ss_xenon headlights</th>\n",
       "      <th>consumption_comb</th>\n",
       "      <th>gear_type</th>\n",
       "      <th>drive_chain</th>\n",
       "      <th>body_color</th>\n",
       "      <th>co2_emission</th>\n",
       "      <th>displacement_cc</th>\n",
       "      <th>emission_class</th>\n",
       "      <th>register_age</th>\n",
       "      <th>fuel_new</th>\n",
       "      <th>nr_doors</th>\n",
       "      <th>nr_seats</th>\n",
       "      <th>hp_kw</th>\n",
       "    </tr>\n",
       "  </thead>\n",
       "  <tbody>\n",
       "    <tr>\n",
       "      <th>2765</th>\n",
       "      <td>Audi A3</td>\n",
       "      <td>Sedans</td>\n",
       "      <td>17900</td>\n",
       "      <td>NaN</td>\n",
       "      <td>115137.00</td>\n",
       "      <td>NaN</td>\n",
       "      <td>Cloth, Other</td>\n",
       "      <td>6.00</td>\n",
       "      <td>2</td>\n",
       "      <td>0</td>\n",
       "      <td>NaN</td>\n",
       "      <td>NaN</td>\n",
       "      <td>NaN</td>\n",
       "      <td>1 (No sticker)</td>\n",
       "      <td>1</td>\n",
       "      <td>0</td>\n",
       "      <td>0</td>\n",
       "      <td>0</td>\n",
       "      <td>0</td>\n",
       "      <td>0</td>\n",
       "      <td>0</td>\n",
       "      <td>0</td>\n",
       "      <td>0</td>\n",
       "      <td>0</td>\n",
       "      <td>0</td>\n",
       "      <td>0</td>\n",
       "      <td>0</td>\n",
       "      <td>0</td>\n",
       "      <td>0</td>\n",
       "      <td>0</td>\n",
       "      <td>0</td>\n",
       "      <td>0</td>\n",
       "      <td>0</td>\n",
       "      <td>0</td>\n",
       "      <td>0</td>\n",
       "      <td>0</td>\n",
       "      <td>0</td>\n",
       "      <td>0</td>\n",
       "      <td>0</td>\n",
       "      <td>0</td>\n",
       "      <td>0</td>\n",
       "      <td>0</td>\n",
       "      <td>0</td>\n",
       "      <td>0</td>\n",
       "      <td>0</td>\n",
       "      <td>0</td>\n",
       "      <td>0</td>\n",
       "      <td>0</td>\n",
       "      <td>0</td>\n",
       "      <td>0</td>\n",
       "      <td>0</td>\n",
       "      <td>0</td>\n",
       "      <td>1</td>\n",
       "      <td>0</td>\n",
       "      <td>0</td>\n",
       "      <td>1</td>\n",
       "      <td>0</td>\n",
       "      <td>0</td>\n",
       "      <td>0</td>\n",
       "      <td>0</td>\n",
       "      <td>0</td>\n",
       "      <td>0</td>\n",
       "      <td>1</td>\n",
       "      <td>0</td>\n",
       "      <td>0</td>\n",
       "      <td>0</td>\n",
       "      <td>0</td>\n",
       "      <td>0</td>\n",
       "      <td>0</td>\n",
       "      <td>0</td>\n",
       "      <td>0</td>\n",
       "      <td>0</td>\n",
       "      <td>1</td>\n",
       "      <td>1</td>\n",
       "      <td>0</td>\n",
       "      <td>0</td>\n",
       "      <td>0</td>\n",
       "      <td>0</td>\n",
       "      <td>0</td>\n",
       "      <td>1</td>\n",
       "      <td>0</td>\n",
       "      <td>0</td>\n",
       "      <td>0</td>\n",
       "      <td>0</td>\n",
       "      <td>1</td>\n",
       "      <td>0</td>\n",
       "      <td>0</td>\n",
       "      <td>0</td>\n",
       "      <td>1</td>\n",
       "      <td>0</td>\n",
       "      <td>0</td>\n",
       "      <td>0</td>\n",
       "      <td>0</td>\n",
       "      <td>0</td>\n",
       "      <td>0</td>\n",
       "      <td>1</td>\n",
       "      <td>0</td>\n",
       "      <td>0</td>\n",
       "      <td>0</td>\n",
       "      <td>0</td>\n",
       "      <td>1</td>\n",
       "      <td>1</td>\n",
       "      <td>0</td>\n",
       "      <td>1</td>\n",
       "      <td>0</td>\n",
       "      <td>1</td>\n",
       "      <td>0</td>\n",
       "      <td>1</td>\n",
       "      <td>4.50</td>\n",
       "      <td>Automatic</td>\n",
       "      <td>front</td>\n",
       "      <td>White</td>\n",
       "      <td>118.00</td>\n",
       "      <td>1968.00</td>\n",
       "      <td>Euro 6</td>\n",
       "      <td>4.00</td>\n",
       "      <td>Diesel</td>\n",
       "      <td>5.00</td>\n",
       "      <td>5.00</td>\n",
       "      <td>110</td>\n",
       "    </tr>\n",
       "    <tr>\n",
       "      <th>5237</th>\n",
       "      <td>Audi A3</td>\n",
       "      <td>Sedans</td>\n",
       "      <td>25400</td>\n",
       "      <td>NaN</td>\n",
       "      <td>nan</td>\n",
       "      <td>NaN</td>\n",
       "      <td>Cloth, Other</td>\n",
       "      <td>7.00</td>\n",
       "      <td>1</td>\n",
       "      <td>0</td>\n",
       "      <td>NaN</td>\n",
       "      <td>NaN</td>\n",
       "      <td>NaN</td>\n",
       "      <td>1 (No sticker)</td>\n",
       "      <td>1</td>\n",
       "      <td>0</td>\n",
       "      <td>0</td>\n",
       "      <td>0</td>\n",
       "      <td>0</td>\n",
       "      <td>0</td>\n",
       "      <td>0</td>\n",
       "      <td>0</td>\n",
       "      <td>0</td>\n",
       "      <td>0</td>\n",
       "      <td>0</td>\n",
       "      <td>0</td>\n",
       "      <td>0</td>\n",
       "      <td>0</td>\n",
       "      <td>0</td>\n",
       "      <td>0</td>\n",
       "      <td>0</td>\n",
       "      <td>0</td>\n",
       "      <td>0</td>\n",
       "      <td>0</td>\n",
       "      <td>0</td>\n",
       "      <td>0</td>\n",
       "      <td>0</td>\n",
       "      <td>0</td>\n",
       "      <td>0</td>\n",
       "      <td>0</td>\n",
       "      <td>0</td>\n",
       "      <td>0</td>\n",
       "      <td>0</td>\n",
       "      <td>0</td>\n",
       "      <td>0</td>\n",
       "      <td>0</td>\n",
       "      <td>0</td>\n",
       "      <td>0</td>\n",
       "      <td>0</td>\n",
       "      <td>0</td>\n",
       "      <td>0</td>\n",
       "      <td>0</td>\n",
       "      <td>1</td>\n",
       "      <td>0</td>\n",
       "      <td>0</td>\n",
       "      <td>1</td>\n",
       "      <td>0</td>\n",
       "      <td>0</td>\n",
       "      <td>0</td>\n",
       "      <td>0</td>\n",
       "      <td>0</td>\n",
       "      <td>0</td>\n",
       "      <td>1</td>\n",
       "      <td>0</td>\n",
       "      <td>0</td>\n",
       "      <td>0</td>\n",
       "      <td>0</td>\n",
       "      <td>0</td>\n",
       "      <td>0</td>\n",
       "      <td>0</td>\n",
       "      <td>0</td>\n",
       "      <td>0</td>\n",
       "      <td>0</td>\n",
       "      <td>0</td>\n",
       "      <td>0</td>\n",
       "      <td>0</td>\n",
       "      <td>0</td>\n",
       "      <td>0</td>\n",
       "      <td>0</td>\n",
       "      <td>1</td>\n",
       "      <td>0</td>\n",
       "      <td>0</td>\n",
       "      <td>0</td>\n",
       "      <td>0</td>\n",
       "      <td>1</td>\n",
       "      <td>0</td>\n",
       "      <td>0</td>\n",
       "      <td>0</td>\n",
       "      <td>1</td>\n",
       "      <td>0</td>\n",
       "      <td>0</td>\n",
       "      <td>0</td>\n",
       "      <td>0</td>\n",
       "      <td>0</td>\n",
       "      <td>0</td>\n",
       "      <td>1</td>\n",
       "      <td>0</td>\n",
       "      <td>0</td>\n",
       "      <td>0</td>\n",
       "      <td>0</td>\n",
       "      <td>1</td>\n",
       "      <td>1</td>\n",
       "      <td>0</td>\n",
       "      <td>1</td>\n",
       "      <td>0</td>\n",
       "      <td>1</td>\n",
       "      <td>0</td>\n",
       "      <td>1</td>\n",
       "      <td>3.90</td>\n",
       "      <td>Automatic</td>\n",
       "      <td>front</td>\n",
       "      <td>Grey</td>\n",
       "      <td>103.00</td>\n",
       "      <td>1598.00</td>\n",
       "      <td>Euro 6</td>\n",
       "      <td>nan</td>\n",
       "      <td>Diesel</td>\n",
       "      <td>5.00</td>\n",
       "      <td>5.00</td>\n",
       "      <td>85</td>\n",
       "    </tr>\n",
       "  </tbody>\n",
       "</table>\n",
       "</div>"
      ],
      "text/plain": [
       "     make_model body_type  price  vat        km type    upholstery  gears  previous_owner  inspection_new_bool next_inspection paint_type country  emission_label  cc_air conditioning  cc_air suspension  cc_armrest  cc_automatic climate control  cc_auxiliary heating  cc_cruise control  cc_electric starter  cc_electric tailgate  cc_electrical side mirrors  cc_electrically adjustable seats  cc_electrically heated windshield  cc_heads-up display  cc_heated steering wheel  cc_hill holder  cc_keyless central door lock  cc_leather seats  cc_leather steering wheel  cc_light sensor  cc_lumbar support  cc_massage seats  cc_multi-function steering wheel  cc_navigation system  cc_panorama roof  cc_park distance control  cc_parking assist system camera  cc_parking assist system self-steering  cc_parking assist system sensors front  cc_parking assist system sensors rear  cc_power windows  cc_rain sensor  cc_seat heating  cc_seat ventilation  cc_split rear seats  cc_start-stop system  cc_sunroof  cc_tinted windows  cc_wind deflector  cc_windshield  em_bluetooth  em_cd player  em_digital radio  em_hands-free equipment  em_mp3  em_on-board computer  em_radio  em_sound system  em_television  em_usb  ex_alloy wheels  ex_cab or rented car  ex_catalytic converter  ex_handicapped enabled  ex_right hand drive  ex_roof rack  ex_shift paddles  ex_ski bag  ex_sliding door  ex_sport package  ex_sport seats  ex_sport suspension  ex_touch screen  ex_trailer hitch  ex_tuned car  ex_voice control  ex_winter tyres  ss_abs  ss_adaptive cruise control  ss_adaptive headlights  ss_alarm system  ss_blind spot monitor  ss_central door lock  ss_central door lock with remote control  ss_daytime running lights  ss_driver drowsiness detection  ss_driver-side airbag  ss_electronic stability control  ss_emergency brake assistant  ss_emergency system  ss_fog lights  ss_head airbag  ss_immobilizer  ss_isofix  ss_led daytime running lights  ss_led headlights  ss_lane departure warning system  \\\n",
       "2765    Audi A3    Sedans  17900  NaN 115137.00  NaN  Cloth, Other   6.00               2                    0             NaN        NaN     NaN  1 (No sticker)                    1                  0           0                             0                     0                  0                    0                     0                           0                                 0                                  0                    0                         0               0                             0                 0                          0                0                  0                 0                                 0                     0                 0                         0                                0                                       0                                       0                                      0                 0               0                0                    0                    0                     0           0                  0                  0              0             1             0                 0                        1       0                     0         0                0              0       0                1                     0                       0                       0                    0             0                 0           0                0                 0               1                    1                0                 0             0                 0                0       1                           0                       0                0                      0                     1                                         0                          0                               0                      1                                0                             0                    0              0               0               0          1                              0                  0                                 0   \n",
       "5237    Audi A3    Sedans  25400  NaN       nan  NaN  Cloth, Other   7.00               1                    0             NaN        NaN     NaN  1 (No sticker)                    1                  0           0                             0                     0                  0                    0                     0                           0                                 0                                  0                    0                         0               0                             0                 0                          0                0                  0                 0                                 0                     0                 0                         0                                0                                       0                                       0                                      0                 0               0                0                    0                    0                     0           0                  0                  0              0             1             0                 0                        1       0                     0         0                0              0       0                1                     0                       0                       0                    0             0                 0           0                0                 0               0                    0                0                 0             0                 0                0       1                           0                       0                0                      0                     1                                         0                          0                               0                      1                                0                             0                    0              0               0               0          1                              0                  0                                 0   \n",
       "\n",
       "      ss_night view assist  ss_passenger-side airbag  ss_power steering  ss_rear airbag  ss_side airbag  ss_tire pressure monitoring system  ss_traction control  ss_traffic sign recognition  ss_xenon headlights  consumption_comb  gear_type drive_chain body_color  co2_emission  displacement_cc emission_class  register_age fuel_new  nr_doors  nr_seats  hp_kw  \n",
       "2765                     0                         1                  1               0               1                                   0                    1                            0                    1              4.50  Automatic       front      White        118.00          1968.00         Euro 6          4.00   Diesel      5.00      5.00    110  \n",
       "5237                     0                         1                  1               0               1                                   0                    1                            0                    1              3.90  Automatic       front       Grey        103.00          1598.00         Euro 6           nan   Diesel      5.00      5.00     85  "
      ]
     },
     "execution_count": 41,
     "metadata": {},
     "output_type": "execute_result"
    }
   ],
   "source": [
    "oto1.iloc[list(oto1.loc[oto1.type.isnull(), 'type'].index)]"
   ]
  },
  {
   "cell_type": "code",
   "execution_count": 42,
   "metadata": {},
   "outputs": [],
   "source": [
    "oto1.type.fillna(\"Used\", inplace = True)"
   ]
  },
  {
   "cell_type": "code",
   "execution_count": 43,
   "metadata": {},
   "outputs": [
    {
     "data": {
      "text/plain": [
       "<matplotlib.axes._subplots.AxesSubplot at 0x17e35a4ccd0>"
      ]
     },
     "execution_count": 43,
     "metadata": {},
     "output_type": "execute_result"
    },
    {
     "data": {
      "image/png": "[encoded data removed]",
      "text/plain": [
       "<Figure size 432x288 with 1 Axes>"
      ]
     },
     "metadata": {},
     "output_type": "display_data"
    }
   ],
   "source": [
    "oto1.type.value_counts(dropna = False).plot(kind = \"bar\")"
   ]
  },
  {
   "cell_type": "markdown",
   "metadata": {},
   "source": [
    "- `type` variable should be considered as categorical and should be implemented ``get_dummies()`` in the end."
   ]
  },
  {
   "cell_type": "markdown",
   "metadata": {},
   "source": [
    "***"
   ]
  },
  {
   "cell_type": "markdown",
   "metadata": {},
   "source": [
    "### ``\"upholstery\"``"
   ]
  },
  {
   "cell_type": "code",
   "execution_count": 44,
   "metadata": {},
   "outputs": [
    {
     "data": {
      "text/plain": [
       "Cloth, Black           5821\n",
       "NaN                    3720\n",
       "Part leather, Black    1121\n",
       "Cloth                  1005\n",
       "Cloth, Grey             891\n",
       "Cloth, Other            639\n",
       "Full leather, Black     575\n",
       "Black                   491\n",
       "Grey                    273\n",
       "Other, Other            182\n",
       "Part leather            140\n",
       "Full leather            139\n",
       "Part leather, Grey      116\n",
       "Full leather, Brown     116\n",
       "Other, Black            110\n",
       "Full leather, Other      72\n",
       "Full leather, Grey       67\n",
       "Part leather, Other      65\n",
       "Other                    56\n",
       "Part leather, Brown      50\n",
       "alcantara, Black         47\n",
       "Velour, Black            36\n",
       "Full leather, Beige      36\n",
       "Cloth, Brown             28\n",
       "Velour                   16\n",
       "Other, Grey              15\n",
       "Cloth, Beige             13\n",
       "Cloth, Blue              12\n",
       "Brown                    12\n",
       "Velour, Grey              8\n",
       "Cloth, White              8\n",
       "alcantara, Grey           6\n",
       "Cloth, Red                5\n",
       "Other, Yellow             4\n",
       "Beige                     3\n",
       "Part leather, Red         3\n",
       "White                     2\n",
       "alcantara                 2\n",
       "Part leather, Beige       2\n",
       "Part leather, White       2\n",
       "Full leather, Blue        2\n",
       "alcantara, Other          2\n",
       "Blue                      2\n",
       "Other, Brown              1\n",
       "Cloth, Orange             1\n",
       "Full leather, Red         1\n",
       "Full leather, White       1\n",
       "Name: upholstery, dtype: int64"
      ]
     },
     "execution_count": 44,
     "metadata": {},
     "output_type": "execute_result"
    }
   ],
   "source": [
    "oto1.upholstery.value_counts(dropna = False)"
   ]
  },
  {
   "cell_type": "code",
   "execution_count": 45,
   "metadata": {},
   "outputs": [
    {
     "data": {
      "text/plain": [
       "False    9634\n",
       "NaN      3720\n",
       "True     2565\n",
       "Name: upholstery, dtype: int64"
      ]
     },
     "execution_count": 45,
     "metadata": {},
     "output_type": "execute_result"
    }
   ],
   "source": [
    "oto1[\"upholstery\"].str.contains(\"leather|alcantara\", case = False, regex = True).value_counts(dropna = False)"
   ]
  },
  {
   "cell_type": "code",
   "execution_count": 46,
   "metadata": {},
   "outputs": [
    {
     "data": {
      "text/plain": [
       "12199"
      ]
     },
     "execution_count": 46,
     "metadata": {},
     "output_type": "execute_result"
    }
   ],
   "source": [
    "oto1[\"upholstery\"].str.contains(\"leather|alcantara\", case = False, regex = True).value_counts().sum()"
   ]
  },
  {
   "cell_type": "code",
   "execution_count": 47,
   "metadata": {},
   "outputs": [
    {
     "data": {
      "text/plain": [
       "0.7897368636773506"
      ]
     },
     "execution_count": 47,
     "metadata": {},
     "output_type": "execute_result"
    }
   ],
   "source": [
    "9634 / 12199  # cloth"
   ]
  },
  {
   "cell_type": "code",
   "execution_count": 48,
   "metadata": {},
   "outputs": [
    {
     "data": {
      "text/plain": [
       "2937.8211328797443"
      ]
     },
     "execution_count": 48,
     "metadata": {},
     "output_type": "execute_result"
    }
   ],
   "source": [
    "3720 * 0.7897368636773506"
   ]
  },
  {
   "cell_type": "markdown",
   "metadata": {},
   "source": [
    "- We can fill 2900 ``nan`` values with ``\"cloth\"`` and 820 ``nan`` values with ``\"leather\"``"
   ]
  },
  {
   "cell_type": "code",
   "execution_count": 49,
   "metadata": {},
   "outputs": [],
   "source": [
    "oto1.upholstery.fillna(\"Cloth\", limit = 1000, inplace = True)\n",
    "oto1.upholstery.fillna(\"Leather\", limit = 410, inplace = True)\n",
    "oto1.upholstery.fillna(\"Cloth\", limit = 1000, inplace = True)\n",
    "oto1.upholstery.fillna(\"Leather\", limit = 410, inplace = True)\n",
    "oto1.upholstery.fillna(\"Cloth\", limit = 900, inplace = True)"
   ]
  },
  {
   "cell_type": "code",
   "execution_count": 50,
   "metadata": {},
   "outputs": [],
   "source": [
    "upholstery_bool_list = oto1['upholstery'].str.contains('leather|alcantara', case = False, regex = True)"
   ]
  },
  {
   "cell_type": "code",
   "execution_count": 51,
   "metadata": {},
   "outputs": [],
   "source": [
    "oto1.loc[upholstery_bool_list, \"upholstery\"] = \"Part/Full Leather\""
   ]
  },
  {
   "cell_type": "code",
   "execution_count": 52,
   "metadata": {},
   "outputs": [],
   "source": [
    "oto1.upholstery.loc[lambda x : x!= \"Part/Full Leather\"] = \"Cloth\""
   ]
  },
  {
   "cell_type": "code",
   "execution_count": 53,
   "metadata": {},
   "outputs": [
    {
     "data": {
      "text/plain": [
       "<matplotlib.axes._subplots.AxesSubplot at 0x17e35a42850>"
      ]
     },
     "execution_count": 53,
     "metadata": {},
     "output_type": "execute_result"
    },
    {
     "data": {
      "image/png": "[encoded data removed]",
      "text/plain": [
       "<Figure size 432x288 with 1 Axes>"
      ]
     },
     "metadata": {},
     "output_type": "display_data"
    }
   ],
   "source": [
    "oto1.upholstery.value_counts(dropna = False).plot(kind = \"bar\")"
   ]
  },
  {
   "cell_type": "markdown",
   "metadata": {},
   "source": [
    "- `upholstery` is a categorical variable and should be implemented ``get_dummies()`` in the end."
   ]
  },
  {
   "cell_type": "markdown",
   "metadata": {},
   "source": [
    "***"
   ]
  },
  {
   "cell_type": "markdown",
   "metadata": {},
   "source": [
    "### ``\"register_age\"``"
   ]
  },
  {
   "cell_type": "code",
   "execution_count": 54,
   "metadata": {},
   "outputs": [
    {
     "data": {
      "text/plain": [
       "2.00    4522\n",
       "4.00    3674\n",
       "3.00    3273\n",
       "1.00    2853\n",
       "nan     1597\n",
       "Name: register_age, dtype: int64"
      ]
     },
     "execution_count": 54,
     "metadata": {},
     "output_type": "execute_result"
    }
   ],
   "source": [
    "oto1.register_age.value_counts(dropna = False)"
   ]
  },
  {
   "cell_type": "code",
   "execution_count": 55,
   "metadata": {},
   "outputs": [
    {
     "data": {
      "text/plain": [
       "nan         838\n",
       "10.00       369\n",
       "1.00        146\n",
       "5.00         58\n",
       "20.00        32\n",
       "15.00        21\n",
       "0.00         19\n",
       "11.00        12\n",
       "8.00         11\n",
       "50.00        10\n",
       "12.00         8\n",
       "100.00        8\n",
       "7.00          7\n",
       "9.00          4\n",
       "3.00          4\n",
       "4.00          3\n",
       "30.00         3\n",
       "25.00         3\n",
       "250.00        3\n",
       "3000.00       2\n",
       "39962.00      2\n",
       "2.00          2\n",
       "22627.00      2\n",
       "60.00         1\n",
       "6.00          1\n",
       "784.00        1\n",
       "196.00        1\n",
       "40.00         1\n",
       "6100.00       1\n",
       "85000.00      1\n",
       "281.00        1\n",
       "11200.00      1\n",
       "11000.00      1\n",
       "19500.00      1\n",
       "325.00        1\n",
       "5000.00       1\n",
       "81800.00      1\n",
       "68485.00      1\n",
       "99.00         1\n",
       "77.00         1\n",
       "500.00        1\n",
       "150.00        1\n",
       "142.00        1\n",
       "20768.00      1\n",
       "89982.00      1\n",
       "89692.00      1\n",
       "32084.00      1\n",
       "497.00        1\n",
       "141.00        1\n",
       "4500.00       1\n",
       "3500.00       1\n",
       "34164.00      1\n",
       "4307.00       1\n",
       "Name: km, dtype: int64"
      ]
     },
     "execution_count": 55,
     "metadata": {},
     "output_type": "execute_result"
    }
   ],
   "source": [
    "oto1[oto1.register_age.isnull()][\"km\"].value_counts(dropna = False)"
   ]
  },
  {
   "cell_type": "code",
   "execution_count": 56,
   "metadata": {},
   "outputs": [
    {
     "data": {
      "text/plain": [
       "934.4967061923584"
      ]
     },
     "execution_count": 56,
     "metadata": {},
     "output_type": "execute_result"
    }
   ],
   "source": [
    "oto1[oto1.register_age.isnull()][\"km\"].mean()"
   ]
  },
  {
   "cell_type": "code",
   "execution_count": 57,
   "metadata": {},
   "outputs": [
    {
     "data": {
      "text/plain": [
       "10.0"
      ]
     },
     "execution_count": 57,
     "metadata": {},
     "output_type": "execute_result"
    }
   ],
   "source": [
    "oto1[oto1.register_age.isnull()][\"km\"].median()"
   ]
  },
  {
   "cell_type": "markdown",
   "metadata": {},
   "source": [
    "- We can conclude that ``NaN`` values can be filled with ``0`` year"
   ]
  },
  {
   "cell_type": "code",
   "execution_count": 58,
   "metadata": {},
   "outputs": [],
   "source": [
    "oto1.register_age.fillna(0, inplace = True)"
   ]
  },
  {
   "cell_type": "code",
   "execution_count": 59,
   "metadata": {},
   "outputs": [
    {
     "data": {
      "text/plain": [
       "<matplotlib.axes._subplots.AxesSubplot at 0x17e35aceac0>"
      ]
     },
     "execution_count": 59,
     "metadata": {},
     "output_type": "execute_result"
    },
    {
     "data": {
      "image/png": "[encoded data removed]",
      "text/plain": [
       "<Figure size 432x288 with 1 Axes>"
      ]
     },
     "metadata": {},
     "output_type": "display_data"
    }
   ],
   "source": [
    "oto1.register_age.value_counts(dropna = False).plot(kind = \"bar\")"
   ]
  },
  {
   "cell_type": "markdown",
   "metadata": {},
   "source": [
    "- It contains numerical values, we can either consider it as categorical or continuous. When we implement ``get_dummies()``, we'll see the result."
   ]
  },
  {
   "cell_type": "markdown",
   "metadata": {},
   "source": [
    "***"
   ]
  },
  {
   "cell_type": "markdown",
   "metadata": {},
   "source": [
    "### ``\"km\"``"
   ]
  },
  {
   "cell_type": "code",
   "execution_count": 60,
   "metadata": {},
   "outputs": [
    {
     "data": {
      "text/plain": [
       "10.00       1045\n",
       "nan         1024\n",
       "1.00         367\n",
       "5.00         170\n",
       "50.00        148\n",
       "            ... \n",
       "8329.00        1\n",
       "267.00         1\n",
       "1060.00        1\n",
       "73652.00       1\n",
       "49320.00       1\n",
       "Name: km, Length: 6690, dtype: int64"
      ]
     },
     "execution_count": 60,
     "metadata": {},
     "output_type": "execute_result"
    }
   ],
   "source": [
    "oto1.km.value_counts(dropna = False)"
   ]
  },
  {
   "cell_type": "code",
   "execution_count": 61,
   "metadata": {},
   "outputs": [
    {
     "data": {
      "text/plain": [
       "0       77442.52\n",
       "1       41754.94\n",
       "2       77442.52\n",
       "3       77442.52\n",
       "4       77442.52\n",
       "          ...   \n",
       "15914     934.50\n",
       "15915    2085.36\n",
       "15916    2085.36\n",
       "15917    2085.36\n",
       "15918    2085.36\n",
       "Name: km, Length: 15919, dtype: float64"
      ]
     },
     "execution_count": 61,
     "metadata": {},
     "output_type": "execute_result"
    }
   ],
   "source": [
    "oto1.groupby(\"register_age\")[\"km\"].transform(\"mean\")"
   ]
  },
  {
   "cell_type": "code",
   "execution_count": 62,
   "metadata": {},
   "outputs": [],
   "source": [
    "oto1['km'] = oto1['km'].fillna(oto1.groupby('register_age')['km'].transform('mean'))"
   ]
  },
  {
   "cell_type": "code",
   "execution_count": 63,
   "metadata": {},
   "outputs": [
    {
     "data": {
      "image/png": "[encoded data removed]",
      "text/plain": [
       "<Figure size 1080x720 with 4 Axes>"
      ]
     },
     "metadata": {},
     "output_type": "display_data"
    }
   ],
   "source": [
    "plt.figure(figsize=(15,10))\n",
    "plt.subplot(141)\n",
    "plt.hist(oto1.km, bins = 50)\n",
    "\n",
    "plt.subplot(142)\n",
    "plt.boxplot(oto1.km)\n",
    "\n",
    "plt.subplot(143)\n",
    "plt.boxplot(oto1.km, whis = 2.5)\n",
    "\n",
    "plt.subplot(144)\n",
    "plt.boxplot(np.log(oto1.km), whis = 2.5)\n",
    "plt.show()"
   ]
  },
  {
   "cell_type": "code",
   "execution_count": 64,
   "metadata": {},
   "outputs": [],
   "source": [
    "#oto1[\"km_logged\"] = np.log(oto1.km)"
   ]
  },
  {
   "cell_type": "code",
   "execution_count": 65,
   "metadata": {},
   "outputs": [
    {
     "data": {
      "text/plain": [
       "9279    317000.00\n",
       "3003    291800.00\n",
       "5712    260000.00\n",
       "6224    248000.00\n",
       "15277   240000.00\n",
       "Name: km, dtype: float64"
      ]
     },
     "execution_count": 65,
     "metadata": {},
     "output_type": "execute_result"
    }
   ],
   "source": [
    "oto1.km.sort_values(ascending = False).head()"
   ]
  },
  {
   "cell_type": "markdown",
   "metadata": {},
   "source": [
    "- `km` is a variable with a wide range of values. We can not consider the outlier values above as a real outliers. So let's keep it as it is."
   ]
  },
  {
   "cell_type": "markdown",
   "metadata": {},
   "source": [
    "***"
   ]
  },
  {
   "cell_type": "markdown",
   "metadata": {},
   "source": [
    "### ``\"vat\"``"
   ]
  },
  {
   "cell_type": "code",
   "execution_count": 66,
   "metadata": {},
   "outputs": [
    {
     "data": {
      "text/plain": [
       "VAT deductible      10980\n",
       "NaN                  4513\n",
       "Price negotiable      426\n",
       "Name: vat, dtype: int64"
      ]
     },
     "execution_count": 66,
     "metadata": {},
     "output_type": "execute_result"
    }
   ],
   "source": [
    "oto1.vat.value_counts(dropna = False)"
   ]
  },
  {
   "cell_type": "markdown",
   "metadata": {},
   "source": [
    "- We can fill missing values of the most repetitive."
   ]
  },
  {
   "cell_type": "code",
   "execution_count": 67,
   "metadata": {},
   "outputs": [],
   "source": [
    "oto1.vat.fillna(method = \"ffill\", inplace = True)"
   ]
  },
  {
   "cell_type": "code",
   "execution_count": 68,
   "metadata": {},
   "outputs": [
    {
     "data": {
      "text/plain": [
       "<matplotlib.axes._subplots.AxesSubplot at 0x17e35b3f580>"
      ]
     },
     "execution_count": 68,
     "metadata": {},
     "output_type": "execute_result"
    },
    {
     "data": {
      "image/png": "[encoded data removed]",
      "text/plain": [
       "<Figure size 432x288 with 1 Axes>"
      ]
     },
     "metadata": {},
     "output_type": "display_data"
    }
   ],
   "source": [
    "oto1.vat.value_counts(dropna = False).plot(kind = \"bar\")"
   ]
  },
  {
   "cell_type": "markdown",
   "metadata": {},
   "source": [
    "- `vat` is a categorical variable and should be implemented `get_dummies()`"
   ]
  },
  {
   "cell_type": "markdown",
   "metadata": {},
   "source": [
    "***"
   ]
  },
  {
   "cell_type": "markdown",
   "metadata": {},
   "source": [
    "### next_inspection"
   ]
  },
  {
   "cell_type": "code",
   "execution_count": 71,
   "metadata": {},
   "outputs": [
    {
     "data": {
      "text/plain": [
       "NaN           12384\n",
       "2021-06-01      471\n",
       "2021-03-01      210\n",
       "2021-05-01      180\n",
       "2021-04-01      171\n",
       "              ...  \n",
       "2024-03-01        1\n",
       "2022-11-01        1\n",
       "2016-05-01        1\n",
       "2016-04-01        1\n",
       "2017-05-01        1\n",
       "Name: next_inspection, Length: 78, dtype: int64"
      ]
     },
     "execution_count": 71,
     "metadata": {},
     "output_type": "execute_result"
    }
   ],
   "source": [
    "oto1.next_inspection.value_counts(dropna=False)"
   ]
  },
  {
   "cell_type": "code",
   "execution_count": 72,
   "metadata": {},
   "outputs": [],
   "source": [
    "oto1.drop(\"next_inspection\", axis=1, inplace=True)"
   ]
  },
  {
   "cell_type": "markdown",
   "metadata": {},
   "source": [
    "***"
   ]
  },
  {
   "cell_type": "markdown",
   "metadata": {},
   "source": [
    "### ``\"paint_type\"``"
   ]
  },
  {
   "cell_type": "code",
   "execution_count": 73,
   "metadata": {},
   "outputs": [
    {
     "data": {
      "text/plain": [
       "Metallic       9794\n",
       "NaN            5772\n",
       "Uni/basic       347\n",
       "Perl effect       6\n",
       "Name: paint_type, dtype: int64"
      ]
     },
     "execution_count": 73,
     "metadata": {},
     "output_type": "execute_result"
    }
   ],
   "source": [
    "oto1.paint_type.value_counts(dropna=False)"
   ]
  },
  {
   "cell_type": "code",
   "execution_count": 74,
   "metadata": {},
   "outputs": [],
   "source": [
    "oto1.drop(\"paint_type\", axis=1, inplace=True)"
   ]
  },
  {
   "cell_type": "markdown",
   "metadata": {},
   "source": [
    "***"
   ]
  },
  {
   "cell_type": "markdown",
   "metadata": {},
   "source": [
    "### ``\"country\"``"
   ]
  },
  {
   "cell_type": "code",
   "execution_count": 75,
   "metadata": {},
   "outputs": [
    {
     "data": {
      "text/plain": [
       "NaN               8333\n",
       "Germany           4502\n",
       "Italy             1038\n",
       "European Union     507\n",
       "Netherlands        464\n",
       "Spain              325\n",
       "Belgium            314\n",
       "Austria            208\n",
       "Czech Republic      52\n",
       "Poland              49\n",
       "France              38\n",
       "Denmark             33\n",
       "Hungary             28\n",
       "Japan                8\n",
       "Croatia              4\n",
       "Slovakia             4\n",
       "Sweden               3\n",
       "Bulgaria             2\n",
       "Romania              2\n",
       "Slovenia             1\n",
       "Serbia               1\n",
       "Egypt                1\n",
       "Luxembourg           1\n",
       "Switzerland          1\n",
       "Name: country, dtype: int64"
      ]
     },
     "execution_count": 75,
     "metadata": {},
     "output_type": "execute_result"
    }
   ],
   "source": [
    "oto1.country.value_counts(dropna=False)"
   ]
  },
  {
   "cell_type": "code",
   "execution_count": 76,
   "metadata": {},
   "outputs": [],
   "source": [
    "oto1.drop(\"country\", axis=1, inplace=True)"
   ]
  },
  {
   "cell_type": "markdown",
   "metadata": {},
   "source": [
    "### ``\"emission_label\"``"
   ]
  },
  {
   "cell_type": "code",
   "execution_count": 77,
   "metadata": {},
   "outputs": [
    {
     "data": {
      "text/plain": [
       "NaN               11974\n",
       "4 (Green)          3553\n",
       "1 (No sticker)      381\n",
       "5 (Blue)              8\n",
       "3 (Yellow)            2\n",
       "2 (Red)               1\n",
       "Name: emission_label, dtype: int64"
      ]
     },
     "execution_count": 77,
     "metadata": {},
     "output_type": "execute_result"
    }
   ],
   "source": [
    "oto1.emission_label.value_counts(dropna=False)"
   ]
  },
  {
   "cell_type": "code",
   "execution_count": 78,
   "metadata": {},
   "outputs": [],
   "source": [
    "oto1.drop(\"emission_label\", axis=1, inplace=True)"
   ]
  },
  {
   "cell_type": "markdown",
   "metadata": {},
   "source": [
    "***"
   ]
  },
  {
   "cell_type": "markdown",
   "metadata": {},
   "source": [
    "### ``\"consumption_comb\"``"
   ]
  },
  {
   "cell_type": "code",
   "execution_count": 80,
   "metadata": {},
   "outputs": [
    {
     "data": {
      "text/plain": [
       "nan     1925\n",
       "5.40     770\n",
       "3.90     733\n",
       "4.00     717\n",
       "5.10     657\n",
       "        ... \n",
       "7.30       2\n",
       "9.10       1\n",
       "1.20       1\n",
       "4.55       1\n",
       "7.50       1\n",
       "Name: consumption_comb, Length: 65, dtype: int64"
      ]
     },
     "execution_count": 80,
     "metadata": {},
     "output_type": "execute_result"
    }
   ],
   "source": [
    "oto1.consumption_comb.value_counts(dropna=False)"
   ]
  },
  {
   "cell_type": "markdown",
   "metadata": {},
   "source": [
    "### Handling with outliers\n",
    "- The domain (car trading) knowledge is important.\n",
    "- We can see that it seems, ``consumption_comb`` values of ``0``, ``1``, ``1.2`` and ``1.6`` are meaningless.\n",
    "- So, we can convert them into `NaN`s and then we can fill them.\n",
    "- Let's go step by step"
   ]
  },
  {
   "cell_type": "code",
   "execution_count": 84,
   "metadata": {},
   "outputs": [
    {
     "data": {
      "text/plain": [
       "array([0. , 1. , 1.2, 1.6, 3. ])"
      ]
     },
     "execution_count": 84,
     "metadata": {},
     "output_type": "execute_result"
    }
   ],
   "source": [
    "oto1.consumption_comb.sort_values().head(45).unique()"
   ]
  },
  {
   "cell_type": "code",
   "execution_count": 87,
   "metadata": {},
   "outputs": [
    {
     "data": {
      "text/plain": [
       "array([9.1, 8.7, 8.6, 8.3, 8.1, 8. , 7.9, 7.8, 7.6])"
      ]
     },
     "execution_count": 87,
     "metadata": {},
     "output_type": "execute_result"
    }
   ],
   "source": [
    "oto1.consumption_comb.sort_values(ascending=False).head(45).unique()"
   ]
  },
  {
   "cell_type": "code",
   "execution_count": 88,
   "metadata": {},
   "outputs": [],
   "source": [
    "consumption_outlier = oto1.consumption_comb.isin([0.00, 1.00, 1.20, 1.60])"
   ]
  },
  {
   "cell_type": "code",
   "execution_count": 89,
   "metadata": {},
   "outputs": [
    {
     "data": {
      "text/plain": [
       "False    15876\n",
       "True        43\n",
       "Name: consumption_comb, dtype: int64"
      ]
     },
     "execution_count": 89,
     "metadata": {},
     "output_type": "execute_result"
    }
   ],
   "source": [
    "consumption_outlier.value_counts()"
   ]
  },
  {
   "cell_type": "code",
   "execution_count": 91,
   "metadata": {},
   "outputs": [],
   "source": [
    "oto1.loc[consumption_outlier, \"consumption_comb\"] = np.nan"
   ]
  },
  {
   "cell_type": "code",
   "execution_count": 92,
   "metadata": {},
   "outputs": [
    {
     "data": {
      "text/plain": [
       "make_model\n",
       "Audi A1          4.37\n",
       "Audi A2          4.90\n",
       "Audi A3          4.33\n",
       "Opel Astra       4.71\n",
       "Opel Corsa       5.50\n",
       "Opel Insignia    5.38\n",
       "Renault Clio     4.71\n",
       "Renault Duster    nan\n",
       "Renault Espace   5.40\n",
       "Name: consumption_comb, dtype: float64"
      ]
     },
     "execution_count": 92,
     "metadata": {},
     "output_type": "execute_result"
    }
   ],
   "source": [
    "oto1.groupby(\"make_model\")[\"consumption_comb\"].mean()"
   ]
  },
  {
   "cell_type": "code",
   "execution_count": 95,
   "metadata": {},
   "outputs": [
    {
     "data": {
      "text/plain": [
       "make_model\n",
       "Audi A1          4.40\n",
       "Audi A2          4.90\n",
       "Audi A3          4.10\n",
       "Opel Astra       4.60\n",
       "Opel Corsa       5.40\n",
       "Opel Insignia    5.50\n",
       "Renault Clio     5.00\n",
       "Renault Duster    nan\n",
       "Renault Espace   4.70\n",
       "Name: consumption_comb, dtype: float64"
      ]
     },
     "execution_count": 95,
     "metadata": {},
     "output_type": "execute_result"
    }
   ],
   "source": [
    "oto1.groupby(\"make_model\")[\"consumption_comb\"].median()"
   ]
  },
  {
   "cell_type": "code",
   "execution_count": 97,
   "metadata": {},
   "outputs": [
    {
     "data": {
      "text/plain": [
       "34"
      ]
     },
     "execution_count": 97,
     "metadata": {},
     "output_type": "execute_result"
    }
   ],
   "source": [
    "oto1[oto1[\"make_model\"] == \"Renault Duster\"].shape[0]"
   ]
  },
  {
   "cell_type": "code",
   "execution_count": null,
   "metadata": {},
   "outputs": [],
   "source": [
    "oto1[\"consumption_comb\"].fillna(oto1.groupby(\"make_model\")[\"consumption_comb\"].transform(\"mean\"))"
   ]
  },
  {
   "cell_type": "code",
   "execution_count": null,
   "metadata": {},
   "outputs": [],
   "source": [
    "oto1.groupby(\"make_model\")[\"consumption_comb\"].transform(\"mean\")"
   ]
  },
  {
   "cell_type": "code",
   "execution_count": 99,
   "metadata": {},
   "outputs": [],
   "source": [
    "oto1[\"consumption_comb\"] = oto1[\"consumption_comb\"].fillna(oto1.groupby(\"make_model\")[\"consumption_comb\"].transform(\"mean\"))"
   ]
  },
  {
   "cell_type": "code",
   "execution_count": 104,
   "metadata": {},
   "outputs": [
    {
     "data": {
      "text/plain": [
       "34"
      ]
     },
     "execution_count": 104,
     "metadata": {},
     "output_type": "execute_result"
    }
   ],
   "source": [
    "oto1.consumption_comb.isnull().sum()"
   ]
  },
  {
   "cell_type": "code",
   "execution_count": null,
   "metadata": {},
   "outputs": [],
   "source": [
    "oto1[\"consumption_comb\"] = oto1[\"consumption_comb\"].fillna(oto1[\"consumption_comb\"].mean())"
   ]
  },
  {
   "cell_type": "code",
   "execution_count": 101,
   "metadata": {},
   "outputs": [
    {
     "data": {
      "text/plain": [
       "4.843707403948365"
      ]
     },
     "execution_count": 101,
     "metadata": {},
     "output_type": "execute_result"
    }
   ],
   "source": [
    "oto1[\"consumption_comb\"].mean()"
   ]
  },
  {
   "cell_type": "code",
   "execution_count": 108,
   "metadata": {},
   "outputs": [
    {
     "data": {
      "text/plain": [
       "3606    8.30\n",
       "3604    8.30\n",
       "12530   8.60\n",
       "10789   8.60\n",
       "12553   8.60\n",
       "12422   8.60\n",
       "12529   8.70\n",
       "10817   8.70\n",
       "12054   8.70\n",
       "10771   9.10\n",
       "14894    nan\n",
       "14895    nan\n",
       "14896    nan\n",
       "14897    nan\n",
       "14898    nan\n",
       "14899    nan\n",
       "14900    nan\n",
       "14901    nan\n",
       "14902    nan\n",
       "14903    nan\n",
       "14904    nan\n",
       "14905    nan\n",
       "14906    nan\n",
       "14907    nan\n",
       "14908    nan\n",
       "14909    nan\n",
       "14910    nan\n",
       "14911    nan\n",
       "14912    nan\n",
       "14913    nan\n",
       "14914    nan\n",
       "14915    nan\n",
       "14916    nan\n",
       "14917    nan\n",
       "14918    nan\n",
       "14919    nan\n",
       "14920    nan\n",
       "14921    nan\n",
       "14922    nan\n",
       "14923    nan\n",
       "14924    nan\n",
       "14925    nan\n",
       "14926    nan\n",
       "14927    nan\n",
       "Name: consumption_comb, dtype: float64"
      ]
     },
     "execution_count": 108,
     "metadata": {},
     "output_type": "execute_result"
    }
   ],
   "source": [
    "oto1.consumption_comb.sort_values().tail(44)"
   ]
  },
  {
   "cell_type": "code",
   "execution_count": 109,
   "metadata": {},
   "outputs": [
    {
     "data": {
      "text/plain": [
       "count   15885.00\n",
       "mean        4.84\n",
       "std         0.86\n",
       "min         3.00\n",
       "25%         4.20\n",
       "50%         4.80\n",
       "75%         5.40\n",
       "max         9.10\n",
       "Name: consumption_comb, dtype: float64"
      ]
     },
     "execution_count": 109,
     "metadata": {},
     "output_type": "execute_result"
    }
   ],
   "source": [
    "oto1.consumption_comb.describe()"
   ]
  },
  {
   "cell_type": "code",
   "execution_count": 114,
   "metadata": {},
   "outputs": [
    {
     "data": {
      "image/png": "[encoded data removed]",
      "text/plain": [
       "<Figure size 720x432 with 2 Axes>"
      ]
     },
     "metadata": {},
     "output_type": "display_data"
    }
   ],
   "source": [
    "plt.figure(figsize=(10,6))\n",
    "plt.subplot(121)\n",
    "plt.hist(oto1.consumption_comb, bins=25)\n",
    "\n",
    "plt.subplot(122)\n",
    "plt.boxplot(oto1.consumption_comb)\n",
    "\n",
    "plt.show()"
   ]
  },
  {
   "cell_type": "code",
   "execution_count": 118,
   "metadata": {},
   "outputs": [
    {
     "data": {
      "image/png": "[encoded data removed]",
      "text/plain": [
       "<Figure size 720x432 with 2 Axes>"
      ]
     },
     "metadata": {},
     "output_type": "display_data"
    }
   ],
   "source": [
    "plt.figure(figsize=(10,6))\n",
    "plt.subplot(121)\n",
    "plt.hist(np.log(oto1.consumption_comb), bins=25)\n",
    "\n",
    "plt.subplot(122)\n",
    "plt.boxplot(np.log(oto1.consumption_comb), whis=2)\n",
    "\n",
    "plt.show()"
   ]
  },
  {
   "cell_type": "code",
   "execution_count": 117,
   "metadata": {},
   "outputs": [
    {
     "data": {
      "text/plain": [
       "{'whiskers': [<matplotlib.lines.Line2D at 0x17e55e9c220>,\n",
       "  <matplotlib.lines.Line2D at 0x17e55e9c3a0>],\n",
       " 'caps': [<matplotlib.lines.Line2D at 0x17e55ea4970>,\n",
       "  <matplotlib.lines.Line2D at 0x17e55ea4c40>],\n",
       " 'boxes': [<matplotlib.lines.Line2D at 0x17e55e9c670>],\n",
       " 'medians': [<matplotlib.lines.Line2D at 0x17e55e98130>],\n",
       " 'fliers': [<matplotlib.lines.Line2D at 0x17e55ea9c40>],\n",
       " 'means': []}"
      ]
     },
     "execution_count": 117,
     "metadata": {},
     "output_type": "execute_result"
    },
    {
     "data": {
      "image/png": "[encoded data removed]",
      "text/plain": [
       "<Figure size 432x288 with 1 Axes>"
      ]
     },
     "metadata": {},
     "output_type": "display_data"
    }
   ],
   "source": [
    "plt.boxplot(oto1[\"consumption_comb\"])"
   ]
  },
  {
   "cell_type": "code",
   "execution_count": null,
   "metadata": {},
   "outputs": [],
   "source": [
    "oto1.consumption"
   ]
  },
  {
   "cell_type": "markdown",
   "metadata": {},
   "source": [
    "- Using our domain knowledge we can conclude that min value of ``3`` and max value of ``9.10`` are normal. But anyways, let's analyze outliers with plotting, np.log and winsorize methods."
   ]
  },
  {
   "cell_type": "code",
   "execution_count": null,
   "metadata": {},
   "outputs": [],
   "source": []
  },
  {
   "cell_type": "markdown",
   "metadata": {},
   "source": [
    "***"
   ]
  },
  {
   "cell_type": "markdown",
   "metadata": {},
   "source": [
    "### ``\"drive_chain\"``"
   ]
  },
  {
   "cell_type": "code",
   "execution_count": null,
   "metadata": {},
   "outputs": [],
   "source": []
  },
  {
   "cell_type": "markdown",
   "metadata": {},
   "source": [
    "- `drive_chain` is a categorical variable and should be implemented `get_dummies()`"
   ]
  },
  {
   "cell_type": "markdown",
   "metadata": {},
   "source": [
    "***"
   ]
  },
  {
   "cell_type": "markdown",
   "metadata": {},
   "source": [
    "### displacement_cc"
   ]
  },
  {
   "cell_type": "code",
   "execution_count": 119,
   "metadata": {},
   "outputs": [
    {
     "data": {
      "text/plain": [
       "False    15423\n",
       "True       496\n",
       "Name: displacement_cc, dtype: int64"
      ]
     },
     "execution_count": 119,
     "metadata": {},
     "output_type": "execute_result"
    }
   ],
   "source": [
    "oto1.displacement_cc.isin([np.nan]).value_counts(dropna=False)"
   ]
  },
  {
   "cell_type": "code",
   "execution_count": 121,
   "metadata": {},
   "outputs": [
    {
     "data": {
      "text/plain": [
       "True"
      ]
     },
     "execution_count": 121,
     "metadata": {},
     "output_type": "execute_result"
    }
   ],
   "source": [
    "np.nan in oto1.displacement_cc.value_counts(dropna=False)"
   ]
  },
  {
   "cell_type": "code",
   "execution_count": null,
   "metadata": {},
   "outputs": [],
   "source": []
  },
  {
   "cell_type": "code",
   "execution_count": 122,
   "metadata": {},
   "outputs": [
    {
     "data": {
      "text/plain": [
       "count   15423.00\n",
       "mean     1423.54\n",
       "std       333.53\n",
       "min         1.00\n",
       "25%      1229.00\n",
       "50%      1461.00\n",
       "75%      1598.00\n",
       "max     16000.00\n",
       "Name: displacement_cc, dtype: float64"
      ]
     },
     "execution_count": 122,
     "metadata": {},
     "output_type": "execute_result"
    }
   ],
   "source": [
    "oto1.displacement_cc.describe()"
   ]
  },
  {
   "cell_type": "code",
   "execution_count": 123,
   "metadata": {},
   "outputs": [
    {
     "data": {
      "text/plain": [
       "<matplotlib.axes._subplots.AxesSubplot at 0x17e59155af0>"
      ]
     },
     "execution_count": 123,
     "metadata": {},
     "output_type": "execute_result"
    },
    {
     "data": {
      "image/png": "[encoded data removed]",
      "text/plain": [
       "<Figure size 432x288 with 1 Axes>"
      ]
     },
     "metadata": {},
     "output_type": "display_data"
    }
   ],
   "source": [
    "oto1.displacement_cc.plot.box()"
   ]
  },
  {
   "cell_type": "code",
   "execution_count": 127,
   "metadata": {},
   "outputs": [
    {
     "data": {
      "text/plain": [
       "12796   1.00\n",
       "12768   1.00\n",
       "13904   1.00\n",
       "12823   1.00\n",
       "12790   1.00\n",
       "        ... \n",
       "15791    nan\n",
       "15795    nan\n",
       "15804    nan\n",
       "15805    nan\n",
       "15906    nan\n",
       "Name: displacement_cc, Length: 15919, dtype: float64"
      ]
     },
     "execution_count": 127,
     "metadata": {},
     "output_type": "execute_result"
    }
   ],
   "source": [
    "oto1.sort_values(by = [\"displacement_cc\"], ascending=True).displacement_cc"
   ]
  },
  {
   "cell_type": "code",
   "execution_count": 130,
   "metadata": {},
   "outputs": [
    {
     "data": {
      "text/plain": [
       "12796   1.00\n",
       "12768   1.00\n",
       "13904   1.00\n",
       "12823   1.00\n",
       "12790   1.00\n",
       "14319   1.00\n",
       "14284   1.00\n",
       "12849   1.00\n",
       "12848   1.00\n",
       "12781   1.00\n",
       "Name: displacement_cc, dtype: float64"
      ]
     },
     "execution_count": 130,
     "metadata": {},
     "output_type": "execute_result"
    }
   ],
   "source": [
    "oto1.sort_values(by = [\"displacement_cc\"], ascending=True).displacement_cc.nsmallest(10)"
   ]
  },
  {
   "cell_type": "markdown",
   "metadata": {},
   "source": [
    "- The ``displacement_cc`` can't be `16000`, `15898`, `1`, `2`, `54`, `122`, `139`, `140` or `160`"
   ]
  },
  {
   "cell_type": "code",
   "execution_count": 131,
   "metadata": {},
   "outputs": [],
   "source": [
    "outlier_bool_list = oto1.displacement_cc.isin([1,2,54,122,139,140,160,1600,15898])"
   ]
  },
  {
   "cell_type": "code",
   "execution_count": null,
   "metadata": {},
   "outputs": [],
   "source": [
    "oto1.loc[outlier_bool_list, \"displacement_cc\"] = np.nan"
   ]
  },
  {
   "cell_type": "code",
   "execution_count": null,
   "metadata": {},
   "outputs": [],
   "source": []
  },
  {
   "cell_type": "code",
   "execution_count": null,
   "metadata": {},
   "outputs": [],
   "source": []
  },
  {
   "cell_type": "markdown",
   "metadata": {},
   "source": [
    "- There is no problem in terms of outliers"
   ]
  },
  {
   "cell_type": "markdown",
   "metadata": {},
   "source": [
    "***"
   ]
  },
  {
   "cell_type": "markdown",
   "metadata": {},
   "source": [
    "### `\"emission_class\"`"
   ]
  },
  {
   "cell_type": "code",
   "execution_count": null,
   "metadata": {},
   "outputs": [],
   "source": [
    "[1, 3, 4, 5, 5, 4, 1]"
   ]
  },
  {
   "cell_type": "markdown",
   "metadata": {},
   "source": [
    "***"
   ]
  },
  {
   "cell_type": "markdown",
   "metadata": {},
   "source": [
    "### `\"nr_doors\"`"
   ]
  },
  {
   "cell_type": "code",
   "execution_count": null,
   "metadata": {},
   "outputs": [],
   "source": []
  },
  {
   "cell_type": "markdown",
   "metadata": {},
   "source": [
    "***"
   ]
  },
  {
   "cell_type": "markdown",
   "metadata": {},
   "source": [
    "### ``\"nr_seats\"``"
   ]
  },
  {
   "cell_type": "code",
   "execution_count": 141,
   "metadata": {},
   "outputs": [
    {
     "data": {
      "text/plain": [
       "<matplotlib.axes._subplots.AxesSubplot at 0x17e5a47e760>"
      ]
     },
     "execution_count": 141,
     "metadata": {},
     "output_type": "execute_result"
    },
    {
     "data": {
      "image/png": "[encoded data removed]",
      "text/plain": [
       "<Figure size 432x288 with 1 Axes>"
      ]
     },
     "metadata": {},
     "output_type": "display_data"
    }
   ],
   "source": [
    "sns.barplot(y= \"make_model\", x=\"nr_doors\", data=oto1, hue=\"drive_chain\")"
   ]
  },
  {
   "cell_type": "markdown",
   "metadata": {},
   "source": [
    "***"
   ]
  },
  {
   "cell_type": "code",
   "execution_count": 142,
   "metadata": {},
   "outputs": [
    {
     "data": {
      "text/plain": [
       "<seaborn.axisgrid.FacetGrid at 0x17e591abe50>"
      ]
     },
     "execution_count": 142,
     "metadata": {},
     "output_type": "execute_result"
    },
    {
     "data": {
      "image/png": "[encoded data removed]",
      "text/plain": [
       "<Figure size 745.81x648 with 1 Axes>"
      ]
     },
     "metadata": {},
     "output_type": "display_data"
    }
   ],
   "source": [
    "sns.set(style = \"whitegrid\", font_scale = 1.1)\n",
    "g = sns.catplot(x = \"gears\", y = \"make_model\", hue = \"fuel_new\", data = oto1,\n",
    "               height = 9, kind = \"bar\", palette = \"muted\")\n",
    "g.despine(left = True)\n",
    "g.set_ylabels(\"Models\")"
   ]
  },
  {
   "cell_type": "code",
   "execution_count": null,
   "metadata": {},
   "outputs": [],
   "source": []
  },
  {
   "cell_type": "markdown",
   "metadata": {},
   "source": [
    "### fuel_new"
   ]
  },
  {
   "cell_type": "code",
   "execution_count": null,
   "metadata": {},
   "outputs": [],
   "source": []
  },
  {
   "cell_type": "markdown",
   "metadata": {},
   "source": [
    "## It seems, the process of \"handling with missing values\" is done."
   ]
  },
  {
   "cell_type": "code",
   "execution_count": null,
   "metadata": {},
   "outputs": [],
   "source": []
  },
  {
   "cell_type": "markdown",
   "metadata": {},
   "source": [
    "## Re-inspect all features & Re-apply EDA"
   ]
  },
  {
   "cell_type": "code",
   "execution_count": null,
   "metadata": {},
   "outputs": [],
   "source": []
  },
  {
   "cell_type": "markdown",
   "metadata": {},
   "source": [
    "### Correlation with Heatmap"
   ]
  },
  {
   "cell_type": "code",
   "execution_count": null,
   "metadata": {},
   "outputs": [],
   "source": []
  },
  {
   "cell_type": "markdown",
   "metadata": {},
   "source": [
    "- We can get from the heatmap that; ``\"register_age\"`` & ``\"km\"``, ``\"displacement_cc\"`` & ``\"hp_kw\"``, ``\"price\"`` & ``\"hp\"`` are correlated. \n",
    "- But anyways these columns are considered to have an effect on predicting ``price``."
   ]
  },
  {
   "cell_type": "code",
   "execution_count": null,
   "metadata": {},
   "outputs": [],
   "source": []
  },
  {
   "cell_type": "markdown",
   "metadata": {},
   "source": [
    "### Let's drop some columns and clean up! We can focus on target column : ``\"price\"``"
   ]
  },
  {
   "cell_type": "markdown",
   "metadata": {},
   "source": [
    "### ``\"price\"``"
   ]
  },
  {
   "cell_type": "code",
   "execution_count": null,
   "metadata": {},
   "outputs": [],
   "source": []
  },
  {
   "cell_type": "markdown",
   "metadata": {},
   "source": [
    "***"
   ]
  },
  {
   "cell_type": "markdown",
   "metadata": {},
   "source": [
    "### co2 emission"
   ]
  },
  {
   "cell_type": "code",
   "execution_count": null,
   "metadata": {},
   "outputs": [],
   "source": []
  },
  {
   "cell_type": "markdown",
   "metadata": {},
   "source": [
    "***"
   ]
  },
  {
   "cell_type": "markdown",
   "metadata": {},
   "source": [
    "### ``\"previous_owner\"``"
   ]
  },
  {
   "cell_type": "code",
   "execution_count": null,
   "metadata": {},
   "outputs": [],
   "source": []
  },
  {
   "cell_type": "markdown",
   "metadata": {},
   "source": [
    "***"
   ]
  },
  {
   "cell_type": "markdown",
   "metadata": {},
   "source": [
    "### ``\"hp_kw\"``"
   ]
  },
  {
   "cell_type": "code",
   "execution_count": null,
   "metadata": {},
   "outputs": [],
   "source": []
  },
  {
   "cell_type": "code",
   "execution_count": null,
   "metadata": {},
   "outputs": [],
   "source": []
  },
  {
   "cell_type": "markdown",
   "metadata": {},
   "source": [
    "## End of this Project. Next step will be :\n",
    "- Runing the Regression ML Model"
   ]
  }
 ],
 "metadata": {
  "kernelspec": {
   "display_name": "Python 3",
   "language": "python",
   "name": "python3"
  },
  "language_info": {
   "codemirror_mode": {
    "name": "ipython",
    "version": 3
   },
   "file_extension": ".py",
   "mimetype": "text/x-python",
   "name": "python",
   "nbconvert_exporter": "python",
   "pygments_lexer": "ipython3",
   "version": "3.8.3"
  }
 },
 "nbformat": 4,
 "nbformat_minor": 4
}
