{
 "cells": [
  {
   "cell_type": "code",
   "execution_count": 1,
   "metadata": {
    "_cell_guid": "5fdcd462-5466-40f5-9992-dc31a9a174f2",
    "_uuid": "dab5021d92c7210270cec270470e4ae179a1de01"
   },
   "outputs": [],
   "source": [
    "import numpy as np \n",
    "import numpy as np \n",
    "import pandas as pd\n",
    "import seaborn as sns\n",
    "import matplotlib.pyplot as plt\n",
    "from collections import Counter\n",
    "import warnings\n",
    "warnings.filterwarnings('ignore') "
   ]
  },
  {
   "cell_type": "markdown",
   "metadata": {},
   "source": [
    "INSTRUCTIONS\n",
    "1. Mean poverty rate of each state\n",
    "1. Most common 15 Name or Surname of killed people\n",
    "1. Killed People According to Races\n",
    "1. Box and Swarm Plots in kill data\n",
    "1. Kill properties (Count Plot)\n",
    "    * Number of people by gender\n",
    "    * Kill weapon\n",
    "    * Age of killed people\n",
    "    * Race of killed people\n",
    "    * Most dangerous cities\n",
    "    * Most dangerous states\n",
    "    * Having mental ilness or not for killed people\n",
    "    * Threat types\n",
    "    * Flee types\n",
    "<br>"
   ]
  },
  {
   "cell_type": "code",
   "execution_count": 2,
   "metadata": {
    "_cell_guid": "abb0685f-f844-43f8-84c0-4cd54361c7bf",
    "_uuid": "9c06ed7c41db79ae9d940f2d52aeff23621b3037"
   },
   "outputs": [],
   "source": [
    "pr = pd.read_csv('PercentagePeopleBelowPovertyLevel.csv', encoding=\"windows-1252\")\n",
    "sr = pd.read_csv('ShareRaceByCity.csv', encoding=\"windows-1252\")\n",
    "kill = pd.read_csv('PoliceKillingsUS.csv', encoding=\"windows-1252\")"
   ]
  },
  {
   "cell_type": "markdown",
   "metadata": {},
   "source": [
    "## 1. Mean poverty rate of each state"
   ]
  },
  {
   "cell_type": "code",
   "execution_count": 3,
   "metadata": {},
   "outputs": [
    {
     "data": {
      "text/html": [
       "<div>\n",
       "<style scoped>\n",
       "    .dataframe tbody tr th:only-of-type {\n",
       "        vertical-align: middle;\n",
       "    }\n",
       "\n",
       "    .dataframe tbody tr th {\n",
       "        vertical-align: top;\n",
       "    }\n",
       "\n",
       "    .dataframe thead th {\n",
       "        text-align: right;\n",
       "    }\n",
       "</style>\n",
       "<table border=\"1\" class=\"dataframe\">\n",
       "  <thead>\n",
       "    <tr style=\"text-align: right;\">\n",
       "      <th></th>\n",
       "      <th>Geographic Area</th>\n",
       "      <th>City</th>\n",
       "      <th>poverty_rate</th>\n",
       "    </tr>\n",
       "  </thead>\n",
       "  <tbody>\n",
       "    <tr>\n",
       "      <th>0</th>\n",
       "      <td>AL</td>\n",
       "      <td>Abanda CDP</td>\n",
       "      <td>78.8</td>\n",
       "    </tr>\n",
       "    <tr>\n",
       "      <th>1</th>\n",
       "      <td>AL</td>\n",
       "      <td>Abbeville city</td>\n",
       "      <td>29.1</td>\n",
       "    </tr>\n",
       "    <tr>\n",
       "      <th>2</th>\n",
       "      <td>AL</td>\n",
       "      <td>Adamsville city</td>\n",
       "      <td>25.5</td>\n",
       "    </tr>\n",
       "    <tr>\n",
       "      <th>3</th>\n",
       "      <td>AL</td>\n",
       "      <td>Addison town</td>\n",
       "      <td>30.7</td>\n",
       "    </tr>\n",
       "    <tr>\n",
       "      <th>4</th>\n",
       "      <td>AL</td>\n",
       "      <td>Akron town</td>\n",
       "      <td>42</td>\n",
       "    </tr>\n",
       "  </tbody>\n",
       "</table>\n",
       "</div>"
      ],
      "text/plain": [
       "  Geographic Area             City poverty_rate\n",
       "0              AL       Abanda CDP         78.8\n",
       "1              AL   Abbeville city         29.1\n",
       "2              AL  Adamsville city         25.5\n",
       "3              AL     Addison town         30.7\n",
       "4              AL       Akron town           42"
      ]
     },
     "execution_count": 3,
     "metadata": {},
     "output_type": "execute_result"
    }
   ],
   "source": [
    "pr.head()"
   ]
  },
  {
   "cell_type": "code",
   "execution_count": 4,
   "metadata": {},
   "outputs": [
    {
     "data": {
      "text/plain": [
       "array(['AL', 'AK', 'AZ', 'AR', 'CA', 'CO', 'CT', 'DE', 'DC', 'FL', 'GA',\n",
       "       'HI', 'ID', 'IL', 'IN', 'IA', 'KS', 'KY', 'LA', 'ME', 'MD', 'MA',\n",
       "       'MI', 'MN', 'MS', 'MO', 'MT', 'NE', 'NV', 'NH', 'NJ', 'NM', 'NY',\n",
       "       'NC', 'ND', 'OH', 'OK', 'OR', 'PA', 'RI', 'SC', 'SD', 'TN', 'TX',\n",
       "       'UT', 'VT', 'VA', 'WA', 'WV', 'WI', 'WY'], dtype=object)"
      ]
     },
     "execution_count": 4,
     "metadata": {},
     "output_type": "execute_result"
    }
   ],
   "source": [
    "pr[\"Geographic Area\"].unique()"
   ]
  },
  {
   "cell_type": "code",
   "execution_count": 5,
   "metadata": {},
   "outputs": [
    {
     "data": {
      "text/plain": [
       "51"
      ]
     },
     "execution_count": 5,
     "metadata": {},
     "output_type": "execute_result"
    }
   ],
   "source": [
    "pr[\"Geographic Area\"].nunique()"
   ]
  },
  {
   "cell_type": "code",
   "execution_count": 6,
   "metadata": {},
   "outputs": [
    {
     "data": {
      "text/plain": [
       "24255"
      ]
     },
     "execution_count": 6,
     "metadata": {},
     "output_type": "execute_result"
    }
   ],
   "source": [
    "pr[\"City\"].nunique()"
   ]
  },
  {
   "cell_type": "code",
   "execution_count": 7,
   "metadata": {},
   "outputs": [
    {
     "data": {
      "text/plain": [
       "0       1464\n",
       "-        201\n",
       "7.4      129\n",
       "6.7      129\n",
       "10.9     128\n",
       "        ... \n",
       "77.2       1\n",
       "81.7       1\n",
       "91.2       1\n",
       "65.9       1\n",
       "55.9       1\n",
       "Name: poverty_rate, Length: 771, dtype: int64"
      ]
     },
     "execution_count": 7,
     "metadata": {},
     "output_type": "execute_result"
    }
   ],
   "source": [
    "pr.poverty_rate.value_counts()"
   ]
  },
  {
   "cell_type": "raw",
   "metadata": {},
   "source": [
    "Problem: We don't know what does \"-\" mean. We need to clean it. Maybe we can consider it as 0."
   ]
  },
  {
   "cell_type": "markdown",
   "metadata": {},
   "source": [
    "**INSTRUCTION-1: replace the \"-\" with zero.**"
   ]
  },
  {
   "cell_type": "code",
   "execution_count": 8,
   "metadata": {},
   "outputs": [],
   "source": [
    "pr.poverty_rate.replace('-',0.0,inplace = True)"
   ]
  },
  {
   "cell_type": "code",
   "execution_count": 9,
   "metadata": {},
   "outputs": [
    {
     "data": {
      "text/plain": [
       "0       1464\n",
       "0.0      201\n",
       "7.4      129\n",
       "6.7      129\n",
       "10       128\n",
       "        ... \n",
       "80.6       1\n",
       "89.6       1\n",
       "62.3       1\n",
       "73.5       1\n",
       "71.1       1\n",
       "Name: poverty_rate, Length: 771, dtype: int64"
      ]
     },
     "execution_count": 9,
     "metadata": {},
     "output_type": "execute_result"
    }
   ],
   "source": [
    "pr.poverty_rate.value_counts()"
   ]
  },
  {
   "cell_type": "code",
   "execution_count": 10,
   "metadata": {},
   "outputs": [
    {
     "name": "stdout",
     "output_type": "stream",
     "text": [
      "<class 'pandas.core.frame.DataFrame'>\n",
      "RangeIndex: 29329 entries, 0 to 29328\n",
      "Data columns (total 3 columns):\n",
      " #   Column           Non-Null Count  Dtype \n",
      "---  ------           --------------  ----- \n",
      " 0   Geographic Area  29329 non-null  object\n",
      " 1   City             29329 non-null  object\n",
      " 2   poverty_rate     29329 non-null  object\n",
      "dtypes: object(3)\n",
      "memory usage: 687.5+ KB\n"
     ]
    }
   ],
   "source": [
    "pr.info()"
   ]
  },
  {
   "cell_type": "raw",
   "metadata": {},
   "source": [
    "Problem: data type of poverty_rate colum is object. We need to convert it to a numeric type (float)."
   ]
  },
  {
   "cell_type": "markdown",
   "metadata": {},
   "source": [
    "**INSTRUCTION-2 : Convert type of poverty_rate colum to a numeric type (float).**"
   ]
  },
  {
   "cell_type": "code",
   "execution_count": 11,
   "metadata": {},
   "outputs": [],
   "source": [
    "pr.poverty_rate = pr.poverty_rate.astype(float)"
   ]
  },
  {
   "cell_type": "code",
   "execution_count": 12,
   "metadata": {},
   "outputs": [
    {
     "name": "stdout",
     "output_type": "stream",
     "text": [
      "<class 'pandas.core.frame.DataFrame'>\n",
      "RangeIndex: 29329 entries, 0 to 29328\n",
      "Data columns (total 3 columns):\n",
      " #   Column           Non-Null Count  Dtype  \n",
      "---  ------           --------------  -----  \n",
      " 0   Geographic Area  29329 non-null  object \n",
      " 1   City             29329 non-null  object \n",
      " 2   poverty_rate     29329 non-null  float64\n",
      "dtypes: float64(1), object(2)\n",
      "memory usage: 687.5+ KB\n"
     ]
    }
   ],
   "source": [
    "pr.info()"
   ]
  },
  {
   "cell_type": "markdown",
   "metadata": {},
   "source": [
    "**INSTRUCTION-3 : Plot the Poverty rate of each state. (Demonstrate mean value of each Geogrophic Area (AL, AK, AR).)**"
   ]
  },
  {
   "cell_type": "markdown",
   "metadata": {},
   "source": [
    "**INSTRUCTION-3.a.1 : Plot With Pandas Built in method:**"
   ]
  },
  {
   "cell_type": "code",
   "execution_count": 13,
   "metadata": {},
   "outputs": [
    {
     "data": {
      "text/plain": [
       "Geographic Area\n",
       "AK    18.678592\n",
       "AL    20.611795\n",
       "AR    22.963216\n",
       "AZ    25.268071\n",
       "CA    16.888371\n",
       "Name: poverty_rate, dtype: float64"
      ]
     },
     "execution_count": 13,
     "metadata": {},
     "output_type": "execute_result"
    }
   ],
   "source": [
    "pr.groupby(\"Geographic Area\").poverty_rate.mean().head()"
   ]
  },
  {
   "cell_type": "code",
   "execution_count": 14,
   "metadata": {},
   "outputs": [
    {
     "data": {
      "image/png": "[encoded data removed]",
      "text/plain": [
       "<Figure size 1080x576 with 1 Axes>"
      ]
     },
     "metadata": {
      "needs_background": "light"
     },
     "output_type": "display_data"
    }
   ],
   "source": [
    "pr.groupby(\"Geographic Area\").poverty_rate.mean().plot.bar(figsize=(15,8))\n",
    "plt.xticks(rotation=45)\n",
    "plt.xlabel('States')\n",
    "plt.ylabel('Poverty Rate')\n",
    "plt.title('Poverty Rate Given States')\n",
    "plt.legend();"
   ]
  },
  {
   "cell_type": "markdown",
   "metadata": {},
   "source": [
    "**INSTRUCTION-3.a.2 : Plot Sorted Values With Pandas Built in method:**"
   ]
  },
  {
   "cell_type": "code",
   "execution_count": 15,
   "metadata": {},
   "outputs": [
    {
     "data": {
      "text/plain": [
       "Geographic Area\n",
       "MS    26.884254\n",
       "AZ    25.268071\n",
       "GA    23.663636\n",
       "AR    22.963216\n",
       "NM    22.507675\n",
       "Name: poverty_rate, dtype: float64"
      ]
     },
     "execution_count": 15,
     "metadata": {},
     "output_type": "execute_result"
    }
   ],
   "source": [
    "pr.groupby(\"Geographic Area\").poverty_rate.mean().sort_values(ascending=False).head()"
   ]
  },
  {
   "cell_type": "code",
   "execution_count": 16,
   "metadata": {},
   "outputs": [
    {
     "data": {
      "image/png": "[encoded data removed]",
      "text/plain": [
       "<Figure size 1080x504 with 1 Axes>"
      ]
     },
     "metadata": {
      "needs_background": "light"
     },
     "output_type": "display_data"
    }
   ],
   "source": [
    "pr.groupby(\"Geographic Area\").poverty_rate.mean().sort_values(ascending=False).plot.bar(figsize=(15,7))\n",
    "plt.xticks(rotation=45)\n",
    "plt.xlabel('States')\n",
    "plt.ylabel('Poverty Rate')\n",
    "plt.title('Poverty Rate Given States');"
   ]
  },
  {
   "cell_type": "markdown",
   "metadata": {},
   "source": [
    "**INSTRUCTION-3.b : Plot Sorted Values With Matplotlib:** "
   ]
  },
  {
   "cell_type": "code",
   "execution_count": 17,
   "metadata": {},
   "outputs": [],
   "source": [
    "aa=pr.groupby(\"Geographic Area\").poverty_rate.mean().sort_values(ascending=False).index"
   ]
  },
  {
   "cell_type": "code",
   "execution_count": 18,
   "metadata": {},
   "outputs": [],
   "source": [
    "bb=pr.groupby(\"Geographic Area\").poverty_rate.mean().sort_values(ascending=False).values"
   ]
  },
  {
   "cell_type": "code",
   "execution_count": 19,
   "metadata": {},
   "outputs": [
    {
     "data": {
      "image/png": "[encoded data removed]",
      "text/plain": [
       "<Figure size 1080x504 with 1 Axes>"
      ]
     },
     "metadata": {
      "needs_background": "light"
     },
     "output_type": "display_data"
    }
   ],
   "source": [
    "plt.figure(figsize=(15,7))\n",
    "plt.bar(aa, bb)\n",
    "plt.xticks(rotation=45)\n",
    "plt.xlabel('States')\n",
    "plt.ylabel('Poverty Rate')\n",
    "plt.title('Poverty Rate Given States');"
   ]
  },
  {
   "cell_type": "markdown",
   "metadata": {},
   "source": [
    "**INSTRUCTION-3.c : Plot Sorted Values With Seaborn** "
   ]
  },
  {
   "cell_type": "code",
   "execution_count": 20,
   "metadata": {},
   "outputs": [
    {
     "data": {
      "image/png": "[encoded data removed]",
      "text/plain": [
       "<Figure size 1080x504 with 1 Axes>"
      ]
     },
     "metadata": {
      "needs_background": "light"
     },
     "output_type": "display_data"
    }
   ],
   "source": [
    "plt.figure(figsize=(15,7))\n",
    "sns.barplot(x=pr[\"Geographic Area\"], y=pr[\"poverty_rate\"], order=aa, ci=None)\n",
    "plt.xticks(rotation=45)\n",
    "plt.xlabel('States')\n",
    "plt.ylabel('Poverty Rate')\n",
    "plt.title('Poverty Rate Given States');"
   ]
  },
  {
   "cell_type": "code",
   "execution_count": 21,
   "metadata": {},
   "outputs": [
    {
     "data": {
      "image/png": "[encoded data removed]",
      "text/plain": [
       "<Figure size 1080x504 with 1 Axes>"
      ]
     },
     "metadata": {
      "needs_background": "light"
     },
     "output_type": "display_data"
    }
   ],
   "source": [
    "plt.figure(figsize=(15,7))          # alternative method like matplotlib\n",
    "sns.barplot(aa, bb)\n",
    "plt.xticks(rotation=45)\n",
    "plt.xlabel('States')\n",
    "plt.ylabel('Poverty Rate')\n",
    "plt.title('Poverty Rate Given States');"
   ]
  },
  {
   "cell_type": "markdown",
   "metadata": {},
   "source": [
    "## 2. Most common 15 Name or Surname of killed people "
   ]
  },
  {
   "cell_type": "code",
   "execution_count": 22,
   "metadata": {
    "_uuid": "bfb975b648fbcbd1c6cdf1634f01e01371924a8c"
   },
   "outputs": [
    {
     "data": {
      "text/html": [
       "<div>\n",
       "<style scoped>\n",
       "    .dataframe tbody tr th:only-of-type {\n",
       "        vertical-align: middle;\n",
       "    }\n",
       "\n",
       "    .dataframe tbody tr th {\n",
       "        vertical-align: top;\n",
       "    }\n",
       "\n",
       "    .dataframe thead th {\n",
       "        text-align: right;\n",
       "    }\n",
       "</style>\n",
       "<table border=\"1\" class=\"dataframe\">\n",
       "  <thead>\n",
       "    <tr style=\"text-align: right;\">\n",
       "      <th></th>\n",
       "      <th>id</th>\n",
       "      <th>name</th>\n",
       "      <th>date</th>\n",
       "      <th>manner_of_death</th>\n",
       "      <th>armed</th>\n",
       "      <th>age</th>\n",
       "      <th>gender</th>\n",
       "      <th>race</th>\n",
       "      <th>city</th>\n",
       "      <th>state</th>\n",
       "      <th>signs_of_mental_illness</th>\n",
       "      <th>threat_level</th>\n",
       "      <th>flee</th>\n",
       "      <th>body_camera</th>\n",
       "    </tr>\n",
       "  </thead>\n",
       "  <tbody>\n",
       "    <tr>\n",
       "      <th>0</th>\n",
       "      <td>3</td>\n",
       "      <td>Tim Elliot</td>\n",
       "      <td>02/01/15</td>\n",
       "      <td>shot</td>\n",
       "      <td>gun</td>\n",
       "      <td>53.0</td>\n",
       "      <td>M</td>\n",
       "      <td>A</td>\n",
       "      <td>Shelton</td>\n",
       "      <td>WA</td>\n",
       "      <td>True</td>\n",
       "      <td>attack</td>\n",
       "      <td>Not fleeing</td>\n",
       "      <td>False</td>\n",
       "    </tr>\n",
       "    <tr>\n",
       "      <th>1</th>\n",
       "      <td>4</td>\n",
       "      <td>Lewis Lee Lembke</td>\n",
       "      <td>02/01/15</td>\n",
       "      <td>shot</td>\n",
       "      <td>gun</td>\n",
       "      <td>47.0</td>\n",
       "      <td>M</td>\n",
       "      <td>W</td>\n",
       "      <td>Aloha</td>\n",
       "      <td>OR</td>\n",
       "      <td>False</td>\n",
       "      <td>attack</td>\n",
       "      <td>Not fleeing</td>\n",
       "      <td>False</td>\n",
       "    </tr>\n",
       "    <tr>\n",
       "      <th>2</th>\n",
       "      <td>5</td>\n",
       "      <td>John Paul Quintero</td>\n",
       "      <td>03/01/15</td>\n",
       "      <td>shot and Tasered</td>\n",
       "      <td>unarmed</td>\n",
       "      <td>23.0</td>\n",
       "      <td>M</td>\n",
       "      <td>H</td>\n",
       "      <td>Wichita</td>\n",
       "      <td>KS</td>\n",
       "      <td>False</td>\n",
       "      <td>other</td>\n",
       "      <td>Not fleeing</td>\n",
       "      <td>False</td>\n",
       "    </tr>\n",
       "    <tr>\n",
       "      <th>3</th>\n",
       "      <td>8</td>\n",
       "      <td>Matthew Hoffman</td>\n",
       "      <td>04/01/15</td>\n",
       "      <td>shot</td>\n",
       "      <td>toy weapon</td>\n",
       "      <td>32.0</td>\n",
       "      <td>M</td>\n",
       "      <td>W</td>\n",
       "      <td>San Francisco</td>\n",
       "      <td>CA</td>\n",
       "      <td>True</td>\n",
       "      <td>attack</td>\n",
       "      <td>Not fleeing</td>\n",
       "      <td>False</td>\n",
       "    </tr>\n",
       "    <tr>\n",
       "      <th>4</th>\n",
       "      <td>9</td>\n",
       "      <td>Michael Rodriguez</td>\n",
       "      <td>04/01/15</td>\n",
       "      <td>shot</td>\n",
       "      <td>nail gun</td>\n",
       "      <td>39.0</td>\n",
       "      <td>M</td>\n",
       "      <td>H</td>\n",
       "      <td>Evans</td>\n",
       "      <td>CO</td>\n",
       "      <td>False</td>\n",
       "      <td>attack</td>\n",
       "      <td>Not fleeing</td>\n",
       "      <td>False</td>\n",
       "    </tr>\n",
       "  </tbody>\n",
       "</table>\n",
       "</div>"
      ],
      "text/plain": [
       "   id                name      date   manner_of_death       armed   age  \\\n",
       "0   3          Tim Elliot  02/01/15              shot         gun  53.0   \n",
       "1   4    Lewis Lee Lembke  02/01/15              shot         gun  47.0   \n",
       "2   5  John Paul Quintero  03/01/15  shot and Tasered     unarmed  23.0   \n",
       "3   8     Matthew Hoffman  04/01/15              shot  toy weapon  32.0   \n",
       "4   9   Michael Rodriguez  04/01/15              shot    nail gun  39.0   \n",
       "\n",
       "  gender race           city state  signs_of_mental_illness threat_level  \\\n",
       "0      M    A        Shelton    WA                     True       attack   \n",
       "1      M    W          Aloha    OR                    False       attack   \n",
       "2      M    H        Wichita    KS                    False        other   \n",
       "3      M    W  San Francisco    CA                     True       attack   \n",
       "4      M    H          Evans    CO                    False       attack   \n",
       "\n",
       "          flee  body_camera  \n",
       "0  Not fleeing        False  \n",
       "1  Not fleeing        False  \n",
       "2  Not fleeing        False  \n",
       "3  Not fleeing        False  \n",
       "4  Not fleeing        False  "
      ]
     },
     "execution_count": 22,
     "metadata": {},
     "output_type": "execute_result"
    }
   ],
   "source": [
    "kill.head()"
   ]
  },
  {
   "cell_type": "code",
   "execution_count": 23,
   "metadata": {},
   "outputs": [
    {
     "data": {
      "text/plain": [
       "(2535, 14)"
      ]
     },
     "execution_count": 23,
     "metadata": {},
     "output_type": "execute_result"
    }
   ],
   "source": [
    "kill.shape"
   ]
  },
  {
   "cell_type": "code",
   "execution_count": 24,
   "metadata": {},
   "outputs": [
    {
     "data": {
      "text/plain": [
       "TK TK                    49\n",
       "Eric Harris               2\n",
       "Michael Johnson           2\n",
       "Brandon Jones             2\n",
       "TK Tk                     2\n",
       "                         ..\n",
       "Shelly Porter             1\n",
       "Donta Taylor              1\n",
       "Kyle Riggs                1\n",
       "Michael Robert Musson     1\n",
       "Carl Lao                  1\n",
       "Name: name, Length: 2481, dtype: int64"
      ]
     },
     "execution_count": 24,
     "metadata": {},
     "output_type": "execute_result"
    }
   ],
   "source": [
    "kill.name.value_counts()"
   ]
  },
  {
   "cell_type": "code",
   "execution_count": 25,
   "metadata": {
    "_cell_guid": "c2cd6681-42a4-44c2-ba1a-46d4d61b6eea",
    "_uuid": "b3b53866f9c794ca5f85f59bc5bfc0d01a830baf",
    "scrolled": true
   },
   "outputs": [
    {
     "data": {
      "text/plain": [
       "0             [Tim, Elliot]\n",
       "1      [Lewis, Lee, Lembke]\n",
       "2    [John, Paul, Quintero]\n",
       "3        [Matthew, Hoffman]\n",
       "4      [Michael, Rodriguez]\n",
       "Name: name, dtype: object"
      ]
     },
     "execution_count": 25,
     "metadata": {},
     "output_type": "execute_result"
    }
   ],
   "source": [
    "# Problem: TK TK is most probably not a name or surname. We will clean them.\n",
    "pairs = kill.name[kill.name != 'TK TK'].str.split()\n",
    "pairs.head()"
   ]
  },
  {
   "cell_type": "code",
   "execution_count": 26,
   "metadata": {},
   "outputs": [
    {
     "data": {
      "text/plain": [
       "pandas.core.series.Series"
      ]
     },
     "execution_count": 26,
     "metadata": {},
     "output_type": "execute_result"
    }
   ],
   "source": [
    "type(pairs)"
   ]
  },
  {
   "cell_type": "markdown",
   "metadata": {},
   "source": [
    "**INSTRUCTION : Plot Most common 15 Name or Surname of killed people** "
   ]
  },
  {
   "cell_type": "raw",
   "metadata": {},
   "source": [
    "# Clue 1: You need to separate the names and surnames because we are asking most common name OR surname.\n",
    "\n",
    "# Clue 2 :After seperation make a whole list that contains both names and surnames.\n",
    "\n",
    "# Clue 3 : How to separate the name and surname pairs?\n",
    "\n",
    ">>> pairs = [(1, 'a'), (2, 'b'), (3, 'c'), (4, 'd')]\n",
    ">>> numbers, letters = zip(*pairs)\n",
    ">>> numbers\n",
    "(1, 2, 3, 4)\n",
    ">>> letters\n",
    "('a', 'b', 'c', 'd')\n",
    "\n",
    "# Clue 4: You can use Counter() and most_common() built in functions together to find the most common names or surnames, or you can write your functions for this purpose."
   ]
  },
  {
   "cell_type": "code",
   "execution_count": 27,
   "metadata": {},
   "outputs": [],
   "source": [
    "df = pd.DataFrame(pairs)"
   ]
  },
  {
   "cell_type": "code",
   "execution_count": 28,
   "metadata": {},
   "outputs": [
    {
     "data": {
      "text/html": [
       "<div>\n",
       "<style scoped>\n",
       "    .dataframe tbody tr th:only-of-type {\n",
       "        vertical-align: middle;\n",
       "    }\n",
       "\n",
       "    .dataframe tbody tr th {\n",
       "        vertical-align: top;\n",
       "    }\n",
       "\n",
       "    .dataframe thead th {\n",
       "        text-align: right;\n",
       "    }\n",
       "</style>\n",
       "<table border=\"1\" class=\"dataframe\">\n",
       "  <thead>\n",
       "    <tr style=\"text-align: right;\">\n",
       "      <th></th>\n",
       "      <th>name</th>\n",
       "    </tr>\n",
       "  </thead>\n",
       "  <tbody>\n",
       "    <tr>\n",
       "      <th>0</th>\n",
       "      <td>[Tim, Elliot]</td>\n",
       "    </tr>\n",
       "    <tr>\n",
       "      <th>1</th>\n",
       "      <td>[Lewis, Lee, Lembke]</td>\n",
       "    </tr>\n",
       "    <tr>\n",
       "      <th>2</th>\n",
       "      <td>[John, Paul, Quintero]</td>\n",
       "    </tr>\n",
       "    <tr>\n",
       "      <th>3</th>\n",
       "      <td>[Matthew, Hoffman]</td>\n",
       "    </tr>\n",
       "    <tr>\n",
       "      <th>4</th>\n",
       "      <td>[Michael, Rodriguez]</td>\n",
       "    </tr>\n",
       "  </tbody>\n",
       "</table>\n",
       "</div>"
      ],
      "text/plain": [
       "                     name\n",
       "0           [Tim, Elliot]\n",
       "1    [Lewis, Lee, Lembke]\n",
       "2  [John, Paul, Quintero]\n",
       "3      [Matthew, Hoffman]\n",
       "4    [Michael, Rodriguez]"
      ]
     },
     "execution_count": 28,
     "metadata": {},
     "output_type": "execute_result"
    }
   ],
   "source": [
    "df.head()"
   ]
  },
  {
   "cell_type": "code",
   "execution_count": 29,
   "metadata": {},
   "outputs": [],
   "source": [
    "df[\"len\"] = df.name.apply(lambda x : len(x))"
   ]
  },
  {
   "cell_type": "code",
   "execution_count": 30,
   "metadata": {},
   "outputs": [
    {
     "data": {
      "text/html": [
       "<div>\n",
       "<style scoped>\n",
       "    .dataframe tbody tr th:only-of-type {\n",
       "        vertical-align: middle;\n",
       "    }\n",
       "\n",
       "    .dataframe tbody tr th {\n",
       "        vertical-align: top;\n",
       "    }\n",
       "\n",
       "    .dataframe thead th {\n",
       "        text-align: right;\n",
       "    }\n",
       "</style>\n",
       "<table border=\"1\" class=\"dataframe\">\n",
       "  <thead>\n",
       "    <tr style=\"text-align: right;\">\n",
       "      <th></th>\n",
       "      <th>name</th>\n",
       "      <th>len</th>\n",
       "    </tr>\n",
       "  </thead>\n",
       "  <tbody>\n",
       "    <tr>\n",
       "      <th>0</th>\n",
       "      <td>[Tim, Elliot]</td>\n",
       "      <td>2</td>\n",
       "    </tr>\n",
       "    <tr>\n",
       "      <th>1</th>\n",
       "      <td>[Lewis, Lee, Lembke]</td>\n",
       "      <td>3</td>\n",
       "    </tr>\n",
       "    <tr>\n",
       "      <th>2</th>\n",
       "      <td>[John, Paul, Quintero]</td>\n",
       "      <td>3</td>\n",
       "    </tr>\n",
       "    <tr>\n",
       "      <th>3</th>\n",
       "      <td>[Matthew, Hoffman]</td>\n",
       "      <td>2</td>\n",
       "    </tr>\n",
       "    <tr>\n",
       "      <th>4</th>\n",
       "      <td>[Michael, Rodriguez]</td>\n",
       "      <td>2</td>\n",
       "    </tr>\n",
       "  </tbody>\n",
       "</table>\n",
       "</div>"
      ],
      "text/plain": [
       "                     name  len\n",
       "0           [Tim, Elliot]    2\n",
       "1    [Lewis, Lee, Lembke]    3\n",
       "2  [John, Paul, Quintero]    3\n",
       "3      [Matthew, Hoffman]    2\n",
       "4    [Michael, Rodriguez]    2"
      ]
     },
     "execution_count": 30,
     "metadata": {},
     "output_type": "execute_result"
    }
   ],
   "source": [
    "df.head()"
   ]
  },
  {
   "cell_type": "code",
   "execution_count": 31,
   "metadata": {},
   "outputs": [],
   "source": [
    "df[\"len_new\"] = df.name.apply(len)"
   ]
  },
  {
   "cell_type": "code",
   "execution_count": 32,
   "metadata": {},
   "outputs": [
    {
     "data": {
      "text/html": [
       "<div>\n",
       "<style scoped>\n",
       "    .dataframe tbody tr th:only-of-type {\n",
       "        vertical-align: middle;\n",
       "    }\n",
       "\n",
       "    .dataframe tbody tr th {\n",
       "        vertical-align: top;\n",
       "    }\n",
       "\n",
       "    .dataframe thead th {\n",
       "        text-align: right;\n",
       "    }\n",
       "</style>\n",
       "<table border=\"1\" class=\"dataframe\">\n",
       "  <thead>\n",
       "    <tr style=\"text-align: right;\">\n",
       "      <th></th>\n",
       "      <th>name</th>\n",
       "      <th>len</th>\n",
       "      <th>len_new</th>\n",
       "    </tr>\n",
       "  </thead>\n",
       "  <tbody>\n",
       "    <tr>\n",
       "      <th>0</th>\n",
       "      <td>[Tim, Elliot]</td>\n",
       "      <td>2</td>\n",
       "      <td>2</td>\n",
       "    </tr>\n",
       "    <tr>\n",
       "      <th>1</th>\n",
       "      <td>[Lewis, Lee, Lembke]</td>\n",
       "      <td>3</td>\n",
       "      <td>3</td>\n",
       "    </tr>\n",
       "    <tr>\n",
       "      <th>2</th>\n",
       "      <td>[John, Paul, Quintero]</td>\n",
       "      <td>3</td>\n",
       "      <td>3</td>\n",
       "    </tr>\n",
       "    <tr>\n",
       "      <th>3</th>\n",
       "      <td>[Matthew, Hoffman]</td>\n",
       "      <td>2</td>\n",
       "      <td>2</td>\n",
       "    </tr>\n",
       "    <tr>\n",
       "      <th>4</th>\n",
       "      <td>[Michael, Rodriguez]</td>\n",
       "      <td>2</td>\n",
       "      <td>2</td>\n",
       "    </tr>\n",
       "  </tbody>\n",
       "</table>\n",
       "</div>"
      ],
      "text/plain": [
       "                     name  len  len_new\n",
       "0           [Tim, Elliot]    2        2\n",
       "1    [Lewis, Lee, Lembke]    3        3\n",
       "2  [John, Paul, Quintero]    3        3\n",
       "3      [Matthew, Hoffman]    2        2\n",
       "4    [Michael, Rodriguez]    2        2"
      ]
     },
     "execution_count": 32,
     "metadata": {},
     "output_type": "execute_result"
    }
   ],
   "source": [
    "df.head()"
   ]
  },
  {
   "cell_type": "code",
   "execution_count": 33,
   "metadata": {},
   "outputs": [
    {
     "data": {
      "text/plain": [
       "2    1602\n",
       "3     836\n",
       "4      48\n",
       "Name: len, dtype: int64"
      ]
     },
     "execution_count": 33,
     "metadata": {},
     "output_type": "execute_result"
    }
   ],
   "source": [
    "df.len.value_counts()"
   ]
  },
  {
   "cell_type": "code",
   "execution_count": 34,
   "metadata": {},
   "outputs": [],
   "source": [
    "two_names = df.name[df.len == 2]"
   ]
  },
  {
   "cell_type": "code",
   "execution_count": 35,
   "metadata": {},
   "outputs": [
    {
     "data": {
      "text/plain": [
       "0           [Tim, Elliot]\n",
       "3      [Matthew, Hoffman]\n",
       "4    [Michael, Rodriguez]\n",
       "7        [Brock, Nichols]\n",
       "8        [Autumn, Steele]\n",
       "Name: name, dtype: object"
      ]
     },
     "execution_count": 35,
     "metadata": {},
     "output_type": "execute_result"
    }
   ],
   "source": [
    "two_names.head()"
   ]
  },
  {
   "cell_type": "code",
   "execution_count": 36,
   "metadata": {},
   "outputs": [],
   "source": [
    " three_names = df.name[df.len == 3]"
   ]
  },
  {
   "cell_type": "code",
   "execution_count": 37,
   "metadata": {
    "_cell_guid": "c2cd6681-42a4-44c2-ba1a-46d4d61b6eea",
    "_uuid": "b3b53866f9c794ca5f85f59bc5bfc0d01a830baf",
    "scrolled": true
   },
   "outputs": [],
   "source": [
    " four_names = df.name[df.len == 4]"
   ]
  },
  {
   "cell_type": "code",
   "execution_count": 38,
   "metadata": {},
   "outputs": [],
   "source": [
    "a,b = zip(*two_names)"
   ]
  },
  {
   "cell_type": "code",
   "execution_count": 39,
   "metadata": {},
   "outputs": [
    {
     "data": {
      "text/plain": [
       "('Tim', 'Matthew', 'Michael', 'Brock', 'Autumn')"
      ]
     },
     "execution_count": 39,
     "metadata": {},
     "output_type": "execute_result"
    }
   ],
   "source": [
    "a[:5]"
   ]
  },
  {
   "cell_type": "code",
   "execution_count": 40,
   "metadata": {},
   "outputs": [
    {
     "data": {
      "text/plain": [
       "('Elliot', 'Hoffman', 'Rodriguez', 'Nichols', 'Steele')"
      ]
     },
     "execution_count": 40,
     "metadata": {},
     "output_type": "execute_result"
    }
   ],
   "source": [
    "b[:5]"
   ]
  },
  {
   "cell_type": "code",
   "execution_count": 41,
   "metadata": {},
   "outputs": [],
   "source": [
    "c,d,e = zip(*three_names)"
   ]
  },
  {
   "cell_type": "code",
   "execution_count": 42,
   "metadata": {},
   "outputs": [
    {
     "data": {
      "text/plain": [
       "1       [Lewis, Lee, Lembke]\n",
       "2     [John, Paul, Quintero]\n",
       "5      [Kenneth, Joe, Brown]\n",
       "6    [Kenneth, Arnold, Buck]\n",
       "9        [Leslie, Sapp, III]\n",
       "Name: name, dtype: object"
      ]
     },
     "execution_count": 42,
     "metadata": {},
     "output_type": "execute_result"
    }
   ],
   "source": [
    "three_names.head()"
   ]
  },
  {
   "cell_type": "code",
   "execution_count": 43,
   "metadata": {},
   "outputs": [
    {
     "data": {
      "text/plain": [
       "('Lewis', 'John', 'Kenneth', 'Kenneth', 'Leslie')"
      ]
     },
     "execution_count": 43,
     "metadata": {},
     "output_type": "execute_result"
    }
   ],
   "source": [
    "c[:5]"
   ]
  },
  {
   "cell_type": "code",
   "execution_count": 44,
   "metadata": {},
   "outputs": [
    {
     "data": {
      "text/plain": [
       "('Lee', 'Paul', 'Joe', 'Arnold', 'Sapp')"
      ]
     },
     "execution_count": 44,
     "metadata": {},
     "output_type": "execute_result"
    }
   ],
   "source": [
    "d[:5]"
   ]
  },
  {
   "cell_type": "code",
   "execution_count": 45,
   "metadata": {},
   "outputs": [
    {
     "data": {
      "text/plain": [
       "('Lembke', 'Quintero', 'Brown', 'Buck', 'III')"
      ]
     },
     "execution_count": 45,
     "metadata": {},
     "output_type": "execute_result"
    }
   ],
   "source": [
    "e[:5]"
   ]
  },
  {
   "cell_type": "code",
   "execution_count": 46,
   "metadata": {},
   "outputs": [],
   "source": [
    "f,g,h,i = zip(*four_names)"
   ]
  },
  {
   "cell_type": "code",
   "execution_count": 47,
   "metadata": {},
   "outputs": [
    {
     "data": {
      "text/plain": [
       "12      [Hashim, Hanif, Ibn, Abdul-Rasheed]\n",
       "14    [Omarr, Julian, Maximillian, Jackson]\n",
       "47    [Miguel, Angel, de, Santos-Rodriguez]\n",
       "54          [Jose, Antonio, Espinoza, Ruiz]\n",
       "78             [Francis, Murphy, Rose, III]\n",
       "Name: name, dtype: object"
      ]
     },
     "execution_count": 47,
     "metadata": {},
     "output_type": "execute_result"
    }
   ],
   "source": [
    "four_names.head()"
   ]
  },
  {
   "cell_type": "code",
   "execution_count": 48,
   "metadata": {},
   "outputs": [
    {
     "data": {
      "text/plain": [
       "('Hashim', 'Omarr', 'Miguel', 'Jose', 'Francis')"
      ]
     },
     "execution_count": 48,
     "metadata": {},
     "output_type": "execute_result"
    }
   ],
   "source": [
    "f[:5]"
   ]
  },
  {
   "cell_type": "code",
   "execution_count": 49,
   "metadata": {},
   "outputs": [],
   "source": [
    "total_list = a+b+c+d+e+f+g+h+i"
   ]
  },
  {
   "cell_type": "code",
   "execution_count": 50,
   "metadata": {},
   "outputs": [
    {
     "data": {
      "text/plain": [
       "1602"
      ]
     },
     "execution_count": 50,
     "metadata": {},
     "output_type": "execute_result"
    }
   ],
   "source": [
    "len(a)"
   ]
  },
  {
   "cell_type": "code",
   "execution_count": 51,
   "metadata": {},
   "outputs": [
    {
     "data": {
      "text/plain": [
       "5904"
      ]
     },
     "execution_count": 51,
     "metadata": {},
     "output_type": "execute_result"
    }
   ],
   "source": [
    "len(total_list)"
   ]
  },
  {
   "cell_type": "code",
   "execution_count": 52,
   "metadata": {},
   "outputs": [],
   "source": [
    "name_count=Counter(total_list)"
   ]
  },
  {
   "cell_type": "code",
   "execution_count": 53,
   "metadata": {
    "jupyter": {
     "outputs_hidden": true
    }
   },
   "outputs": [
    {
     "data": {
      "text/plain": [
       "Counter({'Tim': 3,\n",
       "         'Matthew': 24,\n",
       "         'Michael': 91,\n",
       "         'Brock': 2,\n",
       "         'Autumn': 1,\n",
       "         'Patrick': 15,\n",
       "         'Ron': 2,\n",
       "         'Loren': 3,\n",
       "         'Thomas': 27,\n",
       "         'Jimmy': 5,\n",
       "         'Andy': 1,\n",
       "         'Tommy': 3,\n",
       "         'Brian': 12,\n",
       "         'Salvador': 4,\n",
       "         'Richard': 36,\n",
       "         'Marcus': 5,\n",
       "         'Mario': 8,\n",
       "         'Talbot': 1,\n",
       "         'Robert': 48,\n",
       "         'Donte': 3,\n",
       "         'Jose': 28,\n",
       "         'Nathan': 6,\n",
       "         'Scott': 27,\n",
       "         'Zaki': 1,\n",
       "         'Terence': 3,\n",
       "         'Pablo': 4,\n",
       "         'Daniel': 46,\n",
       "         'Jonathan': 13,\n",
       "         'Carter': 5,\n",
       "         'Paul': 19,\n",
       "         'Dewayne': 3,\n",
       "         'Isaac': 2,\n",
       "         'Andrew': 20,\n",
       "         'Tiano': 1,\n",
       "         'Kristiana': 1,\n",
       "         'Demaris': 1,\n",
       "         'Wendell': 1,\n",
       "         'Daryl': 1,\n",
       "         'Darin': 1,\n",
       "         'William': 47,\n",
       "         'Jessie': 3,\n",
       "         'Raymond': 11,\n",
       "         'David': 57,\n",
       "         'Chris': 3,\n",
       "         'Jermonte': 1,\n",
       "         'Tiffany': 2,\n",
       "         'Matautu': 1,\n",
       "         'Cody': 7,\n",
       "         'Ralph': 3,\n",
       "         'Alan': 12,\n",
       "         'Jacob': 7,\n",
       "         'Yuvette': 1,\n",
       "         'Anthony': 32,\n",
       "         'Jeremy': 14,\n",
       "         'Izzy': 1,\n",
       "         'Joaquin': 1,\n",
       "         'Markell': 2,\n",
       "         'Herbert': 5,\n",
       "         'John': 42,\n",
       "         'James': 57,\n",
       "         'Sawyer': 2,\n",
       "         'Vincent': 5,\n",
       "         'Joseph': 48,\n",
       "         'Larry': 8,\n",
       "         'Kenneth': 19,\n",
       "         'Desmond': 3,\n",
       "         'Antonio': 14,\n",
       "         'Phillip': 10,\n",
       "         'Andres': 1,\n",
       "         'Lavall': 1,\n",
       "         'Bruce': 8,\n",
       "         'Lawrence': 6,\n",
       "         'Betty': 1,\n",
       "         'Douglas': 12,\n",
       "         'Janisha': 1,\n",
       "         'Alejandro': 7,\n",
       "         'Ruben': 6,\n",
       "         'Kent': 2,\n",
       "         'Bradford': 1,\n",
       "         'Jerome': 5,\n",
       "         \"A'Donte\": 1,\n",
       "         'Glenn': 5,\n",
       "         'Francis': 14,\n",
       "         'Amilcar': 1,\n",
       "         'Rodney': 10,\n",
       "         'Chazsten': 1,\n",
       "         'Deven': 1,\n",
       "         'Jessica': 2,\n",
       "         'Ian': 3,\n",
       "         'Stephanie': 1,\n",
       "         'Hung': 1,\n",
       "         'Shaquille': 1,\n",
       "         'Fednel': 1,\n",
       "         'Derek': 9,\n",
       "         'Carl': 4,\n",
       "         'Tyson': 2,\n",
       "         'Naeschylus': 1,\n",
       "         'Tony': 2,\n",
       "         'Adam': 6,\n",
       "         'Aurelio': 1,\n",
       "         'Lester': 1,\n",
       "         'Jamie': 7,\n",
       "         'Christopher': 40,\n",
       "         'Edixon': 1,\n",
       "         'Theodore': 2,\n",
       "         'Benito': 1,\n",
       "         'Aaron': 9,\n",
       "         'Gilbert': 5,\n",
       "         'Bobby': 7,\n",
       "         'Fred': 5,\n",
       "         'Clifton': 2,\n",
       "         'Justin': 10,\n",
       "         'Eugene': 14,\n",
       "         'Roberto': 3,\n",
       "         'Declan': 1,\n",
       "         'Alice': 1,\n",
       "         'Jeff': 5,\n",
       "         'Kaylene': 1,\n",
       "         'Kendre': 1,\n",
       "         'Jamison': 2,\n",
       "         'Shane': 7,\n",
       "         'Brandon': 20,\n",
       "         'Tyrel': 1,\n",
       "         'Gary': 10,\n",
       "         'Jason': 25,\n",
       "         'Enoch': 1,\n",
       "         'Denzel': 1,\n",
       "         'Devin': 5,\n",
       "         'Stephen': 12,\n",
       "         'Nicholas': 13,\n",
       "         'Victor': 7,\n",
       "         'Deanne': 1,\n",
       "         'Adrian': 5,\n",
       "         'Jamalis': 1,\n",
       "         'Neil': 4,\n",
       "         'Megan': 1,\n",
       "         'Harvey': 1,\n",
       "         'Angelo': 4,\n",
       "         'Byron': 1,\n",
       "         'Benjamin': 7,\n",
       "         'Mya': 1,\n",
       "         'Shawn': 9,\n",
       "         'Darrin': 3,\n",
       "         'Donald': 13,\n",
       "         'Eric': 17,\n",
       "         'Justus': 1,\n",
       "         'Walter': 4,\n",
       "         'Ethan': 4,\n",
       "         'Ken': 1,\n",
       "         'Alexander': 13,\n",
       "         'Erick': 2,\n",
       "         'Mark': 22,\n",
       "         'Gordon': 2,\n",
       "         'Don': 6,\n",
       "         'Jess': 1,\n",
       "         'Mack': 2,\n",
       "         'Colby': 2,\n",
       "         'Tevin': 1,\n",
       "         'Dante': 2,\n",
       "         'Frank': 4,\n",
       "         'Stanley': 5,\n",
       "         'Ernesto': 5,\n",
       "         'Rodolfo': 1,\n",
       "         'Jeffrey': 18,\n",
       "         'Elias': 2,\n",
       "         'Thaddeus': 2,\n",
       "         'Erik': 3,\n",
       "         'Grover': 1,\n",
       "         'Dana': 3,\n",
       "         'Kimber': 1,\n",
       "         'Luis': 7,\n",
       "         'Reginald': 3,\n",
       "         'Lue': 1,\n",
       "         'Hector': 7,\n",
       "         'Karen': 1,\n",
       "         'Albert': 5,\n",
       "         'Dean': 8,\n",
       "         'Terrance': 1,\n",
       "         'Jared': 1,\n",
       "         'Joshua': 28,\n",
       "         'Alexia': 1,\n",
       "         'Elton': 1,\n",
       "         'Nadir': 2,\n",
       "         'Billy': 5,\n",
       "         'Roark': 1,\n",
       "         'Brendon': 1,\n",
       "         'Nephi': 2,\n",
       "         'Shaun': 2,\n",
       "         'Dedrick': 1,\n",
       "         'Sam': 3,\n",
       "         'Kelvin': 1,\n",
       "         \"D'Angelo\": 1,\n",
       "         'Alec': 1,\n",
       "         'Cary': 1,\n",
       "         'Matt': 2,\n",
       "         'Ronell': 1,\n",
       "         'Dennis': 11,\n",
       "         'Austin': 8,\n",
       "         'Timothy': 13,\n",
       "         'Alfredo': 2,\n",
       "         'Chrislon': 1,\n",
       "         'Javoris': 1,\n",
       "         'Elvin': 1,\n",
       "         'Caso': 1,\n",
       "         'Cassandra': 1,\n",
       "         'Dalton': 2,\n",
       "         'Garrett': 2,\n",
       "         'Harry': 2,\n",
       "         'Feras': 1,\n",
       "         'Simon': 2,\n",
       "         'Darrell': 3,\n",
       "         'Kyle': 9,\n",
       "         'Kevin': 16,\n",
       "         'Nehemiah': 1,\n",
       "         'Usaamah': 1,\n",
       "         'Kamal': 1,\n",
       "         'Lorenzo': 4,\n",
       "         'Rudy': 1,\n",
       "         'Miguel': 10,\n",
       "         'Edelmiro': 1,\n",
       "         'Ronald': 8,\n",
       "         'Christie': 1,\n",
       "         'Demouria': 1,\n",
       "         'Joe': 9,\n",
       "         'Damien': 2,\n",
       "         'Gene': 5,\n",
       "         'Rene': 4,\n",
       "         'Greg': 2,\n",
       "         'QuanDavier': 1,\n",
       "         'Ryan': 17,\n",
       "         'Isiah': 1,\n",
       "         'Charles': 27,\n",
       "         'Fritz': 1,\n",
       "         'Shelly': 2,\n",
       "         'Deng': 1,\n",
       "         'Zane': 1,\n",
       "         'Kris': 2,\n",
       "         'Wendy': 1,\n",
       "         'Oleg': 1,\n",
       "         'Santos': 2,\n",
       "         'Trepierre': 1,\n",
       "         'Louis': 3,\n",
       "         'Alfontish': 1,\n",
       "         'Eduardo': 4,\n",
       "         'Tyler': 10,\n",
       "         'Tyrone': 6,\n",
       "         'Randall': 5,\n",
       "         'Taylor': 8,\n",
       "         'Spencer': 4,\n",
       "         'Kaleb': 2,\n",
       "         'Ton': 1,\n",
       "         'Arturo': 3,\n",
       "         'Oscar': 4,\n",
       "         'Kawanza': 1,\n",
       "         'Hagen': 1,\n",
       "         'Tremaine': 1,\n",
       "         'Dallas': 1,\n",
       "         'Martice': 1,\n",
       "         'Cyrus': 1,\n",
       "         'Javon': 1,\n",
       "         'Freddie': 1,\n",
       "         'Salvado': 1,\n",
       "         'Frederick': 4,\n",
       "         'Rafael': 4,\n",
       "         'Chacarion': 1,\n",
       "         'Anthonie': 1,\n",
       "         'Saige': 1,\n",
       "         'Samuel': 5,\n",
       "         'Jackie': 2,\n",
       "         'Darrius': 1,\n",
       "         'Troy': 3,\n",
       "         'Jerrod': 2,\n",
       "         'Francisco': 7,\n",
       "         'Devon': 2,\n",
       "         'Tamala': 1,\n",
       "         'Seth': 1,\n",
       "         'Roger': 6,\n",
       "         'Earl': 10,\n",
       "         'Khari': 1,\n",
       "         'Zachary': 3,\n",
       "         'Philip': 5,\n",
       "         'Armando': 4,\n",
       "         'Virgil': 1,\n",
       "         'Franklin': 1,\n",
       "         'Vincente': 1,\n",
       "         'Gustavo': 2,\n",
       "         'Christian': 9,\n",
       "         'Abel': 1,\n",
       "         'Tsombe': 1,\n",
       "         'Roderick': 1,\n",
       "         'Andre': 3,\n",
       "         'Edrian': 1,\n",
       "         'Nathaniel': 4,\n",
       "         'Redel': 1,\n",
       "         'Garland': 2,\n",
       "         'Jonathon': 2,\n",
       "         'Mansur': 1,\n",
       "         'Raul': 4,\n",
       "         'Timmy': 1,\n",
       "         'Julian': 3,\n",
       "         'Marvin': 4,\n",
       "         'Curtis': 4,\n",
       "         'Todd': 10,\n",
       "         'Steven': 14,\n",
       "         'Brent': 7,\n",
       "         'Bertrand': 1,\n",
       "         'Yonas': 1,\n",
       "         'Manuel': 6,\n",
       "         'Felix': 2,\n",
       "         'Arthur': 5,\n",
       "         'Freddy': 2,\n",
       "         'Sully': 1,\n",
       "         'Harrison': 2,\n",
       "         'India': 3,\n",
       "         'Carlos': 12,\n",
       "         'Mohamed': 2,\n",
       "         'Tristan': 3,\n",
       "         'Dustin': 4,\n",
       "         'Tian': 1,\n",
       "         'Eddie': 4,\n",
       "         'Derick': 1,\n",
       "         'Clifford': 3,\n",
       "         'Florencio': 2,\n",
       "         'Jorge': 8,\n",
       "         'Gregory': 6,\n",
       "         'Lucien': 1,\n",
       "         'Jerrald': 1,\n",
       "         'Gerardo': 4,\n",
       "         'Tina': 2,\n",
       "         'Dominic': 4,\n",
       "         'Junior': 2,\n",
       "         'Alberto': 3,\n",
       "         'Jeffery': 2,\n",
       "         'Omar': 6,\n",
       "         'Amado': 1,\n",
       "         'Margaret': 1,\n",
       "         'Travis': 9,\n",
       "         'Rudolph': 2,\n",
       "         'Leslie': 3,\n",
       "         'Gino': 2,\n",
       "         'Dequan': 1,\n",
       "         'Corey': 4,\n",
       "         'Krikor': 1,\n",
       "         'Lamontez': 1,\n",
       "         'Joel': 8,\n",
       "         'Darien': 1,\n",
       "         'Juan': 13,\n",
       "         'Rolly': 1,\n",
       "         'Jon': 2,\n",
       "         'Marquesha': 1,\n",
       "         'Kobvey': 1,\n",
       "         'Tyrie': 1,\n",
       "         'Noah': 1,\n",
       "         'Killian': 1,\n",
       "         'Jack': 4,\n",
       "         'Faisal': 1,\n",
       "         'Laura': 1,\n",
       "         'Delvin': 1,\n",
       "         'Cesar': 4,\n",
       "         'Leonel': 1,\n",
       "         'Moises': 2,\n",
       "         'Ramon': 5,\n",
       "         'Jamar': 1,\n",
       "         'Yohans': 1,\n",
       "         'Demetrius': 4,\n",
       "         'Jeray': 1,\n",
       "         'Derry': 1,\n",
       "         'Cornelius': 2,\n",
       "         'Steve': 5,\n",
       "         'Darick': 1,\n",
       "         'Henry': 12,\n",
       "         'Barry': 6,\n",
       "         'Somer': 1,\n",
       "         'Rick': 1,\n",
       "         'Lionel': 4,\n",
       "         'Tuan': 1,\n",
       "         'Darius': 4,\n",
       "         'Fernando': 6,\n",
       "         'Tashfeen': 1,\n",
       "         'Syed': 1,\n",
       "         'Allen': 23,\n",
       "         'Ivan': 2,\n",
       "         'Sheilah': 1,\n",
       "         'Carlumandarlo': 1,\n",
       "         'Roy': 9,\n",
       "         'Efrain': 3,\n",
       "         'Shirley': 2,\n",
       "         'Enrique': 1,\n",
       "         'Calvin': 2,\n",
       "         'Erica': 1,\n",
       "         'Amos': 1,\n",
       "         'Trayvon': 1,\n",
       "         'Leroy': 5,\n",
       "         'Guadalupe': 2,\n",
       "         'Chan': 1,\n",
       "         'Schuylar': 1,\n",
       "         'Lonnie': 3,\n",
       "         'Bettie': 1,\n",
       "         'Quintonio': 1,\n",
       "         'Sean': 6,\n",
       "         'Siolosega': 1,\n",
       "         'Tien': 1,\n",
       "         'Keith': 14,\n",
       "         'Lance': 5,\n",
       "         'Germonta': 1,\n",
       "         'Ramone': 1,\n",
       "         'Ciara': 1,\n",
       "         'Herman': 2,\n",
       "         'Willie': 3,\n",
       "         'Rakeem': 1,\n",
       "         'Alfred': 4,\n",
       "         'Clarence': 3,\n",
       "         'Crayton': 1,\n",
       "         'Jordan': 5,\n",
       "         'Jim': 1,\n",
       "         'Cedric': 4,\n",
       "         'Sergio': 7,\n",
       "         'Johnathan': 2,\n",
       "         'Thongsavanh': 1,\n",
       "         'Janet': 1,\n",
       "         'Randolph': 2,\n",
       "         'Angela': 1,\n",
       "         'Jeffry': 1,\n",
       "         'Peter': 10,\n",
       "         'Kayden': 1,\n",
       "         'Antronie': 1,\n",
       "         'Shalamar': 1,\n",
       "         'Scottie': 1,\n",
       "         'Alijah': 1,\n",
       "         'Sahlah': 1,\n",
       "         'Calin': 1,\n",
       "         'Rammy': 1,\n",
       "         'Marc': 2,\n",
       "         'Destry': 1,\n",
       "         'Ronnie': 4,\n",
       "         'Danny': 2,\n",
       "         'Edgar': 4,\n",
       "         'Marcos': 2,\n",
       "         'Che': 1,\n",
       "         'Sherrisa': 1,\n",
       "         'Kisha': 2,\n",
       "         'Marquintan': 1,\n",
       "         'Patricia': 1,\n",
       "         'Rouven': 1,\n",
       "         'Baltazar': 1,\n",
       "         'Alex': 2,\n",
       "         'Martin': 14,\n",
       "         'Luke': 4,\n",
       "         'Akiel': 1,\n",
       "         'Dimitri': 1,\n",
       "         'Osvaldo': 1,\n",
       "         'Bryon': 1,\n",
       "         'Wesley': 6,\n",
       "         'German': 1,\n",
       "         'Tyre': 3,\n",
       "         'Teodoro': 1,\n",
       "         'Marco': 3,\n",
       "         'Gevork': 1,\n",
       "         'Jacai': 1,\n",
       "         'Lamar': 5,\n",
       "         'Map': 1,\n",
       "         'Sunny': 1,\n",
       "         'Thurman': 1,\n",
       "         'Abraham': 4,\n",
       "         'Dylan': 7,\n",
       "         'Alexio': 1,\n",
       "         'Dominique': 2,\n",
       "         'Jermon': 1,\n",
       "         'Loreal': 1,\n",
       "         'Denise': 1,\n",
       "         'Angel': 14,\n",
       "         'Kimani': 1,\n",
       "         'Jesus': 8,\n",
       "         'Cameron': 5,\n",
       "         'Melissa': 3,\n",
       "         'Laronda': 1,\n",
       "         'Dazion': 1,\n",
       "         'Lamont': 7,\n",
       "         'Diahlo': 1,\n",
       "         'Quron': 1,\n",
       "         'Pierre': 2,\n",
       "         'Dion': 2,\n",
       "         'Koltlee': 1,\n",
       "         'Clemente': 1,\n",
       "         'George': 10,\n",
       "         'Edson': 1,\n",
       "         'Sylasone': 1,\n",
       "         'Jorevis': 1,\n",
       "         'Demarcus': 1,\n",
       "         'Mitchell': 5,\n",
       "         'Robin': 3,\n",
       "         'Jacquelyn': 1,\n",
       "         'Damon': 6,\n",
       "         'Lee': 38,\n",
       "         'Ashtian': 1,\n",
       "         'Oswald': 1,\n",
       "         'Bender': 1,\n",
       "         'Marion': 2,\n",
       "         'Charlin': 1,\n",
       "         'Burt': 1,\n",
       "         'Deresha': 1,\n",
       "         'Jaffort': 1,\n",
       "         'Thongsoune': 1,\n",
       "         'Jabril': 1,\n",
       "         'Garry': 1,\n",
       "         'Israel': 2,\n",
       "         'Jeremias': 1,\n",
       "         'Jaime': 1,\n",
       "         'Norman': 4,\n",
       "         'Vernell': 1,\n",
       "         'Bryson': 1,\n",
       "         'Verl': 1,\n",
       "         'Doll': 1,\n",
       "         'Warren': 2,\n",
       "         'TK': 2,\n",
       "         'Devonte': 1,\n",
       "         'Tk': 4,\n",
       "         'Terry': 8,\n",
       "         'Osee': 1,\n",
       "         'Demarco': 2,\n",
       "         'Clayton': 2,\n",
       "         'Edward': 19,\n",
       "         'Noel': 5,\n",
       "         'Mohammad': 4,\n",
       "         'Russell': 5,\n",
       "         'Sergey': 1,\n",
       "         'Antwun': 1,\n",
       "         'Rashaun': 1,\n",
       "         'Lane': 4,\n",
       "         'Pedro': 5,\n",
       "         'Josiah': 1,\n",
       "         'Isaiah': 5,\n",
       "         'Jay': 5,\n",
       "         'Josh': 2,\n",
       "         'Ismael': 2,\n",
       "         'Randy': 7,\n",
       "         'Christy': 1,\n",
       "         'Waldemar': 1,\n",
       "         'Rodrigo': 1,\n",
       "         'Germichael': 1,\n",
       "         'Sherman': 1,\n",
       "         'Blake': 6,\n",
       "         'Walden': 1,\n",
       "         'Lafayette': 1,\n",
       "         'Helmut': 1,\n",
       "         'Shannon': 3,\n",
       "         'Sidney': 1,\n",
       "         'Alton': 3,\n",
       "         'Philando': 1,\n",
       "         'Earnest': 1,\n",
       "         'Orville': 1,\n",
       "         'Jermaine': 2,\n",
       "         'Jerry': 4,\n",
       "         'BJ': 1,\n",
       "         'Bernard': 4,\n",
       "         'Scot': 2,\n",
       "         'Dalvin': 1,\n",
       "         'Saddam': 1,\n",
       "         'Donnell': 2,\n",
       "         'Melvin': 3,\n",
       "         'Limichael': 1,\n",
       "         'Korryn': 1,\n",
       "         'DeMarco': 1,\n",
       "         'Bradley': 5,\n",
       "         'E.J.': 1,\n",
       "         'Johannes': 2,\n",
       "         'Jawari': 1,\n",
       "         'Darnell': 7,\n",
       "         'Sylville': 1,\n",
       "         'Jovany': 1,\n",
       "         'Kenney': 1,\n",
       "         'Chad': 5,\n",
       "         'Trenton': 1,\n",
       "         'Marcelo': 1,\n",
       "         'Donta': 1,\n",
       "         'Darrel': 2,\n",
       "         'Levonia': 1,\n",
       "         'Ed': 2,\n",
       "         'Moses': 2,\n",
       "         'Ricardo': 3,\n",
       "         'Terrence': 4,\n",
       "         'Jesse': 6,\n",
       "         'Lucas': 3,\n",
       "         'Dahir': 1,\n",
       "         'Michelle': 4,\n",
       "         'Leeland': 1,\n",
       "         'Najier': 1,\n",
       "         'Carnell': 1,\n",
       "         'Isaias': 1,\n",
       "         'Kim': 2,\n",
       "         'Maurico': 1,\n",
       "         'Kheyanev': 1,\n",
       "         'Devan': 1,\n",
       "         'Dominick': 1,\n",
       "         'Kirk': 4,\n",
       "         'Rolando': 1,\n",
       "         'Keegan': 1,\n",
       "         'Deborah': 1,\n",
       "         'Javier': 4,\n",
       "         'Renee': 1,\n",
       "         'Kenny': 1,\n",
       "         'Jun': 1,\n",
       "         'Ashley': 3,\n",
       "         'Wilton': 1,\n",
       "         'Ferguson': 3,\n",
       "         'Rita': 1,\n",
       "         'Darryl': 2,\n",
       "         'Kenton': 1,\n",
       "         'Evan': 1,\n",
       "         'Rasheem': 1,\n",
       "         'Edmund': 1,\n",
       "         'Samson': 2,\n",
       "         'Gabriel': 4,\n",
       "         'Adalid': 1,\n",
       "         'Erickson': 2,\n",
       "         'Talif': 1,\n",
       "         'Kajuan': 1,\n",
       "         'Cleotha': 1,\n",
       "         'Terrell': 2,\n",
       "         'Irecas': 1,\n",
       "         'Toby': 1,\n",
       "         'Quinton': 1,\n",
       "         'Isreal': 1,\n",
       "         'Westley': 1,\n",
       "         'Waltki': 1,\n",
       "         'Amber': 1,\n",
       "         'Fidel': 1,\n",
       "         'Chassady': 1,\n",
       "         'Nick': 1,\n",
       "         'Colton': 2,\n",
       "         'Zhonghua': 1,\n",
       "         'Gerald': 3,\n",
       "         'Judy': 1,\n",
       "         'Alfonso': 1,\n",
       "         'Jake': 2,\n",
       "         'Jamal': 5,\n",
       "         'Ricky': 3,\n",
       "         'Trevon': 2,\n",
       "         'Dale': 6,\n",
       "         'JR': 1,\n",
       "         'Davion': 1,\n",
       "         'Darrion': 1,\n",
       "         'Hafez': 1,\n",
       "         'Jahlire': 1,\n",
       "         'Sinuon': 1,\n",
       "         'Stoney': 1,\n",
       "         'Genevive': 1,\n",
       "         'Marquis': 2,\n",
       "         'Elijah': 1,\n",
       "         'Armond': 1,\n",
       "         'Josue': 2,\n",
       "         'Arties': 1,\n",
       "         'Deaundre': 1,\n",
       "         \"Mi'Chance\": 1,\n",
       "         'Val': 1,\n",
       "         'Refugio': 1,\n",
       "         'Tavis': 1,\n",
       "         'Yia': 1,\n",
       "         'Nana': 1,\n",
       "         'Cole': 4,\n",
       "         'Kadhar': 1,\n",
       "         'Ambroshia': 1,\n",
       "         'Pekelo': 1,\n",
       "         'Drey': 1,\n",
       "         'Raynard': 1,\n",
       "         'Mauro': 1,\n",
       "         'Kadeem': 1,\n",
       "         'Keo': 1,\n",
       "         'Nicolas': 2,\n",
       "         'Medger': 1,\n",
       "         'Jimmie': 3,\n",
       "         'Joey': 2,\n",
       "         'Dave': 1,\n",
       "         'Iaroslav': 1,\n",
       "         'Alteria': 1,\n",
       "         'Nengmy': 1,\n",
       "         'Phosowath': 1,\n",
       "         'Olugbalah': 1,\n",
       "         'Darren': 4,\n",
       "         'Casey': 3,\n",
       "         'Damarius': 1,\n",
       "         'Ray': 16,\n",
       "         'Daezion': 1,\n",
       "         'Kendell': 1,\n",
       "         'Gavin': 3,\n",
       "         'Burgon': 1,\n",
       "         'Avery': 2,\n",
       "         'Caleb': 3,\n",
       "         'Mirza': 1,\n",
       "         'Malik': 2,\n",
       "         'Lucille': 1,\n",
       "         'Landon': 2,\n",
       "         'Jayson': 1,\n",
       "         'Maxwell': 1,\n",
       "         'Jonie': 1,\n",
       "         'Jaison': 1,\n",
       "         'Emmanuel': 2,\n",
       "         'Isabelle': 1,\n",
       "         'Edwin': 3,\n",
       "         'Marshall': 6,\n",
       "         'Naway': 1,\n",
       "         'Corsean': 1,\n",
       "         'Michele': 1,\n",
       "         'Johnny': 3,\n",
       "         'Eleuterio': 1,\n",
       "         'Chazz': 1,\n",
       "         'Charleena': 1,\n",
       "         'Robb': 1,\n",
       "         'Santino': 2,\n",
       "         'Giovonn': 1,\n",
       "         'Deveonte': 1,\n",
       "         'Rip': 1,\n",
       "         'Chet': 1,\n",
       "         'Brett': 1,\n",
       "         'Quintec': 1,\n",
       "         'Carroll': 2,\n",
       "         'Dejuan': 2,\n",
       "         'Brayant': 1,\n",
       "         'Chancey': 1,\n",
       "         'Gerber': 1,\n",
       "         'Justine': 1,\n",
       "         'Farhad': 1,\n",
       "         'Yahir': 1,\n",
       "         'Vicente': 1,\n",
       "         'Aries': 1,\n",
       "         'Susan': 1,\n",
       "         'Deltra': 1,\n",
       "         'Dwayne': 3,\n",
       "         'Elliot': 1,\n",
       "         'Hoffman': 2,\n",
       "         'Rodriguez': 13,\n",
       "         'Nichols': 3,\n",
       "         'Steele': 2,\n",
       "         'Wetter': 1,\n",
       "         'Sneed': 1,\n",
       "         'Simpson': 4,\n",
       "         'Hamby': 1,\n",
       "         'Foreman': 2,\n",
       "         'Martinez': 10,\n",
       "         'Smith': 36,\n",
       "         'Barbosa': 1,\n",
       "         'Figueroa': 2,\n",
       "         'McClendon': 2,\n",
       "         'Golden': 1,\n",
       "         'Goebel': 1,\n",
       "         'Schroeder': 2,\n",
       "         'Edwards': 6,\n",
       "         'Sowell': 2,\n",
       "         'Ceja': 1,\n",
       "         'Massey': 1,\n",
       "         'Hall': 13,\n",
       "         'Shinwary': 1,\n",
       "         'Walker': 3,\n",
       "         'Meza': 1,\n",
       "         'Brumley': 1,\n",
       "         'Guillory': 2,\n",
       "         'Castle': 1,\n",
       "         'Campbell': 5,\n",
       "         'Carr': 2,\n",
       "         'Holmes': 3,\n",
       "         'Toto': 1,\n",
       "         'Meton': 1,\n",
       "         'Coignard': 1,\n",
       "         'Turner': 4,\n",
       "         'King': 6,\n",
       "         'Myler': 1,\n",
       "         'Hutchins': 1,\n",
       "         'Hernandez': 13,\n",
       "         'Kmetz': 1,\n",
       "         'Garcia': 14,\n",
       "         'Ingram': 1,\n",
       "         'Fletcher': 4,\n",
       "         'Nuu': 1,\n",
       "         'Karasek': 1,\n",
       "         'Willis': 3,\n",
       "         'Haglund': 1,\n",
       "         'Kassick': 1,\n",
       "         'Henderson': 5,\n",
       "         'Purvis': 1,\n",
       "         'Lett': 1,\n",
       "         'Colon': 2,\n",
       "         'Muna': 1,\n",
       "         'Atkins': 1,\n",
       "         'Hill': 4,\n",
       "         'Flache': 1,\n",
       "         'Cordaro': 1,\n",
       "         'Paffen': 1,\n",
       "         'Hostetter': 1,\n",
       "         'Kreyssig': 1,\n",
       "         'Luster': 1,\n",
       "         'Zambrano-Montes': 1,\n",
       "         'Bess': 2,\n",
       "         'Fritze': 1,\n",
       "         'Watkins': 4,\n",
       "         'Lara-Rodriguez': 1,\n",
       "         'Carlin': 1,\n",
       "         'Mejia': 2,\n",
       "         'Steward': 1,\n",
       "         'Caldwell': 2,\n",
       "         'Evans': 9,\n",
       "         'Sexton': 2,\n",
       "         'Ireland': 1,\n",
       "         'Lundy': 1,\n",
       "         'Sparks': 1,\n",
       "         'Fonville': 1,\n",
       "         'Salazar': 4,\n",
       "         'Villalpando': 1,\n",
       "         'Harris': 11,\n",
       "         'Leonard': 2,\n",
       "         'Elrod': 1,\n",
       "         'Kohl': 1,\n",
       "         'Giaquinta': 1,\n",
       "         'Washington': 6,\n",
       "         'Biegert': 1,\n",
       "         'Lewis': 7,\n",
       "         'Spivey': 1,\n",
       "         'Cuevas': 1,\n",
       "         'Perez-Lopez': 1,\n",
       "         'Biggs': 2,\n",
       "         'Freeman': 1,\n",
       "         'Guilford': 1,\n",
       "         'Uribe': 1,\n",
       "         'Sherrod': 1,\n",
       "         'Trieu': 1,\n",
       "         'Barrow': 1,\n",
       "         'Rhinvil': 1,\n",
       "         'Metz': 1,\n",
       "         'Cruice': 1,\n",
       "         'Lao': 1,\n",
       "         'Hubbard': 1,\n",
       "         'Vinzant': 1,\n",
       "         'Robinson': 10,\n",
       "         'Reinhart': 1,\n",
       "         'Duarte': 1,\n",
       "         'McKillop': 1,\n",
       "         'Brown': 18,\n",
       "         'Croom': 1,\n",
       "         'Franco': 2,\n",
       "         'Johnson': 32,\n",
       "         'Greenwell': 1,\n",
       "         'Osorio': 1,\n",
       "         'Valdez': 4,\n",
       "         'Fleury': 1,\n",
       "         'Gross': 1,\n",
       "         'Liggett': 1,\n",
       "         'Driver': 1,\n",
       "         'Perez': 8,\n",
       "         'Castilleja': 1,\n",
       "         'Reintzel': 1,\n",
       "         'Siler': 1,\n",
       "         'Tolkinen': 1,\n",
       "         'Leon': 4,\n",
       "         'Owen': 1,\n",
       "         'Stone': 1,\n",
       "         'Alston': 1,\n",
       "         'Childress': 2,\n",
       "         'Burdge': 1,\n",
       "         'Jones': 14,\n",
       "         'Rapp': 1,\n",
       "         'Fowler': 1,\n",
       "         'White': 6,\n",
       "         'Vick': 1,\n",
       "         'Ellis': 2,\n",
       "         'Page': 2,\n",
       "         'Gaver': 1,\n",
       "         'Conley': 1,\n",
       "         'Gates': 2,\n",
       "         'Snyder': 3,\n",
       "         'Dunham': 1,\n",
       "         'Terrazas': 1,\n",
       "         'Tassinari': 1,\n",
       "         'Choate': 1,\n",
       "         'Solis': 1,\n",
       "         'Kendrick': 1,\n",
       "         'Seifert': 1,\n",
       "         'Hockaday': 1,\n",
       "         'Oates': 1,\n",
       "         'West': 4,\n",
       "         'Rooker': 1,\n",
       "         'Babb': 1,\n",
       "         'Anderson': 15,\n",
       "         'Quezada': 2,\n",
       "         'Clyde': 3,\n",
       "         'Langford': 1,\n",
       "         'Hicks': 5,\n",
       "         'Rutledge': 1,\n",
       "         'Prevatt': 1,\n",
       "         'Howell': 1,\n",
       "         'Noll': 1,\n",
       "         'Cockerel': 1,\n",
       "         'Hanna': 1,\n",
       "         'Myers': 2,\n",
       "         'Rose': 3,\n",
       "         'Faith': 1,\n",
       "         'Kimbrell': 1,\n",
       "         'Leipold': 1,\n",
       "         'Burgess': 4,\n",
       "         'Reed': 2,\n",
       "         'Long': 6,\n",
       "         'Jimenez': 2,\n",
       "         'Barkley': 1,\n",
       "         'Noble': 2,\n",
       "         'Shephard': 1,\n",
       "         'Watson': 3,\n",
       "         'Flores': 7,\n",
       "         'Velazquez': 1,\n",
       "         'Kemp': 1,\n",
       "         'Cavazos': 1,\n",
       "         'McCarroll': 1,\n",
       "         'Tellez': 1,\n",
       "         'Sapp': 2,\n",
       "         'Foster': 2,\n",
       "         'Hlavinka': 1,\n",
       "         'Wolfe': 1,\n",
       "         'Covarrubias': 1,\n",
       "         'Key': 1,\n",
       "         'Chapman': 1,\n",
       "         'Efraim': 1,\n",
       "         'McGregor': 1,\n",
       "         'Vang': 2,\n",
       "         'Valadez': 1,\n",
       "         'Potts': 1,\n",
       "         'Morejon': 1,\n",
       "         'Janks': 1,\n",
       "         'Davis': 14,\n",
       "         'Hanson': 1,\n",
       "         'Genova': 1,\n",
       "         'Kellom': 1,\n",
       "         'Parker': 5,\n",
       "         'Green': 5,\n",
       "         'Jackson': 10,\n",
       "         'Deysie': 1,\n",
       "         'Chavez-Diaz': 1,\n",
       "         'Adkins': 1,\n",
       "         'Acree': 1,\n",
       "         'Mathena': 1,\n",
       "         'Soofi': 1,\n",
       "         'Grimm': 1,\n",
       "         'Asher': 1,\n",
       "         'Cook': 3,\n",
       "         'Murphy': 4,\n",
       "         'Arriguin': 1,\n",
       "         'Schwalm': 1,\n",
       "         'Cunningham': 1,\n",
       "         'Goldston': 1,\n",
       "         'Way': 1,\n",
       "         'Stallworth': 1,\n",
       "         'Zalonka': 1,\n",
       "         'Ouzounian': 1,\n",
       "         'Farrar': 1,\n",
       "         'Coates': 1,\n",
       "         'Wade': 3,\n",
       "         'Fiel': 1,\n",
       "         'Goodner': 1,\n",
       "         'Rials-Torres': 1,\n",
       "         'McIntosh': 1,\n",
       "         'Gaines': 3,\n",
       "         'Gomez': 6,\n",
       "         'Colley': 1,\n",
       "         'Talbott': 1,\n",
       "         'Wheeler': 1,\n",
       "         'Diaz': 5,\n",
       "         'Lowery': 1,\n",
       "         'Horn': 1,\n",
       "         'Bolin': 1,\n",
       "         'Briggs': 3,\n",
       "         'Branch': 2,\n",
       "         'Williams': 18,\n",
       "         'McAllister': 1,\n",
       "         'Sandeno': 1,\n",
       "         'Morad': 1,\n",
       "         'Hubble': 1,\n",
       "         'Morgan': 5,\n",
       "         'Strong': 1,\n",
       "         'Dothard': 1,\n",
       "         'Baker': 9,\n",
       "         'Fischer': 2,\n",
       "         'Box': 1,\n",
       "         'Bushey': 1,\n",
       "         'Ladd': 1,\n",
       "         'Rahim': 1,\n",
       "         'Dajani': 1,\n",
       "         'Garza': 3,\n",
       "         'Baca': 1,\n",
       "         'Neal': 1,\n",
       "         'Cathers': 1,\n",
       "         'Hogg': 1,\n",
       "         'Smillie': 1,\n",
       "         'Nevels': 1,\n",
       "         'Ramirez': 8,\n",
       "         'Warolf': 1,\n",
       "         'Linhart': 1,\n",
       "         'Hartley': 1,\n",
       "         'Bolinger': 1,\n",
       "         'Hampton': 1,\n",
       "         'Ziegler': 1,\n",
       "         'Phillips': 6,\n",
       "         'Severe': 1,\n",
       "         'Peralta-Lantigua': 1,\n",
       "         'Haendiges': 1,\n",
       "         ...})"
      ]
     },
     "execution_count": 53,
     "metadata": {},
     "output_type": "execute_result"
    }
   ],
   "source": [
    "name_count"
   ]
  },
  {
   "cell_type": "code",
   "execution_count": 54,
   "metadata": {},
   "outputs": [],
   "source": [
    "most_common_names = name_count.most_common(15)"
   ]
  },
  {
   "cell_type": "code",
   "execution_count": 55,
   "metadata": {},
   "outputs": [
    {
     "data": {
      "text/plain": [
       "[('Michael', 91),\n",
       " ('David', 57),\n",
       " ('James', 57),\n",
       " ('Robert', 48),\n",
       " ('Joseph', 48),\n",
       " ('William', 47),\n",
       " ('Daniel', 46),\n",
       " ('John', 42),\n",
       " ('Christopher', 40),\n",
       " ('Lee', 38),\n",
       " ('Richard', 36),\n",
       " ('Smith', 36),\n",
       " ('Anthony', 32),\n",
       " ('Johnson', 32),\n",
       " ('J.', 32)]"
      ]
     },
     "execution_count": 55,
     "metadata": {},
     "output_type": "execute_result"
    }
   ],
   "source": [
    "most_common_names"
   ]
  },
  {
   "cell_type": "code",
   "execution_count": 56,
   "metadata": {},
   "outputs": [],
   "source": [
    "x,y = zip(*most_common_names)"
   ]
  },
  {
   "cell_type": "code",
   "execution_count": 57,
   "metadata": {},
   "outputs": [],
   "source": [
    "x,y =list(x), list(y)"
   ]
  },
  {
   "cell_type": "code",
   "execution_count": 58,
   "metadata": {},
   "outputs": [
    {
     "data": {
      "text/plain": [
       "list"
      ]
     },
     "execution_count": 58,
     "metadata": {},
     "output_type": "execute_result"
    }
   ],
   "source": [
    "type(x)"
   ]
  },
  {
   "cell_type": "code",
   "execution_count": 59,
   "metadata": {},
   "outputs": [
    {
     "data": {
      "image/png": "[encoded data removed]",
      "text/plain": [
       "<Figure size 1080x504 with 1 Axes>"
      ]
     },
     "metadata": {
      "needs_background": "light"
     },
     "output_type": "display_data"
    }
   ],
   "source": [
    "plt.figure(figsize=(15,7))          # alternative method like matplotlib\n",
    "g=sns.barplot(x, y)\n",
    "plt.xticks(rotation=45)\n",
    "plt.xlabel('Name or Surname of Killed People')\n",
    "plt.ylabel('Frequency')\n",
    "plt.title('Most Common 15 Name or Surname')\n",
    "\n",
    "for p in g.patches:\n",
    "    g.annotate((p.get_height()), (p.get_x()+0.2, p.get_height()+0.5));"
   ]
  },
  {
   "cell_type": "markdown",
   "metadata": {},
   "source": [
    "## 3. Killed People According to Races (Pie Chart)"
   ]
  },
  {
   "cell_type": "code",
   "execution_count": 60,
   "metadata": {},
   "outputs": [
    {
     "data": {
      "text/html": [
       "<div>\n",
       "<style scoped>\n",
       "    .dataframe tbody tr th:only-of-type {\n",
       "        vertical-align: middle;\n",
       "    }\n",
       "\n",
       "    .dataframe tbody tr th {\n",
       "        vertical-align: top;\n",
       "    }\n",
       "\n",
       "    .dataframe thead th {\n",
       "        text-align: right;\n",
       "    }\n",
       "</style>\n",
       "<table border=\"1\" class=\"dataframe\">\n",
       "  <thead>\n",
       "    <tr style=\"text-align: right;\">\n",
       "      <th></th>\n",
       "      <th>id</th>\n",
       "      <th>name</th>\n",
       "      <th>date</th>\n",
       "      <th>manner_of_death</th>\n",
       "      <th>armed</th>\n",
       "      <th>age</th>\n",
       "      <th>gender</th>\n",
       "      <th>race</th>\n",
       "      <th>city</th>\n",
       "      <th>state</th>\n",
       "      <th>signs_of_mental_illness</th>\n",
       "      <th>threat_level</th>\n",
       "      <th>flee</th>\n",
       "      <th>body_camera</th>\n",
       "    </tr>\n",
       "  </thead>\n",
       "  <tbody>\n",
       "    <tr>\n",
       "      <th>0</th>\n",
       "      <td>3</td>\n",
       "      <td>Tim Elliot</td>\n",
       "      <td>02/01/15</td>\n",
       "      <td>shot</td>\n",
       "      <td>gun</td>\n",
       "      <td>53.0</td>\n",
       "      <td>M</td>\n",
       "      <td>A</td>\n",
       "      <td>Shelton</td>\n",
       "      <td>WA</td>\n",
       "      <td>True</td>\n",
       "      <td>attack</td>\n",
       "      <td>Not fleeing</td>\n",
       "      <td>False</td>\n",
       "    </tr>\n",
       "    <tr>\n",
       "      <th>1</th>\n",
       "      <td>4</td>\n",
       "      <td>Lewis Lee Lembke</td>\n",
       "      <td>02/01/15</td>\n",
       "      <td>shot</td>\n",
       "      <td>gun</td>\n",
       "      <td>47.0</td>\n",
       "      <td>M</td>\n",
       "      <td>W</td>\n",
       "      <td>Aloha</td>\n",
       "      <td>OR</td>\n",
       "      <td>False</td>\n",
       "      <td>attack</td>\n",
       "      <td>Not fleeing</td>\n",
       "      <td>False</td>\n",
       "    </tr>\n",
       "    <tr>\n",
       "      <th>2</th>\n",
       "      <td>5</td>\n",
       "      <td>John Paul Quintero</td>\n",
       "      <td>03/01/15</td>\n",
       "      <td>shot and Tasered</td>\n",
       "      <td>unarmed</td>\n",
       "      <td>23.0</td>\n",
       "      <td>M</td>\n",
       "      <td>H</td>\n",
       "      <td>Wichita</td>\n",
       "      <td>KS</td>\n",
       "      <td>False</td>\n",
       "      <td>other</td>\n",
       "      <td>Not fleeing</td>\n",
       "      <td>False</td>\n",
       "    </tr>\n",
       "    <tr>\n",
       "      <th>3</th>\n",
       "      <td>8</td>\n",
       "      <td>Matthew Hoffman</td>\n",
       "      <td>04/01/15</td>\n",
       "      <td>shot</td>\n",
       "      <td>toy weapon</td>\n",
       "      <td>32.0</td>\n",
       "      <td>M</td>\n",
       "      <td>W</td>\n",
       "      <td>San Francisco</td>\n",
       "      <td>CA</td>\n",
       "      <td>True</td>\n",
       "      <td>attack</td>\n",
       "      <td>Not fleeing</td>\n",
       "      <td>False</td>\n",
       "    </tr>\n",
       "    <tr>\n",
       "      <th>4</th>\n",
       "      <td>9</td>\n",
       "      <td>Michael Rodriguez</td>\n",
       "      <td>04/01/15</td>\n",
       "      <td>shot</td>\n",
       "      <td>nail gun</td>\n",
       "      <td>39.0</td>\n",
       "      <td>M</td>\n",
       "      <td>H</td>\n",
       "      <td>Evans</td>\n",
       "      <td>CO</td>\n",
       "      <td>False</td>\n",
       "      <td>attack</td>\n",
       "      <td>Not fleeing</td>\n",
       "      <td>False</td>\n",
       "    </tr>\n",
       "  </tbody>\n",
       "</table>\n",
       "</div>"
      ],
      "text/plain": [
       "   id                name      date   manner_of_death       armed   age  \\\n",
       "0   3          Tim Elliot  02/01/15              shot         gun  53.0   \n",
       "1   4    Lewis Lee Lembke  02/01/15              shot         gun  47.0   \n",
       "2   5  John Paul Quintero  03/01/15  shot and Tasered     unarmed  23.0   \n",
       "3   8     Matthew Hoffman  04/01/15              shot  toy weapon  32.0   \n",
       "4   9   Michael Rodriguez  04/01/15              shot    nail gun  39.0   \n",
       "\n",
       "  gender race           city state  signs_of_mental_illness threat_level  \\\n",
       "0      M    A        Shelton    WA                     True       attack   \n",
       "1      M    W          Aloha    OR                    False       attack   \n",
       "2      M    H        Wichita    KS                    False        other   \n",
       "3      M    W  San Francisco    CA                     True       attack   \n",
       "4      M    H          Evans    CO                    False       attack   \n",
       "\n",
       "          flee  body_camera  \n",
       "0  Not fleeing        False  \n",
       "1  Not fleeing        False  \n",
       "2  Not fleeing        False  \n",
       "3  Not fleeing        False  \n",
       "4  Not fleeing        False  "
      ]
     },
     "execution_count": 60,
     "metadata": {},
     "output_type": "execute_result"
    }
   ],
   "source": [
    "kill.head()"
   ]
  },
  {
   "cell_type": "code",
   "execution_count": 61,
   "metadata": {
    "_uuid": "73ef9a67518196c14338e28236b5054186fabdc1"
   },
   "outputs": [
    {
     "data": {
      "text/plain": [
       "array(['A', 'W', 'H', 'B', 'O', nan, 'N'], dtype=object)"
      ]
     },
     "execution_count": 61,
     "metadata": {},
     "output_type": "execute_result"
    }
   ],
   "source": [
    "kill.race.unique()"
   ]
  },
  {
   "cell_type": "code",
   "execution_count": 62,
   "metadata": {},
   "outputs": [
    {
     "data": {
      "text/plain": [
       "W    1201\n",
       "B     618\n",
       "H     423\n",
       "A      39\n",
       "N      31\n",
       "O      28\n",
       "Name: race, dtype: int64"
      ]
     },
     "execution_count": 62,
     "metadata": {},
     "output_type": "execute_result"
    }
   ],
   "source": [
    "kill.race.value_counts()"
   ]
  },
  {
   "cell_type": "code",
   "execution_count": 63,
   "metadata": {},
   "outputs": [
    {
     "name": "stdout",
     "output_type": "stream",
     "text": [
      "<class 'pandas.core.frame.DataFrame'>\n",
      "RangeIndex: 2535 entries, 0 to 2534\n",
      "Data columns (total 14 columns):\n",
      " #   Column                   Non-Null Count  Dtype  \n",
      "---  ------                   --------------  -----  \n",
      " 0   id                       2535 non-null   int64  \n",
      " 1   name                     2535 non-null   object \n",
      " 2   date                     2535 non-null   object \n",
      " 3   manner_of_death          2535 non-null   object \n",
      " 4   armed                    2526 non-null   object \n",
      " 5   age                      2458 non-null   float64\n",
      " 6   gender                   2535 non-null   object \n",
      " 7   race                     2340 non-null   object \n",
      " 8   city                     2535 non-null   object \n",
      " 9   state                    2535 non-null   object \n",
      " 10  signs_of_mental_illness  2535 non-null   bool   \n",
      " 11  threat_level             2535 non-null   object \n",
      " 12  flee                     2470 non-null   object \n",
      " 13  body_camera              2535 non-null   bool   \n",
      "dtypes: bool(2), float64(1), int64(1), object(10)\n",
      "memory usage: 242.7+ KB\n"
     ]
    }
   ],
   "source": [
    "kill.info()"
   ]
  },
  {
   "cell_type": "markdown",
   "metadata": {},
   "source": [
    "Problem: missing value on race column."
   ]
  },
  {
   "cell_type": "markdown",
   "metadata": {},
   "source": [
    "**INSTRUCTION-1: Drop the all raws that contain missing value (dropna)**"
   ]
  },
  {
   "cell_type": "code",
   "execution_count": 64,
   "metadata": {},
   "outputs": [],
   "source": [
    "kill.dropna(inplace=True)"
   ]
  },
  {
   "cell_type": "code",
   "execution_count": 65,
   "metadata": {},
   "outputs": [
    {
     "data": {
      "text/plain": [
       "(2254, 14)"
      ]
     },
     "execution_count": 65,
     "metadata": {},
     "output_type": "execute_result"
    }
   ],
   "source": [
    "kill.shape"
   ]
  },
  {
   "cell_type": "markdown",
   "metadata": {},
   "source": [
    "**INSTRUCTION-2: Demonstrate Race Ratio of Killed People by a Pie Chart**"
   ]
  },
  {
   "cell_type": "code",
   "execution_count": 66,
   "metadata": {},
   "outputs": [
    {
     "data": {
      "text/plain": [
       "W    1168\n",
       "B     592\n",
       "H     401\n",
       "A      36\n",
       "N      29\n",
       "O      28\n",
       "Name: race, dtype: int64"
      ]
     },
     "execution_count": 66,
     "metadata": {},
     "output_type": "execute_result"
    }
   ],
   "source": [
    "kill.race.value_counts()"
   ]
  },
  {
   "cell_type": "code",
   "execution_count": 67,
   "metadata": {},
   "outputs": [],
   "source": [
    "labels=kill.race.value_counts().index"
   ]
  },
  {
   "cell_type": "code",
   "execution_count": 68,
   "metadata": {},
   "outputs": [],
   "source": [
    "sizes=kill.race.value_counts().values"
   ]
  },
  {
   "cell_type": "code",
   "execution_count": 69,
   "metadata": {},
   "outputs": [
    {
     "data": {
      "image/png": "[encoded data removed]",
      "text/plain": [
       "<Figure size 720x720 with 1 Axes>"
      ]
     },
     "metadata": {},
     "output_type": "display_data"
    }
   ],
   "source": [
    "explode = (0, 0, 0.1, 0, 0, 0)  # only \"explode\" the 2nd slice (i.e. 'Hogs')\n",
    "\n",
    "fig1, ax1 = plt.subplots(figsize=(10,10))\n",
    "ax1.pie(sizes, explode=explode, labels=labels, autopct='%1.1f%%',\n",
    "        shadow=False, startangle=0);"
   ]
  },
  {
   "cell_type": "markdown",
   "metadata": {},
   "source": [
    "## 4a.Box plot of age in both genders separeted by manner of death."
   ]
  },
  {
   "cell_type": "code",
   "execution_count": 71,
   "metadata": {
    "_uuid": "9d8a16335d60780773cba16fb23066e2cf48be8d"
   },
   "outputs": [
    {
     "data": {
      "text/html": [
       "<div>\n",
       "<style scoped>\n",
       "    .dataframe tbody tr th:only-of-type {\n",
       "        vertical-align: middle;\n",
       "    }\n",
       "\n",
       "    .dataframe tbody tr th {\n",
       "        vertical-align: top;\n",
       "    }\n",
       "\n",
       "    .dataframe thead th {\n",
       "        text-align: right;\n",
       "    }\n",
       "</style>\n",
       "<table border=\"1\" class=\"dataframe\">\n",
       "  <thead>\n",
       "    <tr style=\"text-align: right;\">\n",
       "      <th></th>\n",
       "      <th>id</th>\n",
       "      <th>name</th>\n",
       "      <th>date</th>\n",
       "      <th>manner_of_death</th>\n",
       "      <th>armed</th>\n",
       "      <th>age</th>\n",
       "      <th>gender</th>\n",
       "      <th>race</th>\n",
       "      <th>city</th>\n",
       "      <th>state</th>\n",
       "      <th>signs_of_mental_illness</th>\n",
       "      <th>threat_level</th>\n",
       "      <th>flee</th>\n",
       "      <th>body_camera</th>\n",
       "    </tr>\n",
       "  </thead>\n",
       "  <tbody>\n",
       "    <tr>\n",
       "      <th>0</th>\n",
       "      <td>3</td>\n",
       "      <td>Tim Elliot</td>\n",
       "      <td>02/01/15</td>\n",
       "      <td>shot</td>\n",
       "      <td>gun</td>\n",
       "      <td>53.0</td>\n",
       "      <td>M</td>\n",
       "      <td>A</td>\n",
       "      <td>Shelton</td>\n",
       "      <td>WA</td>\n",
       "      <td>True</td>\n",
       "      <td>attack</td>\n",
       "      <td>Not fleeing</td>\n",
       "      <td>False</td>\n",
       "    </tr>\n",
       "    <tr>\n",
       "      <th>1</th>\n",
       "      <td>4</td>\n",
       "      <td>Lewis Lee Lembke</td>\n",
       "      <td>02/01/15</td>\n",
       "      <td>shot</td>\n",
       "      <td>gun</td>\n",
       "      <td>47.0</td>\n",
       "      <td>M</td>\n",
       "      <td>W</td>\n",
       "      <td>Aloha</td>\n",
       "      <td>OR</td>\n",
       "      <td>False</td>\n",
       "      <td>attack</td>\n",
       "      <td>Not fleeing</td>\n",
       "      <td>False</td>\n",
       "    </tr>\n",
       "    <tr>\n",
       "      <th>2</th>\n",
       "      <td>5</td>\n",
       "      <td>John Paul Quintero</td>\n",
       "      <td>03/01/15</td>\n",
       "      <td>shot and Tasered</td>\n",
       "      <td>unarmed</td>\n",
       "      <td>23.0</td>\n",
       "      <td>M</td>\n",
       "      <td>H</td>\n",
       "      <td>Wichita</td>\n",
       "      <td>KS</td>\n",
       "      <td>False</td>\n",
       "      <td>other</td>\n",
       "      <td>Not fleeing</td>\n",
       "      <td>False</td>\n",
       "    </tr>\n",
       "    <tr>\n",
       "      <th>3</th>\n",
       "      <td>8</td>\n",
       "      <td>Matthew Hoffman</td>\n",
       "      <td>04/01/15</td>\n",
       "      <td>shot</td>\n",
       "      <td>toy weapon</td>\n",
       "      <td>32.0</td>\n",
       "      <td>M</td>\n",
       "      <td>W</td>\n",
       "      <td>San Francisco</td>\n",
       "      <td>CA</td>\n",
       "      <td>True</td>\n",
       "      <td>attack</td>\n",
       "      <td>Not fleeing</td>\n",
       "      <td>False</td>\n",
       "    </tr>\n",
       "    <tr>\n",
       "      <th>4</th>\n",
       "      <td>9</td>\n",
       "      <td>Michael Rodriguez</td>\n",
       "      <td>04/01/15</td>\n",
       "      <td>shot</td>\n",
       "      <td>nail gun</td>\n",
       "      <td>39.0</td>\n",
       "      <td>M</td>\n",
       "      <td>H</td>\n",
       "      <td>Evans</td>\n",
       "      <td>CO</td>\n",
       "      <td>False</td>\n",
       "      <td>attack</td>\n",
       "      <td>Not fleeing</td>\n",
       "      <td>False</td>\n",
       "    </tr>\n",
       "  </tbody>\n",
       "</table>\n",
       "</div>"
      ],
      "text/plain": [
       "   id                name      date   manner_of_death       armed   age  \\\n",
       "0   3          Tim Elliot  02/01/15              shot         gun  53.0   \n",
       "1   4    Lewis Lee Lembke  02/01/15              shot         gun  47.0   \n",
       "2   5  John Paul Quintero  03/01/15  shot and Tasered     unarmed  23.0   \n",
       "3   8     Matthew Hoffman  04/01/15              shot  toy weapon  32.0   \n",
       "4   9   Michael Rodriguez  04/01/15              shot    nail gun  39.0   \n",
       "\n",
       "  gender race           city state  signs_of_mental_illness threat_level  \\\n",
       "0      M    A        Shelton    WA                     True       attack   \n",
       "1      M    W          Aloha    OR                    False       attack   \n",
       "2      M    H        Wichita    KS                    False        other   \n",
       "3      M    W  San Francisco    CA                     True       attack   \n",
       "4      M    H          Evans    CO                    False       attack   \n",
       "\n",
       "          flee  body_camera  \n",
       "0  Not fleeing        False  \n",
       "1  Not fleeing        False  \n",
       "2  Not fleeing        False  \n",
       "3  Not fleeing        False  \n",
       "4  Not fleeing        False  "
      ]
     },
     "execution_count": 71,
     "metadata": {},
     "output_type": "execute_result"
    }
   ],
   "source": [
    "kill.head()"
   ]
  },
  {
   "cell_type": "code",
   "execution_count": 71,
   "metadata": {},
   "outputs": [
    {
     "data": {
      "text/plain": [
       "<matplotlib.axes._subplots.AxesSubplot at 0x2624fdd1be0>"
      ]
     },
     "execution_count": 71,
     "metadata": {},
     "output_type": "execute_result"
    },
    {
     "data": {
      "image/png": "[encoded data removed]",
      "text/plain": [
       "<Figure size 432x288 with 1 Axes>"
      ]
     },
     "metadata": {
      "needs_background": "light"
     },
     "output_type": "display_data"
    }
   ],
   "source": [
    "sns.boxplot(x=\"gender\", y=\"age\", hue=\"manner_of_death\", data=kill)"
   ]
  },
  {
   "cell_type": "code",
   "execution_count": 72,
   "metadata": {},
   "outputs": [
    {
     "data": {
      "text/plain": [
       "<matplotlib.axes._subplots.AxesSubplot at 0x2625172cd90>"
      ]
     },
     "execution_count": 72,
     "metadata": {},
     "output_type": "execute_result"
    },
    {
     "data": {
      "image/png": "[encoded data removed]",
      "text/plain": [
       "<Figure size 432x288 with 1 Axes>"
      ]
     },
     "metadata": {
      "needs_background": "light"
     },
     "output_type": "display_data"
    }
   ],
   "source": [
    "sns.violinplot(x=\"gender\", y=\"age\", hue=\"manner_of_death\", data=kill)"
   ]
  },
  {
   "cell_type": "code",
   "execution_count": 73,
   "metadata": {},
   "outputs": [
    {
     "data": {
      "text/plain": [
       "<matplotlib.axes._subplots.AxesSubplot at 0x262517a66a0>"
      ]
     },
     "execution_count": 73,
     "metadata": {},
     "output_type": "execute_result"
    },
    {
     "data": {
      "image/png": "[encoded data removed]",
      "text/plain": [
       "<Figure size 720x504 with 1 Axes>"
      ]
     },
     "metadata": {
      "needs_background": "light"
     },
     "output_type": "display_data"
    }
   ],
   "source": [
    "plt.figure(figsize = (10, 7))\n",
    "sns.swarmplot('gender', 'age', 'manner_of_death', kill, dodge = True)"
   ]
  },
  {
   "cell_type": "code",
   "execution_count": 72,
   "metadata": {
    "_uuid": "9c0528daf1c171ae70c1c1f2f2c1f73ebacba85c"
   },
   "outputs": [
    {
     "data": {
      "text/plain": [
       "array(['shot', 'shot and Tasered'], dtype=object)"
      ]
     },
     "execution_count": 72,
     "metadata": {},
     "output_type": "execute_result"
    }
   ],
   "source": [
    "kill.manner_of_death.unique()"
   ]
  },
  {
   "cell_type": "markdown",
   "metadata": {},
   "source": [
    "**INSTRUCTION: Demonstrate the Qurtiles of age in both genders separeted by manner of death.**"
   ]
  },
  {
   "cell_type": "code",
   "execution_count": 73,
   "metadata": {
    "_uuid": "d05b6d0119e423641a49770c28d22ee4069b83ff"
   },
   "outputs": [
    {
     "data": {
      "image/png": "[encoded data removed]",
      "text/plain": [
       "<Figure size 432x288 with 1 Axes>"
      ]
     },
     "metadata": {
      "needs_background": "light"
     },
     "output_type": "display_data"
    }
   ],
   "source": []
  },
  {
   "cell_type": "markdown",
   "metadata": {
    "_uuid": "9b3ff5b459aa93bbce95ba93f6939708473ef040"
   },
   "source": [
    "## 4b. Swarm Plot (Do not use in large datasets. The memory will not be enogh!)"
   ]
  },
  {
   "cell_type": "markdown",
   "metadata": {},
   "source": [
    "**INSTRUCTION: Demonstrate the age in both genders separeted by manner of death by a swarm plot.**"
   ]
  },
  {
   "cell_type": "code",
   "execution_count": 78,
   "metadata": {},
   "outputs": [
    {
     "data": {
      "text/plain": [
       "<matplotlib.axes._subplots.AxesSubplot at 0x262517b6190>"
      ]
     },
     "execution_count": 78,
     "metadata": {},
     "output_type": "execute_result"
    },
    {
     "data": {
      "image/png": "[encoded data removed]",
      "text/plain": [
       "<Figure size 864x864 with 1 Axes>"
      ]
     },
     "metadata": {
      "needs_background": "light"
     },
     "output_type": "display_data"
    }
   ],
   "source": [
    "plt.figure(figsize=(12,12))\n",
    "sns.swarmplot(x=\"gender\", y=\"age\", hue=\"manner_of_death\", data=kill, size=5)"
   ]
  },
  {
   "cell_type": "markdown",
   "metadata": {
    "_uuid": "f514733c3d5d1bfca711f4c4ae41611848e23d20"
   },
   "source": [
    "## 5. Kill properties (Count Plots)"
   ]
  },
  {
   "cell_type": "markdown",
   "metadata": {},
   "source": [
    "**INSTRUCTION-1: Plot number of poeple by gender**"
   ]
  },
  {
   "cell_type": "code",
   "execution_count": 79,
   "metadata": {},
   "outputs": [
    {
     "data": {
      "text/plain": [
       "<matplotlib.axes._subplots.AxesSubplot at 0x26250c677c0>"
      ]
     },
     "execution_count": 79,
     "metadata": {},
     "output_type": "execute_result"
    },
    {
     "data": {
      "image/png": "[encoded data removed]",
      "text/plain": [
       "<Figure size 432x288 with 1 Axes>"
      ]
     },
     "metadata": {
      "needs_background": "light"
     },
     "output_type": "display_data"
    }
   ],
   "source": [
    "sns.countplot(x=\"gender\", data=kill)"
   ]
  },
  {
   "cell_type": "markdown",
   "metadata": {},
   "source": [
    "**INSTRUCTION-2: Plot 7 most common kill weapons**"
   ]
  },
  {
   "cell_type": "code",
   "execution_count": 83,
   "metadata": {
    "scrolled": true
   },
   "outputs": [
    {
     "data": {
      "text/plain": [
       "<matplotlib.axes._subplots.AxesSubplot at 0x262502e7ac0>"
      ]
     },
     "execution_count": 83,
     "metadata": {},
     "output_type": "execute_result"
    },
    {
     "data": {
      "image/png": "[encoded data removed]",
      "text/plain": [
       "<Figure size 432x288 with 1 Axes>"
      ]
     },
     "metadata": {
      "needs_background": "light"
     },
     "output_type": "display_data"
    }
   ],
   "source": [
    "sns.countplot(kill.armed)"
   ]
  },
  {
   "cell_type": "code",
   "execution_count": 87,
   "metadata": {},
   "outputs": [
    {
     "data": {
      "text/plain": [
       "Index(['gun', 'knife', 'unarmed', 'vehicle', 'toy weapon', 'undetermined',\n",
       "       'machete'],\n",
       "      dtype='object')"
      ]
     },
     "execution_count": 87,
     "metadata": {},
     "output_type": "execute_result"
    }
   ],
   "source": [
    "kill.armed.value_counts()[:7].index"
   ]
  },
  {
   "cell_type": "code",
   "execution_count": 88,
   "metadata": {},
   "outputs": [
    {
     "data": {
      "text/plain": [
       "array([1247,  324,  165,  158,  102,   92,   16], dtype=int64)"
      ]
     },
     "execution_count": 88,
     "metadata": {},
     "output_type": "execute_result"
    }
   ],
   "source": [
    "kill.armed.value_counts()[:7].values"
   ]
  },
  {
   "cell_type": "code",
   "execution_count": 91,
   "metadata": {},
   "outputs": [
    {
     "data": {
      "text/plain": [
       "<matplotlib.axes._subplots.AxesSubplot at 0x262529abcd0>"
      ]
     },
     "execution_count": 91,
     "metadata": {},
     "output_type": "execute_result"
    },
    {
     "data": {
      "image/png": "[encoded data removed]",
      "text/plain": [
       "<Figure size 576x360 with 1 Axes>"
      ]
     },
     "metadata": {
      "needs_background": "light"
     },
     "output_type": "display_data"
    }
   ],
   "source": [
    "plt.figure(figsize=(8,5))\n",
    "sns.countplot(x=\"armed\", data = kill, order = kill.armed.value_counts().iloc[:7].index)"
   ]
  },
  {
   "cell_type": "markdown",
   "metadata": {},
   "source": [
    "**INSTRUCTION-3: Plot number of age of killed people under two groups : Under 25 and Above 25**"
   ]
  },
  {
   "cell_type": "code",
   "execution_count": 94,
   "metadata": {
    "_cell_guid": "2eb8f78f-2ac7-4997-a200-282f90b8f7dc",
    "_uuid": "2eacfe5833f33799ee9100405846925a67080b24"
   },
   "outputs": [],
   "source": [
    "kill[\"age_cat\"] = kill.age.apply(lambda x: \"above25\" if x>=25 else \"below25\")"
   ]
  },
  {
   "cell_type": "code",
   "execution_count": 95,
   "metadata": {},
   "outputs": [
    {
     "data": {
      "text/plain": [
       "<matplotlib.axes._subplots.AxesSubplot at 0x2625298f8b0>"
      ]
     },
     "execution_count": 95,
     "metadata": {},
     "output_type": "execute_result"
    },
    {
     "data": {
      "image/png": "[encoded data removed]",
      "text/plain": [
       "<Figure size 432x288 with 1 Axes>"
      ]
     },
     "metadata": {
      "needs_background": "light"
     },
     "output_type": "display_data"
    }
   ],
   "source": [
    "sns.countplot(kill[\"age_cat\"])"
   ]
  },
  {
   "cell_type": "markdown",
   "metadata": {},
   "source": [
    "**INSTRUCTION-4: Plot number of killed poeple by race**"
   ]
  },
  {
   "cell_type": "code",
   "execution_count": 115,
   "metadata": {},
   "outputs": [
    {
     "data": {
      "text/plain": [
       "Index(['W', 'B', 'H', 'A', 'N', 'O'], dtype='object')"
      ]
     },
     "execution_count": 115,
     "metadata": {},
     "output_type": "execute_result"
    }
   ],
   "source": [
    "kill.race.value_counts().index"
   ]
  },
  {
   "cell_type": "code",
   "execution_count": 116,
   "metadata": {},
   "outputs": [
    {
     "data": {
      "text/plain": [
       "<matplotlib.axes._subplots.AxesSubplot at 0x262588bdfa0>"
      ]
     },
     "execution_count": 116,
     "metadata": {},
     "output_type": "execute_result"
    },
    {
     "data": {
      "image/png": "[encoded data removed]",
      "text/plain": [
       "<Figure size 720x432 with 1 Axes>"
      ]
     },
     "metadata": {
      "needs_background": "light"
     },
     "output_type": "display_data"
    }
   ],
   "source": [
    "fig, ax = plt.subplots(figsize=(10,6))\n",
    "sns.countplot(kill.race, order=kill.race.value_counts().index)"
   ]
  },
  {
   "cell_type": "markdown",
   "metadata": {},
   "source": [
    "**INSTRUCTION-5: Plot 12 most dangerous cities**"
   ]
  },
  {
   "cell_type": "code",
   "execution_count": 105,
   "metadata": {},
   "outputs": [
    {
     "data": {
      "text/html": [
       "<div>\n",
       "<style scoped>\n",
       "    .dataframe tbody tr th:only-of-type {\n",
       "        vertical-align: middle;\n",
       "    }\n",
       "\n",
       "    .dataframe tbody tr th {\n",
       "        vertical-align: top;\n",
       "    }\n",
       "\n",
       "    .dataframe thead th {\n",
       "        text-align: right;\n",
       "    }\n",
       "</style>\n",
       "<table border=\"1\" class=\"dataframe\">\n",
       "  <thead>\n",
       "    <tr style=\"text-align: right;\">\n",
       "      <th></th>\n",
       "      <th>id</th>\n",
       "      <th>name</th>\n",
       "      <th>date</th>\n",
       "      <th>manner_of_death</th>\n",
       "      <th>armed</th>\n",
       "      <th>age</th>\n",
       "      <th>gender</th>\n",
       "      <th>race</th>\n",
       "      <th>city</th>\n",
       "      <th>state</th>\n",
       "      <th>signs_of_mental_illness</th>\n",
       "      <th>threat_level</th>\n",
       "      <th>flee</th>\n",
       "      <th>body_camera</th>\n",
       "      <th>age_cat</th>\n",
       "    </tr>\n",
       "  </thead>\n",
       "  <tbody>\n",
       "    <tr>\n",
       "      <th>0</th>\n",
       "      <td>3</td>\n",
       "      <td>Tim Elliot</td>\n",
       "      <td>02/01/15</td>\n",
       "      <td>shot</td>\n",
       "      <td>gun</td>\n",
       "      <td>53.0</td>\n",
       "      <td>M</td>\n",
       "      <td>A</td>\n",
       "      <td>Shelton</td>\n",
       "      <td>WA</td>\n",
       "      <td>True</td>\n",
       "      <td>attack</td>\n",
       "      <td>Not fleeing</td>\n",
       "      <td>False</td>\n",
       "      <td>above25</td>\n",
       "    </tr>\n",
       "    <tr>\n",
       "      <th>1</th>\n",
       "      <td>4</td>\n",
       "      <td>Lewis Lee Lembke</td>\n",
       "      <td>02/01/15</td>\n",
       "      <td>shot</td>\n",
       "      <td>gun</td>\n",
       "      <td>47.0</td>\n",
       "      <td>M</td>\n",
       "      <td>W</td>\n",
       "      <td>Aloha</td>\n",
       "      <td>OR</td>\n",
       "      <td>False</td>\n",
       "      <td>attack</td>\n",
       "      <td>Not fleeing</td>\n",
       "      <td>False</td>\n",
       "      <td>above25</td>\n",
       "    </tr>\n",
       "    <tr>\n",
       "      <th>2</th>\n",
       "      <td>5</td>\n",
       "      <td>John Paul Quintero</td>\n",
       "      <td>03/01/15</td>\n",
       "      <td>shot and Tasered</td>\n",
       "      <td>unarmed</td>\n",
       "      <td>23.0</td>\n",
       "      <td>M</td>\n",
       "      <td>H</td>\n",
       "      <td>Wichita</td>\n",
       "      <td>KS</td>\n",
       "      <td>False</td>\n",
       "      <td>other</td>\n",
       "      <td>Not fleeing</td>\n",
       "      <td>False</td>\n",
       "      <td>below25</td>\n",
       "    </tr>\n",
       "    <tr>\n",
       "      <th>3</th>\n",
       "      <td>8</td>\n",
       "      <td>Matthew Hoffman</td>\n",
       "      <td>04/01/15</td>\n",
       "      <td>shot</td>\n",
       "      <td>toy weapon</td>\n",
       "      <td>32.0</td>\n",
       "      <td>M</td>\n",
       "      <td>W</td>\n",
       "      <td>San Francisco</td>\n",
       "      <td>CA</td>\n",
       "      <td>True</td>\n",
       "      <td>attack</td>\n",
       "      <td>Not fleeing</td>\n",
       "      <td>False</td>\n",
       "      <td>above25</td>\n",
       "    </tr>\n",
       "    <tr>\n",
       "      <th>4</th>\n",
       "      <td>9</td>\n",
       "      <td>Michael Rodriguez</td>\n",
       "      <td>04/01/15</td>\n",
       "      <td>shot</td>\n",
       "      <td>nail gun</td>\n",
       "      <td>39.0</td>\n",
       "      <td>M</td>\n",
       "      <td>H</td>\n",
       "      <td>Evans</td>\n",
       "      <td>CO</td>\n",
       "      <td>False</td>\n",
       "      <td>attack</td>\n",
       "      <td>Not fleeing</td>\n",
       "      <td>False</td>\n",
       "      <td>above25</td>\n",
       "    </tr>\n",
       "  </tbody>\n",
       "</table>\n",
       "</div>"
      ],
      "text/plain": [
       "   id                name      date   manner_of_death       armed   age  \\\n",
       "0   3          Tim Elliot  02/01/15              shot         gun  53.0   \n",
       "1   4    Lewis Lee Lembke  02/01/15              shot         gun  47.0   \n",
       "2   5  John Paul Quintero  03/01/15  shot and Tasered     unarmed  23.0   \n",
       "3   8     Matthew Hoffman  04/01/15              shot  toy weapon  32.0   \n",
       "4   9   Michael Rodriguez  04/01/15              shot    nail gun  39.0   \n",
       "\n",
       "  gender race           city state  signs_of_mental_illness threat_level  \\\n",
       "0      M    A        Shelton    WA                     True       attack   \n",
       "1      M    W          Aloha    OR                    False       attack   \n",
       "2      M    H        Wichita    KS                    False        other   \n",
       "3      M    W  San Francisco    CA                     True       attack   \n",
       "4      M    H          Evans    CO                    False       attack   \n",
       "\n",
       "          flee  body_camera  age_cat  \n",
       "0  Not fleeing        False  above25  \n",
       "1  Not fleeing        False  above25  \n",
       "2  Not fleeing        False  below25  \n",
       "3  Not fleeing        False  above25  \n",
       "4  Not fleeing        False  above25  "
      ]
     },
     "execution_count": 105,
     "metadata": {},
     "output_type": "execute_result"
    }
   ],
   "source": [
    "kill.head()"
   ]
  },
  {
   "cell_type": "code",
   "execution_count": 119,
   "metadata": {},
   "outputs": [
    {
     "data": {
      "text/plain": [
       "(array([ 0,  1,  2,  3,  4,  5,  6,  7,  8,  9, 10, 11]),\n",
       " <a list of 12 Text major ticklabel objects>)"
      ]
     },
     "execution_count": 119,
     "metadata": {},
     "output_type": "execute_result"
    },
    {
     "data": {
      "image/png": "[encoded data removed]",
      "text/plain": [
       "<Figure size 1080x720 with 1 Axes>"
      ]
     },
     "metadata": {
      "needs_background": "light"
     },
     "output_type": "display_data"
    }
   ],
   "source": [
    "plt.figure(figsize=(15,10))\n",
    "sns.countplot(kill.city, order = kill.city.value_counts().head(12).index)\n",
    "plt.xticks(rotation=45)"
   ]
  },
  {
   "cell_type": "markdown",
   "metadata": {},
   "source": [
    "**INSTRUCTION-6: Plot 20 most dangerous states**"
   ]
  },
  {
   "cell_type": "code",
   "execution_count": 123,
   "metadata": {},
   "outputs": [
    {
     "data": {
      "text/plain": [
       "(array([ 0,  1,  2,  3,  4,  5,  6,  7,  8,  9, 10, 11, 12, 13, 14, 15, 16,\n",
       "        17, 18, 19]),\n",
       " <a list of 20 Text major ticklabel objects>)"
      ]
     },
     "execution_count": 123,
     "metadata": {},
     "output_type": "execute_result"
    },
    {
     "data": {
      "image/png": "[encoded data removed]",
      "text/plain": [
       "<Figure size 1080x720 with 1 Axes>"
      ]
     },
     "metadata": {
      "needs_background": "light"
     },
     "output_type": "display_data"
    }
   ],
   "source": [
    "plt.figure(figsize=(15,10))\n",
    "sns.countplot(kill.state, order = kill.state.value_counts().head(20).index)\n",
    "plt.xticks(rotation=45)"
   ]
  },
  {
   "cell_type": "markdown",
   "metadata": {},
   "source": [
    "**INSTRUCTION-7: Plot Having mental ilness or not for killed people**"
   ]
  },
  {
   "cell_type": "code",
   "execution_count": 125,
   "metadata": {},
   "outputs": [
    {
     "data": {
      "text/html": [
       "<div>\n",
       "<style scoped>\n",
       "    .dataframe tbody tr th:only-of-type {\n",
       "        vertical-align: middle;\n",
       "    }\n",
       "\n",
       "    .dataframe tbody tr th {\n",
       "        vertical-align: top;\n",
       "    }\n",
       "\n",
       "    .dataframe thead th {\n",
       "        text-align: right;\n",
       "    }\n",
       "</style>\n",
       "<table border=\"1\" class=\"dataframe\">\n",
       "  <thead>\n",
       "    <tr style=\"text-align: right;\">\n",
       "      <th></th>\n",
       "      <th>id</th>\n",
       "      <th>name</th>\n",
       "      <th>date</th>\n",
       "      <th>manner_of_death</th>\n",
       "      <th>armed</th>\n",
       "      <th>age</th>\n",
       "      <th>gender</th>\n",
       "      <th>race</th>\n",
       "      <th>city</th>\n",
       "      <th>state</th>\n",
       "      <th>signs_of_mental_illness</th>\n",
       "      <th>threat_level</th>\n",
       "      <th>flee</th>\n",
       "      <th>body_camera</th>\n",
       "      <th>age_cat</th>\n",
       "    </tr>\n",
       "  </thead>\n",
       "  <tbody>\n",
       "    <tr>\n",
       "      <th>0</th>\n",
       "      <td>3</td>\n",
       "      <td>Tim Elliot</td>\n",
       "      <td>02/01/15</td>\n",
       "      <td>shot</td>\n",
       "      <td>gun</td>\n",
       "      <td>53.0</td>\n",
       "      <td>M</td>\n",
       "      <td>A</td>\n",
       "      <td>Shelton</td>\n",
       "      <td>WA</td>\n",
       "      <td>True</td>\n",
       "      <td>attack</td>\n",
       "      <td>Not fleeing</td>\n",
       "      <td>False</td>\n",
       "      <td>above25</td>\n",
       "    </tr>\n",
       "    <tr>\n",
       "      <th>1</th>\n",
       "      <td>4</td>\n",
       "      <td>Lewis Lee Lembke</td>\n",
       "      <td>02/01/15</td>\n",
       "      <td>shot</td>\n",
       "      <td>gun</td>\n",
       "      <td>47.0</td>\n",
       "      <td>M</td>\n",
       "      <td>W</td>\n",
       "      <td>Aloha</td>\n",
       "      <td>OR</td>\n",
       "      <td>False</td>\n",
       "      <td>attack</td>\n",
       "      <td>Not fleeing</td>\n",
       "      <td>False</td>\n",
       "      <td>above25</td>\n",
       "    </tr>\n",
       "    <tr>\n",
       "      <th>2</th>\n",
       "      <td>5</td>\n",
       "      <td>John Paul Quintero</td>\n",
       "      <td>03/01/15</td>\n",
       "      <td>shot and Tasered</td>\n",
       "      <td>unarmed</td>\n",
       "      <td>23.0</td>\n",
       "      <td>M</td>\n",
       "      <td>H</td>\n",
       "      <td>Wichita</td>\n",
       "      <td>KS</td>\n",
       "      <td>False</td>\n",
       "      <td>other</td>\n",
       "      <td>Not fleeing</td>\n",
       "      <td>False</td>\n",
       "      <td>below25</td>\n",
       "    </tr>\n",
       "    <tr>\n",
       "      <th>3</th>\n",
       "      <td>8</td>\n",
       "      <td>Matthew Hoffman</td>\n",
       "      <td>04/01/15</td>\n",
       "      <td>shot</td>\n",
       "      <td>toy weapon</td>\n",
       "      <td>32.0</td>\n",
       "      <td>M</td>\n",
       "      <td>W</td>\n",
       "      <td>San Francisco</td>\n",
       "      <td>CA</td>\n",
       "      <td>True</td>\n",
       "      <td>attack</td>\n",
       "      <td>Not fleeing</td>\n",
       "      <td>False</td>\n",
       "      <td>above25</td>\n",
       "    </tr>\n",
       "    <tr>\n",
       "      <th>4</th>\n",
       "      <td>9</td>\n",
       "      <td>Michael Rodriguez</td>\n",
       "      <td>04/01/15</td>\n",
       "      <td>shot</td>\n",
       "      <td>nail gun</td>\n",
       "      <td>39.0</td>\n",
       "      <td>M</td>\n",
       "      <td>H</td>\n",
       "      <td>Evans</td>\n",
       "      <td>CO</td>\n",
       "      <td>False</td>\n",
       "      <td>attack</td>\n",
       "      <td>Not fleeing</td>\n",
       "      <td>False</td>\n",
       "      <td>above25</td>\n",
       "    </tr>\n",
       "  </tbody>\n",
       "</table>\n",
       "</div>"
      ],
      "text/plain": [
       "   id                name      date   manner_of_death       armed   age  \\\n",
       "0   3          Tim Elliot  02/01/15              shot         gun  53.0   \n",
       "1   4    Lewis Lee Lembke  02/01/15              shot         gun  47.0   \n",
       "2   5  John Paul Quintero  03/01/15  shot and Tasered     unarmed  23.0   \n",
       "3   8     Matthew Hoffman  04/01/15              shot  toy weapon  32.0   \n",
       "4   9   Michael Rodriguez  04/01/15              shot    nail gun  39.0   \n",
       "\n",
       "  gender race           city state  signs_of_mental_illness threat_level  \\\n",
       "0      M    A        Shelton    WA                     True       attack   \n",
       "1      M    W          Aloha    OR                    False       attack   \n",
       "2      M    H        Wichita    KS                    False        other   \n",
       "3      M    W  San Francisco    CA                     True       attack   \n",
       "4      M    H          Evans    CO                    False       attack   \n",
       "\n",
       "          flee  body_camera  age_cat  \n",
       "0  Not fleeing        False  above25  \n",
       "1  Not fleeing        False  above25  \n",
       "2  Not fleeing        False  below25  \n",
       "3  Not fleeing        False  above25  \n",
       "4  Not fleeing        False  above25  "
      ]
     },
     "execution_count": 125,
     "metadata": {},
     "output_type": "execute_result"
    }
   ],
   "source": [
    "kill.head()"
   ]
  },
  {
   "cell_type": "code",
   "execution_count": 130,
   "metadata": {},
   "outputs": [
    {
     "data": {
      "text/plain": [
       "Text(0, 0.5, 'ylabeş')"
      ]
     },
     "execution_count": 130,
     "metadata": {},
     "output_type": "execute_result"
    },
    {
     "data": {
      "image/png": "[encoded data removed]",
      "text/plain": [
       "<Figure size 720x360 with 1 Axes>"
      ]
     },
     "metadata": {
      "needs_background": "light"
     },
     "output_type": "display_data"
    }
   ],
   "source": [
    "plt.figure(figsize=(10,5))\n",
    "sns.countplot(kill.signs_of_mental_illness)\n",
    "plt.xlabel(\"aAA\")\n",
    "plt.title(\"sdaf\")\n",
    "plt.xlabel(\"adsf\")\n",
    "plt.ylabel(\"ylabeş\")"
   ]
  },
  {
   "cell_type": "markdown",
   "metadata": {},
   "source": [
    "**INSTRUCTION-8: Plot number of Threat Types**"
   ]
  },
  {
   "cell_type": "code",
   "execution_count": 132,
   "metadata": {},
   "outputs": [
    {
     "data": {
      "text/plain": [
       "<matplotlib.axes._subplots.AxesSubplot at 0x2625921a190>"
      ]
     },
     "execution_count": 132,
     "metadata": {},
     "output_type": "execute_result"
    },
    {
     "data": {
      "image/png": "[encoded data removed]",
      "text/plain": [
       "<Figure size 432x288 with 1 Axes>"
      ]
     },
     "metadata": {
      "needs_background": "light"
     },
     "output_type": "display_data"
    }
   ],
   "source": [
    "sns.countplot(kill.threat_level)"
   ]
  },
  {
   "cell_type": "markdown",
   "metadata": {},
   "source": [
    "**INSTRUCTION-9: Plot number of Flee Types**"
   ]
  },
  {
   "cell_type": "code",
   "execution_count": 133,
   "metadata": {},
   "outputs": [
    {
     "data": {
      "text/plain": [
       "<matplotlib.axes._subplots.AxesSubplot at 0x2625983d040>"
      ]
     },
     "execution_count": 133,
     "metadata": {},
     "output_type": "execute_result"
    },
    {
     "data": {
      "image/png": "[encoded data removed]",
      "text/plain": [
       "<Figure size 432x288 with 1 Axes>"
      ]
     },
     "metadata": {
      "needs_background": "light"
     },
     "output_type": "display_data"
    }
   ],
   "source": [
    "sns.countplot(kill.flee)"
   ]
  },
  {
   "cell_type": "code",
   "execution_count": 136,
   "metadata": {},
   "outputs": [],
   "source": [
    "xx = kill.flee.value_counts().index"
   ]
  },
  {
   "cell_type": "code",
   "execution_count": 140,
   "metadata": {},
   "outputs": [],
   "source": [
    "yy = kill.flee.value_counts().values"
   ]
  },
  {
   "cell_type": "code",
   "execution_count": 142,
   "metadata": {},
   "outputs": [
    {
     "data": {
      "text/plain": [
       "<matplotlib.axes._subplots.AxesSubplot at 0x2625983fc10>"
      ]
     },
     "execution_count": 142,
     "metadata": {},
     "output_type": "execute_result"
    },
    {
     "data": {
      "image/png": "[encoded data removed]",
      "text/plain": [
       "<Figure size 432x288 with 1 Axes>"
      ]
     },
     "metadata": {
      "needs_background": "light"
     },
     "output_type": "display_data"
    }
   ],
   "source": [
    "sns.barplot(xx,yy)"
   ]
  },
  {
   "cell_type": "code",
   "execution_count": 144,
   "metadata": {},
   "outputs": [
    {
     "data": {
      "text/plain": [
       "Text(0.5, 0, \"['a', 'b']\")"
      ]
     },
     "execution_count": 144,
     "metadata": {},
     "output_type": "execute_result"
    },
    {
     "data": {
      "image/png": "[encoded data removed]",
      "text/plain": [
       "<Figure size 432x288 with 1 Axes>"
      ]
     },
     "metadata": {
      "needs_background": "light"
     },
     "output_type": "display_data"
    }
   ],
   "source": [
    "sns.countplot(kill[\"age\"]<25)\n",
    "plt.xlabel([\"a\", \"b\"])"
   ]
  },
  {
   "cell_type": "code",
   "execution_count": null,
   "metadata": {},
   "outputs": [],
   "source": []
  }
 ],
 "metadata": {
  "kernelspec": {
   "display_name": "Python 3",
   "language": "python",
   "name": "python3"
  },
  "language_info": {
   "codemirror_mode": {
    "name": "ipython",
    "version": 3
   },
   "file_extension": ".py",
   "mimetype": "text/x-python",
   "name": "python",
   "nbconvert_exporter": "python",
   "pygments_lexer": "ipython3",
   "version": "3.8.3"
  }
 },
 "nbformat": 4,
 "nbformat_minor": 4
}
