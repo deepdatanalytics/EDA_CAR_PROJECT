{
 "cells": [
  {
   "cell_type": "code",
   "execution_count": 1,
   "metadata": {},
   "outputs": [],
   "source": [
    "import pandas as pd"
   ]
  },
  {
   "cell_type": "code",
   "execution_count": 5,
   "metadata": {},
   "outputs": [],
   "source": [
    "weather = pd.read_csv(\"weather.csv\")"
   ]
  },
  {
   "cell_type": "code",
   "execution_count": 8,
   "metadata": {},
   "outputs": [
    {
     "data": {
      "text/plain": [
       "STATION       4\n",
       "DATE       4017\n",
       "AWND        105\n",
       "TAVG         80\n",
       "TMAX         90\n",
       "TMIN         86\n",
       "WT01          1\n",
       "WT02          1\n",
       "WT03          1\n",
       "WT04          1\n",
       "WT05          1\n",
       "WT06          1\n",
       "WT07          1\n",
       "WT08          1\n",
       "WT09          1\n",
       "WT10          1\n",
       "WT11          1\n",
       "WT13          1\n",
       "WT14          1\n",
       "WT15          1\n",
       "WT16          1\n",
       "WT17          1\n",
       "WT18          1\n",
       "WT19          1\n",
       "WT21          1\n",
       "WT22          1\n",
       "dtype: int64"
      ]
     },
     "execution_count": 8,
     "metadata": {},
     "output_type": "execute_result"
    }
   ],
   "source": [
    "weather.nunique()"
   ]
  },
  {
   "cell_type": "code",
   "execution_count": null,
   "metadata": {},
   "outputs": [],
   "source": []
  }
 ],
 "metadata": {
  "kernelspec": {
   "display_name": "Python 3",
   "language": "python",
   "name": "python3"
  },
  "language_info": {
   "codemirror_mode": {
    "name": "ipython",
    "version": 3
   },
   "file_extension": ".py",
   "mimetype": "text/x-python",
   "name": "python",
   "nbconvert_exporter": "python",
   "pygments_lexer": "ipython3",
   "version": "3.8.3"
  }
 },
 "nbformat": 4,
 "nbformat_minor": 4
}
