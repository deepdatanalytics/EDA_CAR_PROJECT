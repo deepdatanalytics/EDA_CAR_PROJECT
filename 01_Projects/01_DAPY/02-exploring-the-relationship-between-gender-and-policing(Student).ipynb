{
 "cells": [
  {
   "cell_type": "markdown",
   "metadata": {},
   "source": [
    "___\n",
    "\n",
    "<p style=\"text-align: center;\"><img src=\"https://docs.google.com/uc?id=1lY0Uj5R04yMY3-ZppPWxqCr5pvBLYPnV\" class=\"img-fluid\" alt=\"CLRSWY\"></p>\n",
    "\n",
    "___"
   ]
  },
  {
   "cell_type": "markdown",
   "metadata": {},
   "source": [
    "<h1><p style=\"text-align: center;\">Data Analysis with Python <br>Project - 1</p><h1> - Traffic Police Stops <img src=\"https://docs.google.com/uc?id=17CPCwi3_VvzcS87TOsh4_U8eExOhL6Ki\" class=\"img-fluid\" alt=\"CLRSWY\" width=\"200\" height=\"100\"> "
   ]
  },
  {
   "cell_type": "markdown",
   "metadata": {},
   "source": [
    "Does the ``gender`` of a driver have an impact on police behavior during a traffic stop? **In this chapter**, you will explore that question while practicing filtering, grouping, method chaining, Boolean math, string methods, and more!"
   ]
  },
  {
   "cell_type": "markdown",
   "metadata": {},
   "source": [
    "***"
   ]
  },
  {
   "cell_type": "markdown",
   "metadata": {},
   "source": [
    "## Examining traffic violations"
   ]
  },
  {
   "cell_type": "markdown",
   "metadata": {},
   "source": [
    "Before comparing the violations being committed by each gender, you should examine the ``violations`` committed by all drivers to get a baseline understanding of the data.\n",
    "\n",
    "In this exercise, you'll count the unique values in the ``violation`` column, and then separately express those counts as proportions."
   ]
  },
  {
   "cell_type": "markdown",
   "metadata": {},
   "source": [
    "> Before starting your work in this section **repeat the steps which you did in the previos chapter for preparing the data.** Continue to this chapter based on where you were in the end of the previous chapter."
   ]
  },
  {
   "cell_type": "code",
   "execution_count": 1,
   "metadata": {},
   "outputs": [],
   "source": [
    "import pandas as pd"
   ]
  },
  {
   "cell_type": "code",
   "execution_count": 2,
   "metadata": {},
   "outputs": [
    {
     "name": "stderr",
     "output_type": "stream",
     "text": [
      "C:\\Anaconda3\\lib\\site-packages\\IPython\\core\\interactiveshell.py:3071: DtypeWarning: Columns (8,16) have mixed types.Specify dtype option on import or set low_memory=False.\n",
      "  has_raised = await self.run_ast_nodes(code_ast.body, cell_name,\n"
     ]
    }
   ],
   "source": [
    "dosya = pd.read_csv(\"police.csv\")"
   ]
  },
  {
   "cell_type": "code",
   "execution_count": 3,
   "metadata": {},
   "outputs": [],
   "source": [
    "buyuk = pd.DataFrame(dosya)"
   ]
  },
  {
   "cell_type": "code",
   "execution_count": 4,
   "metadata": {},
   "outputs": [],
   "source": [
    "ri = buyuk.sample(50000)"
   ]
  },
  {
   "cell_type": "code",
   "execution_count": 5,
   "metadata": {},
   "outputs": [],
   "source": [
    "ri.drop([\"county_name\",\"state\"], axis=1, inplace=True) "
   ]
  },
  {
   "cell_type": "code",
   "execution_count": 6,
   "metadata": {},
   "outputs": [],
   "source": [
    "ri.dropna(subset=[\"driver_gender\"], inplace=True)"
   ]
  },
  {
   "cell_type": "code",
   "execution_count": 7,
   "metadata": {
    "scrolled": true
   },
   "outputs": [],
   "source": [
    "ri2 = ri.astype({\"is_arrested\" : \"bool\"}, copy=False)"
   ]
  },
  {
   "cell_type": "code",
   "execution_count": 8,
   "metadata": {},
   "outputs": [
    {
     "data": {
      "text/plain": [
       "dtype('bool')"
      ]
     },
     "execution_count": 8,
     "metadata": {},
     "output_type": "execute_result"
    }
   ],
   "source": [
    "ri2[\"is_arrested\"].dtypes"
   ]
  },
  {
   "cell_type": "code",
   "execution_count": 9,
   "metadata": {},
   "outputs": [],
   "source": [
    "combined = ri2.stop_date.str.cat(ri2.stop_time, sep = \" \")"
   ]
  },
  {
   "cell_type": "code",
   "execution_count": 10,
   "metadata": {},
   "outputs": [],
   "source": [
    "combined = pd.to_datetime(combined)"
   ]
  },
  {
   "cell_type": "code",
   "execution_count": 11,
   "metadata": {},
   "outputs": [],
   "source": [
    "ri2[\"stop_datetime\"] = combined"
   ]
  },
  {
   "cell_type": "code",
   "execution_count": 12,
   "metadata": {},
   "outputs": [],
   "source": [
    "ri2.set_index(\"stop_datetime\", inplace=True)"
   ]
  },
  {
   "cell_type": "code",
   "execution_count": 13,
   "metadata": {
    "scrolled": true
   },
   "outputs": [
    {
     "data": {
      "text/html": [
       "<div>\n",
       "<style scoped>\n",
       "    .dataframe tbody tr th:only-of-type {\n",
       "        vertical-align: middle;\n",
       "    }\n",
       "\n",
       "    .dataframe tbody tr th {\n",
       "        vertical-align: top;\n",
       "    }\n",
       "\n",
       "    .dataframe thead th {\n",
       "        text-align: right;\n",
       "    }\n",
       "</style>\n",
       "<table border=\"1\" class=\"dataframe\">\n",
       "  <thead>\n",
       "    <tr style=\"text-align: right;\">\n",
       "      <th></th>\n",
       "      <th>id</th>\n",
       "      <th>stop_date</th>\n",
       "      <th>stop_time</th>\n",
       "      <th>location_raw</th>\n",
       "      <th>county_fips</th>\n",
       "      <th>fine_grained_location</th>\n",
       "      <th>police_department</th>\n",
       "      <th>driver_gender</th>\n",
       "      <th>driver_age_raw</th>\n",
       "      <th>driver_age</th>\n",
       "      <th>...</th>\n",
       "      <th>search_conducted</th>\n",
       "      <th>search_type_raw</th>\n",
       "      <th>search_type</th>\n",
       "      <th>contraband_found</th>\n",
       "      <th>stop_outcome</th>\n",
       "      <th>is_arrested</th>\n",
       "      <th>stop_duration</th>\n",
       "      <th>out_of_state</th>\n",
       "      <th>drugs_related_stop</th>\n",
       "      <th>district</th>\n",
       "    </tr>\n",
       "    <tr>\n",
       "      <th>stop_datetime</th>\n",
       "      <th></th>\n",
       "      <th></th>\n",
       "      <th></th>\n",
       "      <th></th>\n",
       "      <th></th>\n",
       "      <th></th>\n",
       "      <th></th>\n",
       "      <th></th>\n",
       "      <th></th>\n",
       "      <th></th>\n",
       "      <th></th>\n",
       "      <th></th>\n",
       "      <th></th>\n",
       "      <th></th>\n",
       "      <th></th>\n",
       "      <th></th>\n",
       "      <th></th>\n",
       "      <th></th>\n",
       "      <th></th>\n",
       "      <th></th>\n",
       "      <th></th>\n",
       "    </tr>\n",
       "  </thead>\n",
       "  <tbody>\n",
       "    <tr>\n",
       "      <th>2013-07-05 13:47:00</th>\n",
       "      <td>RI-2013-22801</td>\n",
       "      <td>2013-07-05</td>\n",
       "      <td>13:47</td>\n",
       "      <td>Zone X4</td>\n",
       "      <td>NaN</td>\n",
       "      <td>NaN</td>\n",
       "      <td>500</td>\n",
       "      <td>M</td>\n",
       "      <td>1993.0</td>\n",
       "      <td>20.0</td>\n",
       "      <td>...</td>\n",
       "      <td>False</td>\n",
       "      <td>NaN</td>\n",
       "      <td>NaN</td>\n",
       "      <td>False</td>\n",
       "      <td>Warning</td>\n",
       "      <td>False</td>\n",
       "      <td>0-15 Min</td>\n",
       "      <td>False</td>\n",
       "      <td>False</td>\n",
       "      <td>Zone X4</td>\n",
       "    </tr>\n",
       "    <tr>\n",
       "      <th>2012-12-22 22:03:00</th>\n",
       "      <td>RI-2012-60120</td>\n",
       "      <td>2012-12-22</td>\n",
       "      <td>22:03</td>\n",
       "      <td>Zone K3</td>\n",
       "      <td>NaN</td>\n",
       "      <td>NaN</td>\n",
       "      <td>300</td>\n",
       "      <td>M</td>\n",
       "      <td>1977.0</td>\n",
       "      <td>35.0</td>\n",
       "      <td>...</td>\n",
       "      <td>False</td>\n",
       "      <td>NaN</td>\n",
       "      <td>NaN</td>\n",
       "      <td>False</td>\n",
       "      <td>Citation</td>\n",
       "      <td>False</td>\n",
       "      <td>0-15 Min</td>\n",
       "      <td>True</td>\n",
       "      <td>False</td>\n",
       "      <td>Zone K3</td>\n",
       "    </tr>\n",
       "    <tr>\n",
       "      <th>2011-02-23 19:47:00</th>\n",
       "      <td>RI-2011-05646</td>\n",
       "      <td>2011-02-23</td>\n",
       "      <td>19:47</td>\n",
       "      <td>Zone K3</td>\n",
       "      <td>NaN</td>\n",
       "      <td>NaN</td>\n",
       "      <td>300</td>\n",
       "      <td>M</td>\n",
       "      <td>1984.0</td>\n",
       "      <td>27.0</td>\n",
       "      <td>...</td>\n",
       "      <td>False</td>\n",
       "      <td>NaN</td>\n",
       "      <td>NaN</td>\n",
       "      <td>False</td>\n",
       "      <td>Citation</td>\n",
       "      <td>False</td>\n",
       "      <td>0-15 Min</td>\n",
       "      <td>False</td>\n",
       "      <td>False</td>\n",
       "      <td>Zone K3</td>\n",
       "    </tr>\n",
       "    <tr>\n",
       "      <th>2015-11-07 10:16:00</th>\n",
       "      <td>RI-2015-40921</td>\n",
       "      <td>2015-11-07</td>\n",
       "      <td>10:16</td>\n",
       "      <td>Zone X4</td>\n",
       "      <td>NaN</td>\n",
       "      <td>NaN</td>\n",
       "      <td>900</td>\n",
       "      <td>M</td>\n",
       "      <td>1965.0</td>\n",
       "      <td>50.0</td>\n",
       "      <td>...</td>\n",
       "      <td>False</td>\n",
       "      <td>NaN</td>\n",
       "      <td>NaN</td>\n",
       "      <td>False</td>\n",
       "      <td>Citation</td>\n",
       "      <td>False</td>\n",
       "      <td>0-15 Min</td>\n",
       "      <td>True</td>\n",
       "      <td>False</td>\n",
       "      <td>Zone X4</td>\n",
       "    </tr>\n",
       "    <tr>\n",
       "      <th>2009-03-28 01:11:00</th>\n",
       "      <td>RI-2009-11986</td>\n",
       "      <td>2009-03-28</td>\n",
       "      <td>01:11</td>\n",
       "      <td>Zone K1</td>\n",
       "      <td>NaN</td>\n",
       "      <td>NaN</td>\n",
       "      <td>300</td>\n",
       "      <td>M</td>\n",
       "      <td>1983.0</td>\n",
       "      <td>26.0</td>\n",
       "      <td>...</td>\n",
       "      <td>True</td>\n",
       "      <td>Reasonable Suspicion</td>\n",
       "      <td>Reasonable Suspicion</td>\n",
       "      <td>False</td>\n",
       "      <td>Citation</td>\n",
       "      <td>False</td>\n",
       "      <td>16-30 Min</td>\n",
       "      <td>True</td>\n",
       "      <td>False</td>\n",
       "      <td>Zone K1</td>\n",
       "    </tr>\n",
       "    <tr>\n",
       "      <th>...</th>\n",
       "      <td>...</td>\n",
       "      <td>...</td>\n",
       "      <td>...</td>\n",
       "      <td>...</td>\n",
       "      <td>...</td>\n",
       "      <td>...</td>\n",
       "      <td>...</td>\n",
       "      <td>...</td>\n",
       "      <td>...</td>\n",
       "      <td>...</td>\n",
       "      <td>...</td>\n",
       "      <td>...</td>\n",
       "      <td>...</td>\n",
       "      <td>...</td>\n",
       "      <td>...</td>\n",
       "      <td>...</td>\n",
       "      <td>...</td>\n",
       "      <td>...</td>\n",
       "      <td>...</td>\n",
       "      <td>...</td>\n",
       "      <td>...</td>\n",
       "    </tr>\n",
       "    <tr>\n",
       "      <th>2005-11-13 09:40:00</th>\n",
       "      <td>RI-2005-07068</td>\n",
       "      <td>2005-11-13</td>\n",
       "      <td>09:40</td>\n",
       "      <td>Zone X1</td>\n",
       "      <td>NaN</td>\n",
       "      <td>NaN</td>\n",
       "      <td>0</td>\n",
       "      <td>M</td>\n",
       "      <td>1978.0</td>\n",
       "      <td>27.0</td>\n",
       "      <td>...</td>\n",
       "      <td>False</td>\n",
       "      <td>NaN</td>\n",
       "      <td>NaN</td>\n",
       "      <td>False</td>\n",
       "      <td>Citation</td>\n",
       "      <td>False</td>\n",
       "      <td>0-15 Min</td>\n",
       "      <td>True</td>\n",
       "      <td>False</td>\n",
       "      <td>Zone X1</td>\n",
       "    </tr>\n",
       "    <tr>\n",
       "      <th>2014-01-19 11:11:00</th>\n",
       "      <td>RI-2014-02629</td>\n",
       "      <td>2014-01-19</td>\n",
       "      <td>11:11</td>\n",
       "      <td>Zone X4</td>\n",
       "      <td>NaN</td>\n",
       "      <td>NaN</td>\n",
       "      <td>500</td>\n",
       "      <td>F</td>\n",
       "      <td>1993.0</td>\n",
       "      <td>21.0</td>\n",
       "      <td>...</td>\n",
       "      <td>False</td>\n",
       "      <td>NaN</td>\n",
       "      <td>NaN</td>\n",
       "      <td>False</td>\n",
       "      <td>Warning</td>\n",
       "      <td>False</td>\n",
       "      <td>0-15 Min</td>\n",
       "      <td>False</td>\n",
       "      <td>False</td>\n",
       "      <td>Zone X4</td>\n",
       "    </tr>\n",
       "    <tr>\n",
       "      <th>2015-06-12 11:35:00</th>\n",
       "      <td>RI-2015-19134</td>\n",
       "      <td>2015-06-12</td>\n",
       "      <td>11:35</td>\n",
       "      <td>Zone K3</td>\n",
       "      <td>NaN</td>\n",
       "      <td>NaN</td>\n",
       "      <td>500</td>\n",
       "      <td>F</td>\n",
       "      <td>1971.0</td>\n",
       "      <td>44.0</td>\n",
       "      <td>...</td>\n",
       "      <td>False</td>\n",
       "      <td>NaN</td>\n",
       "      <td>NaN</td>\n",
       "      <td>False</td>\n",
       "      <td>Warning</td>\n",
       "      <td>False</td>\n",
       "      <td>0-15 Min</td>\n",
       "      <td>True</td>\n",
       "      <td>False</td>\n",
       "      <td>Zone K3</td>\n",
       "    </tr>\n",
       "    <tr>\n",
       "      <th>2006-09-26 14:10:00</th>\n",
       "      <td>RI-2006-43196</td>\n",
       "      <td>2006-09-26</td>\n",
       "      <td>14:10</td>\n",
       "      <td>Zone X4</td>\n",
       "      <td>NaN</td>\n",
       "      <td>NaN</td>\n",
       "      <td>500</td>\n",
       "      <td>F</td>\n",
       "      <td>1972.0</td>\n",
       "      <td>34.0</td>\n",
       "      <td>...</td>\n",
       "      <td>False</td>\n",
       "      <td>NaN</td>\n",
       "      <td>NaN</td>\n",
       "      <td>False</td>\n",
       "      <td>Citation</td>\n",
       "      <td>False</td>\n",
       "      <td>0-15 Min</td>\n",
       "      <td>False</td>\n",
       "      <td>False</td>\n",
       "      <td>Zone X4</td>\n",
       "    </tr>\n",
       "    <tr>\n",
       "      <th>2007-03-05 09:30:00</th>\n",
       "      <td>RI-2007-10797</td>\n",
       "      <td>2007-03-05</td>\n",
       "      <td>09:30</td>\n",
       "      <td>Zone K3</td>\n",
       "      <td>NaN</td>\n",
       "      <td>NaN</td>\n",
       "      <td>300</td>\n",
       "      <td>M</td>\n",
       "      <td>1970.0</td>\n",
       "      <td>37.0</td>\n",
       "      <td>...</td>\n",
       "      <td>False</td>\n",
       "      <td>NaN</td>\n",
       "      <td>NaN</td>\n",
       "      <td>False</td>\n",
       "      <td>Citation</td>\n",
       "      <td>False</td>\n",
       "      <td>0-15 Min</td>\n",
       "      <td>True</td>\n",
       "      <td>False</td>\n",
       "      <td>Zone K3</td>\n",
       "    </tr>\n",
       "  </tbody>\n",
       "</table>\n",
       "<p>47153 rows × 24 columns</p>\n",
       "</div>"
      ],
      "text/plain": [
       "                                id   stop_date stop_time location_raw  \\\n",
       "stop_datetime                                                           \n",
       "2013-07-05 13:47:00  RI-2013-22801  2013-07-05     13:47      Zone X4   \n",
       "2012-12-22 22:03:00  RI-2012-60120  2012-12-22     22:03      Zone K3   \n",
       "2011-02-23 19:47:00  RI-2011-05646  2011-02-23     19:47      Zone K3   \n",
       "2015-11-07 10:16:00  RI-2015-40921  2015-11-07     10:16      Zone X4   \n",
       "2009-03-28 01:11:00  RI-2009-11986  2009-03-28     01:11      Zone K1   \n",
       "...                            ...         ...       ...          ...   \n",
       "2005-11-13 09:40:00  RI-2005-07068  2005-11-13     09:40      Zone X1   \n",
       "2014-01-19 11:11:00  RI-2014-02629  2014-01-19     11:11      Zone X4   \n",
       "2015-06-12 11:35:00  RI-2015-19134  2015-06-12     11:35      Zone K3   \n",
       "2006-09-26 14:10:00  RI-2006-43196  2006-09-26     14:10      Zone X4   \n",
       "2007-03-05 09:30:00  RI-2007-10797  2007-03-05     09:30      Zone K3   \n",
       "\n",
       "                     county_fips  fine_grained_location police_department  \\\n",
       "stop_datetime                                                               \n",
       "2013-07-05 13:47:00          NaN                    NaN               500   \n",
       "2012-12-22 22:03:00          NaN                    NaN               300   \n",
       "2011-02-23 19:47:00          NaN                    NaN               300   \n",
       "2015-11-07 10:16:00          NaN                    NaN               900   \n",
       "2009-03-28 01:11:00          NaN                    NaN               300   \n",
       "...                          ...                    ...               ...   \n",
       "2005-11-13 09:40:00          NaN                    NaN                 0   \n",
       "2014-01-19 11:11:00          NaN                    NaN               500   \n",
       "2015-06-12 11:35:00          NaN                    NaN               500   \n",
       "2006-09-26 14:10:00          NaN                    NaN               500   \n",
       "2007-03-05 09:30:00          NaN                    NaN               300   \n",
       "\n",
       "                    driver_gender  driver_age_raw  driver_age  ...  \\\n",
       "stop_datetime                                                  ...   \n",
       "2013-07-05 13:47:00             M          1993.0        20.0  ...   \n",
       "2012-12-22 22:03:00             M          1977.0        35.0  ...   \n",
       "2011-02-23 19:47:00             M          1984.0        27.0  ...   \n",
       "2015-11-07 10:16:00             M          1965.0        50.0  ...   \n",
       "2009-03-28 01:11:00             M          1983.0        26.0  ...   \n",
       "...                           ...             ...         ...  ...   \n",
       "2005-11-13 09:40:00             M          1978.0        27.0  ...   \n",
       "2014-01-19 11:11:00             F          1993.0        21.0  ...   \n",
       "2015-06-12 11:35:00             F          1971.0        44.0  ...   \n",
       "2006-09-26 14:10:00             F          1972.0        34.0  ...   \n",
       "2007-03-05 09:30:00             M          1970.0        37.0  ...   \n",
       "\n",
       "                    search_conducted       search_type_raw  \\\n",
       "stop_datetime                                                \n",
       "2013-07-05 13:47:00            False                   NaN   \n",
       "2012-12-22 22:03:00            False                   NaN   \n",
       "2011-02-23 19:47:00            False                   NaN   \n",
       "2015-11-07 10:16:00            False                   NaN   \n",
       "2009-03-28 01:11:00             True  Reasonable Suspicion   \n",
       "...                              ...                   ...   \n",
       "2005-11-13 09:40:00            False                   NaN   \n",
       "2014-01-19 11:11:00            False                   NaN   \n",
       "2015-06-12 11:35:00            False                   NaN   \n",
       "2006-09-26 14:10:00            False                   NaN   \n",
       "2007-03-05 09:30:00            False                   NaN   \n",
       "\n",
       "                              search_type contraband_found stop_outcome  \\\n",
       "stop_datetime                                                             \n",
       "2013-07-05 13:47:00                   NaN            False      Warning   \n",
       "2012-12-22 22:03:00                   NaN            False     Citation   \n",
       "2011-02-23 19:47:00                   NaN            False     Citation   \n",
       "2015-11-07 10:16:00                   NaN            False     Citation   \n",
       "2009-03-28 01:11:00  Reasonable Suspicion            False     Citation   \n",
       "...                                   ...              ...          ...   \n",
       "2005-11-13 09:40:00                   NaN            False     Citation   \n",
       "2014-01-19 11:11:00                   NaN            False      Warning   \n",
       "2015-06-12 11:35:00                   NaN            False      Warning   \n",
       "2006-09-26 14:10:00                   NaN            False     Citation   \n",
       "2007-03-05 09:30:00                   NaN            False     Citation   \n",
       "\n",
       "                    is_arrested stop_duration  out_of_state  \\\n",
       "stop_datetime                                                 \n",
       "2013-07-05 13:47:00       False      0-15 Min         False   \n",
       "2012-12-22 22:03:00       False      0-15 Min          True   \n",
       "2011-02-23 19:47:00       False      0-15 Min         False   \n",
       "2015-11-07 10:16:00       False      0-15 Min          True   \n",
       "2009-03-28 01:11:00       False     16-30 Min          True   \n",
       "...                         ...           ...           ...   \n",
       "2005-11-13 09:40:00       False      0-15 Min          True   \n",
       "2014-01-19 11:11:00       False      0-15 Min         False   \n",
       "2015-06-12 11:35:00       False      0-15 Min          True   \n",
       "2006-09-26 14:10:00       False      0-15 Min         False   \n",
       "2007-03-05 09:30:00       False      0-15 Min          True   \n",
       "\n",
       "                    drugs_related_stop  district  \n",
       "stop_datetime                                     \n",
       "2013-07-05 13:47:00              False   Zone X4  \n",
       "2012-12-22 22:03:00              False   Zone K3  \n",
       "2011-02-23 19:47:00              False   Zone K3  \n",
       "2015-11-07 10:16:00              False   Zone X4  \n",
       "2009-03-28 01:11:00              False   Zone K1  \n",
       "...                                ...       ...  \n",
       "2005-11-13 09:40:00              False   Zone X1  \n",
       "2014-01-19 11:11:00              False   Zone X4  \n",
       "2015-06-12 11:35:00              False   Zone K3  \n",
       "2006-09-26 14:10:00              False   Zone X4  \n",
       "2007-03-05 09:30:00              False   Zone K3  \n",
       "\n",
       "[47153 rows x 24 columns]"
      ]
     },
     "execution_count": 13,
     "metadata": {},
     "output_type": "execute_result"
    }
   ],
   "source": [
    "ri2"
   ]
  },
  {
   "cell_type": "code",
   "execution_count": 14,
   "metadata": {},
   "outputs": [
    {
     "data": {
      "text/plain": [
       "<bound method NDFrame.to_csv of                                 id   stop_date stop_time location_raw  \\\n",
       "stop_datetime                                                           \n",
       "2013-07-05 13:47:00  RI-2013-22801  2013-07-05     13:47      Zone X4   \n",
       "2012-12-22 22:03:00  RI-2012-60120  2012-12-22     22:03      Zone K3   \n",
       "2011-02-23 19:47:00  RI-2011-05646  2011-02-23     19:47      Zone K3   \n",
       "2015-11-07 10:16:00  RI-2015-40921  2015-11-07     10:16      Zone X4   \n",
       "2009-03-28 01:11:00  RI-2009-11986  2009-03-28     01:11      Zone K1   \n",
       "...                            ...         ...       ...          ...   \n",
       "2005-11-13 09:40:00  RI-2005-07068  2005-11-13     09:40      Zone X1   \n",
       "2014-01-19 11:11:00  RI-2014-02629  2014-01-19     11:11      Zone X4   \n",
       "2015-06-12 11:35:00  RI-2015-19134  2015-06-12     11:35      Zone K3   \n",
       "2006-09-26 14:10:00  RI-2006-43196  2006-09-26     14:10      Zone X4   \n",
       "2007-03-05 09:30:00  RI-2007-10797  2007-03-05     09:30      Zone K3   \n",
       "\n",
       "                     county_fips  fine_grained_location police_department  \\\n",
       "stop_datetime                                                               \n",
       "2013-07-05 13:47:00          NaN                    NaN               500   \n",
       "2012-12-22 22:03:00          NaN                    NaN               300   \n",
       "2011-02-23 19:47:00          NaN                    NaN               300   \n",
       "2015-11-07 10:16:00          NaN                    NaN               900   \n",
       "2009-03-28 01:11:00          NaN                    NaN               300   \n",
       "...                          ...                    ...               ...   \n",
       "2005-11-13 09:40:00          NaN                    NaN                 0   \n",
       "2014-01-19 11:11:00          NaN                    NaN               500   \n",
       "2015-06-12 11:35:00          NaN                    NaN               500   \n",
       "2006-09-26 14:10:00          NaN                    NaN               500   \n",
       "2007-03-05 09:30:00          NaN                    NaN               300   \n",
       "\n",
       "                    driver_gender  driver_age_raw  driver_age  ...  \\\n",
       "stop_datetime                                                  ...   \n",
       "2013-07-05 13:47:00             M          1993.0        20.0  ...   \n",
       "2012-12-22 22:03:00             M          1977.0        35.0  ...   \n",
       "2011-02-23 19:47:00             M          1984.0        27.0  ...   \n",
       "2015-11-07 10:16:00             M          1965.0        50.0  ...   \n",
       "2009-03-28 01:11:00             M          1983.0        26.0  ...   \n",
       "...                           ...             ...         ...  ...   \n",
       "2005-11-13 09:40:00             M          1978.0        27.0  ...   \n",
       "2014-01-19 11:11:00             F          1993.0        21.0  ...   \n",
       "2015-06-12 11:35:00             F          1971.0        44.0  ...   \n",
       "2006-09-26 14:10:00             F          1972.0        34.0  ...   \n",
       "2007-03-05 09:30:00             M          1970.0        37.0  ...   \n",
       "\n",
       "                    search_conducted       search_type_raw  \\\n",
       "stop_datetime                                                \n",
       "2013-07-05 13:47:00            False                   NaN   \n",
       "2012-12-22 22:03:00            False                   NaN   \n",
       "2011-02-23 19:47:00            False                   NaN   \n",
       "2015-11-07 10:16:00            False                   NaN   \n",
       "2009-03-28 01:11:00             True  Reasonable Suspicion   \n",
       "...                              ...                   ...   \n",
       "2005-11-13 09:40:00            False                   NaN   \n",
       "2014-01-19 11:11:00            False                   NaN   \n",
       "2015-06-12 11:35:00            False                   NaN   \n",
       "2006-09-26 14:10:00            False                   NaN   \n",
       "2007-03-05 09:30:00            False                   NaN   \n",
       "\n",
       "                              search_type contraband_found stop_outcome  \\\n",
       "stop_datetime                                                             \n",
       "2013-07-05 13:47:00                   NaN            False      Warning   \n",
       "2012-12-22 22:03:00                   NaN            False     Citation   \n",
       "2011-02-23 19:47:00                   NaN            False     Citation   \n",
       "2015-11-07 10:16:00                   NaN            False     Citation   \n",
       "2009-03-28 01:11:00  Reasonable Suspicion            False     Citation   \n",
       "...                                   ...              ...          ...   \n",
       "2005-11-13 09:40:00                   NaN            False     Citation   \n",
       "2014-01-19 11:11:00                   NaN            False      Warning   \n",
       "2015-06-12 11:35:00                   NaN            False      Warning   \n",
       "2006-09-26 14:10:00                   NaN            False     Citation   \n",
       "2007-03-05 09:30:00                   NaN            False     Citation   \n",
       "\n",
       "                    is_arrested stop_duration  out_of_state  \\\n",
       "stop_datetime                                                 \n",
       "2013-07-05 13:47:00       False      0-15 Min         False   \n",
       "2012-12-22 22:03:00       False      0-15 Min          True   \n",
       "2011-02-23 19:47:00       False      0-15 Min         False   \n",
       "2015-11-07 10:16:00       False      0-15 Min          True   \n",
       "2009-03-28 01:11:00       False     16-30 Min          True   \n",
       "...                         ...           ...           ...   \n",
       "2005-11-13 09:40:00       False      0-15 Min          True   \n",
       "2014-01-19 11:11:00       False      0-15 Min         False   \n",
       "2015-06-12 11:35:00       False      0-15 Min          True   \n",
       "2006-09-26 14:10:00       False      0-15 Min         False   \n",
       "2007-03-05 09:30:00       False      0-15 Min          True   \n",
       "\n",
       "                    drugs_related_stop  district  \n",
       "stop_datetime                                     \n",
       "2013-07-05 13:47:00              False   Zone X4  \n",
       "2012-12-22 22:03:00              False   Zone K3  \n",
       "2011-02-23 19:47:00              False   Zone K3  \n",
       "2015-11-07 10:16:00              False   Zone X4  \n",
       "2009-03-28 01:11:00              False   Zone K1  \n",
       "...                                ...       ...  \n",
       "2005-11-13 09:40:00              False   Zone X1  \n",
       "2014-01-19 11:11:00              False   Zone X4  \n",
       "2015-06-12 11:35:00              False   Zone K3  \n",
       "2006-09-26 14:10:00              False   Zone X4  \n",
       "2007-03-05 09:30:00              False   Zone K3  \n",
       "\n",
       "[47153 rows x 24 columns]>"
      ]
     },
     "execution_count": 14,
     "metadata": {},
     "output_type": "execute_result"
    }
   ],
   "source": [
    "ri2.to_csv"
   ]
  },
  {
   "cell_type": "markdown",
   "metadata": {},
   "source": [
    "**INSTRUCTIONS**\n",
    "\n",
    "*   Count the unique values in the ``violation`` column, to see what violations are being committed by all drivers.\n",
    "*   Express the violation counts as proportions of the total."
   ]
  },
  {
   "cell_type": "code",
   "execution_count": 15,
   "metadata": {},
   "outputs": [
    {
     "data": {
      "text/plain": [
       "Speeding               26307\n",
       "Moving violation        8870\n",
       "Equipment               6072\n",
       "Other                   2394\n",
       "Registration/plates     1917\n",
       "Seat belt               1593\n",
       "Name: violation, dtype: int64"
      ]
     },
     "execution_count": 15,
     "metadata": {},
     "output_type": "execute_result"
    }
   ],
   "source": [
    "ri2[\"violation\"].value_counts()"
   ]
  },
  {
   "cell_type": "code",
   "execution_count": 16,
   "metadata": {},
   "outputs": [
    {
     "data": {
      "text/plain": [
       "Speeding               55.790724\n",
       "Moving violation       18.811104\n",
       "Equipment              12.877229\n",
       "Other                   5.077089\n",
       "Registration/plates     4.065489\n",
       "Seat belt               3.378364\n",
       "Name: violation, dtype: float64"
      ]
     },
     "execution_count": 16,
     "metadata": {},
     "output_type": "execute_result"
    }
   ],
   "source": [
    "ri2[\"violation\"].value_counts(normalize=True)*100"
   ]
  },
  {
   "cell_type": "markdown",
   "metadata": {},
   "source": [
    "***"
   ]
  },
  {
   "cell_type": "markdown",
   "metadata": {},
   "source": [
    "## Comparing violations by gender"
   ]
  },
  {
   "cell_type": "markdown",
   "metadata": {},
   "source": [
    "The question we're trying to answer is whether male and female drivers tend to commit different types of traffic violations.\n",
    "\n",
    "You'll first create a ``DataFrame`` for each gender, and then analyze the ``violations`` in each ``DataFrame`` separately."
   ]
  },
  {
   "cell_type": "markdown",
   "metadata": {},
   "source": [
    "**INSTRUCTIONS**\n",
    "\n",
    "*   Create a ``DataFrame``, female, that only contains rows in which ``driver_gender`` is ``'F'``.\n",
    "*   Create a ``DataFrame``, male, that only contains rows in which ``driver_gender`` is ``'M'``.\n",
    "*   Count the ``violations`` committed by female drivers and express them as proportions.\n",
    "*   Count the violations committed by male drivers and express them as proportions."
   ]
  },
  {
   "cell_type": "code",
   "execution_count": 17,
   "metadata": {
    "scrolled": true
   },
   "outputs": [],
   "source": [
    "rifemale = ri2[ri2[\"driver_gender\"] == \"F\"]"
   ]
  },
  {
   "cell_type": "code",
   "execution_count": 18,
   "metadata": {},
   "outputs": [],
   "source": [
    "rimale = ri2[ri2[\"driver_gender\"] == \"M\"]"
   ]
  },
  {
   "cell_type": "code",
   "execution_count": 19,
   "metadata": {},
   "outputs": [
    {
     "data": {
      "text/plain": [
       "Speeding               65.401437\n",
       "Moving violation       13.691034\n",
       "Equipment              10.793502\n",
       "Registration/plates     4.490784\n",
       "Other                   3.014683\n",
       "Seat belt               2.608560\n",
       "Name: violation, dtype: float64"
      ]
     },
     "execution_count": 19,
     "metadata": {},
     "output_type": "execute_result"
    }
   ],
   "source": [
    "rifemale[\"violation\"].value_counts(normalize=True)*100"
   ]
  },
  {
   "cell_type": "code",
   "execution_count": 20,
   "metadata": {},
   "outputs": [
    {
     "data": {
      "text/plain": [
       "Speeding               52.208216\n",
       "Moving violation       20.719672\n",
       "Equipment              13.653964\n",
       "Other                   5.845876\n",
       "Registration/plates     3.906955\n",
       "Seat belt               3.665318\n",
       "Name: violation, dtype: float64"
      ]
     },
     "execution_count": 20,
     "metadata": {},
     "output_type": "execute_result"
    }
   ],
   "source": [
    "rimale[\"violation\"].value_counts(normalize=True)*100"
   ]
  },
  {
   "cell_type": "markdown",
   "metadata": {},
   "source": [
    "***"
   ]
  },
  {
   "cell_type": "markdown",
   "metadata": {},
   "source": [
    "## Comparing speeding outcomes by gender"
   ]
  },
  {
   "cell_type": "markdown",
   "metadata": {},
   "source": [
    "When a driver is pulled over for speeding, many people believe that gender has an impact on whether the driver will receive a ticket or a warning. Can you find evidence of this in the dataset?\n",
    "\n",
    "First, you'll create two ``DataFrames`` of drivers who were stopped for ``speeding``: one containing ***females*** and the other containing ***males***.\n",
    "\n",
    "Then, for each **gender**, you'll use the ``stop_outcome`` column to calculate what percentage of stops resulted in a ``\"Citation\"`` (meaning a ticket) versus a ``\"Warning\"``."
   ]
  },
  {
   "cell_type": "markdown",
   "metadata": {},
   "source": [
    "**INSTRUCTIONS**\n",
    "\n",
    "*   Create a ``DataFrame``, ``female_and_speeding``, that only includes female drivers who were stopped for speeding.\n",
    "*   Create a ``DataFrame``, ``male_and_speeding``, that only includes male drivers who were stopped for speeding.\n",
    "*   Count the **stop outcomes** for the female drivers and express them as proportions.\n",
    "*   Count the **stop outcomes** for the male drivers and express them as proportions."
   ]
  },
  {
   "cell_type": "code",
   "execution_count": 21,
   "metadata": {},
   "outputs": [],
   "source": [
    "rifemalespeed = rifemale[rifemale[\"violation\"] == \"Speeding\"]"
   ]
  },
  {
   "cell_type": "code",
   "execution_count": 22,
   "metadata": {},
   "outputs": [],
   "source": [
    "rimalespeed = rimale[rimale[\"violation\"] == \"Speeding\"]"
   ]
  },
  {
   "cell_type": "code",
   "execution_count": 23,
   "metadata": {},
   "outputs": [
    {
     "data": {
      "text/plain": [
       "Citation            95.127776\n",
       "Warning              3.857177\n",
       "Arrest Driver        0.728445\n",
       "Arrest Passenger     0.119417\n",
       "N/D                  0.095534\n",
       "No Action            0.071650\n",
       "Name: stop_outcome, dtype: float64"
      ]
     },
     "execution_count": 23,
     "metadata": {},
     "output_type": "execute_result"
    }
   ],
   "source": [
    "rifemalespeed[\"stop_outcome\"].value_counts(normalize=True)*100"
   ]
  },
  {
   "cell_type": "code",
   "execution_count": 24,
   "metadata": {},
   "outputs": [
    {
     "data": {
      "text/plain": [
       "Citation            94.256399\n",
       "Warning              3.635755\n",
       "Arrest Driver        1.734233\n",
       "Arrest Passenger     0.144984\n",
       "N/D                  0.144984\n",
       "No Action            0.083645\n",
       "Name: stop_outcome, dtype: float64"
      ]
     },
     "execution_count": 24,
     "metadata": {},
     "output_type": "execute_result"
    }
   ],
   "source": [
    "rimalespeed[\"stop_outcome\"].value_counts(normalize=True)*100"
   ]
  },
  {
   "cell_type": "markdown",
   "metadata": {},
   "source": [
    "***"
   ]
  },
  {
   "cell_type": "markdown",
   "metadata": {},
   "source": [
    "## Calculating the search rate"
   ]
  },
  {
   "cell_type": "markdown",
   "metadata": {},
   "source": [
    "During a traffic stop, the police officer sometimes conducts a search of the vehicle. In this exercise, you'll calculate the percentage of all stops that result in a vehicle search, also known as the **search rate**."
   ]
  },
  {
   "cell_type": "markdown",
   "metadata": {},
   "source": [
    "**INSTRUCTIONS**\n",
    "\n",
    "*   Check the data type of ``search_conducted`` to confirm that it's a ``Boolean Series``.\n",
    "*   Calculate the search rate by counting the ``Series`` values and expressing them as proportions.\n",
    "*   Calculate the search rate by taking the mean of the ``Series``. (It should match the proportion of ``True`` values calculated above.)"
   ]
  },
  {
   "cell_type": "code",
   "execution_count": 25,
   "metadata": {
    "scrolled": true
   },
   "outputs": [
    {
     "data": {
      "text/plain": [
       "stop_datetime\n",
       "2013-07-05 13:47:00    False\n",
       "2012-12-22 22:03:00    False\n",
       "2011-02-23 19:47:00    False\n",
       "2015-11-07 10:16:00    False\n",
       "2009-03-28 01:11:00     True\n",
       "                       ...  \n",
       "2005-11-13 09:40:00    False\n",
       "2014-01-19 11:11:00    False\n",
       "2015-06-12 11:35:00    False\n",
       "2006-09-26 14:10:00    False\n",
       "2007-03-05 09:30:00    False\n",
       "Name: search_conducted, Length: 47153, dtype: object"
      ]
     },
     "execution_count": 25,
     "metadata": {},
     "output_type": "execute_result"
    }
   ],
   "source": [
    "ri2[\"search_conducted\"]"
   ]
  },
  {
   "cell_type": "code",
   "execution_count": 26,
   "metadata": {},
   "outputs": [],
   "source": [
    "ri3 = ri2.astype({\"search_conducted\" : \"bool\"}, copy=False)"
   ]
  },
  {
   "cell_type": "code",
   "execution_count": 27,
   "metadata": {},
   "outputs": [
    {
     "data": {
      "text/plain": [
       "stop_datetime\n",
       "2013-07-05 13:47:00    False\n",
       "2012-12-22 22:03:00    False\n",
       "2011-02-23 19:47:00    False\n",
       "2015-11-07 10:16:00    False\n",
       "2009-03-28 01:11:00     True\n",
       "                       ...  \n",
       "2005-11-13 09:40:00    False\n",
       "2014-01-19 11:11:00    False\n",
       "2015-06-12 11:35:00    False\n",
       "2006-09-26 14:10:00    False\n",
       "2007-03-05 09:30:00    False\n",
       "Name: search_conducted, Length: 47153, dtype: bool"
      ]
     },
     "execution_count": 27,
     "metadata": {},
     "output_type": "execute_result"
    }
   ],
   "source": [
    "ri3[\"search_conducted\"]"
   ]
  },
  {
   "cell_type": "code",
   "execution_count": 28,
   "metadata": {
    "scrolled": true
   },
   "outputs": [
    {
     "data": {
      "text/plain": [
       "False    96.280194\n",
       "True      3.719806\n",
       "Name: search_conducted, dtype: float64"
      ]
     },
     "execution_count": 28,
     "metadata": {},
     "output_type": "execute_result"
    }
   ],
   "source": [
    "ri3[\"search_conducted\"].value_counts(normalize=True)*100"
   ]
  },
  {
   "cell_type": "code",
   "execution_count": 48,
   "metadata": {},
   "outputs": [
    {
     "data": {
      "text/plain": [
       "3.7198057387652956"
      ]
     },
     "execution_count": 48,
     "metadata": {},
     "output_type": "execute_result"
    }
   ],
   "source": [
    "ri3[\"search_conducted\"].mean()*100"
   ]
  },
  {
   "cell_type": "markdown",
   "metadata": {},
   "source": [
    "***"
   ]
  },
  {
   "cell_type": "markdown",
   "metadata": {},
   "source": [
    "## Comparing search rates by gender"
   ]
  },
  {
   "cell_type": "markdown",
   "metadata": {},
   "source": [
    "You'll compare the rates at which **female** and **male** drivers are searched during a traffic stop. Remember that the vehicle search rate across all stops is about **3.8%**.\n",
    "\n",
    "First, you'll filter the ``DataFrame`` by gender and calculate the search rate for each group separately. Then, you'll perform the same calculation for both genders at once using a ``.groupby()``."
   ]
  },
  {
   "cell_type": "markdown",
   "metadata": {},
   "source": [
    "**INSTRUCTIONS 1/3**\n",
    "\n",
    "*   Filter the ``DataFrame`` to only include **female** drivers, and then calculate the search rate by taking the mean of ``search_conducted``."
   ]
  },
  {
   "cell_type": "code",
   "execution_count": 30,
   "metadata": {},
   "outputs": [],
   "source": [
    "rifemale = ri2[ri2[\"driver_gender\"] == \"F\"]"
   ]
  },
  {
   "cell_type": "code",
   "execution_count": 31,
   "metadata": {},
   "outputs": [
    {
     "data": {
      "text/plain": [
       "False    98.328647\n",
       "True      1.671353\n",
       "Name: search_conducted, dtype: float64"
      ]
     },
     "execution_count": 31,
     "metadata": {},
     "output_type": "execute_result"
    }
   ],
   "source": [
    "rifemale[\"search_conducted\"].value_counts(normalize=True)*100"
   ]
  },
  {
   "cell_type": "code",
   "execution_count": 32,
   "metadata": {},
   "outputs": [
    {
     "data": {
      "text/plain": [
       "1.6713527022805375"
      ]
     },
     "execution_count": 32,
     "metadata": {},
     "output_type": "execute_result"
    }
   ],
   "source": [
    "rifemale[\"search_conducted\"].mean()*100"
   ]
  },
  {
   "cell_type": "markdown",
   "metadata": {},
   "source": [
    "**INSTRUCTIONS 2/3**\n",
    "\n",
    "*   Filter the ``DataFrame`` to only include **male** drivers, and then repeat the search rate calculation."
   ]
  },
  {
   "cell_type": "code",
   "execution_count": 33,
   "metadata": {},
   "outputs": [],
   "source": [
    "rimale = ri2[ri2[\"driver_gender\"] == \"M\"]"
   ]
  },
  {
   "cell_type": "code",
   "execution_count": 34,
   "metadata": {},
   "outputs": [
    {
     "data": {
      "text/plain": [
       "False    95.516609\n",
       "True      4.483391\n",
       "Name: search_conducted, dtype: float64"
      ]
     },
     "execution_count": 34,
     "metadata": {},
     "output_type": "execute_result"
    }
   ],
   "source": [
    "rimale[\"search_conducted\"].value_counts(normalize=True)*100"
   ]
  },
  {
   "cell_type": "code",
   "execution_count": 35,
   "metadata": {
    "scrolled": true
   },
   "outputs": [
    {
     "data": {
      "text/plain": [
       "4.483391073975953"
      ]
     },
     "execution_count": 35,
     "metadata": {},
     "output_type": "execute_result"
    }
   ],
   "source": [
    "rimale[\"search_conducted\"].mean()*100"
   ]
  },
  {
   "cell_type": "markdown",
   "metadata": {},
   "source": [
    "**INSTRUCTIONS 3/3**\n",
    "\n",
    "*   Group by driver gender to calculate the search rate for both groups simultaneously. (It should match the previous results.)"
   ]
  },
  {
   "cell_type": "code",
   "execution_count": 36,
   "metadata": {
    "scrolled": true
   },
   "outputs": [],
   "source": [
    "ri2[\"search_conducted\"] = ri2[\"search_conducted\"].astype(\"bool\", copy=False)"
   ]
  },
  {
   "cell_type": "code",
   "execution_count": 37,
   "metadata": {},
   "outputs": [
    {
     "data": {
      "text/plain": [
       "driver_gender\n",
       "F    1.671353\n",
       "M    4.483391\n",
       "Name: search_conducted, dtype: float64"
      ]
     },
     "execution_count": 37,
     "metadata": {},
     "output_type": "execute_result"
    }
   ],
   "source": [
    "ri2.groupby(\"driver_gender\")[\"search_conducted\"].agg(\"mean\")*100"
   ]
  },
  {
   "cell_type": "markdown",
   "metadata": {},
   "source": [
    "## Adding a second factor to the analysis"
   ]
  },
  {
   "cell_type": "markdown",
   "metadata": {},
   "source": [
    "Even though the search rate for males is much higher than for females, it's possible that the difference is mostly due to a second factor.\n",
    "\n",
    "For example, you might hypothesize that the search rate varies by violation type, and the difference in search rate between males and females is because they tend to commit different violations.\n",
    "\n",
    "You can test this hypothesis by examining the search rate for each combination of gender and violation. If the hypothesis was true, you would find that males and females are searched at about the same rate for each violation. Find out below if that's the case!"
   ]
  },
  {
   "cell_type": "markdown",
   "metadata": {},
   "source": [
    "**INSTRUCTIONS 1/2**\n",
    "\n",
    "*   Use a ``.groupby()`` to calculate the search rate for each combination of gender and violation. Are males and females searched at about the same rate for each violation?"
   ]
  },
  {
   "cell_type": "code",
   "execution_count": 38,
   "metadata": {
    "scrolled": true
   },
   "outputs": [
    {
     "data": {
      "text/plain": [
       "driver_gender  violation          \n",
       "F              Equipment               2.532562\n",
       "               Moving violation        3.936110\n",
       "               Other                   3.367876\n",
       "               Registration/plates     5.217391\n",
       "               Seat belt               1.796407\n",
       "               Speeding                0.728445\n",
       "M              Equipment               7.078891\n",
       "               Moving violation        5.845159\n",
       "               Other                   5.378486\n",
       "               Registration/plates    11.028316\n",
       "               Seat belt               3.018268\n",
       "               Speeding                2.777003\n",
       "Name: search_conducted, dtype: float64"
      ]
     },
     "execution_count": 38,
     "metadata": {},
     "output_type": "execute_result"
    }
   ],
   "source": [
    "ri2.groupby([\"driver_gender\", \"violation\"])[\"search_conducted\"].mean()*100"
   ]
  },
  {
   "cell_type": "markdown",
   "metadata": {},
   "source": [
    "**INSTRUCTIONS 2/2**\n",
    "\n",
    "*   Reverse the ordering to group by violation before gender. The results may be easier to compare when presented this way."
   ]
  },
  {
   "cell_type": "code",
   "execution_count": 39,
   "metadata": {},
   "outputs": [
    {
     "data": {
      "text/plain": [
       "violation            driver_gender\n",
       "Equipment            F                 2.532562\n",
       "                     M                 7.078891\n",
       "Moving violation     F                 3.936110\n",
       "                     M                 5.845159\n",
       "Other                F                 3.367876\n",
       "                     M                 5.378486\n",
       "Registration/plates  F                 5.217391\n",
       "                     M                11.028316\n",
       "Seat belt            F                 1.796407\n",
       "                     M                 3.018268\n",
       "Speeding             F                 0.728445\n",
       "                     M                 2.777003\n",
       "Name: search_conducted, dtype: float64"
      ]
     },
     "execution_count": 39,
     "metadata": {},
     "output_type": "execute_result"
    }
   ],
   "source": [
    "ri2.groupby([\"violation\", \"driver_gender\"])[\"search_conducted\"].mean()*100"
   ]
  },
  {
   "cell_type": "markdown",
   "metadata": {},
   "source": [
    "***"
   ]
  },
  {
   "cell_type": "markdown",
   "metadata": {},
   "source": [
    "## Counting protective frisks"
   ]
  },
  {
   "cell_type": "markdown",
   "metadata": {},
   "source": [
    "During a vehicle search, the police officer may pat down the driver to check if they have a weapon. This is known as a ``\"protective frisk.\"``\n",
    "\n",
    "You'll first check to see how many times \"Protective Frisk\" was the only search type. Then, you'll use a string method to locate all instances in which the driver was frisked."
   ]
  },
  {
   "cell_type": "markdown",
   "metadata": {},
   "source": [
    "**INSTRUCTIONS**\n",
    "\n",
    "*   Count the ``search_type`` values to see how many times ``\"Protective Frisk\"`` was the only search type.\n",
    "*   Create a new column, frisk, that is ``True`` if ``search_type`` contains the string ``\"Protective Frisk\"`` and ``False`` otherwise.\n",
    "*   Check the data type of frisk to confirm that it's a ``Boolean Series``.\n",
    "*   Take the sum of frisk to count the total number of frisks."
   ]
  },
  {
   "cell_type": "code",
   "execution_count": 40,
   "metadata": {},
   "outputs": [
    {
     "data": {
      "text/plain": [
       "search_type\n",
       "Incident to Arrest                                        707\n",
       "Incident to Arrest,Inventory                               65\n",
       "Incident to Arrest,Inventory,Probable Cause                18\n",
       "Incident to Arrest,Inventory,Protective Frisk               7\n",
       "Incident to Arrest,Probable Cause                          63\n",
       "Incident to Arrest,Probable Cause,Protective Frisk         11\n",
       "Incident to Arrest,Probable Cause,Reasonable Suspicion      4\n",
       "Incident to Arrest,Protective Frisk                        18\n",
       "Incident to Arrest,Reasonable Suspicion                     3\n",
       "Inventory                                                 114\n",
       "Inventory,Probable Cause                                   14\n",
       "Inventory,Probable Cause,Protective Frisk                   2\n",
       "Inventory,Probable Cause,Reasonable Suspicion               2\n",
       "Inventory,Protective Frisk                                  8\n",
       "Inventory,Reasonable Suspicion                              2\n",
       "Probable Cause                                            444\n",
       "Probable Cause,Protective Frisk                            19\n",
       "Probable Cause,Protective Frisk,Reasonable Suspicion        3\n",
       "Probable Cause,Reasonable Suspicion                        36\n",
       "Protective Frisk                                           90\n",
       "Protective Frisk,Reasonable Suspicion                      10\n",
       "Reasonable Suspicion                                      114\n",
       "Name: search_conducted, dtype: int64"
      ]
     },
     "execution_count": 40,
     "metadata": {},
     "output_type": "execute_result"
    }
   ],
   "source": [
    "ri2.groupby([\"search_type\"])[\"search_conducted\"].count()"
   ]
  },
  {
   "cell_type": "code",
   "execution_count": 50,
   "metadata": {},
   "outputs": [
    {
     "data": {
      "text/plain": [
       "Incident to Arrest                                        707\n",
       "Probable Cause                                            444\n",
       "Reasonable Suspicion                                      114\n",
       "Inventory                                                 114\n",
       "Protective Frisk                                           90\n",
       "Incident to Arrest,Inventory                               65\n",
       "Incident to Arrest,Probable Cause                          63\n",
       "Probable Cause,Reasonable Suspicion                        36\n",
       "Probable Cause,Protective Frisk                            19\n",
       "Incident to Arrest,Protective Frisk                        18\n",
       "Incident to Arrest,Inventory,Probable Cause                18\n",
       "Inventory,Probable Cause                                   14\n",
       "Incident to Arrest,Probable Cause,Protective Frisk         11\n",
       "Protective Frisk,Reasonable Suspicion                      10\n",
       "Inventory,Protective Frisk                                  8\n",
       "Incident to Arrest,Inventory,Protective Frisk               7\n",
       "Incident to Arrest,Probable Cause,Reasonable Suspicion      4\n",
       "Incident to Arrest,Reasonable Suspicion                     3\n",
       "Probable Cause,Protective Frisk,Reasonable Suspicion        3\n",
       "Inventory,Probable Cause,Reasonable Suspicion               2\n",
       "Inventory,Probable Cause,Protective Frisk                   2\n",
       "Inventory,Reasonable Suspicion                              2\n",
       "Name: search_type, dtype: int64"
      ]
     },
     "execution_count": 50,
     "metadata": {},
     "output_type": "execute_result"
    }
   ],
   "source": [
    "ri2.search_type.value_counts()"
   ]
  },
  {
   "cell_type": "code",
   "execution_count": 41,
   "metadata": {},
   "outputs": [],
   "source": [
    "ri2[\"frisk\"] = ri2[\"search_type\"].str.contains(\"Protective Frisk\", na=False, regex = False)"
   ]
  },
  {
   "cell_type": "code",
   "execution_count": 42,
   "metadata": {},
   "outputs": [
    {
     "data": {
      "text/plain": [
       "stop_datetime\n",
       "2013-07-05 13:47:00    False\n",
       "2012-12-22 22:03:00    False\n",
       "2011-02-23 19:47:00    False\n",
       "2015-11-07 10:16:00    False\n",
       "2009-03-28 01:11:00    False\n",
       "                       ...  \n",
       "2005-11-13 09:40:00    False\n",
       "2014-01-19 11:11:00    False\n",
       "2015-06-12 11:35:00    False\n",
       "2006-09-26 14:10:00    False\n",
       "2007-03-05 09:30:00    False\n",
       "Name: frisk, Length: 47153, dtype: bool"
      ]
     },
     "execution_count": 42,
     "metadata": {},
     "output_type": "execute_result"
    }
   ],
   "source": [
    "ri2[\"frisk\"]"
   ]
  },
  {
   "cell_type": "code",
   "execution_count": 43,
   "metadata": {},
   "outputs": [
    {
     "data": {
      "text/plain": [
       "168"
      ]
     },
     "execution_count": 43,
     "metadata": {},
     "output_type": "execute_result"
    }
   ],
   "source": [
    "ri2[\"frisk\"].sum()"
   ]
  },
  {
   "cell_type": "markdown",
   "metadata": {},
   "source": [
    "***"
   ]
  },
  {
   "cell_type": "markdown",
   "metadata": {},
   "source": [
    "## Comparing frisk rates by gender"
   ]
  },
  {
   "cell_type": "markdown",
   "metadata": {},
   "source": [
    "You'll compare the rates at which female and male drivers are frisked during a search. Are males frisked more often than females, perhaps because police officers consider them to be higher risk?\n",
    "\n",
    "Before doing any calculations, it's important to filter the ``DataFrame`` to only include the relevant subset of data, namely stops in which a search was conducted."
   ]
  },
  {
   "cell_type": "markdown",
   "metadata": {},
   "source": [
    "**INSTRUCTIONS**\n",
    "\n",
    "*   Create a ``DataFrame``, searched, that only contains rows in which ``search_conducted`` is ``True``.\n",
    "*   Take the mean of the frisk column to find out what percentage of searches included a frisk.\n",
    "*   Calculate the frisk rate for each gender using a ``.groupby()``."
   ]
  },
  {
   "cell_type": "code",
   "execution_count": 44,
   "metadata": {},
   "outputs": [],
   "source": [
    "risearched = ri2[ri2[\"search_conducted\"]==True]"
   ]
  },
  {
   "cell_type": "code",
   "execution_count": 45,
   "metadata": {},
   "outputs": [
    {
     "data": {
      "text/plain": [
       "9.578107183580387"
      ]
     },
     "execution_count": 45,
     "metadata": {},
     "output_type": "execute_result"
    }
   ],
   "source": [
    "risearched[\"frisk\"].mean()*100"
   ]
  },
  {
   "cell_type": "code",
   "execution_count": 46,
   "metadata": {
    "scrolled": true
   },
   "outputs": [
    {
     "data": {
      "text/plain": [
       "driver_gender\n",
       "F    7.476636\n",
       "M    9.870130\n",
       "Name: frisk, dtype: float64"
      ]
     },
     "execution_count": 46,
     "metadata": {},
     "output_type": "execute_result"
    }
   ],
   "source": [
    "risearched.groupby(\"driver_gender\")[\"frisk\"].mean()*100"
   ]
  },
  {
   "cell_type": "code",
   "execution_count": 47,
   "metadata": {},
   "outputs": [
    {
     "data": {
      "text/plain": [
       "driver_gender\n",
       "F     214\n",
       "M    1540\n",
       "Name: frisk, dtype: int64"
      ]
     },
     "execution_count": 47,
     "metadata": {},
     "output_type": "execute_result"
    }
   ],
   "source": [
    "risearched.groupby(\"driver_gender\")[\"frisk\"].count()"
   ]
  }
 ],
 "metadata": {
  "kernelspec": {
   "display_name": "Python 3",
   "language": "python",
   "name": "python3"
  },
  "language_info": {
   "codemirror_mode": {
    "name": "ipython",
    "version": 3
   },
   "file_extension": ".py",
   "mimetype": "text/x-python",
   "name": "python",
   "nbconvert_exporter": "python",
   "pygments_lexer": "ipython3",
   "version": "3.8.3"
  }
 },
 "nbformat": 4,
 "nbformat_minor": 4
}
